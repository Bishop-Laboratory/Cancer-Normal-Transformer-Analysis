{
 "cells": [
  {
   "cell_type": "code",
   "execution_count": 1,
   "metadata": {},
   "outputs": [],
   "source": [
    "# !pip uninstall cello_multiplier --yes\n",
    "# !pip install -U git+https://github.com/Bishop-Laboratory/CellO-MultiPLIER.git@test"
   ]
  },
  {
   "cell_type": "code",
   "execution_count": 2,
   "metadata": {},
   "outputs": [],
   "source": [
    "import sys\n",
    "sys.path.append('../../../CellO-MultiPLIER/src')"
   ]
  },
  {
   "cell_type": "code",
   "execution_count": 3,
   "metadata": {},
   "outputs": [
    {
     "name": "stdout",
     "output_type": "stream",
     "text": [
      "Unable to import pygraphviz. Visualization is disabled.\n",
      "Loading ontology from ../../../CellO-MultiPLIER/src\\onto_lib\\obo\\DOID.17-01-30.obo ...\n",
      "Loading ontology from ../../../CellO-MultiPLIER/src\\onto_lib\\obo\\UBERON.17-01-30.obo ...\n",
      "Loading ontology from ../../../CellO-MultiPLIER/src\\onto_lib\\obo\\CL.18-11-13.obo ...\n",
      "Loading ontology from ../../../CellO-MultiPLIER/src\\onto_lib\\obo\\CVCL.17-01-30.obo ...\n",
      "Loading ontology from ../../../CellO-MultiPLIER/src\\onto_lib\\obo\\EFO.17-01-30.obo ...\n"
     ]
    }
   ],
   "source": [
    "import cello_multiplier as cm\n",
    "from onto_lib import general_ontology_tools as got\n",
    "import pandas as pd"
   ]
  },
  {
   "cell_type": "code",
   "execution_count": 4,
   "metadata": {},
   "outputs": [],
   "source": [
    "B_df, Z_df, labels, per_gene_mean, per_gene_std = cm.get_default_mats()"
   ]
  },
  {
   "cell_type": "code",
   "execution_count": 5,
   "metadata": {},
   "outputs": [],
   "source": [
    "del B_df, Z_df"
   ]
  },
  {
   "cell_type": "code",
   "execution_count": 6,
   "metadata": {},
   "outputs": [],
   "source": [
    "#split \n",
    "from pathlib import Path\n",
    "import json\n",
    "import numpy as np\n",
    "\n",
    "data_dir = Path('../../data')\n",
    "regr_data_root = data_dir / 'experiments' / 'positive_b-split_256'"
   ]
  },
  {
   "cell_type": "code",
   "execution_count": 7,
   "metadata": {},
   "outputs": [],
   "source": [
    "cello_dir = data_dir / 'CellO_data/bulk_RNA_seq_training_set'\n",
    "split_dir = cello_dir / 'pretraining_validation_split'\n",
    "\n",
    "with open(split_dir / 'validation_bulk_experiments.json', 'r') as f:\n",
    "    validation_egs = json.load(f)\n",
    "\n",
    "with open(split_dir / 'pre_training_bulk_experiments.json', 'r') as f:\n",
    "    train_egs = json.load(f)"
   ]
  },
  {
   "cell_type": "code",
   "execution_count": 8,
   "metadata": {},
   "outputs": [],
   "source": [
    "pos_b = np.load(regr_data_root / 'b_pos.npy')"
   ]
  },
  {
   "cell_type": "code",
   "execution_count": 9,
   "metadata": {},
   "outputs": [],
   "source": [
    "samples = np.load(regr_data_root / 'samples.npy', allow_pickle=True)\n",
    "# test_samples = np.load(regr_data_root / 'test_samples.npy', allow_pickle=True)\n",
    "# all_samples = pd.Series(np.concatenate([train_samples, test_samples]))"
   ]
  },
  {
   "cell_type": "code",
   "execution_count": 10,
   "metadata": {},
   "outputs": [
    {
     "data": {
      "text/plain": [
       "(4293, 256)"
      ]
     },
     "execution_count": 10,
     "metadata": {},
     "output_type": "execute_result"
    }
   ],
   "source": [
    "B_df = pd.DataFrame(pos_b, index=samples)\n",
    "B_df.shape"
   ]
  },
  {
   "cell_type": "code",
   "execution_count": 11,
   "metadata": {},
   "outputs": [
    {
     "data": {
      "text/plain": [
       "(3609, 256)"
      ]
     },
     "execution_count": 11,
     "metadata": {},
     "output_type": "execute_result"
    }
   ],
   "source": [
    "train_B_df = B_df[B_df.index.isin(train_egs)]\n",
    "train_B_df.shape"
   ]
  },
  {
   "cell_type": "code",
   "execution_count": 12,
   "metadata": {},
   "outputs": [
    {
     "data": {
      "text/plain": [
       "(684, 256)"
      ]
     },
     "execution_count": 12,
     "metadata": {},
     "output_type": "execute_result"
    }
   ],
   "source": [
    "test_B_df = B_df[B_df.index.isin(validation_egs)]\n",
    "test_B_df.shape"
   ]
  },
  {
   "cell_type": "code",
   "execution_count": 13,
   "metadata": {},
   "outputs": [],
   "source": [
    "# create list of samples by celltypes\n",
    "from sklearn.preprocessing import MultiLabelBinarizer\n",
    "\n",
    "sample2types = {\n",
    "            sample: list(map(got.get_term_name, types_ids))\n",
    "            for sample, types_ids in labels.items()\n",
    "        }\n",
    "\n",
    "types_per_b_samples = B_df.index.map(sample2types).values\n",
    "\n",
    "mlb = MultiLabelBinarizer()\n",
    "\n",
    "samples_dummies = pd.DataFrame(mlb.fit_transform(types_per_b_samples), columns=mlb.classes_, index=B_df.index)\n",
    "\n",
    "celltypes = samples_dummies.columns.tolist()\n",
    "\n",
    "type2samples = {\n",
    "    type_: samples_dummies.index[samples_dummies[type_] == 1].tolist()\n",
    "    for type_ in celltypes\n",
    "}"
   ]
  },
  {
   "cell_type": "code",
   "execution_count": 14,
   "metadata": {},
   "outputs": [],
   "source": [
    "# create target list for given cell type with 1 being that cell type and 0 being any other cell type\n",
    "def set_target(celltype, type2samples, train_Y_df, test_Y_df, oversample, max_neg_pos_ratio):\n",
    "    samplelist = type2samples[celltype]\n",
    "    samplelist_train = [x for x in samplelist if x in train_Y_df.index.values]\n",
    "    samplelist_test = [x for x in samplelist if x in test_Y_df.index.values]\n",
    "    \n",
    "    if(oversample == True and len(samplelist_train) > 0 and len(samplelist_test) >0):\n",
    "        len_negative_train = len(train_Y_df)-len(samplelist_train)\n",
    "        len_positive_train = len(samplelist_train)\n",
    "        \n",
    "        neg_pos_ratio = len_negative_train / len_positive_train\n",
    "        \n",
    "        # limit the max oversampling ratio\n",
    "        neg_pos_ratio = min(neg_pos_ratio, max_neg_pos_ratio)\n",
    "        \n",
    "        if(neg_pos_ratio > 1):\n",
    "            df_train = train_Y_df.loc[samplelist_train].sample(\n",
    "                    n=int((neg_pos_ratio - 1) * len_positive_train),\n",
    "                    replace=True, random_state=111\n",
    "                )\n",
    "            train_Y_df = train_Y_df.append(df_train)\n",
    "    \n",
    "    target_train = pd.Series(0, index = train_Y_df.index)\n",
    "    target_train.loc[samplelist_train] = 1\n",
    "    \n",
    "    target_test = pd.Series(0, index = test_Y_df.index)\n",
    "    target_test.loc[samplelist_test] = 1\n",
    "    \n",
    "#     train_Y_transformed = scaler.transform(train_Y_df)\n",
    "#     test_Y_transformed = scaler.transform(test_Y_df)\n",
    "    \n",
    "    return(target_train.values, target_test.values, train_Y_df, test_Y_df )\n",
    "#     return(target_train.values, target_test.values, train_Y_df, test_Y_df)"
   ]
  },
  {
   "cell_type": "code",
   "execution_count": 15,
   "metadata": {},
   "outputs": [],
   "source": [
    "def fscore(p, r):\n",
    "    denom = p + r or 1\n",
    "\n",
    "    return (p * r) / denom"
   ]
  },
  {
   "cell_type": "code",
   "execution_count": 16,
   "metadata": {},
   "outputs": [],
   "source": [
    "# classifiers\n",
    "from sklearn.linear_model import LogisticRegression\n",
    "from sklearn.model_selection import train_test_split\n",
    "from sklearn import metrics\n",
    "from sklearn.metrics import precision_score, recall_score\n",
    "import numpy as np\n",
    "import warnings\n",
    "from sklearn.metrics import precision_recall_curve\n",
    "from sklearn.metrics import plot_precision_recall_curve\n",
    "import matplotlib.pyplot as plt\n",
    "from tqdm.auto import tqdm"
   ]
  },
  {
   "cell_type": "code",
   "execution_count": 18,
   "metadata": {},
   "outputs": [],
   "source": [
    "types_sizes = samples_dummies.sum()\n",
    "types_with_data = types_sizes[types_sizes > 50].index.values\n",
    "all_types = samples_dummies.columns"
   ]
  },
  {
   "cell_type": "code",
   "execution_count": 19,
   "metadata": {},
   "outputs": [
    {
     "data": {
      "application/vnd.jupyter.widget-view+json": {
       "model_id": "db48cff4611540b6bc61c5a8bcf5158b",
       "version_major": 2,
       "version_minor": 0
      },
      "text/plain": [
       "  0%|          | 0/106 [00:00<?, ?it/s]"
      ]
     },
     "metadata": {},
     "output_type": "display_data"
    }
   ],
   "source": [
    "warnings.filterwarnings('ignore') #gets rid of sklearn convergence warning\n",
    "\n",
    "successful_celltypes = []\n",
    "unsuccessful_celltypes = []\n",
    "test_prs = []\n",
    "test_precision = []\n",
    "test_recall = []\n",
    "fscores = []\n",
    "\n",
    "for cell_type in tqdm(types_with_data):\n",
    "    train_target, train_test, train_data, test_data = set_target(\n",
    "        cell_type, type2samples, train_B_df, test_B_df, oversample=True,\n",
    "        max_neg_pos_ratio=2\n",
    "    )\n",
    "    \n",
    "    if (1 in train_target and 1 in train_test and 0 in train_target and 0 in train_test):\n",
    "        # lasso penalty\n",
    "        clf = LogisticRegression(solver = \"saga\",penalty = \"l1\",random_state=111 )\n",
    "        \n",
    "        clf.fit(train_data, train_target)\n",
    "        target_pred = clf.predict(test_data)\n",
    "        test_pr = metrics.average_precision_score(train_test, target_pred)\n",
    "        test_precision += [precision_score(train_test, target_pred)]\n",
    "        test_recall += [recall_score(train_test, target_pred)]\n",
    "        fscores += [fscore(test_precision[-1], test_recall[-1])]\n",
    "        successful_celltypes += [cell_type]\n",
    "    else:\n",
    "        unsuccessful_celltypes += [cell_type]\n",
    "        \n",
    "p = np.mean(test_precision)\n",
    "r = np.mean(test_recall)\n",
    "f = np.mean(fscores)\n",
    "f_micro = fscore(p, r) \n",
    "\n",
    "report = pd.DataFrame(list(zip(successful_celltypes,test_precision,test_recall, fscores)),\n",
    "                      columns = [\"celltype\",\"precision score\",\"recall score\",\"f score\"])\n"
   ]
  },
  {
   "cell_type": "code",
   "execution_count": 30,
   "metadata": {},
   "outputs": [
    {
     "name": "stdout",
     "output_type": "stream",
     "text": [
      "precision: 0.8854, recall: 0.6771, f1: 0.3541, f1 micro avg: 0.3837\n"
     ]
    }
   ],
   "source": [
    "print(f'precision: {p:.4f}, recall: {r:.4f}, f1: {f:.4f}, f1 micro avg: {f_micro:.4f}')"
   ]
  },
  {
   "cell_type": "code",
   "execution_count": 20,
   "metadata": {},
   "outputs": [],
   "source": [
    "report = pd.DataFrame(\n",
    "    {\n",
    "        \"celltype\": successful_celltypes,\n",
    "        \"precision score\": test_precision,\n",
    "        \"recall score\": test_recall,\n",
    "        \"f score\": fscores\n",
    "    })"
   ]
  },
  {
   "cell_type": "markdown",
   "metadata": {},
   "source": [
    "## KNN classifier"
   ]
  },
  {
   "cell_type": "code",
   "execution_count": 23,
   "metadata": {},
   "outputs": [
    {
     "data": {
      "text/plain": [
       "(3609, 256)"
      ]
     },
     "execution_count": 23,
     "metadata": {},
     "output_type": "execute_result"
    }
   ],
   "source": [
    "B_train_mat = train_B_df.values\n",
    "B_train_mat.shape"
   ]
  },
  {
   "cell_type": "code",
   "execution_count": 24,
   "metadata": {},
   "outputs": [],
   "source": [
    "b_test_mat = test_B_df.values"
   ]
  },
  {
   "cell_type": "code",
   "execution_count": 25,
   "metadata": {},
   "outputs": [],
   "source": [
    "import scipy\n",
    "\n",
    "def get_pearson_dists(vectors_a, vectors_b):\n",
    "    vectors_pairs = zip(vectors_a, vectors_b)\n",
    "    return [scipy.spatial.distance.correlation(a, b) for a, b in vectors_pairs]\n",
    "\n",
    "def get_pearson_dists_mat(vectors_a, vectors_b):\n",
    "    return np.array([\n",
    "        # repeat the A vector for each B vector\n",
    "        get_pearson_dists(np.array(vector_a[np.newaxis, :]).repeat(len(vectors_b), axis=0), vectors_b)\n",
    "        for vector_a in tqdm(vectors_a)\n",
    "    ])"
   ]
  },
  {
   "cell_type": "markdown",
   "metadata": {},
   "source": [
    "### Predict all cell types for all test samples"
   ]
  },
  {
   "cell_type": "code",
   "execution_count": 42,
   "metadata": {},
   "outputs": [
    {
     "data": {
      "text/plain": [
       "(3609, 684)"
      ]
     },
     "execution_count": 42,
     "metadata": {},
     "output_type": "execute_result"
    }
   ],
   "source": [
    "test_2_train_dists = scipy.spatial.distance.cdist(B_train_mat, b_test_mat, metric='correlation')\n",
    "test_2_train_dists.shape"
   ]
  },
  {
   "cell_type": "code",
   "execution_count": 43,
   "metadata": {},
   "outputs": [],
   "source": [
    "train_samples, test_samples = train_B_df.index.values, test_B_df.index.values"
   ]
  },
  {
   "cell_type": "code",
   "execution_count": 44,
   "metadata": {},
   "outputs": [],
   "source": [
    "# distances is n_train matrix X n_test\n",
    "# with columns for test items and rows for train items\n",
    "dists_df = pd.DataFrame(test_2_train_dists)\n",
    "dists_df.columns = test_samples\n",
    "dists_df.index = train_samples"
   ]
  },
  {
   "cell_type": "code",
   "execution_count": 45,
   "metadata": {},
   "outputs": [],
   "source": [
    "def knn_classify(n_neighbours):\n",
    "    # map each test item to it's closest train ones using dists matrix\n",
    "    test_sample2closest_train = {\n",
    "        # get the column for current test sample and find the index of raw the closest value\n",
    "        sample_id: dists_df[sample_id].sort_values().index[:n_neighbours]\n",
    "        for sample_id in test_samples\n",
    "    }\n",
    "    \n",
    "    # predict each cell type just by looking N closest items for each test sample\n",
    "    cell_types_y_predicted = pd.DataFrame([\n",
    "        samples_dummies.loc[test_sample2closest_train[test_id]].sum()\n",
    "        for test_id in test_samples\n",
    "    ])\n",
    "    \n",
    "    proba = cell_types_y_predicted.values / n_neighbours\n",
    "\n",
    "    cell_types_y_predicted[:] = proba\n",
    "    \n",
    "    return cell_types_y_predicted"
   ]
  },
  {
   "cell_type": "markdown",
   "metadata": {},
   "source": [
    "### Calculate performance stats"
   ]
  },
  {
   "cell_type": "code",
   "execution_count": 46,
   "metadata": {},
   "outputs": [
    {
     "data": {
      "text/plain": [
       "(684, 317)"
      ]
     },
     "execution_count": 46,
     "metadata": {},
     "output_type": "execute_result"
    }
   ],
   "source": [
    "true_test_dummies = samples_dummies.loc[test_samples]\n",
    "true_test_dummies.shape"
   ]
  },
  {
   "cell_type": "code",
   "execution_count": 47,
   "metadata": {},
   "outputs": [
    {
     "data": {
      "application/vnd.jupyter.widget-view+json": {
       "model_id": "33e3c89dd71c4138b1346ae2ed9db534",
       "version_major": 2,
       "version_minor": 0
      },
      "text/plain": [
       "  0%|          | 0/9 [00:00<?, ?it/s]"
      ]
     },
     "metadata": {},
     "output_type": "display_data"
    }
   ],
   "source": [
    "warnings.filterwarnings('ignore') #gets rid of sklearn convergence warning\n",
    "\n",
    "all_scores = []\n",
    "for n_neighbours in tqdm([1, 5, 10, 15, 20, 30, 40, 50, 100]):\n",
    "    cell_types_y_predicted_proba = knn_classify(n_neighbours)\n",
    "    \n",
    "    for th in [0.1, .3, .5, .7, .9]:\n",
    "        cell_types_y_predicted = cell_types_y_predicted_proba.copy()\n",
    "        above_threshold = cell_types_y_predicted.values > th\n",
    "\n",
    "        cell_types_y_predicted.values[above_threshold] = 1\n",
    "        cell_types_y_predicted.values[~above_threshold] = 0\n",
    "\n",
    "        successful_celltypes = []\n",
    "        unsuccessful_celltypes = []\n",
    "        test_precision = []\n",
    "        test_recall = []\n",
    "        f_scores = []\n",
    "\n",
    "        # types_with_data or all_types\n",
    "        for cell_type in all_types: \n",
    "            # cell type information from original data\n",
    "            y_true = true_test_dummies[cell_type]\n",
    "            y_predicted = cell_types_y_predicted[cell_type]\n",
    "\n",
    "            # calculate precision only if we have predictions for this cell type\n",
    "            if y_predicted.sum() > 0:\n",
    "                test_precision.append(precision_score(y_true, y_predicted))\n",
    "\n",
    "            # calculate recall only if we have true activations for this cell type\n",
    "            if y_true.sum() > 0:\n",
    "                test_recall.append(recall_score(y_true, y_predicted))\n",
    "\n",
    "            # calculate f1 score only if we have precision and recall\n",
    "            if y_predicted.sum() > 0 and y_true.sum() > 0:\n",
    "                f_scores.append(fscore(test_precision[-1], test_recall[-1]))\n",
    "\n",
    "        p = np.mean(test_precision)\n",
    "        r = np.mean(test_recall)\n",
    "        f = np.mean(f_scores)\n",
    "\n",
    "        f_micro = fscore(p, r)\n",
    "        \n",
    "        all_scores.append({\n",
    "            'knn': n_neighbours,\n",
    "            'threshold': th,\n",
    "            'p': p,\n",
    "            'r': r,\n",
    "            'f': f,\n",
    "            'f_micro': f_micro\n",
    "        })\n",
    "\n",
    "#         print(f'knn: {n_neighbours}, th: {th}, precision: {p:.4f}, recall: {r:.4f}, f1: {f:.4f}, f1 micro avg: {f_micro:.4f}')\n",
    "        \n",
    "        if n_neighbours == 1:\n",
    "            break"
   ]
  },
  {
   "cell_type": "code",
   "execution_count": 48,
   "metadata": {},
   "outputs": [
    {
     "data": {
      "text/html": [
       "<div>\n",
       "<style scoped>\n",
       "    .dataframe tbody tr th:only-of-type {\n",
       "        vertical-align: middle;\n",
       "    }\n",
       "\n",
       "    .dataframe tbody tr th {\n",
       "        vertical-align: top;\n",
       "    }\n",
       "\n",
       "    .dataframe thead th {\n",
       "        text-align: right;\n",
       "    }\n",
       "</style>\n",
       "<table border=\"1\" class=\"dataframe\">\n",
       "  <thead>\n",
       "    <tr style=\"text-align: right;\">\n",
       "      <th></th>\n",
       "      <th>knn</th>\n",
       "      <th>threshold</th>\n",
       "      <th>p</th>\n",
       "      <th>r</th>\n",
       "      <th>f</th>\n",
       "      <th>f_micro</th>\n",
       "    </tr>\n",
       "  </thead>\n",
       "  <tbody>\n",
       "    <tr>\n",
       "      <th>0</th>\n",
       "      <td>1</td>\n",
       "      <td>0.1</td>\n",
       "      <td>0.679225</td>\n",
       "      <td>0.586178</td>\n",
       "      <td>0.341586</td>\n",
       "      <td>0.314640</td>\n",
       "    </tr>\n",
       "    <tr>\n",
       "      <th>2</th>\n",
       "      <td>5</td>\n",
       "      <td>0.3</td>\n",
       "      <td>0.610486</td>\n",
       "      <td>0.622493</td>\n",
       "      <td>0.328983</td>\n",
       "      <td>0.308215</td>\n",
       "    </tr>\n",
       "    <tr>\n",
       "      <th>3</th>\n",
       "      <td>5</td>\n",
       "      <td>0.5</td>\n",
       "      <td>0.725400</td>\n",
       "      <td>0.529604</td>\n",
       "      <td>0.337805</td>\n",
       "      <td>0.306114</td>\n",
       "    </tr>\n",
       "    <tr>\n",
       "      <th>6</th>\n",
       "      <td>10</td>\n",
       "      <td>0.1</td>\n",
       "      <td>0.531758</td>\n",
       "      <td>0.662645</td>\n",
       "      <td>0.317015</td>\n",
       "      <td>0.295015</td>\n",
       "    </tr>\n",
       "    <tr>\n",
       "      <th>11</th>\n",
       "      <td>15</td>\n",
       "      <td>0.1</td>\n",
       "      <td>0.495675</td>\n",
       "      <td>0.701542</td>\n",
       "      <td>0.308593</td>\n",
       "      <td>0.290454</td>\n",
       "    </tr>\n",
       "    <tr>\n",
       "      <th>16</th>\n",
       "      <td>20</td>\n",
       "      <td>0.1</td>\n",
       "      <td>0.522346</td>\n",
       "      <td>0.642271</td>\n",
       "      <td>0.309210</td>\n",
       "      <td>0.288067</td>\n",
       "    </tr>\n",
       "    <tr>\n",
       "      <th>1</th>\n",
       "      <td>5</td>\n",
       "      <td>0.1</td>\n",
       "      <td>0.484200</td>\n",
       "      <td>0.666710</td>\n",
       "      <td>0.312847</td>\n",
       "      <td>0.280492</td>\n",
       "    </tr>\n",
       "    <tr>\n",
       "      <th>26</th>\n",
       "      <td>40</td>\n",
       "      <td>0.1</td>\n",
       "      <td>0.542163</td>\n",
       "      <td>0.577830</td>\n",
       "      <td>0.301117</td>\n",
       "      <td>0.279714</td>\n",
       "    </tr>\n",
       "    <tr>\n",
       "      <th>7</th>\n",
       "      <td>10</td>\n",
       "      <td>0.3</td>\n",
       "      <td>0.619745</td>\n",
       "      <td>0.504777</td>\n",
       "      <td>0.326698</td>\n",
       "      <td>0.278192</td>\n",
       "    </tr>\n",
       "    <tr>\n",
       "      <th>21</th>\n",
       "      <td>30</td>\n",
       "      <td>0.1</td>\n",
       "      <td>0.516767</td>\n",
       "      <td>0.599267</td>\n",
       "      <td>0.301421</td>\n",
       "      <td>0.277484</td>\n",
       "    </tr>\n",
       "  </tbody>\n",
       "</table>\n",
       "</div>"
      ],
      "text/plain": [
       "    knn  threshold         p         r         f   f_micro\n",
       "0     1        0.1  0.679225  0.586178  0.341586  0.314640\n",
       "2     5        0.3  0.610486  0.622493  0.328983  0.308215\n",
       "3     5        0.5  0.725400  0.529604  0.337805  0.306114\n",
       "6    10        0.1  0.531758  0.662645  0.317015  0.295015\n",
       "11   15        0.1  0.495675  0.701542  0.308593  0.290454\n",
       "16   20        0.1  0.522346  0.642271  0.309210  0.288067\n",
       "1     5        0.1  0.484200  0.666710  0.312847  0.280492\n",
       "26   40        0.1  0.542163  0.577830  0.301117  0.279714\n",
       "7    10        0.3  0.619745  0.504777  0.326698  0.278192\n",
       "21   30        0.1  0.516767  0.599267  0.301421  0.277484"
      ]
     },
     "execution_count": 48,
     "metadata": {},
     "output_type": "execute_result"
    }
   ],
   "source": [
    "pd.DataFrame(all_scores).sort_values('f_micro', ascending=False).head(10)"
   ]
  },
  {
   "cell_type": "code",
   "execution_count": null,
   "metadata": {},
   "outputs": [],
   "source": []
  }
 ],
 "metadata": {
  "kernelspec": {
   "display_name": "Python [conda env:.conda-bio]",
   "language": "python",
   "name": "conda-env-.conda-bio-py"
  },
  "language_info": {
   "codemirror_mode": {
    "name": "ipython",
    "version": 3
   },
   "file_extension": ".py",
   "mimetype": "text/x-python",
   "name": "python",
   "nbconvert_exporter": "python",
   "pygments_lexer": "ipython3",
   "version": "3.8.8"
  },
  "widgets": {
   "application/vnd.jupyter.widget-state+json": {
    "state": {
     "038808e444c54892b2ba606d2900e25a": {
      "model_module": "@jupyter-widgets/controls",
      "model_module_version": "1.5.0",
      "model_name": "ProgressStyleModel",
      "state": {
       "description_width": ""
      }
     },
     "1cc0aa8ace0749ab914babc56a72b1cf": {
      "model_module": "@jupyter-widgets/base",
      "model_module_version": "1.2.0",
      "model_name": "LayoutModel",
      "state": {}
     },
     "204d6ef0c3e145ecaae6b07cd6b332d5": {
      "model_module": "@jupyter-widgets/controls",
      "model_module_version": "1.5.0",
      "model_name": "HTMLModel",
      "state": {
       "layout": "IPY_MODEL_b72f59f1a77b44218f00558bada6b234",
       "style": "IPY_MODEL_71f70bb7c0a5432085edafb7a8d2ce5a",
       "value": "100%"
      }
     },
     "21e652c0e4aa4718849124c4acc2fbcd": {
      "model_module": "@jupyter-widgets/controls",
      "model_module_version": "1.5.0",
      "model_name": "FloatProgressModel",
      "state": {
       "bar_style": "success",
       "layout": "IPY_MODEL_89d03560c32444649a4e84c3f42cdb12",
       "max": 106,
       "style": "IPY_MODEL_038808e444c54892b2ba606d2900e25a",
       "value": 106
      }
     },
     "244fedf5c8004d3b8abfd159a03f21e0": {
      "model_module": "@jupyter-widgets/controls",
      "model_module_version": "1.5.0",
      "model_name": "DescriptionStyleModel",
      "state": {
       "description_width": ""
      }
     },
     "33e3c89dd71c4138b1346ae2ed9db534": {
      "model_module": "@jupyter-widgets/controls",
      "model_module_version": "1.5.0",
      "model_name": "HBoxModel",
      "state": {
       "children": [
        "IPY_MODEL_204d6ef0c3e145ecaae6b07cd6b332d5",
        "IPY_MODEL_609d9cd7f1a6446b9ead7f2676da4101",
        "IPY_MODEL_f3f825d0a93540a1b8df09643bf5a218"
       ],
       "layout": "IPY_MODEL_1cc0aa8ace0749ab914babc56a72b1cf"
      }
     },
     "3599fac79e724f6a8e05a01303296379": {
      "model_module": "@jupyter-widgets/base",
      "model_module_version": "1.2.0",
      "model_name": "LayoutModel",
      "state": {}
     },
     "4a5a88a2c04e43ac922cdd505325e276": {
      "model_module": "@jupyter-widgets/controls",
      "model_module_version": "1.5.0",
      "model_name": "HTMLModel",
      "state": {
       "layout": "IPY_MODEL_70f4e26c9e4f4d419b3893baefadf74d",
       "style": "IPY_MODEL_6fb44373e6f247d59107469e455ce352",
       "value": " 106/106 [02:40&lt;00:00,  1.53s/it]"
      }
     },
     "609d9cd7f1a6446b9ead7f2676da4101": {
      "model_module": "@jupyter-widgets/controls",
      "model_module_version": "1.5.0",
      "model_name": "FloatProgressModel",
      "state": {
       "bar_style": "success",
       "layout": "IPY_MODEL_8a4d911549e54eaeadb20f6f6708e90f",
       "max": 9,
       "style": "IPY_MODEL_9307a6146ee64f05a6a70c60f6e76286",
       "value": 9
      }
     },
     "6fb44373e6f247d59107469e455ce352": {
      "model_module": "@jupyter-widgets/controls",
      "model_module_version": "1.5.0",
      "model_name": "DescriptionStyleModel",
      "state": {
       "description_width": ""
      }
     },
     "70f4e26c9e4f4d419b3893baefadf74d": {
      "model_module": "@jupyter-widgets/base",
      "model_module_version": "1.2.0",
      "model_name": "LayoutModel",
      "state": {}
     },
     "71f70bb7c0a5432085edafb7a8d2ce5a": {
      "model_module": "@jupyter-widgets/controls",
      "model_module_version": "1.5.0",
      "model_name": "DescriptionStyleModel",
      "state": {
       "description_width": ""
      }
     },
     "756966fe31014dc080ff4111b615cc66": {
      "model_module": "@jupyter-widgets/controls",
      "model_module_version": "1.5.0",
      "model_name": "DescriptionStyleModel",
      "state": {
       "description_width": ""
      }
     },
     "771be88de4204272b9263c259eeb43be": {
      "model_module": "@jupyter-widgets/controls",
      "model_module_version": "1.5.0",
      "model_name": "DescriptionStyleModel",
      "state": {
       "description_width": ""
      }
     },
     "783fd99836104deca0c84ae0efb02d04": {
      "model_module": "@jupyter-widgets/controls",
      "model_module_version": "1.5.0",
      "model_name": "DescriptionStyleModel",
      "state": {
       "description_width": ""
      }
     },
     "7e70790f1d6d473382053b2ccca84922": {
      "model_module": "@jupyter-widgets/base",
      "model_module_version": "1.2.0",
      "model_name": "LayoutModel",
      "state": {}
     },
     "8050dd30746043858400f2bcd0694a3a": {
      "model_module": "@jupyter-widgets/base",
      "model_module_version": "1.2.0",
      "model_name": "LayoutModel",
      "state": {}
     },
     "80b604da225e4243ae3645faf183f55a": {
      "model_module": "@jupyter-widgets/base",
      "model_module_version": "1.2.0",
      "model_name": "LayoutModel",
      "state": {}
     },
     "89487439d90046448ff581194cc114eb": {
      "model_module": "@jupyter-widgets/base",
      "model_module_version": "1.2.0",
      "model_name": "LayoutModel",
      "state": {}
     },
     "89d03560c32444649a4e84c3f42cdb12": {
      "model_module": "@jupyter-widgets/base",
      "model_module_version": "1.2.0",
      "model_name": "LayoutModel",
      "state": {}
     },
     "8a4d911549e54eaeadb20f6f6708e90f": {
      "model_module": "@jupyter-widgets/base",
      "model_module_version": "1.2.0",
      "model_name": "LayoutModel",
      "state": {}
     },
     "9307a6146ee64f05a6a70c60f6e76286": {
      "model_module": "@jupyter-widgets/controls",
      "model_module_version": "1.5.0",
      "model_name": "ProgressStyleModel",
      "state": {
       "description_width": ""
      }
     },
     "97f76a70cfc7427b91e4ae7640e18e04": {
      "model_module": "@jupyter-widgets/controls",
      "model_module_version": "1.5.0",
      "model_name": "HTMLModel",
      "state": {
       "layout": "IPY_MODEL_7e70790f1d6d473382053b2ccca84922",
       "style": "IPY_MODEL_244fedf5c8004d3b8abfd159a03f21e0",
       "value": "100%"
      }
     },
     "b154aa78b25b440792a60afe20c0e3ef": {
      "model_module": "@jupyter-widgets/base",
      "model_module_version": "1.2.0",
      "model_name": "LayoutModel",
      "state": {}
     },
     "b72f59f1a77b44218f00558bada6b234": {
      "model_module": "@jupyter-widgets/base",
      "model_module_version": "1.2.0",
      "model_name": "LayoutModel",
      "state": {}
     },
     "bb9e1c35958d4802b0c5eb2dc56aa8db": {
      "model_module": "@jupyter-widgets/controls",
      "model_module_version": "1.5.0",
      "model_name": "HTMLModel",
      "state": {
       "layout": "IPY_MODEL_8050dd30746043858400f2bcd0694a3a",
       "style": "IPY_MODEL_756966fe31014dc080ff4111b615cc66",
       "value": " 3609/3609 [02:38&lt;00:00, 24.40it/s]"
      }
     },
     "c7b2f65db5c44db282fe068d842448d2": {
      "model_module": "@jupyter-widgets/base",
      "model_module_version": "1.2.0",
      "model_name": "LayoutModel",
      "state": {}
     },
     "cd3cac511b3d404782067745c15712a3": {
      "model_module": "@jupyter-widgets/controls",
      "model_module_version": "1.5.0",
      "model_name": "FloatProgressModel",
      "state": {
       "bar_style": "success",
       "layout": "IPY_MODEL_80b604da225e4243ae3645faf183f55a",
       "max": 3609,
       "style": "IPY_MODEL_f6a794081dc54be4a45ac7f96915acee",
       "value": 3609
      }
     },
     "d08788f46cb24d6ba1afc6fd63a4798a": {
      "model_module": "@jupyter-widgets/controls",
      "model_module_version": "1.5.0",
      "model_name": "HTMLModel",
      "state": {
       "layout": "IPY_MODEL_b154aa78b25b440792a60afe20c0e3ef",
       "style": "IPY_MODEL_771be88de4204272b9263c259eeb43be",
       "value": "100%"
      }
     },
     "db48cff4611540b6bc61c5a8bcf5158b": {
      "model_module": "@jupyter-widgets/controls",
      "model_module_version": "1.5.0",
      "model_name": "HBoxModel",
      "state": {
       "children": [
        "IPY_MODEL_97f76a70cfc7427b91e4ae7640e18e04",
        "IPY_MODEL_21e652c0e4aa4718849124c4acc2fbcd",
        "IPY_MODEL_4a5a88a2c04e43ac922cdd505325e276"
       ],
       "layout": "IPY_MODEL_89487439d90046448ff581194cc114eb"
      }
     },
     "f3f825d0a93540a1b8df09643bf5a218": {
      "model_module": "@jupyter-widgets/controls",
      "model_module_version": "1.5.0",
      "model_name": "HTMLModel",
      "state": {
       "layout": "IPY_MODEL_c7b2f65db5c44db282fe068d842448d2",
       "style": "IPY_MODEL_783fd99836104deca0c84ae0efb02d04",
       "value": " 9/9 [00:33&lt;00:00,  3.75s/it]"
      }
     },
     "f6a794081dc54be4a45ac7f96915acee": {
      "model_module": "@jupyter-widgets/controls",
      "model_module_version": "1.5.0",
      "model_name": "ProgressStyleModel",
      "state": {
       "description_width": ""
      }
     },
     "f71240d2595e40018032cfc015b2312c": {
      "model_module": "@jupyter-widgets/controls",
      "model_module_version": "1.5.0",
      "model_name": "HBoxModel",
      "state": {
       "children": [
        "IPY_MODEL_d08788f46cb24d6ba1afc6fd63a4798a",
        "IPY_MODEL_cd3cac511b3d404782067745c15712a3",
        "IPY_MODEL_bb9e1c35958d4802b0c5eb2dc56aa8db"
       ],
       "layout": "IPY_MODEL_3599fac79e724f6a8e05a01303296379"
      }
     }
    },
    "version_major": 2,
    "version_minor": 0
   }
  }
 },
 "nbformat": 4,
 "nbformat_minor": 4
}
