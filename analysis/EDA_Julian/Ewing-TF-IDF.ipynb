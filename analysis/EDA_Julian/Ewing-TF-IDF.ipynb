{
 "cells": [
  {
   "cell_type": "code",
   "execution_count": 1,
   "metadata": {},
   "outputs": [],
   "source": [
    "import pandas as pd\n",
    "from pathlib import Path\n",
    "import seaborn as sns\n",
    "import matplotlib.pyplot as plt\n",
    "import scipy\n",
    "import random"
   ]
  },
  {
   "cell_type": "code",
   "execution_count": 2,
   "metadata": {},
   "outputs": [],
   "source": [
    "data_dir = Path('data')\n"
   ]
  },
  {
   "cell_type": "markdown",
   "metadata": {},
   "source": [
    "## Loading Prepared data"
   ]
  },
  {
   "cell_type": "code",
   "execution_count": 3,
   "metadata": {},
   "outputs": [],
   "source": [
    "ewing_df = pd.read_csv(data_dir / 'Ewing_cell_lines/Ewing_NT_cell_lines.csv', index_col=0)\n",
    "train_Y_df = pd.read_csv(data_dir / 'mat4-CellO_train-ewing_genes.csv', index_col=0)"
   ]
  },
  {
   "cell_type": "code",
   "execution_count": 4,
   "metadata": {},
   "outputs": [],
   "source": [
    "Z_df = pd.read_csv(data_dir / 'plierResult-cello_train/Z.csv')\n",
    "Z_df = Z_df[Z_df.index.isin(ewing_df.columns)]\n",
    "Z_mat = Z_df.values"
   ]
  },
  {
   "cell_type": "code",
   "execution_count": 5,
   "metadata": {},
   "outputs": [],
   "source": [
    "# sorting columns according to Z\n",
    "train_Y_df = train_Y_df[Z_df.index]\n",
    "ewing_df = ewing_df[Z_df.index]"
   ]
  },
  {
   "cell_type": "code",
   "execution_count": 6,
   "metadata": {},
   "outputs": [],
   "source": [
    "assert (train_Y_df.columns != ewing_df.columns).sum() == 0\n",
    "assert (train_Y_df.columns != Z_df.index).sum() == 0"
   ]
  },
  {
   "cell_type": "markdown",
   "metadata": {},
   "source": [
    "### Normalization"
   ]
  },
  {
   "cell_type": "code",
   "execution_count": 7,
   "metadata": {},
   "outputs": [],
   "source": [
    "# computing normalization values on train dataset\n",
    "per_gene_mean = train_Y_df.mean().values\n",
    "per_gene_std = train_Y_df.std().values\n",
    "\n",
    "train_y_vectors = (train_Y_df.values - per_gene_mean) / per_gene_std\n",
    "test_y_vectors = (ewing_df.values - per_gene_mean) / per_gene_std"
   ]
  },
  {
   "cell_type": "markdown",
   "metadata": {},
   "source": [
    "### Using regression to find the B that will produce vectors close to test Y"
   ]
  },
  {
   "cell_type": "code",
   "execution_count": 8,
   "metadata": {},
   "outputs": [],
   "source": [
    "from numpy.linalg import inv"
   ]
  },
  {
   "cell_type": "code",
   "execution_count": 9,
   "metadata": {},
   "outputs": [
    {
     "data": {
      "text/plain": [
       "(512, 11)"
      ]
     },
     "execution_count": 9,
     "metadata": {},
     "output_type": "execute_result"
    }
   ],
   "source": [
    "X = Z_mat\n",
    "\n",
    "# linear least squares\n",
    "# check this for more details: https://machinelearningmastery.com/solve-linear-regression-using-linear-algebra/\n",
    "b_test = inv(X.T.dot(X)).dot(X.T).dot(test_y_vectors.T)\n",
    "b_test.shape"
   ]
  },
  {
   "cell_type": "code",
   "execution_count": 10,
   "metadata": {},
   "outputs": [],
   "source": [
    "y_test_hat = Z_mat.dot(b_test).transpose()"
   ]
  },
  {
   "cell_type": "code",
   "execution_count": 11,
   "metadata": {},
   "outputs": [
    {
     "data": {
      "text/plain": [
       "(11, 5775)"
      ]
     },
     "execution_count": 11,
     "metadata": {},
     "output_type": "execute_result"
    }
   ],
   "source": [
    "y_test_hat.shape"
   ]
  },
  {
   "cell_type": "code",
   "execution_count": 12,
   "metadata": {},
   "outputs": [],
   "source": [
    "def pearson_dists(vectors_a, vectors_b):\n",
    "    vectors_pairs = zip(vectors_a, vectors_b)\n",
    "    return [scipy.spatial.distance.correlation(a, b) for a, b in vectors_pairs]"
   ]
  },
  {
   "cell_type": "code",
   "execution_count": 13,
   "metadata": {},
   "outputs": [],
   "source": [
    "y2y_hat_dists = pearson_dists(test_y_vectors, y_test_hat)\n",
    "y2y_random_dists = pearson_dists(\n",
    "    test_y_vectors, \n",
    "    random.sample(test_y_vectors.tolist(), len(test_y_vectors))\n",
    ")"
   ]
  },
  {
   "cell_type": "code",
   "execution_count": 14,
   "metadata": {},
   "outputs": [
    {
     "data": {
      "text/plain": [
       "<seaborn.axisgrid.FacetGrid at 0x21bb58517f0>"
      ]
     },
     "execution_count": 14,
     "metadata": {},
     "output_type": "execute_result"
    },
    {
     "data": {
      "image/png": "[encoded data removed]",
      "text/plain": [
       "<Figure size 502.875x360 with 1 Axes>"
      ]
     },
     "metadata": {
      "needs_background": "light"
     },
     "output_type": "display_data"
    }
   ],
   "source": [
    "dists_df = pd.DataFrame({\n",
    "    'y_real-y_hat': y2y_hat_dists,\n",
    "    'y_real-y_real_random': y2y_random_dists\n",
    "})\n",
    "\n",
    "sns.displot(\n",
    "    data=pd.melt(dists_df, value_vars=dists_df.columns), \n",
    "    x='value', hue='variable', kind='kde')"
   ]
  },
  {
   "cell_type": "markdown",
   "metadata": {},
   "source": [
    "## Validating embeddings"
   ]
  },
  {
   "cell_type": "code",
   "execution_count": 15,
   "metadata": {},
   "outputs": [],
   "source": [
    "import sys\n",
    "sys.path.append('../../onto_lib')"
   ]
  },
  {
   "cell_type": "code",
   "execution_count": 16,
   "metadata": {},
   "outputs": [
    {
     "name": "stdout",
     "output_type": "stream",
     "text": [
      "Unable to import pygraphviz. Visualization is disabled.\n",
      "Loading ontology from C:\\Users\\julia\\Desktop\\cancer-normal-transformer-main\\obo\\DOID.17-01-30.obo ...\n",
      "Loading ontology from C:\\Users\\julia\\Desktop\\cancer-normal-transformer-main\\obo\\UBERON.17-01-30.obo ...\n",
      "Loading ontology from C:\\Users\\julia\\Desktop\\cancer-normal-transformer-main\\obo\\CL.18-11-13.obo ...\n",
      "Loading ontology from C:\\Users\\julia\\Desktop\\cancer-normal-transformer-main\\obo\\CVCL.17-01-30.obo ...\n",
      "Loading ontology from C:\\Users\\julia\\Desktop\\cancer-normal-transformer-main\\obo\\EFO.17-01-30.obo ...\n"
     ]
    }
   ],
   "source": [
    "from anndata import AnnData\n",
    "import json\n",
    "import scanpy as sc\n",
    "import general_ontology_tools as got"
   ]
  },
  {
   "cell_type": "code",
   "execution_count": 17,
   "metadata": {},
   "outputs": [],
   "source": [
    "with open(data_dir / 'CellO_data/bulk_RNA_seq_training_set/bulk_labels.json', 'r') as f:\n",
    "    sample2cell_types_ids = json.load(f)"
   ]
  },
  {
   "cell_type": "code",
   "execution_count": 18,
   "metadata": {},
   "outputs": [],
   "source": [
    "sample2types = {\n",
    "    sample: list(map(got.get_term_name, types_ids))\n",
    "    for sample, types_ids in sample2cell_types_ids.items()\n",
    "}"
   ]
  },
  {
   "cell_type": "code",
   "execution_count": 19,
   "metadata": {},
   "outputs": [],
   "source": [
    "test_b_vectors = b_test.T\n",
    "test_samples = ewing_df.index.values"
   ]
  },
  {
   "cell_type": "code",
   "execution_count": 20,
   "metadata": {},
   "outputs": [
    {
     "data": {
      "text/plain": [
       "(3609, 512)"
      ]
     },
     "execution_count": 20,
     "metadata": {},
     "output_type": "execute_result"
    }
   ],
   "source": [
    "B_df = pd.read_csv(data_dir / 'plierResult-cello_train/B.csv').transpose()\n",
    "B_df.shape"
   ]
  },
  {
   "cell_type": "code",
   "execution_count": 21,
   "metadata": {},
   "outputs": [
    {
     "data": {
      "text/plain": [
       "(11, 512)"
      ]
     },
     "execution_count": 21,
     "metadata": {},
     "output_type": "execute_result"
    }
   ],
   "source": [
    "b_test_df = pd.DataFrame(test_b_vectors)\n",
    "b_test_df.index = test_samples\n",
    "b_test_df.columns = B_df.columns\n",
    "b_test_df.shape"
   ]
  },
  {
   "cell_type": "code",
   "execution_count": 22,
   "metadata": {},
   "outputs": [
    {
     "data": {
      "text/plain": [
       "(3620, 512)"
      ]
     },
     "execution_count": 22,
     "metadata": {},
     "output_type": "execute_result"
    }
   ],
   "source": [
    "B_full = pd.concat([B_df, b_test_df])\n",
    "B_full.shape"
   ]
  },
  {
   "cell_type": "code",
   "execution_count": 23,
   "metadata": {},
   "outputs": [],
   "source": [
    "from sklearn.preprocessing import MultiLabelBinarizer\n",
    "\n",
    "mlb = MultiLabelBinarizer()\n",
    "types_per_b_samples = B_df.index.map(sample2types).values\n",
    "\n",
    "train_dummies = pd.DataFrame(mlb.fit_transform(types_per_b_samples), columns=mlb.classes_, index=B_df.index)"
   ]
  },
  {
   "cell_type": "code",
   "execution_count": 24,
   "metadata": {},
   "outputs": [],
   "source": [
    "types_dummies = pd.concat([train_dummies, b_test_df])[train_dummies.columns]"
   ]
  },
  {
   "cell_type": "code",
   "execution_count": 25,
   "metadata": {},
   "outputs": [],
   "source": [
    "test_mask = B_full.index.isin(test_samples)\n",
    "train_mask = ~test_mask"
   ]
  },
  {
   "cell_type": "code",
   "execution_count": 26,
   "metadata": {},
   "outputs": [],
   "source": [
    "ad = AnnData(B_full)"
   ]
  },
  {
   "cell_type": "code",
   "execution_count": 27,
   "metadata": {},
   "outputs": [],
   "source": [
    "sc.pp.neighbors(ad, use_rep='X', n_neighbors=30)\n",
    "sc.tl.umap(ad)"
   ]
  },
  {
   "cell_type": "code",
   "execution_count": 28,
   "metadata": {},
   "outputs": [],
   "source": [
    "def as_category(data):\n",
    "    return pd.Series(data).astype('category').values\n",
    "\n",
    "# Add cell type annotations to AnnData object\n",
    "for ct in types_dummies.columns:\n",
    "    dummy_mask = types_dummies[ct] == 1\n",
    "    ct_values = types_dummies[ct].copy()\n",
    "    ct_values[~dummy_mask] = None\n",
    "    ct_values[dummy_mask & train_mask] = 'train'\n",
    "    ct_values[test_mask] = 'test'\n",
    "    \n",
    "    ad.obs[ct] = as_category(ct_values)    \n",
    "    ad.obs[ct + ' - train'] = as_category(dummy_mask & ~test_mask)\n",
    "\n",
    "ad.obs['test_sample'] = as_category(test_mask)"
   ]
  },
  {
   "cell_type": "code",
   "execution_count": 29,
   "metadata": {},
   "outputs": [
    {
     "data": {
      "image/png": "[encoded data removed]",
      "text/plain": [
       "<Figure size 800x600 with 1 Axes>"
      ]
     },
     "metadata": {},
     "output_type": "display_data"
    }
   ],
   "source": [
    "sc.set_figure_params(dpi=100)\n",
    "plt.rcParams['figure.figsize'] = (8, 6)\n",
    "\n",
    "for ctype in ['precursor cell']:\n",
    "    sc.pl.umap(ad, color=ctype, size=5, groups=['test', 'train'])"
   ]
  },
  {
   "cell_type": "markdown",
   "metadata": {},
   "source": [
    "## Classification"
   ]
  },
  {
   "cell_type": "code",
   "execution_count": 30,
   "metadata": {},
   "outputs": [],
   "source": [
    "from sklearn.metrics import precision_score, recall_score\n",
    "\n",
    "def get_pearson_dists(vectors_a, vectors_b):\n",
    "    vectors_pairs = zip(vectors_a, vectors_b)\n",
    "    return [scipy.spatial.distance.correlation(a, b) for a, b in vectors_pairs]\n",
    "\n",
    "def get_pearson_dists_mat(vectors_a, vectors_b):\n",
    "    return np.array([\n",
    "        # repeat the A vector for each B vector\n",
    "        get_pearson_dists(np.array(vector_a[np.newaxis, :]).repeat(len(vectors_b), axis=0), vectors_b)\n",
    "        for vector_a in vectors_a\n",
    "    ])"
   ]
  },
  {
   "cell_type": "code",
   "execution_count": 31,
   "metadata": {},
   "outputs": [
    {
     "data": {
      "text/plain": [
       "(3609, 512)"
      ]
     },
     "execution_count": 31,
     "metadata": {},
     "output_type": "execute_result"
    }
   ],
   "source": [
    "B_mat = B_df.values\n",
    "B_mat.shape"
   ]
  },
  {
   "cell_type": "code",
   "execution_count": 32,
   "metadata": {},
   "outputs": [],
   "source": [
    "import numpy as np\n",
    "train_samples = train_Y_df.index.values"
   ]
  },
  {
   "cell_type": "code",
   "execution_count": 33,
   "metadata": {},
   "outputs": [
    {
     "data": {
      "text/plain": [
       "(3609, 11)"
      ]
     },
     "execution_count": 33,
     "metadata": {},
     "output_type": "execute_result"
    }
   ],
   "source": [
    "pearson_dists = get_pearson_dists_mat(B_mat, b_test.T)\n",
    "pearson_dists.shape"
   ]
  },
  {
   "cell_type": "code",
   "execution_count": 34,
   "metadata": {},
   "outputs": [],
   "source": [
    "# distances is a n_test X n_train matrix\n",
    "# with columns for test items and rows for train items\n",
    "dists_df = pd.DataFrame(pearson_dists)\n",
    "dists_df.columns = test_samples\n",
    "dists_df.index = train_samples"
   ]
  },
  {
   "cell_type": "code",
   "execution_count": 35,
   "metadata": {},
   "outputs": [
    {
     "data": {
      "text/html": [
       "<div>\n",
       "<style scoped>\n",
       "    .dataframe tbody tr th:only-of-type {\n",
       "        vertical-align: middle;\n",
       "    }\n",
       "\n",
       "    .dataframe tbody tr th {\n",
       "        vertical-align: top;\n",
       "    }\n",
       "\n",
       "    .dataframe thead th {\n",
       "        text-align: right;\n",
       "    }\n",
       "</style>\n",
       "<table border=\"1\" class=\"dataframe\">\n",
       "  <thead>\n",
       "    <tr style=\"text-align: right;\">\n",
       "      <th></th>\n",
       "      <th>SRX1025875</th>\n",
       "      <th>SRX1025870</th>\n",
       "      <th>SRX1025865</th>\n",
       "      <th>SRX4587813</th>\n",
       "      <th>SRX1025860</th>\n",
       "      <th>SRX4587810</th>\n",
       "      <th>SRX4587809</th>\n",
       "      <th>SRX4587814</th>\n",
       "      <th>SRX4587812</th>\n",
       "      <th>SRX4587811</th>\n",
       "      <th>SRX3183024</th>\n",
       "    </tr>\n",
       "  </thead>\n",
       "  <tbody>\n",
       "    <tr>\n",
       "      <th>SRX890545</th>\n",
       "      <td>1.123341</td>\n",
       "      <td>1.093080</td>\n",
       "      <td>1.149312</td>\n",
       "      <td>1.176287</td>\n",
       "      <td>1.130003</td>\n",
       "      <td>1.162682</td>\n",
       "      <td>1.179348</td>\n",
       "      <td>1.172930</td>\n",
       "      <td>1.176636</td>\n",
       "      <td>1.174408</td>\n",
       "      <td>1.153624</td>\n",
       "    </tr>\n",
       "    <tr>\n",
       "      <th>SRX1067711</th>\n",
       "      <td>1.095372</td>\n",
       "      <td>1.070512</td>\n",
       "      <td>1.092030</td>\n",
       "      <td>1.146400</td>\n",
       "      <td>1.091306</td>\n",
       "      <td>1.145884</td>\n",
       "      <td>1.151763</td>\n",
       "      <td>1.151244</td>\n",
       "      <td>1.151614</td>\n",
       "      <td>1.149509</td>\n",
       "      <td>1.162105</td>\n",
       "    </tr>\n",
       "    <tr>\n",
       "      <th>SRX1067710</th>\n",
       "      <td>1.092076</td>\n",
       "      <td>1.068337</td>\n",
       "      <td>1.071123</td>\n",
       "      <td>1.117138</td>\n",
       "      <td>1.075141</td>\n",
       "      <td>1.121766</td>\n",
       "      <td>1.123312</td>\n",
       "      <td>1.127038</td>\n",
       "      <td>1.127990</td>\n",
       "      <td>1.127672</td>\n",
       "      <td>1.134322</td>\n",
       "    </tr>\n",
       "    <tr>\n",
       "      <th>SRX762971</th>\n",
       "      <td>1.189891</td>\n",
       "      <td>1.112461</td>\n",
       "      <td>1.152034</td>\n",
       "      <td>1.275148</td>\n",
       "      <td>1.137693</td>\n",
       "      <td>1.302435</td>\n",
       "      <td>1.271560</td>\n",
       "      <td>1.293856</td>\n",
       "      <td>1.280613</td>\n",
       "      <td>1.295817</td>\n",
       "      <td>1.232885</td>\n",
       "    </tr>\n",
       "    <tr>\n",
       "      <th>SRX762970</th>\n",
       "      <td>1.168876</td>\n",
       "      <td>1.119433</td>\n",
       "      <td>1.144632</td>\n",
       "      <td>1.230069</td>\n",
       "      <td>1.148199</td>\n",
       "      <td>1.257260</td>\n",
       "      <td>1.230887</td>\n",
       "      <td>1.249439</td>\n",
       "      <td>1.237513</td>\n",
       "      <td>1.251924</td>\n",
       "      <td>1.192815</td>\n",
       "    </tr>\n",
       "    <tr>\n",
       "      <th>...</th>\n",
       "      <td>...</td>\n",
       "      <td>...</td>\n",
       "      <td>...</td>\n",
       "      <td>...</td>\n",
       "      <td>...</td>\n",
       "      <td>...</td>\n",
       "      <td>...</td>\n",
       "      <td>...</td>\n",
       "      <td>...</td>\n",
       "      <td>...</td>\n",
       "      <td>...</td>\n",
       "    </tr>\n",
       "    <tr>\n",
       "      <th>SRX3399308</th>\n",
       "      <td>1.161585</td>\n",
       "      <td>1.160889</td>\n",
       "      <td>1.164010</td>\n",
       "      <td>1.175520</td>\n",
       "      <td>1.164991</td>\n",
       "      <td>1.155323</td>\n",
       "      <td>1.172775</td>\n",
       "      <td>1.173294</td>\n",
       "      <td>1.173528</td>\n",
       "      <td>1.166850</td>\n",
       "      <td>1.002303</td>\n",
       "    </tr>\n",
       "    <tr>\n",
       "      <th>SRX3399309</th>\n",
       "      <td>1.153807</td>\n",
       "      <td>1.136562</td>\n",
       "      <td>1.158399</td>\n",
       "      <td>1.142142</td>\n",
       "      <td>1.166722</td>\n",
       "      <td>1.135918</td>\n",
       "      <td>1.137730</td>\n",
       "      <td>1.144402</td>\n",
       "      <td>1.139293</td>\n",
       "      <td>1.139152</td>\n",
       "      <td>1.000138</td>\n",
       "    </tr>\n",
       "    <tr>\n",
       "      <th>SRX3399310</th>\n",
       "      <td>1.128456</td>\n",
       "      <td>1.138202</td>\n",
       "      <td>1.147428</td>\n",
       "      <td>1.123640</td>\n",
       "      <td>1.136540</td>\n",
       "      <td>1.098468</td>\n",
       "      <td>1.118481</td>\n",
       "      <td>1.116609</td>\n",
       "      <td>1.120599</td>\n",
       "      <td>1.113357</td>\n",
       "      <td>0.982749</td>\n",
       "    </tr>\n",
       "    <tr>\n",
       "      <th>SRX3399311</th>\n",
       "      <td>1.190447</td>\n",
       "      <td>1.191499</td>\n",
       "      <td>1.198184</td>\n",
       "      <td>1.168041</td>\n",
       "      <td>1.187077</td>\n",
       "      <td>1.159714</td>\n",
       "      <td>1.172222</td>\n",
       "      <td>1.173133</td>\n",
       "      <td>1.170796</td>\n",
       "      <td>1.171192</td>\n",
       "      <td>1.038376</td>\n",
       "    </tr>\n",
       "    <tr>\n",
       "      <th>SRX3399312</th>\n",
       "      <td>1.166035</td>\n",
       "      <td>1.177069</td>\n",
       "      <td>1.173586</td>\n",
       "      <td>1.137848</td>\n",
       "      <td>1.171596</td>\n",
       "      <td>1.119125</td>\n",
       "      <td>1.141943</td>\n",
       "      <td>1.137845</td>\n",
       "      <td>1.137001</td>\n",
       "      <td>1.135250</td>\n",
       "      <td>0.990564</td>\n",
       "    </tr>\n",
       "  </tbody>\n",
       "</table>\n",
       "<p>3609 rows × 11 columns</p>\n",
       "</div>"
      ],
      "text/plain": [
       "            SRX1025875  SRX1025870  SRX1025865  SRX4587813  SRX1025860  \\\n",
       "SRX890545     1.123341    1.093080    1.149312    1.176287    1.130003   \n",
       "SRX1067711    1.095372    1.070512    1.092030    1.146400    1.091306   \n",
       "SRX1067710    1.092076    1.068337    1.071123    1.117138    1.075141   \n",
       "SRX762971     1.189891    1.112461    1.152034    1.275148    1.137693   \n",
       "SRX762970     1.168876    1.119433    1.144632    1.230069    1.148199   \n",
       "...                ...         ...         ...         ...         ...   \n",
       "SRX3399308    1.161585    1.160889    1.164010    1.175520    1.164991   \n",
       "SRX3399309    1.153807    1.136562    1.158399    1.142142    1.166722   \n",
       "SRX3399310    1.128456    1.138202    1.147428    1.123640    1.136540   \n",
       "SRX3399311    1.190447    1.191499    1.198184    1.168041    1.187077   \n",
       "SRX3399312    1.166035    1.177069    1.173586    1.137848    1.171596   \n",
       "\n",
       "            SRX4587810  SRX4587809  SRX4587814  SRX4587812  SRX4587811  \\\n",
       "SRX890545     1.162682    1.179348    1.172930    1.176636    1.174408   \n",
       "SRX1067711    1.145884    1.151763    1.151244    1.151614    1.149509   \n",
       "SRX1067710    1.121766    1.123312    1.127038    1.127990    1.127672   \n",
       "SRX762971     1.302435    1.271560    1.293856    1.280613    1.295817   \n",
       "SRX762970     1.257260    1.230887    1.249439    1.237513    1.251924   \n",
       "...                ...         ...         ...         ...         ...   \n",
       "SRX3399308    1.155323    1.172775    1.173294    1.173528    1.166850   \n",
       "SRX3399309    1.135918    1.137730    1.144402    1.139293    1.139152   \n",
       "SRX3399310    1.098468    1.118481    1.116609    1.120599    1.113357   \n",
       "SRX3399311    1.159714    1.172222    1.173133    1.170796    1.171192   \n",
       "SRX3399312    1.119125    1.141943    1.137845    1.137001    1.135250   \n",
       "\n",
       "            SRX3183024  \n",
       "SRX890545     1.153624  \n",
       "SRX1067711    1.162105  \n",
       "SRX1067710    1.134322  \n",
       "SRX762971     1.232885  \n",
       "SRX762970     1.192815  \n",
       "...                ...  \n",
       "SRX3399308    1.002303  \n",
       "SRX3399309    1.000138  \n",
       "SRX3399310    0.982749  \n",
       "SRX3399311    1.038376  \n",
       "SRX3399312    0.990564  \n",
       "\n",
       "[3609 rows x 11 columns]"
      ]
     },
     "execution_count": 35,
     "metadata": {},
     "output_type": "execute_result"
    }
   ],
   "source": [
    "dists_df"
   ]
  },
  {
   "cell_type": "code",
   "execution_count": 36,
   "metadata": {},
   "outputs": [],
   "source": [
    "test_sample2closest_train = {\n",
    "    # get the column for current test sample and find the index of raw the closest value\n",
    "    sample_id: dists_df[sample_id].sort_values().index[:10]\n",
    "    for sample_id in test_samples\n",
    "}\n"
   ]
  },
  {
   "cell_type": "code",
   "execution_count": 37,
   "metadata": {},
   "outputs": [],
   "source": [
    "cell_types_y_predicted = pd.DataFrame([\n",
    "    types_dummies.loc[test_sample2closest_train[test_id]].sum()\n",
    "    for test_id in test_samples\n",
    "])\n"
   ]
  },
  {
   "cell_type": "markdown",
   "metadata": {},
   "source": [
    "## Normalization using Inverse Document Frequency (IDF)\n",
    "\n",
    "To normalize the occurrences of each cell type label Inverse Document Frequency was used. This approach takes the decadic logarithm of the number of training samples divided by the number of training samples containing the label.\n",
    "\n",
    "IDF<sub>t</sub> = log(n<sub>samples</sub>/n<sub>samples with t</sub>)\n",
    "\n",
    "The IDF is calculated for each sample label.\n",
    "\n",
    "Normalization was carried out on each sample individually and, in a sepreate analysis, on the sum of all occourences in all samples.\n",
    "\n",
    "Labels were obtained from the CELLO RNA seq training set file bulk_labels.json"
   ]
  },
  {
   "cell_type": "markdown",
   "metadata": {},
   "source": [
    "## Calculate IDF"
   ]
  },
  {
   "cell_type": "code",
   "execution_count": 38,
   "metadata": {},
   "outputs": [
    {
     "name": "stdout",
     "output_type": "stream",
     "text": [
      "                                     cell_type occourences       IDF\n",
      "0                                         cell        4293  0.000000\n",
      "1                         enteroendocrine cell         195  1.342726\n",
      "2                                  animal cell        4284  0.000911\n",
      "3                               endocrine cell         210  1.310542\n",
      "4                              eukaryotic cell        4293  0.000000\n",
      "..                                         ...         ...       ...\n",
      "312  neuron associated cell (sensu Vertebrata)           1  3.632761\n",
      "313                                Merkel cell           1  3.632761\n",
      "314                       epidermal melanocyte           1  3.632761\n",
      "315                      epithelial melanocyte           1  3.632761\n",
      "316                         melanocyte of skin           1  3.632761\n",
      "\n",
      "[317 rows x 3 columns]\n"
     ]
    }
   ],
   "source": [
    "import general_ontology_tools as got\n",
    "import json\n",
    "import pandas as pd\n",
    "import math\n",
    "\n",
    "# load Labels\n",
    "with open(data_dir / 'CellO_data/bulk_RNA_seq_training_set/bulk_labels.json', 'r') as f:\n",
    "    sample2cell_types_ids = json.load(f)\n",
    "\n",
    "def calculate_idf(n_occourences,len_df):\n",
    "    idf = math.log(len_df/n_occourences,10)\n",
    "    return idf    \n",
    "\n",
    "sample2types = {\n",
    "    sample: list(map(got.get_term_name, types_ids))\n",
    "    for sample, types_ids in sample2cell_types_ids.items()\n",
    "}\n",
    "\n",
    "\n",
    "IDF_df = pd.DataFrame.from_dict(sample2types,orient='index')\n",
    "IDF_df = IDF_df.transpose()\n",
    "\n",
    "\n",
    "\n",
    "# calculate IDF\n",
    "# create list of names\n",
    "counts = pd.DataFrame( columns=[\"cell_type\",\"occourences\",\"IDF\"])\n",
    "onto_list = []\n",
    "for col in IDF_df:\n",
    "    column = IDF_df[col]\n",
    "    for i in column:\n",
    "        if(i not in onto_list and i != None):\n",
    "            onto_list += [i]\n",
    "            \n",
    "\n",
    "for item in onto_list:\n",
    "    count = 0\n",
    "    for col in IDF_df:\n",
    "        column = IDF_df[col]\n",
    "        if(item in column.unique()):\n",
    "            count += 1\n",
    "    idf = calculate_idf(count,len(IDF_df.columns))\n",
    "    df_temp = pd.DataFrame([[item,count,idf]],columns=[\"cell_type\",\"occourences\",\"IDF\"])    \n",
    "    counts = counts.append(df_temp, ignore_index=True)\n",
    "# print IDF, n of occourences in all labels and cell type\n",
    "print(counts)\n",
    "\n"
   ]
  },
  {
   "cell_type": "markdown",
   "metadata": {},
   "source": [
    "## Normalize Data using IDF"
   ]
  },
  {
   "cell_type": "code",
   "execution_count": 39,
   "metadata": {},
   "outputs": [],
   "source": [
    "def get_idf(cell_type,df):\n",
    "    index = df.loc[df[\"cell_type\"] == cell_type]\n",
    "    return index[\"IDF\"].item()"
   ]
  },
  {
   "cell_type": "markdown",
   "metadata": {},
   "source": [
    "### Normalize all samples individually\n",
    "\n",
    "All sample predictions were loaded using the cell_types_y_predicted dataframe created above.\n",
    "For each sample all labels were iterated, the IDF for each sample was retrieved using get_idf. The total occourences in the n=10 nearest neighbours, stored in cell_types_y_predicted were normalized by multiplication with the IDF value of each label.\n",
    "\n",
    "The output is a normalized occourence for each sample, which can be found below."
   ]
  },
  {
   "cell_type": "code",
   "execution_count": 40,
   "metadata": {},
   "outputs": [],
   "source": [
    "#get labels for each sample \n",
    "cell_types_y_predicted_individual = cell_types_y_predicted\n",
    "for index, row in cell_types_y_predicted_individual.iterrows():\n",
    "   \n",
    "    for index1,item in row.iteritems():\n",
    "        \n",
    "        \n",
    "        \n",
    "        IDF = get_idf(index1, counts)\n",
    "        \n",
    "        # normalize values with TF-IDF\n",
    "        \n",
    "        row[index1] = row[index1]*IDF\n",
    "    \n",
    "    cell_types_y_predicted_individual.loc[index] = row\n",
    "\n",
    "    "
   ]
  },
  {
   "cell_type": "code",
   "execution_count": 41,
   "metadata": {},
   "outputs": [
    {
     "name": "stdout",
     "output_type": "stream",
     "text": [
      "Sample: 1\n",
      "non-terminally differentiated cell    9.996462\n",
      "osteoblast                            8.565597\n",
      "astrocyte                             6.653363\n",
      "macroglial cell                       6.424198\n",
      "connective tissue cell                6.303424\n",
      "bone cell                             6.143404\n",
      "pigment cell                          5.709219\n",
      "melanocyte                            5.709219\n",
      "glial cell (sensu Vertebrata)         5.110026\n",
      "glial cell                            5.110026\n",
      "neuron associated cell                5.094787\n",
      "neural cell                           4.302311\n",
      "precursor cell                        4.283933\n",
      "epithelial melanocyte                 3.632761\n",
      "epidermal melanocyte                  3.632761\n",
      "melanocyte of skin                    3.632761\n",
      "myoblast                              2.678518\n",
      "muscle precursor cell                 2.678518\n",
      "stuff accumulating cell               2.672191\n",
      "somatic cell                          0.198711\n",
      "animal cell                           0.008203\n",
      "Name: 0, dtype: float64\n",
      "---------------------------------------------------\n",
      "Sample: 2\n",
      "osteoblast                            21.413992\n",
      "non-terminally differentiated cell    19.992924\n",
      "connective tissue cell                15.758560\n",
      "bone cell                             15.358509\n",
      "precursor cell                         8.567866\n",
      "somatic cell                           0.198711\n",
      "animal cell                            0.009114\n",
      "Name: 1, dtype: float64\n",
      "---------------------------------------------------\n",
      "Sample: 3\n",
      "pigment cell                          5.709219\n",
      "melanocyte                            5.709219\n",
      "osteoblast                            4.282798\n",
      "non-terminally differentiated cell    3.998585\n",
      "melanocyte of skin                    3.632761\n",
      "epidermal melanocyte                  3.632761\n",
      "epithelial melanocyte                 3.632761\n",
      "vein endothelial cell                 3.613372\n",
      "endothelial cell of umbilical vein    3.613372\n",
      "endothelial cell of vascular tree     3.575326\n",
      "blood vessel endothelial cell         3.575326\n",
      "endothelial cell                      3.406684\n",
      "squamous epithelial cell              3.337946\n",
      "barrier cell                          3.310075\n",
      "lining cell                           3.310075\n",
      "connective tissue cell                3.151712\n",
      "bone cell                             3.071702\n",
      "meso-epithelial cell                  2.998444\n",
      "stuff accumulating cell               2.672191\n",
      "astrocyte                             2.217788\n",
      "macroglial cell                       2.141399\n",
      "precursor cell                        1.713573\n",
      "glial cell (sensu Vertebrata)         1.703342\n",
      "glial cell                            1.703342\n",
      "neuron associated cell                1.698262\n",
      "epithelial cell                       1.470268\n",
      "neural cell                           1.434104\n",
      "hematopoietic cell                    0.441970\n",
      "somatic cell                          0.198711\n",
      "animal cell                           0.009114\n",
      "Name: 2, dtype: float64\n",
      "---------------------------------------------------\n",
      "Sample: 4\n",
      "non-terminally differentiated cell    11.995755\n",
      "osteoblast                            10.706996\n",
      "astrocyte                              8.871150\n",
      "macroglial cell                        8.565597\n",
      "connective tissue cell                 7.879280\n",
      "bone cell                              7.679254\n",
      "glial cell (sensu Vertebrata)          6.813368\n",
      "glial cell                             6.813368\n",
      "neuron associated cell                 6.793050\n",
      "neural cell                            5.736415\n",
      "precursor cell                         5.140719\n",
      "myoblast                               2.678518\n",
      "muscle precursor cell                  2.678518\n",
      "somatic cell                           0.198711\n",
      "animal cell                            0.008203\n",
      "Name: 3, dtype: float64\n",
      "---------------------------------------------------\n",
      "Sample: 5\n",
      "connective tissue cell                12.606848\n",
      "skin fibroblast                        7.601469\n",
      "fibroblast of dermis                   7.601469\n",
      "fibroblast                             7.054117\n",
      "osteoblast                             6.424198\n",
      "non-terminally differentiated cell     5.997877\n",
      "melanocyte                             5.709219\n",
      "pigment cell                           5.709219\n",
      "bone cell                              4.607553\n",
      "melanocyte of skin                     3.632761\n",
      "epithelial melanocyte                  3.632761\n",
      "epidermal melanocyte                   3.632761\n",
      "central nervous system pericyte        3.030701\n",
      "brain pericyte                         3.030701\n",
      "pericyte cell                          2.787663\n",
      "stuff accumulating cell                2.672191\n",
      "precursor cell                         2.570360\n",
      "contractile cell                       2.553580\n",
      "supportive cell                        2.486633\n",
      "neural cell                            1.434104\n",
      "somatic cell                           0.198711\n",
      "animal cell                            0.009114\n",
      "Name: 4, dtype: float64\n",
      "---------------------------------------------------\n",
      "Sample: 6\n",
      "non-terminally differentiated cell    13.995047\n",
      "osteoblast                            10.706996\n",
      "connective tissue cell                 7.879280\n",
      "bone cell                              7.679254\n",
      "precursor cell                         5.997506\n",
      "muscle precursor cell                  5.357037\n",
      "myoblast                               5.357037\n",
      "astrocyte                              4.435575\n",
      "macroglial cell                        4.282798\n",
      "glial cell (sensu Vertebrata)          3.406684\n",
      "glial cell                             3.406684\n",
      "neuron associated cell                 3.396525\n",
      "neural cell                            2.868208\n",
      "hepatocyte                             2.009512\n",
      "endopolyploid cell                     2.009512\n",
      "polyploid cell                         2.009512\n",
      "metabolising cell                      2.009512\n",
      "epithelial cell                        0.735134\n",
      "somatic cell                           0.198711\n",
      "animal cell                            0.007291\n",
      "Name: 5, dtype: float64\n",
      "---------------------------------------------------\n",
      "Sample: 7\n",
      "non-terminally differentiated cell    15.994339\n",
      "osteoblast                            14.989794\n",
      "connective tissue cell                11.030992\n",
      "bone cell                             10.750956\n",
      "precursor cell                         6.854292\n",
      "astrocyte                              4.435575\n",
      "macroglial cell                        4.282798\n",
      "glial cell (sensu Vertebrata)          3.406684\n",
      "glial cell                             3.406684\n",
      "neuron associated cell                 3.396525\n",
      "neural cell                            2.868208\n",
      "myoblast                               2.678518\n",
      "muscle precursor cell                  2.678518\n",
      "somatic cell                           0.198711\n",
      "animal cell                            0.008203\n",
      "Name: 6, dtype: float64\n",
      "---------------------------------------------------\n",
      "Sample: 8\n",
      "non-terminally differentiated cell    13.995047\n",
      "osteoblast                            12.848395\n",
      "connective tissue cell                 9.455136\n",
      "bone cell                              9.215105\n",
      "precursor cell                         5.997506\n",
      "astrocyte                              4.435575\n",
      "macroglial cell                        4.282798\n",
      "glial cell (sensu Vertebrata)          3.406684\n",
      "glial cell                             3.406684\n",
      "neuron associated cell                 3.396525\n",
      "neural cell                            2.868208\n",
      "myoblast                               2.678518\n",
      "muscle precursor cell                  2.678518\n",
      "hepatocyte                             2.009512\n",
      "endopolyploid cell                     2.009512\n",
      "polyploid cell                         2.009512\n",
      "metabolising cell                      2.009512\n",
      "epithelial cell                        0.735134\n",
      "somatic cell                           0.198711\n",
      "animal cell                            0.008203\n",
      "Name: 7, dtype: float64\n",
      "---------------------------------------------------\n",
      "Sample: 9\n",
      "non-terminally differentiated cell    19.992924\n",
      "osteoblast                            19.272593\n",
      "connective tissue cell                14.182704\n",
      "bone cell                             13.822658\n",
      "precursor cell                         8.567866\n",
      "myoblast                               2.678518\n",
      "muscle precursor cell                  2.678518\n",
      "somatic cell                           0.198711\n",
      "animal cell                            0.008203\n",
      "Name: 8, dtype: float64\n",
      "---------------------------------------------------\n",
      "Sample: 10\n",
      "non-terminally differentiated cell    17.993632\n",
      "osteoblast                            14.989794\n",
      "connective tissue cell                11.030992\n",
      "bone cell                             10.750956\n",
      "precursor cell                         7.711079\n",
      "myoblast                               5.357037\n",
      "muscle precursor cell                  5.357037\n",
      "polyploid cell                         2.009512\n",
      "metabolising cell                      2.009512\n",
      "hepatocyte                             2.009512\n",
      "endopolyploid cell                     2.009512\n",
      "epithelial cell                        0.735134\n",
      "somatic cell                           0.198711\n",
      "animal cell                            0.007291\n",
      "Name: 9, dtype: float64\n",
      "---------------------------------------------------\n",
      "Sample: 11\n",
      "radial glial cell                            21.837367\n",
      "glial cell                                   13.626736\n",
      "glial cell (sensu Vertebrata)                13.626736\n",
      "neuron associated cell                       13.586099\n",
      "neural cell                                  12.906934\n",
      "common myeloid progenitor                     2.591368\n",
      "experimentally modified cell in vitro         1.970003\n",
      "cell in vitro                                 1.970003\n",
      "cultured cell                                 1.970003\n",
      "hematopoietic oligopotent progenitor cell     1.951520\n",
      "CNS neuron (sensu Vertebrata)                 1.861909\n",
      "electrically signaling cell                   1.806686\n",
      "neuron                                        1.806686\n",
      "central nervous system neuron                 1.806686\n",
      "electrically responsive cell                  1.775428\n",
      "electrically active cell                      1.775428\n",
      "hematopoietic precursor cell                  1.382341\n",
      "precursor cell                                0.856787\n",
      "blood cell                                    0.218456\n",
      "somatic cell                                  0.198711\n",
      "hematopoietic cell                            0.147323\n",
      "animal cell                                   0.009114\n",
      "Name: 10, dtype: float64\n",
      "---------------------------------------------------\n"
     ]
    }
   ],
   "source": [
    "i = 1\n",
    "for index, rowC in cell_types_y_predicted_individual.iterrows():\n",
    "    row1 = rowC[rowC.iloc[:]> 0]\n",
    "    row1 =row1.sort_values(ascending=False)\n",
    "    print(\"Sample: \"+str(i))\n",
    "    print(row1)\n",
    "    print(\"---------------------------------------------------\")\n",
    "    i = i+1\n"
   ]
  },
  {
   "cell_type": "markdown",
   "metadata": {},
   "source": [
    "### Normalize the sum of all samples\n",
    "\n",
    "All sample predictions were loaded using the cell_types_y_predicted dataframe created above.\n",
    "Label occourences of all samples were added. These added Label occourences were normalized using the IDF of each label.\n"
   ]
  },
  {
   "cell_type": "code",
   "execution_count": 42,
   "metadata": {},
   "outputs": [],
   "source": [
    "# apply TF-IDF for all samples as one\n",
    "\n",
    "labels = cell_types_y_predicted.sum()\n",
    "\n",
    "for index,item in labels.iteritems():\n",
    "    IDF = get_idf(index, counts)\n",
    "        \n",
    "        \n",
    "    #print(label,TF_IDF)\n",
    "    # normalize values with TF-IDF\n",
    "        \n",
    "    labels[index] = labels[index]*IDF\n"
   ]
  },
  {
   "cell_type": "code",
   "execution_count": 43,
   "metadata": {},
   "outputs": [
    {
     "name": "stdout",
     "output_type": "stream",
     "text": [
      "non-terminally differentiated cell           267.810406\n",
      "osteoblast                                   265.964250\n",
      "connective tissue cell                       156.449302\n",
      "bone cell                                    136.812599\n",
      "astrocyte                                     68.860142\n",
      "myoblast                                      64.570146\n",
      "muscle precursor cell                         64.570146\n",
      "macroglial cell                               64.198267\n",
      "glial cell (sensu Vertebrata)                 63.830225\n",
      "glial cell                                    63.830225\n",
      "neuron associated cell                        63.450097\n",
      "radial glial cell                             59.608826\n",
      "precursor cell                                49.917658\n",
      "neural cell                                   49.359689\n",
      "melanocyte                                    48.892777\n",
      "pigment cell                                  48.892777\n",
      "epidermal melanocyte                          39.590855\n",
      "epithelial melanocyte                         39.590855\n",
      "melanocyte of skin                            39.590855\n",
      "fibroblast of dermis                          14.445581\n",
      "skin fibroblast                               14.445581\n",
      "fibroblast                                    12.440141\n",
      "hepatocyte                                    12.114411\n",
      "metabolising cell                             12.114411\n",
      "endopolyploid cell                            12.114411\n",
      "polyploid cell                                12.114411\n",
      "stuff accumulating cell                       10.710910\n",
      "central nervous system pericyte                9.185148\n",
      "brain pericyte                                 9.185148\n",
      "pericyte cell                                  7.771064\n",
      "common myeloid progenitor                      6.715189\n",
      "endothelial cell of umbilical vein             6.528229\n",
      "vein endothelial cell                          6.528229\n",
      "contractile cell                               6.520769\n",
      "endothelial cell of vascular tree              6.391477\n",
      "blood vessel endothelial cell                  6.391477\n",
      "supportive cell                                6.183343\n",
      "endothelial cell                               5.802748\n",
      "squamous epithelial cell                       5.570942\n",
      "lining cell                                    5.478297\n",
      "barrier cell                                   5.478297\n",
      "meso-epithelial cell                           4.495333\n",
      "experimentally modified cell in vitro          3.880912\n",
      "cell in vitro                                  3.880912\n",
      "cultured cell                                  3.880912\n",
      "hematopoietic oligopotent progenitor cell      3.808429\n",
      "CNS neuron (sensu Vertebrata)                  3.466705\n",
      "central nervous system neuron                  3.264115\n",
      "neuron                                         3.264115\n",
      "electrically signaling cell                    3.264115\n",
      "electrically active cell                       3.152146\n",
      "electrically responsive cell                   3.152146\n",
      "epithelial cell                                2.702108\n",
      "hematopoietic precursor cell                   1.910866\n",
      "hematopoietic cell                             0.086817\n",
      "blood cell                                     0.047723\n",
      "somatic cell                                   0.043435\n",
      "animal cell                                    0.000084\n",
      "dtype: float64\n"
     ]
    }
   ],
   "source": [
    "labels1 = labels[labels.iloc[:]> 0]\n",
    "labels1 = labels1.sort_values(ascending=False)\n",
    "print(labels1)"
   ]
  },
  {
   "cell_type": "code",
   "execution_count": null,
   "metadata": {},
   "outputs": [],
   "source": []
  }
 ],
 "metadata": {
  "kernelspec": {
   "display_name": "Python 3",
   "language": "python",
   "name": "python3"
  },
  "language_info": {
   "codemirror_mode": {
    "name": "ipython",
    "version": 3
   },
   "file_extension": ".py",
   "mimetype": "text/x-python",
   "name": "python",
   "nbconvert_exporter": "python",
   "pygments_lexer": "ipython3",
   "version": "3.8.5"
  },
  "widgets": {
   "application/vnd.jupyter.widget-state+json": {
    "state": {},
    "version_major": 2,
    "version_minor": 0
   }
  }
 },
 "nbformat": 4,
 "nbformat_minor": 4
}
