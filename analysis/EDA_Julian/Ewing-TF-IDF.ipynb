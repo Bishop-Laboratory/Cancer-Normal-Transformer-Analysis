{
 "cells": [
  {
   "cell_type": "code",
   "execution_count": 1,
   "metadata": {},
   "outputs": [],
   "source": [
    "import pandas as pd\n",
    "from pathlib import Path\n",
    "import seaborn as sns\n",
    "import matplotlib.pyplot as plt\n",
    "import scipy\n",
    "import random"
   ]
  },
  {
   "cell_type": "code",
   "execution_count": 2,
   "metadata": {},
   "outputs": [],
   "source": [
    "data_dir = Path('data')\n"
   ]
  },
  {
   "cell_type": "markdown",
   "metadata": {},
   "source": [
    "## Loading Prepared data"
   ]
  },
  {
   "cell_type": "code",
   "execution_count": 3,
   "metadata": {},
   "outputs": [],
   "source": [
    "ewing_df = pd.read_csv(data_dir / 'Ewing_cell_lines/Ewing_NT_cell_lines.csv', index_col=0)\n",
    "train_Y_df = pd.read_csv(data_dir / 'mat4-CellO_train-ewing_genes.csv', index_col=0)"
   ]
  },
  {
   "cell_type": "code",
   "execution_count": 4,
   "metadata": {},
   "outputs": [],
   "source": [
    "Z_df = pd.read_csv(data_dir / 'plierResult-cello_train/Z.csv')\n",
    "Z_df = Z_df[Z_df.index.isin(ewing_df.columns)]\n",
    "Z_mat = Z_df.values"
   ]
  },
  {
   "cell_type": "code",
   "execution_count": 5,
   "metadata": {},
   "outputs": [],
   "source": [
    "# sorting columns according to Z\n",
    "train_Y_df = train_Y_df[Z_df.index]\n",
    "ewing_df = ewing_df[Z_df.index]"
   ]
  },
  {
   "cell_type": "code",
   "execution_count": 6,
   "metadata": {},
   "outputs": [],
   "source": [
    "assert (train_Y_df.columns != ewing_df.columns).sum() == 0\n",
    "assert (train_Y_df.columns != Z_df.index).sum() == 0"
   ]
  },
  {
   "cell_type": "markdown",
   "metadata": {},
   "source": [
    "### Normalization"
   ]
  },
  {
   "cell_type": "code",
   "execution_count": 7,
   "metadata": {},
   "outputs": [],
   "source": [
    "# computing normalization values on train dataset\n",
    "per_gene_mean = train_Y_df.mean().values\n",
    "per_gene_std = train_Y_df.std().values\n",
    "\n",
    "train_y_vectors = (train_Y_df.values - per_gene_mean) / per_gene_std\n",
    "test_y_vectors = (ewing_df.values - per_gene_mean) / per_gene_std"
   ]
  },
  {
   "cell_type": "markdown",
   "metadata": {},
   "source": [
    "### Using regression to find the B that will produce vectors close to test Y"
   ]
  },
  {
   "cell_type": "code",
   "execution_count": 8,
   "metadata": {},
   "outputs": [],
   "source": [
    "from numpy.linalg import inv"
   ]
  },
  {
   "cell_type": "code",
   "execution_count": 9,
   "metadata": {},
   "outputs": [
    {
     "data": {
      "text/plain": [
       "(512, 11)"
      ]
     },
     "execution_count": 9,
     "metadata": {},
     "output_type": "execute_result"
    }
   ],
   "source": [
    "X = Z_mat\n",
    "\n",
    "# linear least squares\n",
    "# check this for more details: https://machinelearningmastery.com/solve-linear-regression-using-linear-algebra/\n",
    "b_test = inv(X.T.dot(X)).dot(X.T).dot(test_y_vectors.T)\n",
    "b_test.shape"
   ]
  },
  {
   "cell_type": "code",
   "execution_count": 10,
   "metadata": {},
   "outputs": [],
   "source": [
    "y_test_hat = Z_mat.dot(b_test).transpose()"
   ]
  },
  {
   "cell_type": "code",
   "execution_count": 11,
   "metadata": {},
   "outputs": [
    {
     "data": {
      "text/plain": [
       "(11, 5775)"
      ]
     },
     "execution_count": 11,
     "metadata": {},
     "output_type": "execute_result"
    }
   ],
   "source": [
    "y_test_hat.shape"
   ]
  },
  {
   "cell_type": "code",
   "execution_count": 12,
   "metadata": {},
   "outputs": [],
   "source": [
    "def pearson_dists(vectors_a, vectors_b):\n",
    "    vectors_pairs = zip(vectors_a, vectors_b)\n",
    "    return [scipy.spatial.distance.correlation(a, b) for a, b in vectors_pairs]"
   ]
  },
  {
   "cell_type": "code",
   "execution_count": 13,
   "metadata": {},
   "outputs": [],
   "source": [
    "y2y_hat_dists = pearson_dists(test_y_vectors, y_test_hat)\n",
    "y2y_random_dists = pearson_dists(\n",
    "    test_y_vectors, \n",
    "    random.sample(test_y_vectors.tolist(), len(test_y_vectors))\n",
    ")"
   ]
  },
  {
   "cell_type": "code",
   "execution_count": 14,
   "metadata": {},
   "outputs": [
    {
     "data": {
      "text/plain": [
       "<seaborn.axisgrid.FacetGrid at 0x1a7f34ef910>"
      ]
     },
     "execution_count": 14,
     "metadata": {},
     "output_type": "execute_result"
    },
    {
     "data": {
      "image/png": "[encoded data removed]",
      "text/plain": [
       "<Figure size 502.875x360 with 1 Axes>"
      ]
     },
     "metadata": {
      "needs_background": "light"
     },
     "output_type": "display_data"
    }
   ],
   "source": [
    "dists_df = pd.DataFrame({\n",
    "    'y_real-y_hat': y2y_hat_dists,\n",
    "    'y_real-y_real_random': y2y_random_dists\n",
    "})\n",
    "\n",
    "sns.displot(\n",
    "    data=pd.melt(dists_df, value_vars=dists_df.columns), \n",
    "    x='value', hue='variable', kind='kde')"
   ]
  },
  {
   "cell_type": "markdown",
   "metadata": {},
   "source": [
    "## Validating embeddings"
   ]
  },
  {
   "cell_type": "code",
   "execution_count": 15,
   "metadata": {},
   "outputs": [],
   "source": [
    "import sys\n",
    "sys.path.append('../../onto_lib')"
   ]
  },
  {
   "cell_type": "code",
   "execution_count": 16,
   "metadata": {},
   "outputs": [
    {
     "name": "stdout",
     "output_type": "stream",
     "text": [
      "Requirement already satisfied: anndata in c:\\users\\julia\\anaconda3\\lib\\site-packages (0.7.6)\n",
      "Requirement already satisfied: packaging>=20 in c:\\users\\julia\\anaconda3\\lib\\site-packages (from anndata) (20.4)\n",
      "Requirement already satisfied: pandas>=1.1.1 in c:\\users\\julia\\anaconda3\\lib\\site-packages (from anndata) (1.1.3)\n",
      "Requirement already satisfied: h5py in c:\\users\\julia\\anaconda3\\lib\\site-packages (from anndata) (2.10.0)\n",
      "Requirement already satisfied: xlrd<2.0 in c:\\users\\julia\\anaconda3\\lib\\site-packages (from anndata) (1.2.0)\n",
      "Requirement already satisfied: natsort in c:\\users\\julia\\anaconda3\\lib\\site-packages (from anndata) (7.1.1)\n",
      "Requirement already satisfied: numpy>=1.16.5 in c:\\users\\julia\\anaconda3\\lib\\site-packages (from anndata) (1.19.2)\n",
      "Requirement already satisfied: scipy>1.4 in c:\\users\\julia\\anaconda3\\lib\\site-packages (from anndata) (1.5.2)\n",
      "Requirement already satisfied: pyparsing>=2.0.2 in c:\\users\\julia\\anaconda3\\lib\\site-packages (from packaging>=20->anndata) (2.4.7)\n",
      "Requirement already satisfied: six in c:\\users\\julia\\anaconda3\\lib\\site-packages (from packaging>=20->anndata) (1.15.0)\n",
      "Requirement already satisfied: python-dateutil>=2.7.3 in c:\\users\\julia\\anaconda3\\lib\\site-packages (from pandas>=1.1.1->anndata) (2.8.1)\n",
      "Requirement already satisfied: pytz>=2017.2 in c:\\users\\julia\\anaconda3\\lib\\site-packages (from pandas>=1.1.1->anndata) (2020.1)\n",
      "Requirement already satisfied: scanpy in c:\\users\\julia\\anaconda3\\lib\\site-packages (1.7.2)\n",
      "Requirement already satisfied: umap-learn>=0.3.10 in c:\\users\\julia\\anaconda3\\lib\\site-packages (from scanpy) (0.5.1)\n",
      "Requirement already satisfied: networkx>=2.3 in c:\\users\\julia\\anaconda3\\lib\\site-packages (from scanpy) (2.5)\n",
      "Requirement already satisfied: packaging in c:\\users\\julia\\anaconda3\\lib\\site-packages (from scanpy) (20.4)\n",
      "Requirement already satisfied: numba>=0.41.0 in c:\\users\\julia\\anaconda3\\lib\\site-packages (from scanpy) (0.51.2)\n",
      "Requirement already satisfied: tqdm in c:\\users\\julia\\anaconda3\\lib\\site-packages (from scanpy) (4.50.2)\n",
      "Requirement already satisfied: joblib in c:\\users\\julia\\anaconda3\\lib\\site-packages (from scanpy) (0.17.0)\n",
      "Requirement already satisfied: statsmodels>=0.10.0rc2 in c:\\users\\julia\\anaconda3\\lib\\site-packages (from scanpy) (0.12.0)\n",
      "Requirement already satisfied: scipy>=1.4 in c:\\users\\julia\\anaconda3\\lib\\site-packages (from scanpy) (1.5.2)\n",
      "Requirement already satisfied: anndata>=0.7.4 in c:\\users\\julia\\anaconda3\\lib\\site-packages (from scanpy) (0.7.6)\n",
      "Requirement already satisfied: h5py>=2.10.0 in c:\\users\\julia\\anaconda3\\lib\\site-packages (from scanpy) (2.10.0)\n",
      "Requirement already satisfied: natsort in c:\\users\\julia\\anaconda3\\lib\\site-packages (from scanpy) (7.1.1)\n",
      "Requirement already satisfied: numpy>=1.17.0 in c:\\users\\julia\\anaconda3\\lib\\site-packages (from scanpy) (1.19.2)\n",
      "Requirement already satisfied: scikit-learn>=0.21.2 in c:\\users\\julia\\anaconda3\\lib\\site-packages (from scanpy) (0.23.2)\n",
      "Requirement already satisfied: tables in c:\\users\\julia\\anaconda3\\lib\\site-packages (from scanpy) (3.6.1)\n",
      "Requirement already satisfied: patsy in c:\\users\\julia\\anaconda3\\lib\\site-packages (from scanpy) (0.5.1)\n",
      "Requirement already satisfied: pandas>=0.21 in c:\\users\\julia\\anaconda3\\lib\\site-packages (from scanpy) (1.1.3)\n",
      "Requirement already satisfied: sinfo in c:\\users\\julia\\anaconda3\\lib\\site-packages (from scanpy) (0.3.1)\n",
      "Requirement already satisfied: seaborn in c:\\users\\julia\\anaconda3\\lib\\site-packages (from scanpy) (0.11.0)\n",
      "Requirement already satisfied: matplotlib>=3.1.2 in c:\\users\\julia\\anaconda3\\lib\\site-packages (from scanpy) (3.3.2)\n",
      "Requirement already satisfied: legacy-api-wrap in c:\\users\\julia\\anaconda3\\lib\\site-packages (from scanpy) (1.2)\n",
      "Requirement already satisfied: pynndescent>=0.5 in c:\\users\\julia\\anaconda3\\lib\\site-packages (from umap-learn>=0.3.10->scanpy) (0.5.2)\n",
      "Requirement already satisfied: decorator>=4.3.0 in c:\\users\\julia\\anaconda3\\lib\\site-packages (from networkx>=2.3->scanpy) (4.4.2)\n",
      "Requirement already satisfied: six in c:\\users\\julia\\anaconda3\\lib\\site-packages (from packaging->scanpy) (1.15.0)\n",
      "Requirement already satisfied: pyparsing>=2.0.2 in c:\\users\\julia\\anaconda3\\lib\\site-packages (from packaging->scanpy) (2.4.7)\n",
      "Requirement already satisfied: llvmlite<0.35,>=0.34.0.dev0 in c:\\users\\julia\\anaconda3\\lib\\site-packages (from numba>=0.41.0->scanpy) (0.34.0)\n",
      "Requirement already satisfied: setuptools in c:\\users\\julia\\anaconda3\\lib\\site-packages (from numba>=0.41.0->scanpy) (50.3.1.post20201107)\n",
      "Requirement already satisfied: xlrd<2.0 in c:\\users\\julia\\anaconda3\\lib\\site-packages (from anndata>=0.7.4->scanpy) (1.2.0)\n",
      "Requirement already satisfied: threadpoolctl>=2.0.0 in c:\\users\\julia\\anaconda3\\lib\\site-packages (from scikit-learn>=0.21.2->scanpy) (2.1.0)\n",
      "Requirement already satisfied: numexpr>=2.6.2 in c:\\users\\julia\\anaconda3\\lib\\site-packages (from tables->scanpy) (2.7.1)\n",
      "Requirement already satisfied: pytz>=2017.2 in c:\\users\\julia\\anaconda3\\lib\\site-packages (from pandas>=0.21->scanpy) (2020.1)\n",
      "Requirement already satisfied: python-dateutil>=2.7.3 in c:\\users\\julia\\anaconda3\\lib\\site-packages (from pandas>=0.21->scanpy) (2.8.1)\n",
      "Requirement already satisfied: stdlib-list in c:\\users\\julia\\anaconda3\\lib\\site-packages (from sinfo->scanpy) (0.8.0)\n",
      "Requirement already satisfied: certifi>=2020.06.20 in c:\\users\\julia\\anaconda3\\lib\\site-packages (from matplotlib>=3.1.2->scanpy) (2020.6.20)\n",
      "Requirement already satisfied: pillow>=6.2.0 in c:\\users\\julia\\anaconda3\\lib\\site-packages (from matplotlib>=3.1.2->scanpy) (8.0.1)\n",
      "Requirement already satisfied: kiwisolver>=1.0.1 in c:\\users\\julia\\anaconda3\\lib\\site-packages (from matplotlib>=3.1.2->scanpy) (1.3.0)\n",
      "Requirement already satisfied: cycler>=0.10 in c:\\users\\julia\\anaconda3\\lib\\site-packages (from matplotlib>=3.1.2->scanpy) (0.10.0)\n",
      "Requirement already satisfied: get-version>=2.0.4 in c:\\users\\julia\\anaconda3\\lib\\site-packages (from legacy-api-wrap->scanpy) (2.2)\n"
     ]
    }
   ],
   "source": [
    "import sys\n",
    "!{sys.executable} -m pip install anndata\n",
    "!{sys.executable} -m pip install scanpy"
   ]
  },
  {
   "cell_type": "code",
   "execution_count": 17,
   "metadata": {},
   "outputs": [
    {
     "name": "stdout",
     "output_type": "stream",
     "text": [
      "Unable to import pygraphviz. Visualization is disabled.\n",
      "Loading ontology from C:\\Users\\julia\\Desktop\\cancer-normal-transformer-main\\obo\\DOID.17-01-30.obo ...\n",
      "Loading ontology from C:\\Users\\julia\\Desktop\\cancer-normal-transformer-main\\obo\\UBERON.17-01-30.obo ...\n",
      "Loading ontology from C:\\Users\\julia\\Desktop\\cancer-normal-transformer-main\\obo\\CL.18-11-13.obo ...\n",
      "Loading ontology from C:\\Users\\julia\\Desktop\\cancer-normal-transformer-main\\obo\\CVCL.17-01-30.obo ...\n",
      "Loading ontology from C:\\Users\\julia\\Desktop\\cancer-normal-transformer-main\\obo\\EFO.17-01-30.obo ...\n"
     ]
    }
   ],
   "source": [
    "from anndata import AnnData\n",
    "import json\n",
    "import scanpy as sc\n",
    "import general_ontology_tools as got"
   ]
  },
  {
   "cell_type": "code",
   "execution_count": 18,
   "metadata": {},
   "outputs": [],
   "source": [
    "with open(data_dir / 'CellO_data/bulk_RNA_seq_training_set/bulk_labels.json', 'r') as f:\n",
    "    sample2cell_types_ids = json.load(f)"
   ]
  },
  {
   "cell_type": "code",
   "execution_count": 19,
   "metadata": {},
   "outputs": [],
   "source": [
    "sample2types = {\n",
    "    sample: list(map(got.get_term_name, types_ids))\n",
    "    for sample, types_ids in sample2cell_types_ids.items()\n",
    "}"
   ]
  },
  {
   "cell_type": "code",
   "execution_count": 20,
   "metadata": {},
   "outputs": [],
   "source": [
    "test_b_vectors = b_test.T\n",
    "test_samples = ewing_df.index.values"
   ]
  },
  {
   "cell_type": "code",
   "execution_count": 21,
   "metadata": {},
   "outputs": [
    {
     "data": {
      "text/plain": [
       "(3609, 512)"
      ]
     },
     "execution_count": 21,
     "metadata": {},
     "output_type": "execute_result"
    }
   ],
   "source": [
    "B_df = pd.read_csv(data_dir / 'plierResult-cello_train/B.csv').transpose()\n",
    "B_df.shape"
   ]
  },
  {
   "cell_type": "code",
   "execution_count": 22,
   "metadata": {},
   "outputs": [
    {
     "data": {
      "text/plain": [
       "(11, 512)"
      ]
     },
     "execution_count": 22,
     "metadata": {},
     "output_type": "execute_result"
    }
   ],
   "source": [
    "b_test_df = pd.DataFrame(test_b_vectors)\n",
    "b_test_df.index = test_samples\n",
    "b_test_df.columns = B_df.columns\n",
    "b_test_df.shape"
   ]
  },
  {
   "cell_type": "code",
   "execution_count": 23,
   "metadata": {},
   "outputs": [
    {
     "data": {
      "text/plain": [
       "(3620, 512)"
      ]
     },
     "execution_count": 23,
     "metadata": {},
     "output_type": "execute_result"
    }
   ],
   "source": [
    "B_full = pd.concat([B_df, b_test_df])\n",
    "B_full.shape"
   ]
  },
  {
   "cell_type": "code",
   "execution_count": 24,
   "metadata": {},
   "outputs": [],
   "source": [
    "from sklearn.preprocessing import MultiLabelBinarizer\n",
    "\n",
    "mlb = MultiLabelBinarizer()\n",
    "types_per_b_samples = B_df.index.map(sample2types).values\n",
    "\n",
    "train_dummies = pd.DataFrame(mlb.fit_transform(types_per_b_samples), columns=mlb.classes_, index=B_df.index)"
   ]
  },
  {
   "cell_type": "code",
   "execution_count": 25,
   "metadata": {},
   "outputs": [],
   "source": [
    "types_dummies = pd.concat([train_dummies, b_test_df])[train_dummies.columns]"
   ]
  },
  {
   "cell_type": "code",
   "execution_count": 26,
   "metadata": {},
   "outputs": [],
   "source": [
    "test_mask = B_full.index.isin(test_samples)\n",
    "train_mask = ~test_mask"
   ]
  },
  {
   "cell_type": "code",
   "execution_count": 27,
   "metadata": {},
   "outputs": [],
   "source": [
    "ad = AnnData(B_full)"
   ]
  },
  {
   "cell_type": "code",
   "execution_count": 28,
   "metadata": {},
   "outputs": [],
   "source": [
    "sc.pp.neighbors(ad, use_rep='X', n_neighbors=30)\n",
    "sc.tl.umap(ad)"
   ]
  },
  {
   "cell_type": "code",
   "execution_count": 29,
   "metadata": {},
   "outputs": [],
   "source": [
    "def as_category(data):\n",
    "    return pd.Series(data).astype('category').values\n",
    "\n",
    "# Add cell type annotations to AnnData object\n",
    "for ct in types_dummies.columns:\n",
    "    dummy_mask = types_dummies[ct] == 1\n",
    "    ct_values = types_dummies[ct].copy()\n",
    "    ct_values[~dummy_mask] = None\n",
    "    ct_values[dummy_mask & train_mask] = 'train'\n",
    "    ct_values[test_mask] = 'test'\n",
    "    \n",
    "    ad.obs[ct] = as_category(ct_values)    \n",
    "    ad.obs[ct + ' - train'] = as_category(dummy_mask & ~test_mask)\n",
    "\n",
    "ad.obs['test_sample'] = as_category(test_mask)"
   ]
  },
  {
   "cell_type": "code",
   "execution_count": 30,
   "metadata": {},
   "outputs": [
    {
     "data": {
      "image/png": "[encoded data removed]",
      "text/plain": [
       "<Figure size 800x600 with 1 Axes>"
      ]
     },
     "metadata": {},
     "output_type": "display_data"
    }
   ],
   "source": [
    "sc.set_figure_params(dpi=100)\n",
    "plt.rcParams['figure.figsize'] = (8, 6)\n",
    "\n",
    "for ctype in ['precursor cell']:\n",
    "    sc.pl.umap(ad, color=ctype, size=5, groups=['test', 'train'])"
   ]
  },
  {
   "cell_type": "markdown",
   "metadata": {},
   "source": [
    "## Classification"
   ]
  },
  {
   "cell_type": "code",
   "execution_count": 31,
   "metadata": {},
   "outputs": [],
   "source": [
    "from sklearn.metrics import precision_score, recall_score\n",
    "\n",
    "def get_pearson_dists(vectors_a, vectors_b):\n",
    "    vectors_pairs = zip(vectors_a, vectors_b)\n",
    "    return [scipy.spatial.distance.correlation(a, b) for a, b in vectors_pairs]\n",
    "\n",
    "def get_pearson_dists_mat(vectors_a, vectors_b):\n",
    "    return np.array([\n",
    "        # repeat the A vector for each B vector\n",
    "        get_pearson_dists(np.array(vector_a[np.newaxis, :]).repeat(len(vectors_b), axis=0), vectors_b)\n",
    "        for vector_a in vectors_a\n",
    "    ])"
   ]
  },
  {
   "cell_type": "code",
   "execution_count": 32,
   "metadata": {},
   "outputs": [
    {
     "data": {
      "text/plain": [
       "(3609, 512)"
      ]
     },
     "execution_count": 32,
     "metadata": {},
     "output_type": "execute_result"
    }
   ],
   "source": [
    "B_mat = B_df.values\n",
    "B_mat.shape"
   ]
  },
  {
   "cell_type": "code",
   "execution_count": 33,
   "metadata": {},
   "outputs": [],
   "source": [
    "import numpy as np\n",
    "train_samples = train_Y_df.index.values"
   ]
  },
  {
   "cell_type": "code",
   "execution_count": 34,
   "metadata": {},
   "outputs": [
    {
     "data": {
      "text/plain": [
       "(3609, 11)"
      ]
     },
     "execution_count": 34,
     "metadata": {},
     "output_type": "execute_result"
    }
   ],
   "source": [
    "pearson_dists = get_pearson_dists_mat(B_mat, b_test.T)\n",
    "pearson_dists.shape"
   ]
  },
  {
   "cell_type": "code",
   "execution_count": 35,
   "metadata": {},
   "outputs": [],
   "source": [
    "# distances is a n_test X n_train matrix\n",
    "# with columns for test items and rows for train items\n",
    "dists_df = pd.DataFrame(pearson_dists)\n",
    "dists_df.columns = test_samples\n",
    "dists_df.index = train_samples"
   ]
  },
  {
   "cell_type": "code",
   "execution_count": 36,
   "metadata": {},
   "outputs": [
    {
     "data": {
      "text/html": [
       "<div>\n",
       "<style scoped>\n",
       "    .dataframe tbody tr th:only-of-type {\n",
       "        vertical-align: middle;\n",
       "    }\n",
       "\n",
       "    .dataframe tbody tr th {\n",
       "        vertical-align: top;\n",
       "    }\n",
       "\n",
       "    .dataframe thead th {\n",
       "        text-align: right;\n",
       "    }\n",
       "</style>\n",
       "<table border=\"1\" class=\"dataframe\">\n",
       "  <thead>\n",
       "    <tr style=\"text-align: right;\">\n",
       "      <th></th>\n",
       "      <th>SRX1025875</th>\n",
       "      <th>SRX1025870</th>\n",
       "      <th>SRX1025865</th>\n",
       "      <th>SRX4587813</th>\n",
       "      <th>SRX1025860</th>\n",
       "      <th>SRX4587810</th>\n",
       "      <th>SRX4587809</th>\n",
       "      <th>SRX4587814</th>\n",
       "      <th>SRX4587812</th>\n",
       "      <th>SRX4587811</th>\n",
       "      <th>SRX3183024</th>\n",
       "    </tr>\n",
       "  </thead>\n",
       "  <tbody>\n",
       "    <tr>\n",
       "      <th>SRX890545</th>\n",
       "      <td>1.123341</td>\n",
       "      <td>1.093080</td>\n",
       "      <td>1.149312</td>\n",
       "      <td>1.176287</td>\n",
       "      <td>1.130003</td>\n",
       "      <td>1.162682</td>\n",
       "      <td>1.179348</td>\n",
       "      <td>1.172930</td>\n",
       "      <td>1.176636</td>\n",
       "      <td>1.174408</td>\n",
       "      <td>1.153624</td>\n",
       "    </tr>\n",
       "    <tr>\n",
       "      <th>SRX1067711</th>\n",
       "      <td>1.095372</td>\n",
       "      <td>1.070512</td>\n",
       "      <td>1.092030</td>\n",
       "      <td>1.146400</td>\n",
       "      <td>1.091306</td>\n",
       "      <td>1.145884</td>\n",
       "      <td>1.151763</td>\n",
       "      <td>1.151244</td>\n",
       "      <td>1.151614</td>\n",
       "      <td>1.149509</td>\n",
       "      <td>1.162105</td>\n",
       "    </tr>\n",
       "    <tr>\n",
       "      <th>SRX1067710</th>\n",
       "      <td>1.092076</td>\n",
       "      <td>1.068337</td>\n",
       "      <td>1.071123</td>\n",
       "      <td>1.117138</td>\n",
       "      <td>1.075141</td>\n",
       "      <td>1.121766</td>\n",
       "      <td>1.123312</td>\n",
       "      <td>1.127038</td>\n",
       "      <td>1.127990</td>\n",
       "      <td>1.127672</td>\n",
       "      <td>1.134322</td>\n",
       "    </tr>\n",
       "    <tr>\n",
       "      <th>SRX762971</th>\n",
       "      <td>1.189891</td>\n",
       "      <td>1.112461</td>\n",
       "      <td>1.152034</td>\n",
       "      <td>1.275148</td>\n",
       "      <td>1.137693</td>\n",
       "      <td>1.302435</td>\n",
       "      <td>1.271560</td>\n",
       "      <td>1.293856</td>\n",
       "      <td>1.280613</td>\n",
       "      <td>1.295817</td>\n",
       "      <td>1.232885</td>\n",
       "    </tr>\n",
       "    <tr>\n",
       "      <th>SRX762970</th>\n",
       "      <td>1.168876</td>\n",
       "      <td>1.119433</td>\n",
       "      <td>1.144632</td>\n",
       "      <td>1.230069</td>\n",
       "      <td>1.148199</td>\n",
       "      <td>1.257260</td>\n",
       "      <td>1.230887</td>\n",
       "      <td>1.249439</td>\n",
       "      <td>1.237513</td>\n",
       "      <td>1.251924</td>\n",
       "      <td>1.192815</td>\n",
       "    </tr>\n",
       "    <tr>\n",
       "      <th>...</th>\n",
       "      <td>...</td>\n",
       "      <td>...</td>\n",
       "      <td>...</td>\n",
       "      <td>...</td>\n",
       "      <td>...</td>\n",
       "      <td>...</td>\n",
       "      <td>...</td>\n",
       "      <td>...</td>\n",
       "      <td>...</td>\n",
       "      <td>...</td>\n",
       "      <td>...</td>\n",
       "    </tr>\n",
       "    <tr>\n",
       "      <th>SRX3399308</th>\n",
       "      <td>1.161585</td>\n",
       "      <td>1.160889</td>\n",
       "      <td>1.164010</td>\n",
       "      <td>1.175520</td>\n",
       "      <td>1.164991</td>\n",
       "      <td>1.155323</td>\n",
       "      <td>1.172775</td>\n",
       "      <td>1.173294</td>\n",
       "      <td>1.173528</td>\n",
       "      <td>1.166850</td>\n",
       "      <td>1.002303</td>\n",
       "    </tr>\n",
       "    <tr>\n",
       "      <th>SRX3399309</th>\n",
       "      <td>1.153807</td>\n",
       "      <td>1.136562</td>\n",
       "      <td>1.158399</td>\n",
       "      <td>1.142142</td>\n",
       "      <td>1.166722</td>\n",
       "      <td>1.135918</td>\n",
       "      <td>1.137730</td>\n",
       "      <td>1.144402</td>\n",
       "      <td>1.139293</td>\n",
       "      <td>1.139152</td>\n",
       "      <td>1.000138</td>\n",
       "    </tr>\n",
       "    <tr>\n",
       "      <th>SRX3399310</th>\n",
       "      <td>1.128456</td>\n",
       "      <td>1.138202</td>\n",
       "      <td>1.147428</td>\n",
       "      <td>1.123640</td>\n",
       "      <td>1.136540</td>\n",
       "      <td>1.098468</td>\n",
       "      <td>1.118481</td>\n",
       "      <td>1.116609</td>\n",
       "      <td>1.120599</td>\n",
       "      <td>1.113357</td>\n",
       "      <td>0.982749</td>\n",
       "    </tr>\n",
       "    <tr>\n",
       "      <th>SRX3399311</th>\n",
       "      <td>1.190447</td>\n",
       "      <td>1.191499</td>\n",
       "      <td>1.198184</td>\n",
       "      <td>1.168041</td>\n",
       "      <td>1.187077</td>\n",
       "      <td>1.159714</td>\n",
       "      <td>1.172222</td>\n",
       "      <td>1.173133</td>\n",
       "      <td>1.170796</td>\n",
       "      <td>1.171192</td>\n",
       "      <td>1.038376</td>\n",
       "    </tr>\n",
       "    <tr>\n",
       "      <th>SRX3399312</th>\n",
       "      <td>1.166035</td>\n",
       "      <td>1.177069</td>\n",
       "      <td>1.173586</td>\n",
       "      <td>1.137848</td>\n",
       "      <td>1.171596</td>\n",
       "      <td>1.119125</td>\n",
       "      <td>1.141943</td>\n",
       "      <td>1.137845</td>\n",
       "      <td>1.137001</td>\n",
       "      <td>1.135250</td>\n",
       "      <td>0.990564</td>\n",
       "    </tr>\n",
       "  </tbody>\n",
       "</table>\n",
       "<p>3609 rows × 11 columns</p>\n",
       "</div>"
      ],
      "text/plain": [
       "            SRX1025875  SRX1025870  SRX1025865  SRX4587813  SRX1025860  \\\n",
       "SRX890545     1.123341    1.093080    1.149312    1.176287    1.130003   \n",
       "SRX1067711    1.095372    1.070512    1.092030    1.146400    1.091306   \n",
       "SRX1067710    1.092076    1.068337    1.071123    1.117138    1.075141   \n",
       "SRX762971     1.189891    1.112461    1.152034    1.275148    1.137693   \n",
       "SRX762970     1.168876    1.119433    1.144632    1.230069    1.148199   \n",
       "...                ...         ...         ...         ...         ...   \n",
       "SRX3399308    1.161585    1.160889    1.164010    1.175520    1.164991   \n",
       "SRX3399309    1.153807    1.136562    1.158399    1.142142    1.166722   \n",
       "SRX3399310    1.128456    1.138202    1.147428    1.123640    1.136540   \n",
       "SRX3399311    1.190447    1.191499    1.198184    1.168041    1.187077   \n",
       "SRX3399312    1.166035    1.177069    1.173586    1.137848    1.171596   \n",
       "\n",
       "            SRX4587810  SRX4587809  SRX4587814  SRX4587812  SRX4587811  \\\n",
       "SRX890545     1.162682    1.179348    1.172930    1.176636    1.174408   \n",
       "SRX1067711    1.145884    1.151763    1.151244    1.151614    1.149509   \n",
       "SRX1067710    1.121766    1.123312    1.127038    1.127990    1.127672   \n",
       "SRX762971     1.302435    1.271560    1.293856    1.280613    1.295817   \n",
       "SRX762970     1.257260    1.230887    1.249439    1.237513    1.251924   \n",
       "...                ...         ...         ...         ...         ...   \n",
       "SRX3399308    1.155323    1.172775    1.173294    1.173528    1.166850   \n",
       "SRX3399309    1.135918    1.137730    1.144402    1.139293    1.139152   \n",
       "SRX3399310    1.098468    1.118481    1.116609    1.120599    1.113357   \n",
       "SRX3399311    1.159714    1.172222    1.173133    1.170796    1.171192   \n",
       "SRX3399312    1.119125    1.141943    1.137845    1.137001    1.135250   \n",
       "\n",
       "            SRX3183024  \n",
       "SRX890545     1.153624  \n",
       "SRX1067711    1.162105  \n",
       "SRX1067710    1.134322  \n",
       "SRX762971     1.232885  \n",
       "SRX762970     1.192815  \n",
       "...                ...  \n",
       "SRX3399308    1.002303  \n",
       "SRX3399309    1.000138  \n",
       "SRX3399310    0.982749  \n",
       "SRX3399311    1.038376  \n",
       "SRX3399312    0.990564  \n",
       "\n",
       "[3609 rows x 11 columns]"
      ]
     },
     "execution_count": 36,
     "metadata": {},
     "output_type": "execute_result"
    }
   ],
   "source": [
    "dists_df"
   ]
  },
  {
   "cell_type": "code",
   "execution_count": 37,
   "metadata": {},
   "outputs": [],
   "source": [
    "test_sample2closest_train = {\n",
    "    # get the column for current test sample and find the index of raw the closest value\n",
    "    sample_id: dists_df[sample_id].sort_values().index[:10]\n",
    "    for sample_id in test_samples\n",
    "}\n"
   ]
  },
  {
   "cell_type": "code",
   "execution_count": 38,
   "metadata": {},
   "outputs": [],
   "source": [
    "cell_types_y_predicted = pd.DataFrame([\n",
    "    types_dummies.loc[test_sample2closest_train[test_id]].sum()\n",
    "    for test_id in test_samples\n",
    "])\n"
   ]
  },
  {
   "cell_type": "code",
   "execution_count": 39,
   "metadata": {},
   "outputs": [
    {
     "name": "stdout",
     "output_type": "stream",
     "text": [
      "                                     cell_type occourences       IDF\n",
      "0                                         cell        4293  0.000000\n",
      "1                         enteroendocrine cell         195  1.342726\n",
      "2                                  animal cell        4284  0.000911\n",
      "3                               endocrine cell         210  1.310542\n",
      "4                              eukaryotic cell        4293  0.000000\n",
      "..                                         ...         ...       ...\n",
      "312  neuron associated cell (sensu Vertebrata)           1  3.632761\n",
      "313                                Merkel cell           1  3.632761\n",
      "314                       epidermal melanocyte           1  3.632761\n",
      "315                      epithelial melanocyte           1  3.632761\n",
      "316                         melanocyte of skin           1  3.632761\n",
      "\n",
      "[317 rows x 3 columns]\n"
     ]
    }
   ],
   "source": [
    "import general_ontology_tools as got\n",
    "import json\n",
    "import pandas as pd\n",
    "import math\n",
    "\n",
    "with open(data_dir / 'CellO_data/bulk_RNA_seq_training_set/bulk_labels.json', 'r') as f:\n",
    "    sample2cell_types_ids = json.load(f)\n",
    "\n",
    "def calculate_idf(n_occourences,len_df):\n",
    "    idf = math.log(len_df/n_occourences,10)\n",
    "    return idf    \n",
    "\n",
    "sample2types = {\n",
    "    sample: list(map(got.get_term_name, types_ids))\n",
    "    for sample, types_ids in sample2cell_types_ids.items()\n",
    "}\n",
    "\n",
    "\n",
    "IDF_df = pd.DataFrame.from_dict(sample2types,orient='index')\n",
    "IDF_df = IDF_df.transpose()\n",
    "\n",
    "\n",
    "\n",
    "# calculate IDF\n",
    "# create list of names\n",
    "counts = pd.DataFrame( columns=[\"cell_type\",\"occourences\",\"IDF\"])\n",
    "onto_list = []\n",
    "for col in IDF_df:\n",
    "    column = IDF_df[col]\n",
    "    for i in column:\n",
    "        if(i not in onto_list and i != None):\n",
    "            onto_list += [i]\n",
    "            \n",
    "\n",
    "for item in onto_list:\n",
    "    count = 0\n",
    "    for col in IDF_df:\n",
    "        column = IDF_df[col]\n",
    "        if(item in column.unique()):\n",
    "            count += 1\n",
    "    idf = calculate_idf(count,len(IDF_df.columns))\n",
    "    df_temp = pd.DataFrame([[item,count,idf]],columns=[\"cell_type\",\"occourences\",\"IDF\"])    \n",
    "    counts = counts.append(df_temp, ignore_index=True)\n",
    "print(counts)\n",
    "\n"
   ]
  },
  {
   "cell_type": "code",
   "execution_count": 40,
   "metadata": {},
   "outputs": [],
   "source": [
    "def get_idf(cell_type,df):\n",
    "    index = df.loc[df[\"cell_type\"] == cell_type]\n",
    "    return index[\"IDF\"].item()"
   ]
  },
  {
   "cell_type": "code",
   "execution_count": 41,
   "metadata": {},
   "outputs": [],
   "source": [
    "#get TF (assuming each label occours once per sample)\n",
    "def get_TF(df):\n",
    "    tfs = pd.DataFrame( columns=[\"cell_type\",\"TF\"])\n",
    "    labels = []\n",
    "    for index,item in df.iteritems():\n",
    "        TF = 1/len(df)\n",
    "        df_temp = pd.DataFrame([[index,TF]],columns=[\"cell_type\",\"TF\"])\n",
    "        tfs = tfs.append(df_temp,ignore_index=True)\n",
    "   \n",
    "    return tfs\n"
   ]
  },
  {
   "cell_type": "code",
   "execution_count": 43,
   "metadata": {},
   "outputs": [],
   "source": [
    "#get labels for each sample \n",
    "cell_types_y_predicted_individual = cell_types_y_predicted\n",
    "for index, row in cell_types_y_predicted_individual.iterrows():\n",
    "   \n",
    "    for index,item in row.iteritems():\n",
    "        \n",
    "        \n",
    "        \n",
    "        IDF = get_idf(index, counts)\n",
    "        \n",
    "        \n",
    "        #print(label,TF_IDF)\n",
    "        # normalize values with TF-IDF\n",
    "        \n",
    "        row[index] = row[index]*IDF\n",
    "    \n",
    "    cell_types_y_predicted_individual.loc[index] = row\n",
    "\n",
    "    "
   ]
  },
  {
   "cell_type": "code",
   "execution_count": 56,
   "metadata": {},
   "outputs": [
    {
     "name": "stdout",
     "output_type": "stream",
     "text": [
      "animal cell                           0.008203\n",
      "astrocyte                             6.653363\n",
      "bone cell                             6.143404\n",
      "connective tissue cell                6.303424\n",
      "epidermal melanocyte                  3.632761\n",
      "epithelial melanocyte                 3.632761\n",
      "glial cell                            5.110026\n",
      "glial cell (sensu Vertebrata)         5.110026\n",
      "macroglial cell                       6.424198\n",
      "melanocyte                            5.709219\n",
      "melanocyte of skin                    3.632761\n",
      "muscle precursor cell                 2.678518\n",
      "myoblast                              2.678518\n",
      "neural cell                           4.302311\n",
      "neuron associated cell                5.094787\n",
      "non-terminally differentiated cell    9.996462\n",
      "osteoblast                            8.565597\n",
      "pigment cell                          5.709219\n",
      "precursor cell                        4.283933\n",
      "somatic cell                          0.198711\n",
      "stuff accumulating cell               2.672191\n",
      "Name: 0, dtype: float64\n",
      "---------------------------------------------------\n",
      "animal cell                           10.0\n",
      "bone cell                             10.0\n",
      "cell                                  10.0\n",
      "connective tissue cell                10.0\n",
      "eukaryotic cell                       10.0\n",
      "native cell                           10.0\n",
      "non-terminally differentiated cell    10.0\n",
      "osteoblast                            10.0\n",
      "precursor cell                        10.0\n",
      "somatic cell                          10.0\n",
      "Name: 1, dtype: float64\n",
      "---------------------------------------------------\n",
      "animal cell                           10.0\n",
      "astrocyte                              1.0\n",
      "barrier cell                           2.0\n",
      "blood vessel endothelial cell          2.0\n",
      "bone cell                              2.0\n",
      "cell                                  10.0\n",
      "connective tissue cell                 2.0\n",
      "endothelial cell                       2.0\n",
      "endothelial cell of umbilical vein     2.0\n",
      "endothelial cell of vascular tree      2.0\n",
      "epidermal melanocyte                   1.0\n",
      "epithelial cell                        2.0\n",
      "epithelial melanocyte                  1.0\n",
      "eukaryotic cell                       10.0\n",
      "glial cell                             1.0\n",
      "glial cell (sensu Vertebrata)          1.0\n",
      "hematopoietic cell                     3.0\n",
      "lining cell                            2.0\n",
      "macroglial cell                        1.0\n",
      "melanocyte                             2.0\n",
      "melanocyte of skin                     1.0\n",
      "meso-epithelial cell                   2.0\n",
      "native cell                           10.0\n",
      "neural cell                            1.0\n",
      "neuron associated cell                 1.0\n",
      "non-terminally differentiated cell     2.0\n",
      "osteoblast                             2.0\n",
      "pigment cell                           2.0\n",
      "precursor cell                         2.0\n",
      "somatic cell                          10.0\n",
      "squamous epithelial cell               2.0\n",
      "stuff accumulating cell                2.0\n",
      "vein endothelial cell                  2.0\n",
      "Name: 2, dtype: float64\n",
      "---------------------------------------------------\n",
      "animal cell                            9.0\n",
      "astrocyte                              4.0\n",
      "bone cell                              5.0\n",
      "cell                                  10.0\n",
      "connective tissue cell                 5.0\n",
      "eukaryotic cell                       10.0\n",
      "glial cell                             4.0\n",
      "glial cell (sensu Vertebrata)          4.0\n",
      "macroglial cell                        4.0\n",
      "muscle precursor cell                  1.0\n",
      "myoblast                               1.0\n",
      "native cell                           10.0\n",
      "neural cell                            4.0\n",
      "neuron associated cell                 4.0\n",
      "non-terminally differentiated cell     6.0\n",
      "osteoblast                             5.0\n",
      "precursor cell                         6.0\n",
      "somatic cell                          10.0\n",
      "Name: 3, dtype: float64\n",
      "---------------------------------------------------\n",
      "animal cell                           10.0\n",
      "bone cell                              3.0\n",
      "brain pericyte                         1.0\n",
      "cell                                  10.0\n",
      "central nervous system pericyte        1.0\n",
      "connective tissue cell                 8.0\n",
      "contractile cell                       1.0\n",
      "epidermal melanocyte                   1.0\n",
      "epithelial melanocyte                  1.0\n",
      "eukaryotic cell                       10.0\n",
      "fibroblast                             4.0\n",
      "fibroblast of dermis                   4.0\n",
      "melanocyte                             2.0\n",
      "melanocyte of skin                     1.0\n",
      "native cell                           10.0\n",
      "neural cell                            1.0\n",
      "non-terminally differentiated cell     3.0\n",
      "osteoblast                             3.0\n",
      "pericyte cell                          1.0\n",
      "pigment cell                           2.0\n",
      "precursor cell                         3.0\n",
      "skin fibroblast                        4.0\n",
      "somatic cell                          10.0\n",
      "stuff accumulating cell                2.0\n",
      "supportive cell                        1.0\n",
      "Name: 4, dtype: float64\n",
      "---------------------------------------------------\n",
      "animal cell                            8.0\n",
      "astrocyte                              2.0\n",
      "bone cell                              5.0\n",
      "cell                                  10.0\n",
      "connective tissue cell                 5.0\n",
      "endopolyploid cell                     1.0\n",
      "epithelial cell                        1.0\n",
      "eukaryotic cell                       10.0\n",
      "glial cell                             2.0\n",
      "glial cell (sensu Vertebrata)          2.0\n",
      "hepatocyte                             1.0\n",
      "macroglial cell                        2.0\n",
      "metabolising cell                      1.0\n",
      "muscle precursor cell                  2.0\n",
      "myoblast                               2.0\n",
      "native cell                           10.0\n",
      "neural cell                            2.0\n",
      "neuron associated cell                 2.0\n",
      "non-terminally differentiated cell     7.0\n",
      "osteoblast                             5.0\n",
      "polyploid cell                         1.0\n",
      "precursor cell                         7.0\n",
      "somatic cell                          10.0\n",
      "Name: 5, dtype: float64\n",
      "---------------------------------------------------\n",
      "animal cell                            9.0\n",
      "astrocyte                              2.0\n",
      "bone cell                              7.0\n",
      "cell                                  10.0\n",
      "connective tissue cell                 7.0\n",
      "eukaryotic cell                       10.0\n",
      "glial cell                             2.0\n",
      "glial cell (sensu Vertebrata)          2.0\n",
      "macroglial cell                        2.0\n",
      "muscle precursor cell                  1.0\n",
      "myoblast                               1.0\n",
      "native cell                           10.0\n",
      "neural cell                            2.0\n",
      "neuron associated cell                 2.0\n",
      "non-terminally differentiated cell     8.0\n",
      "osteoblast                             7.0\n",
      "precursor cell                         8.0\n",
      "somatic cell                          10.0\n",
      "Name: 6, dtype: float64\n",
      "---------------------------------------------------\n",
      "animal cell                            9.0\n",
      "astrocyte                              2.0\n",
      "bone cell                              6.0\n",
      "cell                                  10.0\n",
      "connective tissue cell                 6.0\n",
      "endopolyploid cell                     1.0\n",
      "epithelial cell                        1.0\n",
      "eukaryotic cell                       10.0\n",
      "glial cell                             2.0\n",
      "glial cell (sensu Vertebrata)          2.0\n",
      "hepatocyte                             1.0\n",
      "macroglial cell                        2.0\n",
      "metabolising cell                      1.0\n",
      "muscle precursor cell                  1.0\n",
      "myoblast                               1.0\n",
      "native cell                           10.0\n",
      "neural cell                            2.0\n",
      "neuron associated cell                 2.0\n",
      "non-terminally differentiated cell     7.0\n",
      "osteoblast                             6.0\n",
      "polyploid cell                         1.0\n",
      "precursor cell                         7.0\n",
      "somatic cell                          10.0\n",
      "Name: 7, dtype: float64\n",
      "---------------------------------------------------\n",
      "animal cell                            9.0\n",
      "bone cell                              9.0\n",
      "cell                                  10.0\n",
      "connective tissue cell                 9.0\n",
      "eukaryotic cell                       10.0\n",
      "muscle precursor cell                  1.0\n",
      "myoblast                               1.0\n",
      "native cell                           10.0\n",
      "non-terminally differentiated cell    10.0\n",
      "osteoblast                             9.0\n",
      "precursor cell                        10.0\n",
      "somatic cell                          10.0\n",
      "Name: 8, dtype: float64\n",
      "---------------------------------------------------\n",
      "animal cell                            8.0\n",
      "bone cell                              7.0\n",
      "cell                                  10.0\n",
      "connective tissue cell                 7.0\n",
      "endopolyploid cell                     1.0\n",
      "epithelial cell                        1.0\n",
      "eukaryotic cell                       10.0\n",
      "hepatocyte                             1.0\n",
      "metabolising cell                      1.0\n",
      "muscle precursor cell                  2.0\n",
      "myoblast                               2.0\n",
      "native cell                           10.0\n",
      "non-terminally differentiated cell     9.0\n",
      "osteoblast                             7.0\n",
      "polyploid cell                         1.0\n",
      "precursor cell                         9.0\n",
      "somatic cell                          10.0\n",
      "Name: 9, dtype: float64\n",
      "---------------------------------------------------\n",
      "CNS neuron (sensu Vertebrata)                 1.0\n",
      "animal cell                                  10.0\n",
      "blood cell                                    1.0\n",
      "cell                                         10.0\n",
      "cell in vitro                                 1.0\n",
      "central nervous system neuron                 1.0\n",
      "common myeloid progenitor                     1.0\n",
      "cultured cell                                 1.0\n",
      "electrically active cell                      1.0\n",
      "electrically responsive cell                  1.0\n",
      "electrically signaling cell                   1.0\n",
      "eukaryotic cell                              10.0\n",
      "experimentally modified cell in vitro         1.0\n",
      "glial cell                                    8.0\n",
      "glial cell (sensu Vertebrata)                 8.0\n",
      "hematopoietic cell                            1.0\n",
      "hematopoietic oligopotent progenitor cell     1.0\n",
      "hematopoietic precursor cell                  1.0\n",
      "native cell                                  10.0\n",
      "neural cell                                   9.0\n",
      "neuron                                        1.0\n",
      "neuron associated cell                        8.0\n",
      "precursor cell                                1.0\n",
      "radial glial cell                             8.0\n",
      "somatic cell                                 10.0\n",
      "Name: 10, dtype: float64\n",
      "---------------------------------------------------\n",
      "CNS neuron (sensu Vertebrata)                 1.861909\n",
      "animal cell                                   0.009114\n",
      "blood cell                                    0.218456\n",
      "cell in vitro                                 1.970003\n",
      "central nervous system neuron                 1.806686\n",
      "common myeloid progenitor                     2.591368\n",
      "cultured cell                                 1.970003\n",
      "electrically active cell                      1.775428\n",
      "electrically responsive cell                  1.775428\n",
      "electrically signaling cell                   1.806686\n",
      "experimentally modified cell in vitro         1.970003\n",
      "glial cell                                   13.626736\n",
      "glial cell (sensu Vertebrata)                13.626736\n",
      "hematopoietic cell                            0.147323\n",
      "hematopoietic oligopotent progenitor cell     1.951520\n",
      "hematopoietic precursor cell                  1.382341\n",
      "neural cell                                  12.906934\n",
      "neuron                                        1.806686\n",
      "neuron associated cell                       13.586099\n",
      "precursor cell                                0.856787\n",
      "radial glial cell                            21.837367\n",
      "somatic cell                                  0.198711\n",
      "Name: visceral muscle cell, dtype: float64\n",
      "---------------------------------------------------\n"
     ]
    }
   ],
   "source": [
    "for index, row in cell_types_y_predicted_individual.iterrows():\n",
    "    row1 = row[row.iloc[:]> 0]\n",
    "    row1.sort_values(ascending=False)\n",
    "    print(row1)\n",
    "    print(\"---------------------------------------------------\")\n"
   ]
  },
  {
   "cell_type": "code",
   "execution_count": 50,
   "metadata": {},
   "outputs": [],
   "source": [
    "# apply TF-IDF for all samples as one\n",
    "\n",
    "labels = cell_types_y_predicted.sum()\n",
    "\n",
    "for index,item in labels.iteritems():\n",
    "    IDF = get_idf(index, counts)\n",
    "        \n",
    "        \n",
    "    #print(label,TF_IDF)\n",
    "    # normalize values with TF-IDF\n",
    "        \n",
    "    labels[index] = labels[index]*IDF\n"
   ]
  },
  {
   "cell_type": "code",
   "execution_count": 58,
   "metadata": {},
   "outputs": [
    {
     "name": "stdout",
     "output_type": "stream",
     "text": [
      "non-terminally differentiated cell           143.941982\n",
      "osteoblast                                   133.977919\n",
      "connective tissue cell                       102.908795\n",
      "bone cell                                     92.371299\n",
      "radial glial cell                             81.446193\n",
      "glial cell                                    64.278610\n",
      "glial cell (sensu Vertebrata)                 64.278610\n",
      "neuron associated cell                        63.992035\n",
      "precursor cell                                58.382052\n",
      "neural cell                                   54.796024\n",
      "astrocyte                                     39.151408\n",
      "macroglial cell                               37.312163\n",
      "muscle precursor cell                         28.602608\n",
      "myoblast                                      28.602608\n",
      "pigment cell                                  27.716031\n",
      "melanocyte                                    27.716031\n",
      "epidermal melanocyte                          20.462473\n",
      "epithelial melanocyte                         20.462473\n",
      "melanocyte of skin                            20.462473\n",
      "common myeloid progenitor                      9.306557\n",
      "stuff accumulating cell                        8.914686\n",
      "fibroblast of dermis                           7.601469\n",
      "skin fibroblast                                7.601469\n",
      "fibroblast                                     7.054117\n",
      "hepatocyte                                     6.028535\n",
      "endopolyploid cell                             6.028535\n",
      "polyploid cell                                 6.028535\n",
      "metabolising cell                              6.028535\n",
      "cell in vitro                                  5.850915\n",
      "experimentally modified cell in vitro          5.850915\n",
      "cultured cell                                  5.850915\n",
      "hematopoietic oligopotent progenitor cell      5.759949\n",
      "CNS neuron (sensu Vertebrata)                  5.328614\n",
      "electrically signaling cell                    5.070801\n",
      "central nervous system neuron                  5.070801\n",
      "neuron                                         5.070801\n",
      "electrically responsive cell                   4.927574\n",
      "electrically active cell                       4.927574\n",
      "epithelial cell                                3.675669\n",
      "vein endothelial cell                          3.613372\n",
      "endothelial cell of umbilical vein             3.613372\n",
      "endothelial cell of vascular tree              3.575326\n",
      "blood vessel endothelial cell                  3.575326\n",
      "endothelial cell                               3.406684\n",
      "squamous epithelial cell                       3.337946\n",
      "lining cell                                    3.310075\n",
      "barrier cell                                   3.310075\n",
      "hematopoietic precursor cell                   3.293207\n",
      "brain pericyte                                 3.030701\n",
      "central nervous system pericyte                3.030701\n",
      "meso-epithelial cell                           2.998444\n",
      "pericyte cell                                  2.787663\n",
      "contractile cell                               2.553580\n",
      "supportive cell                                2.486633\n",
      "somatic cell                                   1.995009\n",
      "hematopoietic cell                             0.610998\n",
      "blood cell                                     0.266179\n",
      "animal cell                                    0.083867\n",
      "dtype: float64\n"
     ]
    }
   ],
   "source": [
    "\n",
    "labels1 = labels[labels.iloc[:]> 0]\n",
    "labels1 = labels1.sort_values(ascending=False)\n",
    "print(labels1)"
   ]
  },
  {
   "cell_type": "code",
   "execution_count": null,
   "metadata": {},
   "outputs": [],
   "source": []
  }
 ],
 "metadata": {
  "kernelspec": {
   "display_name": "Python 3",
   "language": "python",
   "name": "python3"
  },
  "language_info": {
   "codemirror_mode": {
    "name": "ipython",
    "version": 3
   },
   "file_extension": ".py",
   "mimetype": "text/x-python",
   "name": "python",
   "nbconvert_exporter": "python",
   "pygments_lexer": "ipython3",
   "version": "3.8.5"
  },
  "widgets": {
   "application/vnd.jupyter.widget-state+json": {
    "state": {},
    "version_major": 2,
    "version_minor": 0
   }
  }
 },
 "nbformat": 4,
 "nbformat_minor": 4
}
