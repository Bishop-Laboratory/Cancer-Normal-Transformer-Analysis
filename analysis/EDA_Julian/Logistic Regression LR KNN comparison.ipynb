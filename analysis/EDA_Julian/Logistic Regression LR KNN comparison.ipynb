{
 "cells": [
  {
   "cell_type": "code",
   "execution_count": 1,
   "metadata": {},
   "outputs": [
    {
     "name": "stdout",
     "output_type": "stream",
     "text": [
      "Unable to import pygraphviz. Visualization is disabled.\n",
      "Loading ontology from C:\\Users\\julia\\anaconda3\\lib\\site-packages\\onto_lib\\obo\\DOID.17-01-30.obo ...\n",
      "Loading ontology from C:\\Users\\julia\\anaconda3\\lib\\site-packages\\onto_lib\\obo\\UBERON.17-01-30.obo ...\n",
      "Loading ontology from C:\\Users\\julia\\anaconda3\\lib\\site-packages\\onto_lib\\obo\\CL.18-11-13.obo ...\n",
      "Loading ontology from C:\\Users\\julia\\anaconda3\\lib\\site-packages\\onto_lib\\obo\\CVCL.17-01-30.obo ...\n",
      "Loading ontology from C:\\Users\\julia\\anaconda3\\lib\\site-packages\\onto_lib\\obo\\EFO.17-01-30.obo ...\n"
     ]
    }
   ],
   "source": [
    "import cello_multiplier as cm\n",
    "from onto_lib import general_ontology_tools as got\n",
    "import pandas as pd"
   ]
  },
  {
   "cell_type": "code",
   "execution_count": 3,
   "metadata": {},
   "outputs": [
    {
     "name": "stdout",
     "output_type": "stream",
     "text": [
      "Found existing installation: cello-multiplier 0.0.1\n",
      "Uninstalling cello-multiplier-0.0.1:\n",
      "  Successfully uninstalled cello-multiplier-0.0.1\n",
      "Collecting git+https://github.com/Bishop-Laboratory/CellO-MultiPLIER.git@test\n",
      "  Cloning https://github.com/Bishop-Laboratory/CellO-MultiPLIER.git (to revision test) to c:\\users\\julia\\appdata\\local\\temp\\pip-req-build-pzqy7t00\n",
      "  Installing build dependencies: started\n",
      "  Installing build dependencies: finished with status 'done'\n",
      "  Getting requirements to build wheel: started\n",
      "  Getting requirements to build wheel: finished with status 'done'\n",
      "    Preparing wheel metadata: started\n",
      "    Preparing wheel metadata: finished with status 'done'\n",
      "Requirement already satisfied, skipping upgrade: pandas in c:\\users\\julia\\anaconda3\\lib\\site-packages (from cello-multiplier==0.0.1) (1.1.3)\n",
      "Requirement already satisfied, skipping upgrade: scipy in c:\\users\\julia\\anaconda3\\lib\\site-packages (from cello-multiplier==0.0.1) (1.5.2)\n",
      "Requirement already satisfied, skipping upgrade: sklearn in c:\\users\\julia\\anaconda3\\lib\\site-packages (from cello-multiplier==0.0.1) (0.0)\n",
      "Requirement already satisfied, skipping upgrade: numpy in c:\\users\\julia\\anaconda3\\lib\\site-packages (from cello-multiplier==0.0.1) (1.20.3)\n",
      "Requirement already satisfied, skipping upgrade: pytz>=2017.2 in c:\\users\\julia\\anaconda3\\lib\\site-packages (from pandas->cello-multiplier==0.0.1) (2020.1)\n",
      "Requirement already satisfied, skipping upgrade: python-dateutil>=2.7.3 in c:\\users\\julia\\anaconda3\\lib\\site-packages (from pandas->cello-multiplier==0.0.1) (2.8.1)\n",
      "Requirement already satisfied, skipping upgrade: scikit-learn in c:\\users\\julia\\anaconda3\\lib\\site-packages (from sklearn->cello-multiplier==0.0.1) (0.24.2)\n",
      "Requirement already satisfied, skipping upgrade: six>=1.5 in c:\\users\\julia\\anaconda3\\lib\\site-packages (from python-dateutil>=2.7.3->pandas->cello-multiplier==0.0.1) (1.15.0)\n",
      "Requirement already satisfied, skipping upgrade: threadpoolctl>=2.0.0 in c:\\users\\julia\\anaconda3\\lib\\site-packages (from scikit-learn->sklearn->cello-multiplier==0.0.1) (2.1.0)\n",
      "Requirement already satisfied, skipping upgrade: joblib>=0.11 in c:\\users\\julia\\anaconda3\\lib\\site-packages (from scikit-learn->sklearn->cello-multiplier==0.0.1) (0.17.0)\n",
      "Building wheels for collected packages: cello-multiplier\n",
      "  Building wheel for cello-multiplier (PEP 517): started\n",
      "  Building wheel for cello-multiplier (PEP 517): finished with status 'done'\n",
      "  Created wheel for cello-multiplier: filename=cello_multiplier-0.0.1-py3-none-any.whl size=26280814 sha256=86c9b3094f569ef11701cb486ba49225a0586058d338e041c22436e77aa235cf\n",
      "  Stored in directory: C:\\Users\\julia\\AppData\\Local\\Temp\\pip-ephem-wheel-cache-0n7x1vll\\wheels\\a3\\c6\\99\\f35157591da3d5ff962e05d55e6b87a15fec53c53d7058a265\n",
      "Successfully built cello-multiplier\n",
      "Installing collected packages: cello-multiplier\n",
      "Successfully installed cello-multiplier-0.0.1\n"
     ]
    }
   ],
   "source": [
    "!pip uninstall cello_multiplier --yes\n",
    "!pip install -U git+https://github.com/Bishop-Laboratory/CellO-MultiPLIER.git@test"
   ]
  },
  {
   "cell_type": "code",
   "execution_count": 2,
   "metadata": {},
   "outputs": [
    {
     "name": "stderr",
     "output_type": "stream",
     "text": [
      "C:\\Users\\julia\\anaconda3\\lib\\site-packages\\sklearn\\base.py:310: UserWarning: Trying to unpickle estimator LogisticRegression from version 0.23.2 when using version 0.24.2. This might lead to breaking code or invalid results. Use at your own risk.\n",
      "  warnings.warn(\n"
     ]
    }
   ],
   "source": [
    "B_df, Z_df, labels, per_gene_mean, per_gene_std, train_dummies_specific, train_dummies_full, classifiers = cm.get_default_mats()"
   ]
  },
  {
   "cell_type": "code",
   "execution_count": 3,
   "metadata": {},
   "outputs": [],
   "source": [
    "#split \n",
    "from pathlib import Path\n",
    "import json\n",
    "\n",
    "split_dir = Path('split')\n",
    "\n",
    "\n",
    "\n",
    "with open(split_dir / 'validation_bulk_experiments.json', 'r') as f:\n",
    "    validation_egs = json.load(f)\n",
    "\n",
    "with open(split_dir / 'pre_training_bulk_experiments.json', 'r') as f:\n",
    "    train_egs = json.load(f)"
   ]
  },
  {
   "cell_type": "code",
   "execution_count": 4,
   "metadata": {},
   "outputs": [
    {
     "data": {
      "text/plain": [
       "(3609, 258)"
      ]
     },
     "execution_count": 4,
     "metadata": {},
     "output_type": "execute_result"
    }
   ],
   "source": [
    "train_Y_df = B_df[B_df.index.isin(train_egs)]\n",
    "train_Y_df.shape"
   ]
  },
  {
   "cell_type": "code",
   "execution_count": 5,
   "metadata": {},
   "outputs": [
    {
     "data": {
      "text/plain": [
       "(684, 258)"
      ]
     },
     "execution_count": 5,
     "metadata": {},
     "output_type": "execute_result"
    }
   ],
   "source": [
    "test_Y_df = B_df[B_df.index.isin(validation_egs)]\n",
    "test_Y_df.shape"
   ]
  },
  {
   "cell_type": "code",
   "execution_count": 6,
   "metadata": {},
   "outputs": [],
   "source": [
    "# create list of samples by celltypes\n",
    "from sklearn.preprocessing import MultiLabelBinarizer\n",
    "\n",
    "sample2types = {\n",
    "            sample: list(map(got.get_term_name, types_ids))\n",
    "            for sample, types_ids in labels.items()\n",
    "        }\n",
    "\n",
    "types_per_b_samples = B_df.index.map(sample2types).values\n",
    "\n",
    "mlb = MultiLabelBinarizer()\n",
    "types_per_b_samples = B_df.index.map(sample2types).values\n",
    "\n",
    "samples_dummies = pd.DataFrame(mlb.fit_transform(types_per_b_samples), columns=mlb.classes_, index=B_df.index)\n",
    "\n",
    "celltypes = samples_dummies.columns.tolist()\n",
    "\n",
    "type2samples = {\n",
    "    type_: samples_dummies.index[samples_dummies[type_] == 1].tolist()\n",
    "    for type_ in celltypes\n",
    "}"
   ]
  },
  {
   "cell_type": "code",
   "execution_count": 7,
   "metadata": {},
   "outputs": [
    {
     "data": {
      "text/plain": [
       "B cell                                             168\n",
       "Bm4 B cell                                           2\n",
       "CD14-low, CD16-positive monocyte                    14\n",
       "CD14-positive monocyte                             302\n",
       "CD14-positive, CD16-negative classical monocyte     11\n",
       "                                                  ... \n",
       "umbilical artery endothelial cell                    1\n",
       "unswitched memory B cell                             4\n",
       "vascular associated smooth muscle cell               5\n",
       "vein endothelial cell                               67\n",
       "visceral muscle cell                                 5\n",
       "Length: 317, dtype: int64"
      ]
     },
     "execution_count": 7,
     "metadata": {},
     "output_type": "execute_result"
    }
   ],
   "source": [
    "types_sizes = samples_dummies.sum()\n",
    "types_sizes"
   ]
  },
  {
   "cell_type": "code",
   "execution_count": 8,
   "metadata": {},
   "outputs": [
    {
     "data": {
      "text/plain": [
       "200.1198738170347"
      ]
     },
     "execution_count": 8,
     "metadata": {},
     "output_type": "execute_result"
    }
   ],
   "source": [
    "types_sizes.mean()"
   ]
  },
  {
   "cell_type": "code",
   "execution_count": 9,
   "metadata": {},
   "outputs": [
    {
     "data": {
      "text/plain": [
       "<seaborn.axisgrid.FacetGrid at 0x211fa707520>"
      ]
     },
     "execution_count": 9,
     "metadata": {},
     "output_type": "execute_result"
    },
    {
     "data": {
      "image/png": "[encoded data removed]",
      "text/plain": [
       "<Figure size 360x360 with 1 Axes>"
      ]
     },
     "metadata": {
      "needs_background": "light"
     },
     "output_type": "display_data"
    }
   ],
   "source": [
    "import seaborn as sns\n",
    "sns.displot(types_sizes)"
   ]
  },
  {
   "cell_type": "code",
   "execution_count": 10,
   "metadata": {},
   "outputs": [
    {
     "data": {
      "text/plain": [
       "<AxesSubplot:ylabel='Count'>"
      ]
     },
     "execution_count": 10,
     "metadata": {},
     "output_type": "execute_result"
    },
    {
     "data": {
      "image/png": "[encoded data removed]",
      "text/plain": [
       "<Figure size 864x432 with 2 Axes>"
      ]
     },
     "metadata": {
      "needs_background": "light"
     },
     "output_type": "display_data"
    }
   ],
   "source": [
    "import matplotlib.pyplot as plt\n",
    "\n",
    "fig, ax = plt.subplots(1,2, figsize=(12, 6))\n",
    "\n",
    "sns.histplot(types_sizes[types_sizes < 100], ax=ax[0])\n",
    "sns.histplot(types_sizes[types_sizes > 1000], ax=ax[1])"
   ]
  },
  {
   "cell_type": "code",
   "execution_count": 11,
   "metadata": {},
   "outputs": [
    {
     "data": {
      "text/plain": [
       "317"
      ]
     },
     "execution_count": 11,
     "metadata": {},
     "output_type": "execute_result"
    }
   ],
   "source": [
    "len(types_sizes)"
   ]
  },
  {
   "cell_type": "code",
   "execution_count": 94,
   "metadata": {},
   "outputs": [
    {
     "data": {
      "text/plain": [
       "Bm4 B cell                                2\n",
       "CD141-positive myeloid dendritic cell     7\n",
       "CD4-positive, alpha-beta thymocyte        2\n",
       "CD8-positive, alpha-beta thymocyte        2\n",
       "IgD-negative memory B cell                1\n",
       "                                         ..\n",
       "type II pneumocyte                        5\n",
       "umbilical artery endothelial cell         1\n",
       "unswitched memory B cell                  4\n",
       "vascular associated smooth muscle cell    5\n",
       "visceral muscle cell                      5\n",
       "Length: 126, dtype: int64"
      ]
     },
     "execution_count": 94,
     "metadata": {},
     "output_type": "execute_result"
    }
   ],
   "source": [
    "types_sizes[types_sizes < 10]"
   ]
  },
  {
   "cell_type": "code",
   "execution_count": 13,
   "metadata": {},
   "outputs": [],
   "source": [
    "# create target list for given cell type with 1 being that cell type and 0 being any other cell type\n",
    "def set_target(celltype, type2samples, train_Y_df, test_Y_df, oversample, max_neg_pos_ratio):\n",
    "    samplelist = type2samples[celltype]\n",
    "    samplelist_train = [x for x in samplelist if x in train_Y_df.index.values]\n",
    "    samplelist_test = [x for x in samplelist if x in test_Y_df.index.values]\n",
    "    \n",
    "    if(oversample == True and len(samplelist_train) > 0 and len(samplelist_test) >0):\n",
    "        len_negative_train = len(train_Y_df)-len(samplelist_train)\n",
    "        len_positive_train = len(samplelist_train)\n",
    "        \n",
    "        neg_pos_ratio = len_negative_train / len_positive_train\n",
    "        \n",
    "        # limit the max oversampling ratio\n",
    "        neg_pos_ratio = min(neg_pos_ratio, max_neg_pos_ratio)\n",
    "        \n",
    "        if(neg_pos_ratio > 1):\n",
    "            df_train = train_Y_df.loc[samplelist_train].sample(\n",
    "                    n=int((neg_pos_ratio - 1) * len_positive_train),\n",
    "                    replace=True, random_state=111\n",
    "                )\n",
    "            train_Y_df = train_Y_df.append(df_train)\n",
    "    \n",
    "    target_train = pd.Series(0,index = train_Y_df.index)\n",
    "    target_train.loc[samplelist_train] = 1\n",
    "    \n",
    "    target_test = pd.Series(0,index = test_Y_df.index)\n",
    "    target_test.loc[samplelist_test] = 1\n",
    "    \n",
    "    train_Y_transformed = train_Y_df\n",
    "    test_Y_transformed = test_Y_df\n",
    "    \n",
    "    return(target_train.values, target_test.values, train_Y_transformed, test_Y_transformed )"
   ]
  },
  {
   "cell_type": "code",
   "execution_count": 14,
   "metadata": {},
   "outputs": [],
   "source": [
    "def fscore(p, r):\n",
    "    denom = p + r or 1\n",
    "\n",
    "    return (p * r) / denom"
   ]
  },
  {
   "cell_type": "code",
   "execution_count": 15,
   "metadata": {},
   "outputs": [],
   "source": [
    "# classifiers\n",
    "from sklearn.linear_model import LogisticRegression\n",
    "from sklearn.model_selection import train_test_split\n",
    "from sklearn import metrics\n",
    "from sklearn.metrics import precision_score, recall_score\n",
    "import numpy as np\n",
    "import warnings\n",
    "from sklearn.metrics import precision_recall_curve\n",
    "from sklearn.metrics import plot_precision_recall_curve\n",
    "import matplotlib.pyplot as plt\n",
    "from tqdm.auto import tqdm"
   ]
  },
  {
   "cell_type": "code",
   "execution_count": 16,
   "metadata": {},
   "outputs": [],
   "source": [
    "types_with_data = types_sizes.index.values\n",
    "all_types = samples_dummies.columns\n"
   ]
  },
  {
   "cell_type": "code",
   "execution_count": 110,
   "metadata": {},
   "outputs": [],
   "source": [
    "curves =[\"hematopoietic cell\",\"T cell\",\"granulocyte\",\"epithelial cell\",\"germ line cell\"]\n",
    "def LR_classify(solver,penalty):\n",
    "\n",
    "    warnings.filterwarnings('ignore') #gets rid of sklearn convergence warning\n",
    "\n",
    "    successful_celltypes = []\n",
    "    unsuccessful_celltypes = []\n",
    "    test_prs = []\n",
    "    test_precision = []\n",
    "    test_recall = []\n",
    "    fscores = []\n",
    "\n",
    "    for cell_type in tqdm(all_types):\n",
    "        train_target, train_test, train_data, test_data = set_target(\n",
    "            cell_type, type2samples, train_Y_df, test_Y_df, oversample=True,\n",
    "            max_neg_pos_ratio=2\n",
    "        )\n",
    "\n",
    "        if(1 in train_target and 1 in train_test and 0 in train_target and 0 in train_test):\n",
    "            # lasso penalty\n",
    "            clf = LogisticRegression(solver = solver,penalty = penalty,random_state=111 )\n",
    "\n",
    "            clf.fit(train_data, train_target)\n",
    "            target_pred = clf.predict(test_data)\n",
    "            test_pr = metrics.average_precision_score(train_test, target_pred)\n",
    "            test_precision += [precision_score(train_test, target_pred)]\n",
    "            test_recall += [recall_score(train_test, target_pred)]\n",
    "            fscores += [fscore(test_precision[-1], test_recall[-1])]\n",
    "            successful_celltypes += [cell_type]\n",
    "            #plot precision recall curve for celltype\n",
    "            if(cell_type in curves):\n",
    "                disp = plot_precision_recall_curve(clf, test_data, train_test)\n",
    "                disp.ax_.set_title('2-class Precision-Recall curve '+str(cell_type)+': AP={0:0.2f}'.format(test_pr))\n",
    "        else:\n",
    "            unsuccessful_celltypes += [cell_type]\n",
    "\n",
    "    p = np.mean(test_precision)\n",
    "    r = np.mean(test_recall)\n",
    "    f = np.mean(fscores)\n",
    "    f_micro = fscore(p, r) \n",
    "\n",
    "    report = pd.DataFrame(list(zip(successful_celltypes,test_precision,test_recall, fscores)),\n",
    "                          columns = [\"celltype\",\"precision score\",\"recall score\",\"f score\"])\n",
    "    print(f'precision: {p:.4f}, recall: {r:.4f}, f1: {f:.4f}, f1 micro avg: {f_micro:.4f}')#\n",
    "    \n",
    "    return report"
   ]
  },
  {
   "cell_type": "code",
   "execution_count": 111,
   "metadata": {},
   "outputs": [
    {
     "data": {
      "application/vnd.jupyter.widget-view+json": {
       "model_id": "e409628d50d644f5b79d046c622d7a81",
       "version_major": 2,
       "version_minor": 0
      },
      "text/plain": [
       "HBox(children=(HTML(value=''), FloatProgress(value=0.0, max=317.0), HTML(value='')))"
      ]
     },
     "metadata": {},
     "output_type": "display_data"
    },
    {
     "name": "stdout",
     "output_type": "stream",
     "text": [
      "\n",
      "precision: 0.6348, recall: 0.5170, f1: 0.2629, f1 micro avg: 0.2849\n"
     ]
    },
    {
     "data": {
      "image/png": "[encoded data removed]",
      "text/plain": [
       "<Figure size 432x288 with 1 Axes>"
      ]
     },
     "metadata": {
      "needs_background": "light"
     },
     "output_type": "display_data"
    },
    {
     "data": {
      "image/png": "[encoded data removed]",
      "text/plain": [
       "<Figure size 432x288 with 1 Axes>"
      ]
     },
     "metadata": {
      "needs_background": "light"
     },
     "output_type": "display_data"
    },
    {
     "data": {
      "image/png": "[encoded data removed]",
      "text/plain": [
       "<Figure size 432x288 with 1 Axes>"
      ]
     },
     "metadata": {
      "needs_background": "light"
     },
     "output_type": "display_data"
    },
    {
     "data": {
      "image/png": "[encoded data removed]",
      "text/plain": [
       "<Figure size 432x288 with 1 Axes>"
      ]
     },
     "metadata": {
      "needs_background": "light"
     },
     "output_type": "display_data"
    },
    {
     "data": {
      "image/png": "[encoded data removed]",
      "text/plain": [
       "<Figure size 432x288 with 1 Axes>"
      ]
     },
     "metadata": {
      "needs_background": "light"
     },
     "output_type": "display_data"
    }
   ],
   "source": [
    "report = LR_classify(\"liblinear\",\"l1\")"
   ]
  },
  {
   "cell_type": "code",
   "execution_count": 19,
   "metadata": {},
   "outputs": [
    {
     "data": {
      "text/html": [
       "<div>\n",
       "<style scoped>\n",
       "    .dataframe tbody tr th:only-of-type {\n",
       "        vertical-align: middle;\n",
       "    }\n",
       "\n",
       "    .dataframe tbody tr th {\n",
       "        vertical-align: top;\n",
       "    }\n",
       "\n",
       "    .dataframe thead th {\n",
       "        text-align: right;\n",
       "    }\n",
       "</style>\n",
       "<table border=\"1\" class=\"dataframe\">\n",
       "  <thead>\n",
       "    <tr style=\"text-align: right;\">\n",
       "      <th></th>\n",
       "      <th>celltype</th>\n",
       "      <th>precision score</th>\n",
       "      <th>recall score</th>\n",
       "      <th>f score</th>\n",
       "    </tr>\n",
       "  </thead>\n",
       "  <tbody>\n",
       "    <tr>\n",
       "      <th>0</th>\n",
       "      <td>B cell</td>\n",
       "      <td>0.764706</td>\n",
       "      <td>0.684211</td>\n",
       "      <td>0.361111</td>\n",
       "    </tr>\n",
       "    <tr>\n",
       "      <th>1</th>\n",
       "      <td>CD14-positive monocyte</td>\n",
       "      <td>0.724138</td>\n",
       "      <td>0.750000</td>\n",
       "      <td>0.368421</td>\n",
       "    </tr>\n",
       "    <tr>\n",
       "      <th>2</th>\n",
       "      <td>CD14-positive, CD16-negative classical monocyte</td>\n",
       "      <td>0.000000</td>\n",
       "      <td>0.000000</td>\n",
       "      <td>0.000000</td>\n",
       "    </tr>\n",
       "    <tr>\n",
       "      <th>3</th>\n",
       "      <td>CD141-positive myeloid dendritic cell</td>\n",
       "      <td>0.000000</td>\n",
       "      <td>0.000000</td>\n",
       "      <td>0.000000</td>\n",
       "    </tr>\n",
       "    <tr>\n",
       "      <th>4</th>\n",
       "      <td>CD1c-positive myeloid dendritic cell</td>\n",
       "      <td>1.000000</td>\n",
       "      <td>0.583333</td>\n",
       "      <td>0.368421</td>\n",
       "    </tr>\n",
       "    <tr>\n",
       "      <th>...</th>\n",
       "      <td>...</td>\n",
       "      <td>...</td>\n",
       "      <td>...</td>\n",
       "      <td>...</td>\n",
       "    </tr>\n",
       "    <tr>\n",
       "      <th>204</th>\n",
       "      <td>type B pancreatic cell</td>\n",
       "      <td>0.666667</td>\n",
       "      <td>1.000000</td>\n",
       "      <td>0.400000</td>\n",
       "    </tr>\n",
       "    <tr>\n",
       "      <th>205</th>\n",
       "      <td>type II pneumocyte</td>\n",
       "      <td>0.000000</td>\n",
       "      <td>0.000000</td>\n",
       "      <td>0.000000</td>\n",
       "    </tr>\n",
       "    <tr>\n",
       "      <th>206</th>\n",
       "      <td>vascular associated smooth muscle cell</td>\n",
       "      <td>0.000000</td>\n",
       "      <td>0.000000</td>\n",
       "      <td>0.000000</td>\n",
       "    </tr>\n",
       "    <tr>\n",
       "      <th>207</th>\n",
       "      <td>vein endothelial cell</td>\n",
       "      <td>0.750000</td>\n",
       "      <td>1.000000</td>\n",
       "      <td>0.428571</td>\n",
       "    </tr>\n",
       "    <tr>\n",
       "      <th>208</th>\n",
       "      <td>visceral muscle cell</td>\n",
       "      <td>0.000000</td>\n",
       "      <td>0.000000</td>\n",
       "      <td>0.000000</td>\n",
       "    </tr>\n",
       "  </tbody>\n",
       "</table>\n",
       "<p>209 rows × 4 columns</p>\n",
       "</div>"
      ],
      "text/plain": [
       "                                            celltype  precision score  \\\n",
       "0                                             B cell         0.764706   \n",
       "1                             CD14-positive monocyte         0.724138   \n",
       "2    CD14-positive, CD16-negative classical monocyte         0.000000   \n",
       "3              CD141-positive myeloid dendritic cell         0.000000   \n",
       "4               CD1c-positive myeloid dendritic cell         1.000000   \n",
       "..                                               ...              ...   \n",
       "204                           type B pancreatic cell         0.666667   \n",
       "205                               type II pneumocyte         0.000000   \n",
       "206           vascular associated smooth muscle cell         0.000000   \n",
       "207                            vein endothelial cell         0.750000   \n",
       "208                             visceral muscle cell         0.000000   \n",
       "\n",
       "     recall score   f score  \n",
       "0        0.684211  0.361111  \n",
       "1        0.750000  0.368421  \n",
       "2        0.000000  0.000000  \n",
       "3        0.000000  0.000000  \n",
       "4        0.583333  0.368421  \n",
       "..            ...       ...  \n",
       "204      1.000000  0.400000  \n",
       "205      0.000000  0.000000  \n",
       "206      0.000000  0.000000  \n",
       "207      1.000000  0.428571  \n",
       "208      0.000000  0.000000  \n",
       "\n",
       "[209 rows x 4 columns]"
      ]
     },
     "execution_count": 19,
     "metadata": {},
     "output_type": "execute_result"
    }
   ],
   "source": [
    "report"
   ]
  },
  {
   "cell_type": "code",
   "execution_count": 20,
   "metadata": {},
   "outputs": [],
   "source": [
    "def predict_knn(test_data, cell_type):\n",
    "    prediction = []\n",
    "    \n",
    "    \n",
    "    \n",
    "    \n",
    "    \n",
    "    for name, cell_types in cell_types1.groupby(level=0):\n",
    "        if(cell_type in cell_types.index.get_level_values(1)):\n",
    "            pval = cell_types.xs(cell_type, level=1)[\"p_value\"].values[0]\n",
    "            \n",
    "            if(pval <= 0.05):\n",
    "                prediction += [1]\n",
    "            else:\n",
    "                prediction += [0]\n",
    "        else:\n",
    "            prediction += [0]\n",
    "    \n",
    "    return prediction"
   ]
  },
  {
   "cell_type": "code",
   "execution_count": 21,
   "metadata": {},
   "outputs": [],
   "source": [
    "samplenames = [x for x in range(0,len(test_Y_df))]\n",
    "normalize = False\n",
    "most_specific = False\n",
    "sortby_pval = False\n",
    "n_neighbours = 5\n",
    "\n",
    "cell_types1 = cm.classify(\n",
    "            train_Y_df, \n",
    "            test_Y_df,\n",
    "            samplenames, \n",
    "            most_specific, \n",
    "            n_neighbours,\n",
    "            train_dummies_specific,\n",
    "            train_dummies_full\n",
    "        )"
   ]
  },
  {
   "cell_type": "code",
   "execution_count": 22,
   "metadata": {},
   "outputs": [
    {
     "data": {
      "text/html": [
       "<div>\n",
       "<style scoped>\n",
       "    .dataframe tbody tr th:only-of-type {\n",
       "        vertical-align: middle;\n",
       "    }\n",
       "\n",
       "    .dataframe tbody tr th {\n",
       "        vertical-align: top;\n",
       "    }\n",
       "\n",
       "    .dataframe thead th {\n",
       "        text-align: right;\n",
       "    }\n",
       "</style>\n",
       "<table border=\"1\" class=\"dataframe\">\n",
       "  <thead>\n",
       "    <tr style=\"text-align: right;\">\n",
       "      <th></th>\n",
       "      <th></th>\n",
       "      <th>count</th>\n",
       "      <th>enrichment</th>\n",
       "      <th>p_value</th>\n",
       "      <th>total count</th>\n",
       "    </tr>\n",
       "  </thead>\n",
       "  <tbody>\n",
       "    <tr>\n",
       "      <th rowspan=\"5\" valign=\"top\">0</th>\n",
       "      <th>B cell</th>\n",
       "      <td>0.0</td>\n",
       "      <td>0.0</td>\n",
       "      <td>1.0</td>\n",
       "      <td>168.0</td>\n",
       "    </tr>\n",
       "    <tr>\n",
       "      <th>Bm4 B cell</th>\n",
       "      <td>0.0</td>\n",
       "      <td>0.0</td>\n",
       "      <td>1.0</td>\n",
       "      <td>2.0</td>\n",
       "    </tr>\n",
       "    <tr>\n",
       "      <th>CD14-low, CD16-positive monocyte</th>\n",
       "      <td>0.0</td>\n",
       "      <td>0.0</td>\n",
       "      <td>1.0</td>\n",
       "      <td>14.0</td>\n",
       "    </tr>\n",
       "    <tr>\n",
       "      <th>CD14-positive monocyte</th>\n",
       "      <td>0.0</td>\n",
       "      <td>0.0</td>\n",
       "      <td>1.0</td>\n",
       "      <td>302.0</td>\n",
       "    </tr>\n",
       "    <tr>\n",
       "      <th>CD14-positive, CD16-negative classical monocyte</th>\n",
       "      <td>0.0</td>\n",
       "      <td>0.0</td>\n",
       "      <td>1.0</td>\n",
       "      <td>11.0</td>\n",
       "    </tr>\n",
       "    <tr>\n",
       "      <th>...</th>\n",
       "      <th>...</th>\n",
       "      <td>...</td>\n",
       "      <td>...</td>\n",
       "      <td>...</td>\n",
       "      <td>...</td>\n",
       "    </tr>\n",
       "    <tr>\n",
       "      <th rowspan=\"5\" valign=\"top\">683</th>\n",
       "      <th>umbilical artery endothelial cell</th>\n",
       "      <td>0.0</td>\n",
       "      <td>0.0</td>\n",
       "      <td>1.0</td>\n",
       "      <td>1.0</td>\n",
       "    </tr>\n",
       "    <tr>\n",
       "      <th>unswitched memory B cell</th>\n",
       "      <td>0.0</td>\n",
       "      <td>0.0</td>\n",
       "      <td>1.0</td>\n",
       "      <td>4.0</td>\n",
       "    </tr>\n",
       "    <tr>\n",
       "      <th>vascular associated smooth muscle cell</th>\n",
       "      <td>0.0</td>\n",
       "      <td>0.0</td>\n",
       "      <td>1.0</td>\n",
       "      <td>5.0</td>\n",
       "    </tr>\n",
       "    <tr>\n",
       "      <th>vein endothelial cell</th>\n",
       "      <td>0.0</td>\n",
       "      <td>0.0</td>\n",
       "      <td>1.0</td>\n",
       "      <td>67.0</td>\n",
       "    </tr>\n",
       "    <tr>\n",
       "      <th>visceral muscle cell</th>\n",
       "      <td>0.0</td>\n",
       "      <td>0.0</td>\n",
       "      <td>1.0</td>\n",
       "      <td>5.0</td>\n",
       "    </tr>\n",
       "  </tbody>\n",
       "</table>\n",
       "<p>216828 rows × 4 columns</p>\n",
       "</div>"
      ],
      "text/plain": [
       "                                                     count  enrichment  \\\n",
       "0   B cell                                             0.0         0.0   \n",
       "    Bm4 B cell                                         0.0         0.0   \n",
       "    CD14-low, CD16-positive monocyte                   0.0         0.0   \n",
       "    CD14-positive monocyte                             0.0         0.0   \n",
       "    CD14-positive, CD16-negative classical monocyte    0.0         0.0   \n",
       "...                                                    ...         ...   \n",
       "683 umbilical artery endothelial cell                  0.0         0.0   \n",
       "    unswitched memory B cell                           0.0         0.0   \n",
       "    vascular associated smooth muscle cell             0.0         0.0   \n",
       "    vein endothelial cell                              0.0         0.0   \n",
       "    visceral muscle cell                               0.0         0.0   \n",
       "\n",
       "                                                     p_value  total count  \n",
       "0   B cell                                               1.0        168.0  \n",
       "    Bm4 B cell                                           1.0          2.0  \n",
       "    CD14-low, CD16-positive monocyte                     1.0         14.0  \n",
       "    CD14-positive monocyte                               1.0        302.0  \n",
       "    CD14-positive, CD16-negative classical monocyte      1.0         11.0  \n",
       "...                                                      ...          ...  \n",
       "683 umbilical artery endothelial cell                    1.0          1.0  \n",
       "    unswitched memory B cell                             1.0          4.0  \n",
       "    vascular associated smooth muscle cell               1.0          5.0  \n",
       "    vein endothelial cell                                1.0         67.0  \n",
       "    visceral muscle cell                                 1.0          5.0  \n",
       "\n",
       "[216828 rows x 4 columns]"
      ]
     },
     "execution_count": 22,
     "metadata": {},
     "output_type": "execute_result"
    }
   ],
   "source": [
    "cell_types1"
   ]
  },
  {
   "cell_type": "code",
   "execution_count": 23,
   "metadata": {},
   "outputs": [],
   "source": [
    "def KNN_classify():\n",
    "    \n",
    "    warnings.filterwarnings('ignore') #gets rid of sklearn convergence warning\n",
    "\n",
    "    successful_celltypes = []\n",
    "    unsuccessful_celltypes = []\n",
    "    test_prs = []\n",
    "    test_precision = []\n",
    "    test_recall = []\n",
    "    fscores = []\n",
    "    \n",
    "    \n",
    "    \n",
    "    for cell_type in tqdm(all_types):\n",
    "\n",
    "\n",
    "        train_target, train_test, train_data, test_data = set_target(\n",
    "            cell_type, type2samples, train_Y_df, test_Y_df, oversample=True,\n",
    "            max_neg_pos_ratio=2\n",
    "        )\n",
    "        \n",
    "        if(1 in train_target and 1 in train_test and 0 in train_target and 0 in train_test):\n",
    "            # lasso penalty\n",
    "\n",
    "            target_pred = predict_knn(test_data.T, cell_type)\n",
    "            test_pr = metrics.average_precision_score(train_test, target_pred)\n",
    "            test_precision += [precision_score(train_test, target_pred)]\n",
    "            test_recall += [recall_score(train_test, target_pred)]\n",
    "            fscores += [fscore(test_precision[-1], test_recall[-1])]\n",
    "            successful_celltypes += [cell_type]\n",
    "            #plot precision recall curve for celltype\n",
    "            disp = plot_precision_recall_curve(clf, test_data, train_test)\n",
    "            disp.ax_.set_title('2-class Precision-Recall curve '+str(cell_type)+': AP={0:0.2f}'.format(test_pr))\n",
    "        else:\n",
    "            unsuccessful_celltypes += [cell_type]\n",
    "\n",
    "    p = np.mean(test_precision)\n",
    "    r = np.mean(test_recall)\n",
    "    f = np.mean(fscores)\n",
    "    f_micro = fscore(p, r) \n",
    "    \n",
    "    print(f'precision: {p:.4f}, recall: {r:.4f}, f1: {f:.4f}, f1 micro avg: {f_micro:.4f}')#\n",
    "    \n",
    "    report = pd.DataFrame(list(zip(successful_celltypes,test_precision,test_recall, fscores)),\n",
    "                          columns = [\"celltype\",\"precision score\",\"recall score\",\"f score\"])\n",
    "    return report"
   ]
  },
  {
   "cell_type": "code",
   "execution_count": 24,
   "metadata": {},
   "outputs": [
    {
     "data": {
      "application/vnd.jupyter.widget-view+json": {
       "model_id": "267cb831264e45a39c086a57489ee162",
       "version_major": 2,
       "version_minor": 0
      },
      "text/plain": [
       "HBox(children=(HTML(value=''), FloatProgress(value=0.0, max=317.0), HTML(value='')))"
      ]
     },
     "metadata": {},
     "output_type": "display_data"
    },
    {
     "name": "stdout",
     "output_type": "stream",
     "text": [
      "\n",
      "precision: 0.5731, recall: 0.6554, f1: 0.2727, f1 micro avg: 0.3057\n"
     ]
    }
   ],
   "source": [
    "report1 = KNN_classify()"
   ]
  },
  {
   "cell_type": "code",
   "execution_count": 25,
   "metadata": {},
   "outputs": [
    {
     "data": {
      "text/html": [
       "<div>\n",
       "<style scoped>\n",
       "    .dataframe tbody tr th:only-of-type {\n",
       "        vertical-align: middle;\n",
       "    }\n",
       "\n",
       "    .dataframe tbody tr th {\n",
       "        vertical-align: top;\n",
       "    }\n",
       "\n",
       "    .dataframe thead th {\n",
       "        text-align: right;\n",
       "    }\n",
       "</style>\n",
       "<table border=\"1\" class=\"dataframe\">\n",
       "  <thead>\n",
       "    <tr style=\"text-align: right;\">\n",
       "      <th></th>\n",
       "      <th>celltype</th>\n",
       "      <th>precision score</th>\n",
       "      <th>recall score</th>\n",
       "      <th>f score</th>\n",
       "    </tr>\n",
       "  </thead>\n",
       "  <tbody>\n",
       "    <tr>\n",
       "      <th>0</th>\n",
       "      <td>B cell</td>\n",
       "      <td>0.565217</td>\n",
       "      <td>0.684211</td>\n",
       "      <td>0.309524</td>\n",
       "    </tr>\n",
       "    <tr>\n",
       "      <th>1</th>\n",
       "      <td>CD14-positive monocyte</td>\n",
       "      <td>0.638889</td>\n",
       "      <td>0.821429</td>\n",
       "      <td>0.359375</td>\n",
       "    </tr>\n",
       "    <tr>\n",
       "      <th>2</th>\n",
       "      <td>CD14-positive, CD16-negative classical monocyte</td>\n",
       "      <td>0.000000</td>\n",
       "      <td>0.000000</td>\n",
       "      <td>0.000000</td>\n",
       "    </tr>\n",
       "    <tr>\n",
       "      <th>3</th>\n",
       "      <td>CD141-positive myeloid dendritic cell</td>\n",
       "      <td>1.000000</td>\n",
       "      <td>0.666667</td>\n",
       "      <td>0.400000</td>\n",
       "    </tr>\n",
       "    <tr>\n",
       "      <th>4</th>\n",
       "      <td>CD1c-positive myeloid dendritic cell</td>\n",
       "      <td>0.545455</td>\n",
       "      <td>1.000000</td>\n",
       "      <td>0.352941</td>\n",
       "    </tr>\n",
       "    <tr>\n",
       "      <th>...</th>\n",
       "      <td>...</td>\n",
       "      <td>...</td>\n",
       "      <td>...</td>\n",
       "      <td>...</td>\n",
       "    </tr>\n",
       "    <tr>\n",
       "      <th>204</th>\n",
       "      <td>type B pancreatic cell</td>\n",
       "      <td>0.105263</td>\n",
       "      <td>1.000000</td>\n",
       "      <td>0.095238</td>\n",
       "    </tr>\n",
       "    <tr>\n",
       "      <th>205</th>\n",
       "      <td>type II pneumocyte</td>\n",
       "      <td>0.000000</td>\n",
       "      <td>0.000000</td>\n",
       "      <td>0.000000</td>\n",
       "    </tr>\n",
       "    <tr>\n",
       "      <th>206</th>\n",
       "      <td>vascular associated smooth muscle cell</td>\n",
       "      <td>1.000000</td>\n",
       "      <td>1.000000</td>\n",
       "      <td>0.500000</td>\n",
       "    </tr>\n",
       "    <tr>\n",
       "      <th>207</th>\n",
       "      <td>vein endothelial cell</td>\n",
       "      <td>0.750000</td>\n",
       "      <td>1.000000</td>\n",
       "      <td>0.428571</td>\n",
       "    </tr>\n",
       "    <tr>\n",
       "      <th>208</th>\n",
       "      <td>visceral muscle cell</td>\n",
       "      <td>1.000000</td>\n",
       "      <td>1.000000</td>\n",
       "      <td>0.500000</td>\n",
       "    </tr>\n",
       "  </tbody>\n",
       "</table>\n",
       "<p>209 rows × 4 columns</p>\n",
       "</div>"
      ],
      "text/plain": [
       "                                            celltype  precision score  \\\n",
       "0                                             B cell         0.565217   \n",
       "1                             CD14-positive monocyte         0.638889   \n",
       "2    CD14-positive, CD16-negative classical monocyte         0.000000   \n",
       "3              CD141-positive myeloid dendritic cell         1.000000   \n",
       "4               CD1c-positive myeloid dendritic cell         0.545455   \n",
       "..                                               ...              ...   \n",
       "204                           type B pancreatic cell         0.105263   \n",
       "205                               type II pneumocyte         0.000000   \n",
       "206           vascular associated smooth muscle cell         1.000000   \n",
       "207                            vein endothelial cell         0.750000   \n",
       "208                             visceral muscle cell         1.000000   \n",
       "\n",
       "     recall score   f score  \n",
       "0        0.684211  0.309524  \n",
       "1        0.821429  0.359375  \n",
       "2        0.000000  0.000000  \n",
       "3        0.666667  0.400000  \n",
       "4        1.000000  0.352941  \n",
       "..            ...       ...  \n",
       "204      1.000000  0.095238  \n",
       "205      0.000000  0.000000  \n",
       "206      1.000000  0.500000  \n",
       "207      1.000000  0.428571  \n",
       "208      1.000000  0.500000  \n",
       "\n",
       "[209 rows x 4 columns]"
      ]
     },
     "execution_count": 25,
     "metadata": {},
     "output_type": "execute_result"
    }
   ],
   "source": [
    "report1\n"
   ]
  },
  {
   "cell_type": "code",
   "execution_count": 26,
   "metadata": {},
   "outputs": [],
   "source": [
    "f_LR = report[\"f score\"]\n",
    "f_KNN = report1[\"f score\"]\n",
    "index = report[\"celltype\"]"
   ]
  },
  {
   "cell_type": "code",
   "execution_count": 49,
   "metadata": {},
   "outputs": [
    {
     "data": {
      "text/plain": [
       "False    135\n",
       "True      74\n",
       "Name: f score, dtype: int64"
      ]
     },
     "execution_count": 49,
     "metadata": {},
     "output_type": "execute_result"
    }
   ],
   "source": [
    "data = f_LR < f_KNN\n",
    "data.index = index\n",
    "data.value_counts()"
   ]
  },
  {
   "cell_type": "code",
   "execution_count": 50,
   "metadata": {},
   "outputs": [
    {
     "data": {
      "text/plain": [
       "['CD141-positive myeloid dendritic cell',\n",
       " 'CD4-positive helper T cell',\n",
       " 'CD4-positive, CXCR3-negative, CCR6-negative, alpha-beta T cell',\n",
       " 'CD7-negative lymphoid progenitor OR granulocyte monocyte progenitor',\n",
       " 'CNS neuron (sensu Vertebrata)',\n",
       " 'T-helper 2 cell',\n",
       " 'alveolar macrophage',\n",
       " 'antibody secreting cell',\n",
       " 'astrocyte',\n",
       " 'basal cell of prostate epithelium',\n",
       " 'bone cell',\n",
       " 'bone marrow cell',\n",
       " 'bone marrow hematopoietic cell',\n",
       " 'central nervous system neuron',\n",
       " 'contractile cell',\n",
       " 'conventional dendritic cell',\n",
       " 'cumulus cell',\n",
       " 'dendritic cell',\n",
       " 'dendritic cell, human',\n",
       " 'ecto-epithelial cell',\n",
       " 'effector T cell',\n",
       " 'effector memory CD4-positive, alpha-beta T cell',\n",
       " 'electrically active cell',\n",
       " 'electrically responsive cell',\n",
       " 'electrically signaling cell',\n",
       " 'endothelial cell',\n",
       " 'epidermal cell',\n",
       " 'epithelial cell of lung',\n",
       " 'epithelial cell of prostate',\n",
       " 'erythrocyte',\n",
       " 'erythroid lineage cell',\n",
       " 'female germ cell',\n",
       " 'fibroblast',\n",
       " 'follicular cell of ovary',\n",
       " 'general ecto-epithelial cell',\n",
       " 'glucagon secreting cell',\n",
       " 'granulocyte monocyte progenitor cell',\n",
       " 'granulosa cell',\n",
       " 'helper T cell',\n",
       " 'hematopoietic oligopotent progenitor cell, lineage-negative',\n",
       " 'hematopoietic stem cell',\n",
       " 'keratin accumulating cell',\n",
       " 'keratinizing barrier epithelial cell',\n",
       " 'keratinocyte',\n",
       " 'luminal cell of prostate epithelium',\n",
       " 'lymphocyte',\n",
       " 'lymphocyte of B lineage',\n",
       " 'macroglial cell',\n",
       " 'macrophage',\n",
       " 'mature B cell',\n",
       " 'muscle cell',\n",
       " 'muscle precursor cell',\n",
       " 'myeloid dendritic cell',\n",
       " 'myeloid dendritic cell, human',\n",
       " 'myoblast',\n",
       " 'neural cell',\n",
       " 'neuron',\n",
       " 'neutrophil',\n",
       " 'non-striated muscle cell',\n",
       " 'oxygen accumulating cell',\n",
       " 'pancreatic A cell',\n",
       " 'phagocyte',\n",
       " 'plasmablast',\n",
       " 'smooth muscle cell',\n",
       " 'somatic stem cell',\n",
       " 'squamous epithelial cell',\n",
       " 'steroid hormone secreting cell',\n",
       " 'stratified epithelial cell',\n",
       " 'stratified squamous epithelial cell',\n",
       " 'stuff accumulating cell',\n",
       " 'trophectodermal cell',\n",
       " 'type A enterocrine cell',\n",
       " 'vascular associated smooth muscle cell',\n",
       " 'visceral muscle cell']"
      ]
     },
     "execution_count": 50,
     "metadata": {},
     "output_type": "execute_result"
    }
   ],
   "source": [
    "cellt = data[data == True]\n",
    "cellt = cellt.index\n",
    "cellt.tolist()"
   ]
  },
  {
   "cell_type": "code",
   "execution_count": 88,
   "metadata": {},
   "outputs": [],
   "source": [
    "diff = (f_KNN - f_LR)\n",
    "diff.index  = index"
   ]
  },
  {
   "cell_type": "code",
   "execution_count": 92,
   "metadata": {},
   "outputs": [
    {
     "data": {
      "text/plain": [
       "celltype\n",
       "visceral muscle cell                      0.500000\n",
       "vascular associated smooth muscle cell    0.500000\n",
       "oxygen accumulating cell                  0.500000\n",
       "muscle cell                               0.500000\n",
       "smooth muscle cell                        0.500000\n",
       "                                            ...   \n",
       "myeloid dendritic cell                    0.005495\n",
       "myeloid dendritic cell, human             0.005495\n",
       "dendritic cell                            0.005217\n",
       "alveolar macrophage                       0.002907\n",
       "bone cell                                 0.002387\n",
       "Name: f score, Length: 74, dtype: float64"
      ]
     },
     "execution_count": 92,
     "metadata": {},
     "output_type": "execute_result"
    }
   ],
   "source": [
    "diff = diff[data == True].sort_values(ascending = False)\n",
    "diff"
   ]
  },
  {
   "cell_type": "code",
   "execution_count": 93,
   "metadata": {},
   "outputs": [
    {
     "data": {
      "text/plain": [
       "<AxesSubplot:ylabel='celltype'>"
      ]
     },
     "execution_count": 93,
     "metadata": {},
     "output_type": "execute_result"
    },
    {
     "data": {
      "image/png": "[encoded data removed]",
      "text/plain": [
       "<Figure size 720x1440 with 1 Axes>"
      ]
     },
     "metadata": {
      "needs_background": "light"
     },
     "output_type": "display_data"
    }
   ],
   "source": [
    "diff.plot.barh(figsize=(10,20))"
   ]
  },
  {
   "cell_type": "code",
   "execution_count": 95,
   "metadata": {},
   "outputs": [],
   "source": [
    "import matplotlib.pyplot as plt\n",
    "import seaborn as sns"
   ]
  },
  {
   "cell_type": "code",
   "execution_count": 102,
   "metadata": {},
   "outputs": [
    {
     "data": {
      "text/html": [
       "<div>\n",
       "<style scoped>\n",
       "    .dataframe tbody tr th:only-of-type {\n",
       "        vertical-align: middle;\n",
       "    }\n",
       "\n",
       "    .dataframe tbody tr th {\n",
       "        vertical-align: top;\n",
       "    }\n",
       "\n",
       "    .dataframe thead th {\n",
       "        text-align: right;\n",
       "    }\n",
       "</style>\n",
       "<table border=\"1\" class=\"dataframe\">\n",
       "  <thead>\n",
       "    <tr style=\"text-align: right;\">\n",
       "      <th></th>\n",
       "      <th>f score KNN</th>\n",
       "      <th>f score LR</th>\n",
       "    </tr>\n",
       "    <tr>\n",
       "      <th>celltype</th>\n",
       "      <th></th>\n",
       "      <th></th>\n",
       "    </tr>\n",
       "  </thead>\n",
       "  <tbody>\n",
       "    <tr>\n",
       "      <th>B cell</th>\n",
       "      <td>0.309524</td>\n",
       "      <td>0.361111</td>\n",
       "    </tr>\n",
       "    <tr>\n",
       "      <th>CD14-positive monocyte</th>\n",
       "      <td>0.359375</td>\n",
       "      <td>0.368421</td>\n",
       "    </tr>\n",
       "    <tr>\n",
       "      <th>CD14-positive, CD16-negative classical monocyte</th>\n",
       "      <td>0.000000</td>\n",
       "      <td>0.000000</td>\n",
       "    </tr>\n",
       "    <tr>\n",
       "      <th>CD141-positive myeloid dendritic cell</th>\n",
       "      <td>0.400000</td>\n",
       "      <td>0.000000</td>\n",
       "    </tr>\n",
       "    <tr>\n",
       "      <th>CD1c-positive myeloid dendritic cell</th>\n",
       "      <td>0.352941</td>\n",
       "      <td>0.368421</td>\n",
       "    </tr>\n",
       "    <tr>\n",
       "      <th>...</th>\n",
       "      <td>...</td>\n",
       "      <td>...</td>\n",
       "    </tr>\n",
       "    <tr>\n",
       "      <th>type B pancreatic cell</th>\n",
       "      <td>0.095238</td>\n",
       "      <td>0.400000</td>\n",
       "    </tr>\n",
       "    <tr>\n",
       "      <th>type II pneumocyte</th>\n",
       "      <td>0.000000</td>\n",
       "      <td>0.000000</td>\n",
       "    </tr>\n",
       "    <tr>\n",
       "      <th>vascular associated smooth muscle cell</th>\n",
       "      <td>0.500000</td>\n",
       "      <td>0.000000</td>\n",
       "    </tr>\n",
       "    <tr>\n",
       "      <th>vein endothelial cell</th>\n",
       "      <td>0.428571</td>\n",
       "      <td>0.428571</td>\n",
       "    </tr>\n",
       "    <tr>\n",
       "      <th>visceral muscle cell</th>\n",
       "      <td>0.500000</td>\n",
       "      <td>0.000000</td>\n",
       "    </tr>\n",
       "  </tbody>\n",
       "</table>\n",
       "<p>209 rows × 2 columns</p>\n",
       "</div>"
      ],
      "text/plain": [
       "                                                 f score KNN  f score LR\n",
       "celltype                                                                \n",
       "B cell                                              0.309524    0.361111\n",
       "CD14-positive monocyte                              0.359375    0.368421\n",
       "CD14-positive, CD16-negative classical monocyte     0.000000    0.000000\n",
       "CD141-positive myeloid dendritic cell               0.400000    0.000000\n",
       "CD1c-positive myeloid dendritic cell                0.352941    0.368421\n",
       "...                                                      ...         ...\n",
       "type B pancreatic cell                              0.095238    0.400000\n",
       "type II pneumocyte                                  0.000000    0.000000\n",
       "vascular associated smooth muscle cell              0.500000    0.000000\n",
       "vein endothelial cell                               0.428571    0.428571\n",
       "visceral muscle cell                                0.500000    0.000000\n",
       "\n",
       "[209 rows x 2 columns]"
      ]
     },
     "execution_count": 102,
     "metadata": {},
     "output_type": "execute_result"
    }
   ],
   "source": [
    "df = pd.concat([f_KNN,f_LR], axis=1)\n",
    "df.columns = [\"f score KNN\",\"f score LR\"]\n",
    "df.index = index\n",
    "df"
   ]
  },
  {
   "cell_type": "code",
   "execution_count": 109,
   "metadata": {},
   "outputs": [
    {
     "data": {
      "image/png": "[encoded data removed]",
      "text/plain": [
       "<Figure size 432x288 with 1 Axes>"
      ]
     },
     "metadata": {
      "needs_background": "light"
     },
     "output_type": "display_data"
    }
   ],
   "source": [
    "sns.boxplot( data=df)\n",
    "\n",
    "plt.show()"
   ]
  },
  {
   "cell_type": "code",
   "execution_count": null,
   "metadata": {},
   "outputs": [],
   "source": []
  }
 ],
 "metadata": {
  "kernelspec": {
   "display_name": "Python 3",
   "language": "python",
   "name": "python3"
  },
  "language_info": {
   "codemirror_mode": {
    "name": "ipython",
    "version": 3
   },
   "file_extension": ".py",
   "mimetype": "text/x-python",
   "name": "python",
   "nbconvert_exporter": "python",
   "pygments_lexer": "ipython3",
   "version": "3.8.5"
  },
  "widgets": {
   "application/vnd.jupyter.widget-state+json": {
    "state": {
     "01c9544fd182484d82bc70ba8123846a": {
      "model_module": "@jupyter-widgets/base",
      "model_module_version": "1.2.0",
      "model_name": "LayoutModel",
      "state": {}
     },
     "020224d648934111a7e1973f2ae137d2": {
      "model_module": "@jupyter-widgets/base",
      "model_module_version": "1.2.0",
      "model_name": "LayoutModel",
      "state": {}
     },
     "053f29f60a244ab0929c40c293a166a0": {
      "model_module": "@jupyter-widgets/controls",
      "model_module_version": "1.5.0",
      "model_name": "DescriptionStyleModel",
      "state": {
       "description_width": ""
      }
     },
     "06a51f306f354a329bbba4f2a4d0eccf": {
      "model_module": "@jupyter-widgets/base",
      "model_module_version": "1.2.0",
      "model_name": "LayoutModel",
      "state": {}
     },
     "08972f0496ba4bf4a95c80c398a56720": {
      "model_module": "@jupyter-widgets/controls",
      "model_module_version": "1.5.0",
      "model_name": "DescriptionStyleModel",
      "state": {
       "description_width": ""
      }
     },
     "09280e4c08b4447d8e19f6aefc82e943": {
      "model_module": "@jupyter-widgets/controls",
      "model_module_version": "1.5.0",
      "model_name": "DescriptionStyleModel",
      "state": {
       "description_width": ""
      }
     },
     "0a444318c21c4fe8a86d19749c9cfb7f": {
      "model_module": "@jupyter-widgets/controls",
      "model_module_version": "1.5.0",
      "model_name": "ProgressStyleModel",
      "state": {
       "description_width": ""
      }
     },
     "0a67a070777041389c8587a98ff5b397": {
      "model_module": "@jupyter-widgets/controls",
      "model_module_version": "1.5.0",
      "model_name": "DescriptionStyleModel",
      "state": {
       "description_width": ""
      }
     },
     "0ac6ff4139d54c40b4e1b867e8aca847": {
      "model_module": "@jupyter-widgets/controls",
      "model_module_version": "1.5.0",
      "model_name": "HBoxModel",
      "state": {
       "children": [
        "IPY_MODEL_3de3c4b83022486eb17bdd4d0e101185",
        "IPY_MODEL_47250c65980d40f88874eda3480efaa1",
        "IPY_MODEL_823da6b324884e708ad6448b8f6cd844"
       ],
       "layout": "IPY_MODEL_5dbc527dec314360ac27b79f62439f1e"
      }
     },
     "0b3a86bf5df5428ab8a146932b07b065": {
      "model_module": "@jupyter-widgets/base",
      "model_module_version": "1.2.0",
      "model_name": "LayoutModel",
      "state": {}
     },
     "0bf2f968f0204144a56324e87a37eba9": {
      "model_module": "@jupyter-widgets/base",
      "model_module_version": "1.2.0",
      "model_name": "LayoutModel",
      "state": {}
     },
     "0c046aa832fe49a981e10403d11ce564": {
      "model_module": "@jupyter-widgets/controls",
      "model_module_version": "1.5.0",
      "model_name": "HBoxModel",
      "state": {
       "children": [
        "IPY_MODEL_e550ae65aa944f34b4596dec139b3f85",
        "IPY_MODEL_63bf84a4e0c740209dda4722267295aa",
        "IPY_MODEL_d43ab36dafdb489ab5842fcb3cedb0a8"
       ],
       "layout": "IPY_MODEL_cd6403680d8a4fc5bb5cfcbe8572098e"
      }
     },
     "0c3181ded48d4c26b094a87098bc98b6": {
      "model_module": "@jupyter-widgets/controls",
      "model_module_version": "1.5.0",
      "model_name": "HTMLModel",
      "state": {
       "layout": "IPY_MODEL_2e57daa4543f4f4cab5899bc6d2840f2",
       "style": "IPY_MODEL_676a7b2d3fae41819f7496343a95cf13",
       "value": "  0%"
      }
     },
     "0c9d7a98f4394036952baddac8a77a78": {
      "model_module": "@jupyter-widgets/controls",
      "model_module_version": "1.5.0",
      "model_name": "ProgressStyleModel",
      "state": {
       "description_width": ""
      }
     },
     "0de13e7cab3447d1b242ab82549a2cac": {
      "model_module": "@jupyter-widgets/controls",
      "model_module_version": "1.5.0",
      "model_name": "DescriptionStyleModel",
      "state": {
       "description_width": ""
      }
     },
     "0f7c397b09e748ffb6402f86ffae20a3": {
      "model_module": "@jupyter-widgets/controls",
      "model_module_version": "1.5.0",
      "model_name": "HTMLModel",
      "state": {
       "layout": "IPY_MODEL_c43e48eacb8b498eb8c9ab2ebf40c36e",
       "style": "IPY_MODEL_77eddc2dda784d21a49e31e969ae99eb",
       "value": " 0/10 [00:00&lt;?, ?it/s]"
      }
     },
     "12aa8956383549e58b2f86fc7d3de115": {
      "model_module": "@jupyter-widgets/controls",
      "model_module_version": "1.5.0",
      "model_name": "DescriptionStyleModel",
      "state": {
       "description_width": ""
      }
     },
     "1301ff20030a4518a4561f91b76d8f6f": {
      "model_module": "@jupyter-widgets/controls",
      "model_module_version": "1.5.0",
      "model_name": "HTMLModel",
      "state": {
       "layout": "IPY_MODEL_2ecd74acc1694c8abf4363adb98d63d4",
       "style": "IPY_MODEL_dcef369711e8426d804cfb52854ab1b0",
       "value": " 684/684 [00:00&lt;00:00, 1623.52it/s]"
      }
     },
     "130f042d9aa94cacac7c21ffc3bcb3ab": {
      "model_module": "@jupyter-widgets/controls",
      "model_module_version": "1.5.0",
      "model_name": "HTMLModel",
      "state": {
       "layout": "IPY_MODEL_637354c5e4f94a499d3d899d0c0be7ae",
       "style": "IPY_MODEL_4e2ed946df3a4a5cba20e5bf226aab44",
       "value": "100%"
      }
     },
     "14a584965d36480e8e9465dd68dbca58": {
      "model_module": "@jupyter-widgets/base",
      "model_module_version": "1.2.0",
      "model_name": "LayoutModel",
      "state": {}
     },
     "153412e55a8448f09d44a3f3ceaee566": {
      "model_module": "@jupyter-widgets/controls",
      "model_module_version": "1.5.0",
      "model_name": "ProgressStyleModel",
      "state": {
       "description_width": ""
      }
     },
     "15513680ee134e14a87c784a7097abfb": {
      "model_module": "@jupyter-widgets/controls",
      "model_module_version": "1.5.0",
      "model_name": "ProgressStyleModel",
      "state": {
       "description_width": ""
      }
     },
     "159a9c84f84e49afaea756cbb127ddf7": {
      "model_module": "@jupyter-widgets/controls",
      "model_module_version": "1.5.0",
      "model_name": "HTMLModel",
      "state": {
       "layout": "IPY_MODEL_d7ce78040c204386a0529ee7a820495a",
       "style": "IPY_MODEL_274dbdf6491f4f0db8b08da78db0c2e8",
       "value": " 0/10 [00:00&lt;?, ?it/s]"
      }
     },
     "1847d79be9334178a5cfad153ad382e3": {
      "model_module": "@jupyter-widgets/controls",
      "model_module_version": "1.5.0",
      "model_name": "HTMLModel",
      "state": {
       "layout": "IPY_MODEL_5138ffd065f04274a07653cc1f6e417f",
       "style": "IPY_MODEL_2b875f1a912b47ac89befb610de2eb7f",
       "value": " 0/106 [00:00&lt;?, ?it/s]"
      }
     },
     "1d9bbd764f9c48d8b11a0b99f6b63b05": {
      "model_module": "@jupyter-widgets/controls",
      "model_module_version": "1.5.0",
      "model_name": "ProgressStyleModel",
      "state": {
       "description_width": ""
      }
     },
     "1dea9fbed01a42348367aa5b9504aa76": {
      "model_module": "@jupyter-widgets/base",
      "model_module_version": "1.2.0",
      "model_name": "LayoutModel",
      "state": {}
     },
     "1f5ba7e6164b47d383757fd87f59cf95": {
      "model_module": "@jupyter-widgets/base",
      "model_module_version": "1.2.0",
      "model_name": "LayoutModel",
      "state": {}
     },
     "24f95f22e1944d888e64c6f9e9e20bbb": {
      "model_module": "@jupyter-widgets/controls",
      "model_module_version": "1.5.0",
      "model_name": "HTMLModel",
      "state": {
       "layout": "IPY_MODEL_fcd4a21a02e34bdbb3faef6ac96e3b81",
       "style": "IPY_MODEL_27e9c3274ea34e2fba589c56d7b75889",
       "value": " 10/10 [00:14&lt;00:00,  1.24s/it]"
      }
     },
     "2596aeecbb8848f1951961f2ece9c8f7": {
      "model_module": "@jupyter-widgets/controls",
      "model_module_version": "1.5.0",
      "model_name": "HBoxModel",
      "state": {
       "children": [
        "IPY_MODEL_130f042d9aa94cacac7c21ffc3bcb3ab",
        "IPY_MODEL_4340373d2f18419792185372940517da",
        "IPY_MODEL_d665c2b89528474c972ba0cb2f75e7ce"
       ],
       "layout": "IPY_MODEL_6c5fc320983e4c55a99ee02af3c23e5b"
      }
     },
     "274dbdf6491f4f0db8b08da78db0c2e8": {
      "model_module": "@jupyter-widgets/controls",
      "model_module_version": "1.5.0",
      "model_name": "DescriptionStyleModel",
      "state": {
       "description_width": ""
      }
     },
     "27e9c3274ea34e2fba589c56d7b75889": {
      "model_module": "@jupyter-widgets/controls",
      "model_module_version": "1.5.0",
      "model_name": "DescriptionStyleModel",
      "state": {
       "description_width": ""
      }
     },
     "28acb3c61499480a9780d8351c723431": {
      "model_module": "@jupyter-widgets/base",
      "model_module_version": "1.2.0",
      "model_name": "LayoutModel",
      "state": {}
     },
     "2a8a5a52937b4a1bb387c5c6b6f5ebdc": {
      "model_module": "@jupyter-widgets/controls",
      "model_module_version": "1.5.0",
      "model_name": "HTMLModel",
      "state": {
       "layout": "IPY_MODEL_96df8dcafed84de8ac2a7ad783ea90ad",
       "style": "IPY_MODEL_5ae765690e534164a393c5b185a38f8d",
       "value": " 106/106 [00:00&lt;00:00, 4610.65it/s]"
      }
     },
     "2b875f1a912b47ac89befb610de2eb7f": {
      "model_module": "@jupyter-widgets/controls",
      "model_module_version": "1.5.0",
      "model_name": "DescriptionStyleModel",
      "state": {
       "description_width": ""
      }
     },
     "2ddcd718deb043f2b2cd8266327bf650": {
      "model_module": "@jupyter-widgets/controls",
      "model_module_version": "1.5.0",
      "model_name": "FloatProgressModel",
      "state": {
       "bar_style": "danger",
       "layout": "IPY_MODEL_a0f3cf51a0a643af8b631f3ec80773a3",
       "max": 106,
       "style": "IPY_MODEL_4d32417871774538a40c7ebaa7843da0"
      }
     },
     "2e57daa4543f4f4cab5899bc6d2840f2": {
      "model_module": "@jupyter-widgets/base",
      "model_module_version": "1.2.0",
      "model_name": "LayoutModel",
      "state": {}
     },
     "2e6847e7b22446dd99052efb055430cf": {
      "model_module": "@jupyter-widgets/base",
      "model_module_version": "1.2.0",
      "model_name": "LayoutModel",
      "state": {}
     },
     "2ecd74acc1694c8abf4363adb98d63d4": {
      "model_module": "@jupyter-widgets/base",
      "model_module_version": "1.2.0",
      "model_name": "LayoutModel",
      "state": {}
     },
     "2f2bc42ace1445f2a7f6a3a2797c937e": {
      "model_module": "@jupyter-widgets/controls",
      "model_module_version": "1.5.0",
      "model_name": "HTMLModel",
      "state": {
       "layout": "IPY_MODEL_cbb957072b474f6cbe2700ace1c5af58",
       "style": "IPY_MODEL_12aa8956383549e58b2f86fc7d3de115",
       "value": "  0%"
      }
     },
     "3067e913f32045f48cbe7572aeab8f12": {
      "model_module": "@jupyter-widgets/controls",
      "model_module_version": "1.5.0",
      "model_name": "HBoxModel",
      "state": {
       "children": [
        "IPY_MODEL_ea1c107ecd68438382d4fdb412f4620b",
        "IPY_MODEL_6400e30bb8b24a6e97258f0ce5083ed3",
        "IPY_MODEL_7dfcd288b9d347fd9869f6bb3ac7f87f"
       ],
       "layout": "IPY_MODEL_3fcc043e3ede4d23b5e712fb16e0d153"
      }
     },
     "30ad49fe52d34fdda7a3b6bf639b1e44": {
      "model_module": "@jupyter-widgets/controls",
      "model_module_version": "1.5.0",
      "model_name": "DescriptionStyleModel",
      "state": {
       "description_width": ""
      }
     },
     "34a1ee7e4707475690bff8375e181e9f": {
      "model_module": "@jupyter-widgets/controls",
      "model_module_version": "1.5.0",
      "model_name": "HBoxModel",
      "state": {
       "children": [
        "IPY_MODEL_f5fe8946c97e43399e01ff76b511cf5b",
        "IPY_MODEL_7be38f6e20984176a1b69f6ab95373e9",
        "IPY_MODEL_db9276254cc5449ab2eae8c681966e16"
       ],
       "layout": "IPY_MODEL_8d27abccc95949069b6c7c7bcd81e8c9"
      }
     },
     "367c7fd80ef84b1e82bb1525bab13c10": {
      "model_module": "@jupyter-widgets/controls",
      "model_module_version": "1.5.0",
      "model_name": "HTMLModel",
      "state": {
       "layout": "IPY_MODEL_0b3a86bf5df5428ab8a146932b07b065",
       "style": "IPY_MODEL_8484fe92616e4c348f87e073c899c71d",
       "value": "  0%"
      }
     },
     "378b5e86dbab4c928b33d2fff805c24d": {
      "model_module": "@jupyter-widgets/controls",
      "model_module_version": "1.5.0",
      "model_name": "HTMLModel",
      "state": {
       "layout": "IPY_MODEL_68d6f2e28d664eb2bacf5b041451f335",
       "style": "IPY_MODEL_cd95ee7a2b904abe9f873b1f8e7141c1",
       "value": "100%"
      }
     },
     "3b2fc6c596834ac7b4e2fd9ba8475411": {
      "model_module": "@jupyter-widgets/base",
      "model_module_version": "1.2.0",
      "model_name": "LayoutModel",
      "state": {}
     },
     "3d372ce5b2214700b1a594f3a82baaaf": {
      "model_module": "@jupyter-widgets/controls",
      "model_module_version": "1.5.0",
      "model_name": "HTMLModel",
      "state": {
       "layout": "IPY_MODEL_0bf2f968f0204144a56324e87a37eba9",
       "style": "IPY_MODEL_bdab5e67e184456d98d1cc2407bd8ead",
       "value": " 35/317 [00:31&lt;03:11,  1.47it/s]"
      }
     },
     "3d8c42c7d2d54986961b720944d03fb4": {
      "model_module": "@jupyter-widgets/controls",
      "model_module_version": "1.5.0",
      "model_name": "FloatProgressModel",
      "state": {
       "bar_style": "danger",
       "layout": "IPY_MODEL_a1bcc99ff3784973be4273add9e8fc41",
       "max": 10,
       "style": "IPY_MODEL_df591ea563934036a83d8f61450e3038"
      }
     },
     "3de3c4b83022486eb17bdd4d0e101185": {
      "model_module": "@jupyter-widgets/controls",
      "model_module_version": "1.5.0",
      "model_name": "HTMLModel",
      "state": {
       "layout": "IPY_MODEL_b02e57626a1a483baa8652e8197b5e4b",
       "style": "IPY_MODEL_e89cfb227ea642a99fd515659f6f8d4d",
       "value": "100%"
      }
     },
     "3e084bb40bfd4f189746e643521009b5": {
      "model_module": "@jupyter-widgets/controls",
      "model_module_version": "1.5.0",
      "model_name": "FloatProgressModel",
      "state": {
       "bar_style": "danger",
       "layout": "IPY_MODEL_cd5dbb809e08441b956ff6da77de49a2",
       "max": 106,
       "style": "IPY_MODEL_0a444318c21c4fe8a86d19749c9cfb7f"
      }
     },
     "3f2d637fb3bf4c87964ab741a2c767ba": {
      "model_module": "@jupyter-widgets/controls",
      "model_module_version": "1.5.0",
      "model_name": "DescriptionStyleModel",
      "state": {
       "description_width": ""
      }
     },
     "3fcc043e3ede4d23b5e712fb16e0d153": {
      "model_module": "@jupyter-widgets/base",
      "model_module_version": "1.2.0",
      "model_name": "LayoutModel",
      "state": {}
     },
     "3fdbb0ae4cb9455395afbe784976a64d": {
      "model_module": "@jupyter-widgets/base",
      "model_module_version": "1.2.0",
      "model_name": "LayoutModel",
      "state": {}
     },
     "4340373d2f18419792185372940517da": {
      "model_module": "@jupyter-widgets/controls",
      "model_module_version": "1.5.0",
      "model_name": "FloatProgressModel",
      "state": {
       "bar_style": "success",
       "layout": "IPY_MODEL_4fe41afd9c6846e78d84959c00a8afe0",
       "max": 3609,
       "style": "IPY_MODEL_0c9d7a98f4394036952baddac8a77a78",
       "value": 3609
      }
     },
     "43bdc2e279804122ba63d345e2233bfa": {
      "model_module": "@jupyter-widgets/base",
      "model_module_version": "1.2.0",
      "model_name": "LayoutModel",
      "state": {}
     },
     "470e3a4abec8425fba281f16a9a5e8a2": {
      "model_module": "@jupyter-widgets/controls",
      "model_module_version": "1.5.0",
      "model_name": "ProgressStyleModel",
      "state": {
       "description_width": ""
      }
     },
     "47250c65980d40f88874eda3480efaa1": {
      "model_module": "@jupyter-widgets/controls",
      "model_module_version": "1.5.0",
      "model_name": "FloatProgressModel",
      "state": {
       "bar_style": "success",
       "layout": "IPY_MODEL_59eb884182774399983f821c0a9c88a6",
       "max": 9,
       "style": "IPY_MODEL_a9f18c9bab0f4ec4b531510642a7cdbf",
       "value": 9
      }
     },
     "4921855684f94a189119d2934f51e325": {
      "model_module": "@jupyter-widgets/base",
      "model_module_version": "1.2.0",
      "model_name": "LayoutModel",
      "state": {}
     },
     "4b390811f7a54c3692f58f2784efd53d": {
      "model_module": "@jupyter-widgets/controls",
      "model_module_version": "1.5.0",
      "model_name": "DescriptionStyleModel",
      "state": {
       "description_width": ""
      }
     },
     "4d32417871774538a40c7ebaa7843da0": {
      "model_module": "@jupyter-widgets/controls",
      "model_module_version": "1.5.0",
      "model_name": "ProgressStyleModel",
      "state": {
       "description_width": ""
      }
     },
     "4d8aae999fff4e5da91b7afb2b2a359f": {
      "model_module": "@jupyter-widgets/base",
      "model_module_version": "1.2.0",
      "model_name": "LayoutModel",
      "state": {}
     },
     "4e2ed946df3a4a5cba20e5bf226aab44": {
      "model_module": "@jupyter-widgets/controls",
      "model_module_version": "1.5.0",
      "model_name": "DescriptionStyleModel",
      "state": {
       "description_width": ""
      }
     },
     "4edc6c55a72e4ba1a8e4b3f1701adaf0": {
      "model_module": "@jupyter-widgets/base",
      "model_module_version": "1.2.0",
      "model_name": "LayoutModel",
      "state": {}
     },
     "4ef80e603914405d81a05d3e325fc478": {
      "model_module": "@jupyter-widgets/controls",
      "model_module_version": "1.5.0",
      "model_name": "HTMLModel",
      "state": {
       "layout": "IPY_MODEL_4f7a0129c2bc4ed2ad9db63736b55dc9",
       "style": "IPY_MODEL_d3f43f5370ec4aeea900482589bacb75",
       "value": "  0%"
      }
     },
     "4f7a0129c2bc4ed2ad9db63736b55dc9": {
      "model_module": "@jupyter-widgets/base",
      "model_module_version": "1.2.0",
      "model_name": "LayoutModel",
      "state": {}
     },
     "4fe41afd9c6846e78d84959c00a8afe0": {
      "model_module": "@jupyter-widgets/base",
      "model_module_version": "1.2.0",
      "model_name": "LayoutModel",
      "state": {}
     },
     "5138ffd065f04274a07653cc1f6e417f": {
      "model_module": "@jupyter-widgets/base",
      "model_module_version": "1.2.0",
      "model_name": "LayoutModel",
      "state": {}
     },
     "52991516e99d4032af4c22192b2b13d1": {
      "model_module": "@jupyter-widgets/controls",
      "model_module_version": "1.5.0",
      "model_name": "HTMLModel",
      "state": {
       "layout": "IPY_MODEL_1f5ba7e6164b47d383757fd87f59cf95",
       "style": "IPY_MODEL_0a67a070777041389c8587a98ff5b397",
       "value": "100%"
      }
     },
     "546c3a9dd0cc4c3589194c22e9558b63": {
      "model_module": "@jupyter-widgets/controls",
      "model_module_version": "1.5.0",
      "model_name": "ProgressStyleModel",
      "state": {
       "description_width": ""
      }
     },
     "55f3fcd17ad5472d82360fa183adf335": {
      "model_module": "@jupyter-widgets/base",
      "model_module_version": "1.2.0",
      "model_name": "LayoutModel",
      "state": {}
     },
     "562949313f114f76ad365dbde1e2cad9": {
      "model_module": "@jupyter-widgets/controls",
      "model_module_version": "1.5.0",
      "model_name": "ProgressStyleModel",
      "state": {
       "description_width": ""
      }
     },
     "568bfaf08f32450da90134f92c2dd10c": {
      "model_module": "@jupyter-widgets/controls",
      "model_module_version": "1.5.0",
      "model_name": "HTMLModel",
      "state": {
       "layout": "IPY_MODEL_b93e2522662d45cd8cfaf4954fc7f6a5",
       "style": "IPY_MODEL_f74472a482cd48b3aee453f1c1ed0d94",
       "value": " 0/106 [00:00&lt;?, ?it/s]"
      }
     },
     "59eb884182774399983f821c0a9c88a6": {
      "model_module": "@jupyter-widgets/base",
      "model_module_version": "1.2.0",
      "model_name": "LayoutModel",
      "state": {}
     },
     "5ae765690e534164a393c5b185a38f8d": {
      "model_module": "@jupyter-widgets/controls",
      "model_module_version": "1.5.0",
      "model_name": "DescriptionStyleModel",
      "state": {
       "description_width": ""
      }
     },
     "5d5112f21a4d4fe98bed6cf46fe5e16f": {
      "model_module": "@jupyter-widgets/controls",
      "model_module_version": "1.5.0",
      "model_name": "HBoxModel",
      "state": {
       "children": [
        "IPY_MODEL_378b5e86dbab4c928b33d2fff805c24d",
        "IPY_MODEL_bf942659465e47aaa0ddfa90b950da7b",
        "IPY_MODEL_e76c4763c72c4a1ca03b9e441d4e88e5"
       ],
       "layout": "IPY_MODEL_3b2fc6c596834ac7b4e2fd9ba8475411"
      }
     },
     "5d6c7b1b4bb1497fb719d02095476318": {
      "model_module": "@jupyter-widgets/controls",
      "model_module_version": "1.5.0",
      "model_name": "DescriptionStyleModel",
      "state": {
       "description_width": ""
      }
     },
     "5dbc527dec314360ac27b79f62439f1e": {
      "model_module": "@jupyter-widgets/base",
      "model_module_version": "1.2.0",
      "model_name": "LayoutModel",
      "state": {}
     },
     "5f5948b51f2041ce9a8542ed95077619": {
      "model_module": "@jupyter-widgets/controls",
      "model_module_version": "1.5.0",
      "model_name": "HTMLModel",
      "state": {
       "layout": "IPY_MODEL_8ca86087a85d437193816aaf6b2953a0",
       "style": "IPY_MODEL_5d6c7b1b4bb1497fb719d02095476318",
       "value": " 20/20 [00:31&lt;00:00,  1.59s/it]"
      }
     },
     "637354c5e4f94a499d3d899d0c0be7ae": {
      "model_module": "@jupyter-widgets/base",
      "model_module_version": "1.2.0",
      "model_name": "LayoutModel",
      "state": {}
     },
     "63bf84a4e0c740209dda4722267295aa": {
      "model_module": "@jupyter-widgets/controls",
      "model_module_version": "1.5.0",
      "model_name": "FloatProgressModel",
      "state": {
       "bar_style": "success",
       "layout": "IPY_MODEL_ed7168389a434ab2a29a567c88856e54",
       "max": 106,
       "style": "IPY_MODEL_d3d040d2a03040dbb5bbc494c4a5ab59",
       "value": 106
      }
     },
     "6400e30bb8b24a6e97258f0ce5083ed3": {
      "model_module": "@jupyter-widgets/controls",
      "model_module_version": "1.5.0",
      "model_name": "FloatProgressModel",
      "state": {
       "bar_style": "success",
       "layout": "IPY_MODEL_805385e6613e427b8ae30cc149ca7014",
       "max": 106,
       "style": "IPY_MODEL_e438f77a81934b3abb18b6cf80494d28",
       "value": 106
      }
     },
     "65f042225ceb446a82d7f1764a096f02": {
      "model_module": "@jupyter-widgets/base",
      "model_module_version": "1.2.0",
      "model_name": "LayoutModel",
      "state": {}
     },
     "6630415e3e3941dba21e5e4f3ae6d8f7": {
      "model_module": "@jupyter-widgets/controls",
      "model_module_version": "1.5.0",
      "model_name": "ProgressStyleModel",
      "state": {
       "description_width": ""
      }
     },
     "676a7b2d3fae41819f7496343a95cf13": {
      "model_module": "@jupyter-widgets/controls",
      "model_module_version": "1.5.0",
      "model_name": "DescriptionStyleModel",
      "state": {
       "description_width": ""
      }
     },
     "68d6f2e28d664eb2bacf5b041451f335": {
      "model_module": "@jupyter-widgets/base",
      "model_module_version": "1.2.0",
      "model_name": "LayoutModel",
      "state": {}
     },
     "6c5fc320983e4c55a99ee02af3c23e5b": {
      "model_module": "@jupyter-widgets/base",
      "model_module_version": "1.2.0",
      "model_name": "LayoutModel",
      "state": {}
     },
     "6d3078b6a30a46cca8c5912f667b0971": {
      "model_module": "@jupyter-widgets/controls",
      "model_module_version": "1.5.0",
      "model_name": "HBoxModel",
      "state": {
       "children": [
        "IPY_MODEL_b6129faeb5d5495da2441da3a40b7dde",
        "IPY_MODEL_e3302fb3be4246cbbfc0e39ed893b40a",
        "IPY_MODEL_f11af67b196f4bf18567242e8aaa218d"
       ],
       "layout": "IPY_MODEL_b259ee33640b414e95a7c2ef9383561c"
      }
     },
     "6e125e4c71dc44b6a6b3a169f0cf94e6": {
      "model_module": "@jupyter-widgets/controls",
      "model_module_version": "1.5.0",
      "model_name": "HBoxModel",
      "state": {
       "children": [
        "IPY_MODEL_52991516e99d4032af4c22192b2b13d1",
        "IPY_MODEL_e22608c185214e79a4779bd5197392c2",
        "IPY_MODEL_88fc0b05f19d4a1cbc4dca081c94e736"
       ],
       "layout": "IPY_MODEL_1dea9fbed01a42348367aa5b9504aa76"
      }
     },
     "735f675f13974de48ada3329b92ab8d6": {
      "model_module": "@jupyter-widgets/controls",
      "model_module_version": "1.5.0",
      "model_name": "HBoxModel",
      "state": {
       "children": [
        "IPY_MODEL_4ef80e603914405d81a05d3e325fc478",
        "IPY_MODEL_f59f553fa28f40f8b287feb7d0e52677",
        "IPY_MODEL_159a9c84f84e49afaea756cbb127ddf7"
       ],
       "layout": "IPY_MODEL_8f1fcaf58aef4866a6fa2f3567e8e816"
      }
     },
     "73c388efb45543fdb406f464ddb25a50": {
      "model_module": "@jupyter-widgets/controls",
      "model_module_version": "1.5.0",
      "model_name": "HTMLModel",
      "state": {
       "layout": "IPY_MODEL_c8223ffca00949d6a28086ad0ea4368b",
       "style": "IPY_MODEL_09280e4c08b4447d8e19f6aefc82e943",
       "value": "100%"
      }
     },
     "7432913969e640b2ae1eed0948162f9b": {
      "model_module": "@jupyter-widgets/controls",
      "model_module_version": "1.5.0",
      "model_name": "HBoxModel",
      "state": {
       "children": [
        "IPY_MODEL_0c3181ded48d4c26b094a87098bc98b6",
        "IPY_MODEL_3e084bb40bfd4f189746e643521009b5",
        "IPY_MODEL_1847d79be9334178a5cfad153ad382e3"
       ],
       "layout": "IPY_MODEL_fa48bb8e72a9458283950e2054ac4be3"
      }
     },
     "75f0790e6c1946e79742e34447763f7c": {
      "model_module": "@jupyter-widgets/controls",
      "model_module_version": "1.5.0",
      "model_name": "HBoxModel",
      "state": {
       "children": [
        "IPY_MODEL_80574b28ff914a5d8cba4c7e5d8eae34",
        "IPY_MODEL_c561f076977c4fcfb76cd7524168b56f",
        "IPY_MODEL_5f5948b51f2041ce9a8542ed95077619"
       ],
       "layout": "IPY_MODEL_f064bd31ae6c4059936e7fab6417fe69"
      }
     },
     "77a372063f9144ca84ce70791cad9d71": {
      "model_module": "@jupyter-widgets/controls",
      "model_module_version": "1.5.0",
      "model_name": "DescriptionStyleModel",
      "state": {
       "description_width": ""
      }
     },
     "77eddc2dda784d21a49e31e969ae99eb": {
      "model_module": "@jupyter-widgets/controls",
      "model_module_version": "1.5.0",
      "model_name": "DescriptionStyleModel",
      "state": {
       "description_width": ""
      }
     },
     "7be38f6e20984176a1b69f6ab95373e9": {
      "model_module": "@jupyter-widgets/controls",
      "model_module_version": "1.5.0",
      "model_name": "FloatProgressModel",
      "state": {
       "bar_style": "danger",
       "layout": "IPY_MODEL_55f3fcd17ad5472d82360fa183adf335",
       "max": 10,
       "style": "IPY_MODEL_9930af69472746ca8ea67829a090968c"
      }
     },
     "7dfcd288b9d347fd9869f6bb3ac7f87f": {
      "model_module": "@jupyter-widgets/controls",
      "model_module_version": "1.5.0",
      "model_name": "HTMLModel",
      "state": {
       "layout": "IPY_MODEL_7e9d3ca832fb4a1a9254513c1a1dfee6",
       "style": "IPY_MODEL_08972f0496ba4bf4a95c80c398a56720",
       "value": " 106/106 [02:49&lt;00:00,  1.52s/it]"
      }
     },
     "7e9d3ca832fb4a1a9254513c1a1dfee6": {
      "model_module": "@jupyter-widgets/base",
      "model_module_version": "1.2.0",
      "model_name": "LayoutModel",
      "state": {}
     },
     "805385e6613e427b8ae30cc149ca7014": {
      "model_module": "@jupyter-widgets/base",
      "model_module_version": "1.2.0",
      "model_name": "LayoutModel",
      "state": {}
     },
     "80574b28ff914a5d8cba4c7e5d8eae34": {
      "model_module": "@jupyter-widgets/controls",
      "model_module_version": "1.5.0",
      "model_name": "HTMLModel",
      "state": {
       "layout": "IPY_MODEL_d61f82bc0fc440b3b56d742b8eb3362f",
       "style": "IPY_MODEL_ab0d571e122c47d2b3a970ff05cabe87",
       "value": "100%"
      }
     },
     "823da6b324884e708ad6448b8f6cd844": {
      "model_module": "@jupyter-widgets/controls",
      "model_module_version": "1.5.0",
      "model_name": "HTMLModel",
      "state": {
       "layout": "IPY_MODEL_d999cb7a0b924772abbcc8f726fd8070",
       "style": "IPY_MODEL_d90e763893564836b222af723845dadc",
       "value": " 9/9 [00:31&lt;00:00,  3.51s/it]"
      }
     },
     "82889bf3582c4588a0ec979d479fb419": {
      "model_module": "@jupyter-widgets/base",
      "model_module_version": "1.2.0",
      "model_name": "LayoutModel",
      "state": {}
     },
     "82f7f719f8694b9288139a3012fee6a8": {
      "model_module": "@jupyter-widgets/controls",
      "model_module_version": "1.5.0",
      "model_name": "HBoxModel",
      "state": {
       "children": [
        "IPY_MODEL_b9f1ec66746d4d94a2c6a5c0fd2a712a",
        "IPY_MODEL_83bdc5cd9c5141299d53c029f0acb1b8",
        "IPY_MODEL_2a8a5a52937b4a1bb387c5c6b6f5ebdc"
       ],
       "layout": "IPY_MODEL_91126c762b514405ba8b7eb79adbf3f4"
      }
     },
     "83bdc5cd9c5141299d53c029f0acb1b8": {
      "model_module": "@jupyter-widgets/controls",
      "model_module_version": "1.5.0",
      "model_name": "FloatProgressModel",
      "state": {
       "bar_style": "success",
       "layout": "IPY_MODEL_b1d14e35eeb440baa8278c93551e5739",
       "max": 106,
       "style": "IPY_MODEL_562949313f114f76ad365dbde1e2cad9",
       "value": 106
      }
     },
     "8484fe92616e4c348f87e073c899c71d": {
      "model_module": "@jupyter-widgets/controls",
      "model_module_version": "1.5.0",
      "model_name": "DescriptionStyleModel",
      "state": {
       "description_width": ""
      }
     },
     "85f0141ce8f74c2d8540fbe4537156ec": {
      "model_module": "@jupyter-widgets/controls",
      "model_module_version": "1.5.0",
      "model_name": "DescriptionStyleModel",
      "state": {
       "description_width": ""
      }
     },
     "88d51dec20ad4689bca43b540c1f4e8c": {
      "model_module": "@jupyter-widgets/base",
      "model_module_version": "1.2.0",
      "model_name": "LayoutModel",
      "state": {}
     },
     "88fc0b05f19d4a1cbc4dca081c94e736": {
      "model_module": "@jupyter-widgets/controls",
      "model_module_version": "1.5.0",
      "model_name": "HTMLModel",
      "state": {
       "layout": "IPY_MODEL_a2732addba12417f866fd1c2e7794875",
       "style": "IPY_MODEL_9f9fd9f0db2648e5a62ff03091cfdb73",
       "value": " 10/10 [00:16&lt;00:00,  1.61s/it]"
      }
     },
     "8ca86087a85d437193816aaf6b2953a0": {
      "model_module": "@jupyter-widgets/base",
      "model_module_version": "1.2.0",
      "model_name": "LayoutModel",
      "state": {}
     },
     "8d27abccc95949069b6c7c7bcd81e8c9": {
      "model_module": "@jupyter-widgets/base",
      "model_module_version": "1.2.0",
      "model_name": "LayoutModel",
      "state": {}
     },
     "8eb15dc0951748bb8ac48e1cf9fb29e7": {
      "model_module": "@jupyter-widgets/controls",
      "model_module_version": "1.5.0",
      "model_name": "FloatProgressModel",
      "state": {
       "bar_style": "success",
       "layout": "IPY_MODEL_d1d7bdeb562a4f0184d99aec437dd261",
       "max": 684,
       "style": "IPY_MODEL_ad3c902536954f2f9aedb6de21599d63",
       "value": 684
      }
     },
     "8f0a2f74d9da44d1ad45ce383d831bc1": {
      "model_module": "@jupyter-widgets/controls",
      "model_module_version": "1.5.0",
      "model_name": "FloatProgressModel",
      "state": {
       "layout": "IPY_MODEL_afa9f26aa5e44695a169751c92c49c81",
       "max": 317,
       "style": "IPY_MODEL_ee15bd53a0dc4aea979eba612e44e1e7",
       "value": 35
      }
     },
     "8f1fcaf58aef4866a6fa2f3567e8e816": {
      "model_module": "@jupyter-widgets/base",
      "model_module_version": "1.2.0",
      "model_name": "LayoutModel",
      "state": {}
     },
     "8f72e38e4268453ebbf708a3028c0f3d": {
      "model_module": "@jupyter-widgets/controls",
      "model_module_version": "1.5.0",
      "model_name": "HBoxModel",
      "state": {
       "children": [
        "IPY_MODEL_eae46b98a7bf400f9ebb1fb704c817fe",
        "IPY_MODEL_a8e740afb8b44512802b6b2fd7a3c0f3",
        "IPY_MODEL_24f95f22e1944d888e64c6f9e9e20bbb"
       ],
       "layout": "IPY_MODEL_eb1e3bb70258406b86855033cba3fc09"
      }
     },
     "91126c762b514405ba8b7eb79adbf3f4": {
      "model_module": "@jupyter-widgets/base",
      "model_module_version": "1.2.0",
      "model_name": "LayoutModel",
      "state": {}
     },
     "96df8dcafed84de8ac2a7ad783ea90ad": {
      "model_module": "@jupyter-widgets/base",
      "model_module_version": "1.2.0",
      "model_name": "LayoutModel",
      "state": {}
     },
     "9930af69472746ca8ea67829a090968c": {
      "model_module": "@jupyter-widgets/controls",
      "model_module_version": "1.5.0",
      "model_name": "ProgressStyleModel",
      "state": {
       "description_width": ""
      }
     },
     "9a1fd900afff4c7c840a3b6079fcb2c8": {
      "model_module": "@jupyter-widgets/controls",
      "model_module_version": "1.5.0",
      "model_name": "DescriptionStyleModel",
      "state": {
       "description_width": ""
      }
     },
     "9cdc56da3b1a4bd4809da9de3a906862": {
      "model_module": "@jupyter-widgets/controls",
      "model_module_version": "1.5.0",
      "model_name": "DescriptionStyleModel",
      "state": {
       "description_width": ""
      }
     },
     "9f9fd9f0db2648e5a62ff03091cfdb73": {
      "model_module": "@jupyter-widgets/controls",
      "model_module_version": "1.5.0",
      "model_name": "DescriptionStyleModel",
      "state": {
       "description_width": ""
      }
     },
     "a0f3cf51a0a643af8b631f3ec80773a3": {
      "model_module": "@jupyter-widgets/base",
      "model_module_version": "1.2.0",
      "model_name": "LayoutModel",
      "state": {}
     },
     "a1bcc99ff3784973be4273add9e8fc41": {
      "model_module": "@jupyter-widgets/base",
      "model_module_version": "1.2.0",
      "model_name": "LayoutModel",
      "state": {}
     },
     "a1f0bac9b8704a79aba1e2c69d6614d1": {
      "model_module": "@jupyter-widgets/base",
      "model_module_version": "1.2.0",
      "model_name": "LayoutModel",
      "state": {}
     },
     "a2732addba12417f866fd1c2e7794875": {
      "model_module": "@jupyter-widgets/base",
      "model_module_version": "1.2.0",
      "model_name": "LayoutModel",
      "state": {}
     },
     "a2ea5d07e29c4d58ae8668cb96901261": {
      "model_module": "@jupyter-widgets/controls",
      "model_module_version": "1.5.0",
      "model_name": "DescriptionStyleModel",
      "state": {
       "description_width": ""
      }
     },
     "a2f45601ef814b308ec28363caf70a6d": {
      "model_module": "@jupyter-widgets/controls",
      "model_module_version": "1.5.0",
      "model_name": "DescriptionStyleModel",
      "state": {
       "description_width": ""
      }
     },
     "a3374d33315d44d6a5eaf754e3ca3abc": {
      "model_module": "@jupyter-widgets/base",
      "model_module_version": "1.2.0",
      "model_name": "LayoutModel",
      "state": {}
     },
     "a56d5d80991e4e4cbe4ac7c0923b72c6": {
      "model_module": "@jupyter-widgets/controls",
      "model_module_version": "1.5.0",
      "model_name": "HBoxModel",
      "state": {
       "children": [
        "IPY_MODEL_367c7fd80ef84b1e82bb1525bab13c10",
        "IPY_MODEL_dfbcb2ab7c1b49e087d3c02256687063",
        "IPY_MODEL_de888a7ef636489eba68050f3aa6b7d5"
       ],
       "layout": "IPY_MODEL_a1f0bac9b8704a79aba1e2c69d6614d1"
      }
     },
     "a8e740afb8b44512802b6b2fd7a3c0f3": {
      "model_module": "@jupyter-widgets/controls",
      "model_module_version": "1.5.0",
      "model_name": "FloatProgressModel",
      "state": {
       "bar_style": "success",
       "layout": "IPY_MODEL_bdb09e05bd5843569762ce1335fa7623",
       "max": 10,
       "style": "IPY_MODEL_bec1c0dc56f14e028e50a6f34d04d5e0",
       "value": 10
      }
     },
     "a9f18c9bab0f4ec4b531510642a7cdbf": {
      "model_module": "@jupyter-widgets/controls",
      "model_module_version": "1.5.0",
      "model_name": "ProgressStyleModel",
      "state": {
       "description_width": ""
      }
     },
     "ab0d571e122c47d2b3a970ff05cabe87": {
      "model_module": "@jupyter-widgets/controls",
      "model_module_version": "1.5.0",
      "model_name": "DescriptionStyleModel",
      "state": {
       "description_width": ""
      }
     },
     "ac43143d773f4f4c8fbbe1a23e5bb251": {
      "model_module": "@jupyter-widgets/base",
      "model_module_version": "1.2.0",
      "model_name": "LayoutModel",
      "state": {}
     },
     "ace47013fe0c4efd934407872eb46ff9": {
      "model_module": "@jupyter-widgets/base",
      "model_module_version": "1.2.0",
      "model_name": "LayoutModel",
      "state": {}
     },
     "ad3c902536954f2f9aedb6de21599d63": {
      "model_module": "@jupyter-widgets/controls",
      "model_module_version": "1.5.0",
      "model_name": "ProgressStyleModel",
      "state": {
       "description_width": ""
      }
     },
     "af010b960da442a29c94a0d895439d18": {
      "model_module": "@jupyter-widgets/base",
      "model_module_version": "1.2.0",
      "model_name": "LayoutModel",
      "state": {}
     },
     "afa9f26aa5e44695a169751c92c49c81": {
      "model_module": "@jupyter-widgets/base",
      "model_module_version": "1.2.0",
      "model_name": "LayoutModel",
      "state": {}
     },
     "b02e57626a1a483baa8652e8197b5e4b": {
      "model_module": "@jupyter-widgets/base",
      "model_module_version": "1.2.0",
      "model_name": "LayoutModel",
      "state": {}
     },
     "b1d14e35eeb440baa8278c93551e5739": {
      "model_module": "@jupyter-widgets/base",
      "model_module_version": "1.2.0",
      "model_name": "LayoutModel",
      "state": {}
     },
     "b22651d2477844128f48141b5ac8c26e": {
      "model_module": "@jupyter-widgets/base",
      "model_module_version": "1.2.0",
      "model_name": "LayoutModel",
      "state": {}
     },
     "b259ee33640b414e95a7c2ef9383561c": {
      "model_module": "@jupyter-widgets/base",
      "model_module_version": "1.2.0",
      "model_name": "LayoutModel",
      "state": {}
     },
     "b39c9e240d554ea3a5e43f5938a872ed": {
      "model_module": "@jupyter-widgets/controls",
      "model_module_version": "1.5.0",
      "model_name": "ProgressStyleModel",
      "state": {
       "description_width": ""
      }
     },
     "b48703e514ae4ca688a4706d62a689da": {
      "model_module": "@jupyter-widgets/base",
      "model_module_version": "1.2.0",
      "model_name": "LayoutModel",
      "state": {}
     },
     "b4e4d188535746819290cacf9ecf9ddd": {
      "model_module": "@jupyter-widgets/controls",
      "model_module_version": "1.5.0",
      "model_name": "DescriptionStyleModel",
      "state": {
       "description_width": ""
      }
     },
     "b5a27f79a0934809905cd1e356e0b8fa": {
      "model_module": "@jupyter-widgets/controls",
      "model_module_version": "1.5.0",
      "model_name": "HTMLModel",
      "state": {
       "layout": "IPY_MODEL_d4d086a57a1b433d9ef58a4f2ae5515b",
       "style": "IPY_MODEL_3f2d637fb3bf4c87964ab741a2c767ba",
       "value": "  0%"
      }
     },
     "b5ac233389784d51b66a9f6c3310f4a4": {
      "model_module": "@jupyter-widgets/base",
      "model_module_version": "1.2.0",
      "model_name": "LayoutModel",
      "state": {}
     },
     "b6129faeb5d5495da2441da3a40b7dde": {
      "model_module": "@jupyter-widgets/controls",
      "model_module_version": "1.5.0",
      "model_name": "HTMLModel",
      "state": {
       "layout": "IPY_MODEL_4edc6c55a72e4ba1a8e4b3f1701adaf0",
       "style": "IPY_MODEL_eb85536c0a044d82ba5f79569020e34a",
       "value": "100%"
      }
     },
     "b68e9085484f44dbaf10051adeb3c269": {
      "model_module": "@jupyter-widgets/controls",
      "model_module_version": "1.5.0",
      "model_name": "HBoxModel",
      "state": {
       "children": [
        "IPY_MODEL_ddbb2e5a5e17476581b32cc7bed05719",
        "IPY_MODEL_8f0a2f74d9da44d1ad45ce383d831bc1",
        "IPY_MODEL_3d372ce5b2214700b1a594f3a82baaaf"
       ],
       "layout": "IPY_MODEL_020224d648934111a7e1973f2ae137d2"
      }
     },
     "b93e2522662d45cd8cfaf4954fc7f6a5": {
      "model_module": "@jupyter-widgets/base",
      "model_module_version": "1.2.0",
      "model_name": "LayoutModel",
      "state": {}
     },
     "b9f1ec66746d4d94a2c6a5c0fd2a712a": {
      "model_module": "@jupyter-widgets/controls",
      "model_module_version": "1.5.0",
      "model_name": "HTMLModel",
      "state": {
       "layout": "IPY_MODEL_af010b960da442a29c94a0d895439d18",
       "style": "IPY_MODEL_053f29f60a244ab0929c40c293a166a0",
       "value": "100%"
      }
     },
     "bbdaff8e6a8142aea34e39518f885570": {
      "model_module": "@jupyter-widgets/controls",
      "model_module_version": "1.5.0",
      "model_name": "HBoxModel",
      "state": {
       "children": [
        "IPY_MODEL_dad19ee32b784fe68316da6a01cc820c",
        "IPY_MODEL_e07e9af465844055a870d1c7db83a4b6",
        "IPY_MODEL_fd5dceb1cd334bef9afee136b940936f"
       ],
       "layout": "IPY_MODEL_ac43143d773f4f4c8fbbe1a23e5bb251"
      }
     },
     "bdab5e67e184456d98d1cc2407bd8ead": {
      "model_module": "@jupyter-widgets/controls",
      "model_module_version": "1.5.0",
      "model_name": "DescriptionStyleModel",
      "state": {
       "description_width": ""
      }
     },
     "bdb09e05bd5843569762ce1335fa7623": {
      "model_module": "@jupyter-widgets/base",
      "model_module_version": "1.2.0",
      "model_name": "LayoutModel",
      "state": {}
     },
     "be252d442f4243b3b8b57ea90e1def24": {
      "model_module": "@jupyter-widgets/base",
      "model_module_version": "1.2.0",
      "model_name": "LayoutModel",
      "state": {}
     },
     "bec1c0dc56f14e028e50a6f34d04d5e0": {
      "model_module": "@jupyter-widgets/controls",
      "model_module_version": "1.5.0",
      "model_name": "ProgressStyleModel",
      "state": {
       "description_width": ""
      }
     },
     "bf942659465e47aaa0ddfa90b950da7b": {
      "model_module": "@jupyter-widgets/controls",
      "model_module_version": "1.5.0",
      "model_name": "FloatProgressModel",
      "state": {
       "bar_style": "success",
       "layout": "IPY_MODEL_06a51f306f354a329bbba4f2a4d0eccf",
       "max": 106,
       "style": "IPY_MODEL_470e3a4abec8425fba281f16a9a5e8a2",
       "value": 106
      }
     },
     "c102122746a64e168978c7611d250a67": {
      "model_module": "@jupyter-widgets/base",
      "model_module_version": "1.2.0",
      "model_name": "LayoutModel",
      "state": {}
     },
     "c43e48eacb8b498eb8c9ab2ebf40c36e": {
      "model_module": "@jupyter-widgets/base",
      "model_module_version": "1.2.0",
      "model_name": "LayoutModel",
      "state": {}
     },
     "c561f076977c4fcfb76cd7524168b56f": {
      "model_module": "@jupyter-widgets/controls",
      "model_module_version": "1.5.0",
      "model_name": "FloatProgressModel",
      "state": {
       "bar_style": "success",
       "layout": "IPY_MODEL_14a584965d36480e8e9465dd68dbca58",
       "max": 20,
       "style": "IPY_MODEL_6630415e3e3941dba21e5e4f3ae6d8f7",
       "value": 20
      }
     },
     "c8223ffca00949d6a28086ad0ea4368b": {
      "model_module": "@jupyter-widgets/base",
      "model_module_version": "1.2.0",
      "model_name": "LayoutModel",
      "state": {}
     },
     "cbb957072b474f6cbe2700ace1c5af58": {
      "model_module": "@jupyter-widgets/base",
      "model_module_version": "1.2.0",
      "model_name": "LayoutModel",
      "state": {}
     },
     "cc7ca8f278c34fcfaf0f65a86bcb7dc9": {
      "model_module": "@jupyter-widgets/controls",
      "model_module_version": "1.5.0",
      "model_name": "DescriptionStyleModel",
      "state": {
       "description_width": ""
      }
     },
     "cd1368ef64f64fd08a6ad5d48848adff": {
      "model_module": "@jupyter-widgets/controls",
      "model_module_version": "1.5.0",
      "model_name": "HBoxModel",
      "state": {
       "children": [
        "IPY_MODEL_73c388efb45543fdb406f464ddb25a50",
        "IPY_MODEL_8eb15dc0951748bb8ac48e1cf9fb29e7",
        "IPY_MODEL_1301ff20030a4518a4561f91b76d8f6f"
       ],
       "layout": "IPY_MODEL_a3374d33315d44d6a5eaf754e3ca3abc"
      }
     },
     "cd5dbb809e08441b956ff6da77de49a2": {
      "model_module": "@jupyter-widgets/base",
      "model_module_version": "1.2.0",
      "model_name": "LayoutModel",
      "state": {}
     },
     "cd6403680d8a4fc5bb5cfcbe8572098e": {
      "model_module": "@jupyter-widgets/base",
      "model_module_version": "1.2.0",
      "model_name": "LayoutModel",
      "state": {}
     },
     "cd95ee7a2b904abe9f873b1f8e7141c1": {
      "model_module": "@jupyter-widgets/controls",
      "model_module_version": "1.5.0",
      "model_name": "DescriptionStyleModel",
      "state": {
       "description_width": ""
      }
     },
     "d1d7bdeb562a4f0184d99aec437dd261": {
      "model_module": "@jupyter-widgets/base",
      "model_module_version": "1.2.0",
      "model_name": "LayoutModel",
      "state": {}
     },
     "d3d040d2a03040dbb5bbc494c4a5ab59": {
      "model_module": "@jupyter-widgets/controls",
      "model_module_version": "1.5.0",
      "model_name": "ProgressStyleModel",
      "state": {
       "description_width": ""
      }
     },
     "d3f43f5370ec4aeea900482589bacb75": {
      "model_module": "@jupyter-widgets/controls",
      "model_module_version": "1.5.0",
      "model_name": "DescriptionStyleModel",
      "state": {
       "description_width": ""
      }
     },
     "d43ab36dafdb489ab5842fcb3cedb0a8": {
      "model_module": "@jupyter-widgets/controls",
      "model_module_version": "1.5.0",
      "model_name": "HTMLModel",
      "state": {
       "layout": "IPY_MODEL_88d51dec20ad4689bca43b540c1f4e8c",
       "style": "IPY_MODEL_77a372063f9144ca84ce70791cad9d71",
       "value": " 106/106 [00:00&lt;00:00, 539.99it/s]"
      }
     },
     "d4d086a57a1b433d9ef58a4f2ae5515b": {
      "model_module": "@jupyter-widgets/base",
      "model_module_version": "1.2.0",
      "model_name": "LayoutModel",
      "state": {}
     },
     "d61f82bc0fc440b3b56d742b8eb3362f": {
      "model_module": "@jupyter-widgets/base",
      "model_module_version": "1.2.0",
      "model_name": "LayoutModel",
      "state": {}
     },
     "d665c2b89528474c972ba0cb2f75e7ce": {
      "model_module": "@jupyter-widgets/controls",
      "model_module_version": "1.5.0",
      "model_name": "HTMLModel",
      "state": {
       "layout": "IPY_MODEL_fba914bdd6584df7ba7a42965c94ed5e",
       "style": "IPY_MODEL_30ad49fe52d34fdda7a3b6bf639b1e44",
       "value": " 3609/3609 [02:21&lt;00:00, 22.61it/s]"
      }
     },
     "d75bf800f62e4534a6351256c141696b": {
      "model_module": "@jupyter-widgets/controls",
      "model_module_version": "1.5.0",
      "model_name": "HBoxModel",
      "state": {
       "children": [
        "IPY_MODEL_2f2bc42ace1445f2a7f6a3a2797c937e",
        "IPY_MODEL_3d8c42c7d2d54986961b720944d03fb4",
        "IPY_MODEL_0f7c397b09e748ffb6402f86ffae20a3"
       ],
       "layout": "IPY_MODEL_b48703e514ae4ca688a4706d62a689da"
      }
     },
     "d7ce78040c204386a0529ee7a820495a": {
      "model_module": "@jupyter-widgets/base",
      "model_module_version": "1.2.0",
      "model_name": "LayoutModel",
      "state": {}
     },
     "d90e763893564836b222af723845dadc": {
      "model_module": "@jupyter-widgets/controls",
      "model_module_version": "1.5.0",
      "model_name": "DescriptionStyleModel",
      "state": {
       "description_width": ""
      }
     },
     "d999cb7a0b924772abbcc8f726fd8070": {
      "model_module": "@jupyter-widgets/base",
      "model_module_version": "1.2.0",
      "model_name": "LayoutModel",
      "state": {}
     },
     "dad19ee32b784fe68316da6a01cc820c": {
      "model_module": "@jupyter-widgets/controls",
      "model_module_version": "1.5.0",
      "model_name": "HTMLModel",
      "state": {
       "layout": "IPY_MODEL_82889bf3582c4588a0ec979d479fb419",
       "style": "IPY_MODEL_cc7ca8f278c34fcfaf0f65a86bcb7dc9",
       "value": "100%"
      }
     },
     "db9276254cc5449ab2eae8c681966e16": {
      "model_module": "@jupyter-widgets/controls",
      "model_module_version": "1.5.0",
      "model_name": "HTMLModel",
      "state": {
       "layout": "IPY_MODEL_2e6847e7b22446dd99052efb055430cf",
       "style": "IPY_MODEL_9cdc56da3b1a4bd4809da9de3a906862",
       "value": " 0/10 [00:00&lt;?, ?it/s]"
      }
     },
     "dcef369711e8426d804cfb52854ab1b0": {
      "model_module": "@jupyter-widgets/controls",
      "model_module_version": "1.5.0",
      "model_name": "DescriptionStyleModel",
      "state": {
       "description_width": ""
      }
     },
     "ddbb2e5a5e17476581b32cc7bed05719": {
      "model_module": "@jupyter-widgets/controls",
      "model_module_version": "1.5.0",
      "model_name": "HTMLModel",
      "state": {
       "layout": "IPY_MODEL_e5ffe814445a4588a7b83d6502855e5b",
       "style": "IPY_MODEL_b4e4d188535746819290cacf9ecf9ddd",
       "value": " 11%"
      }
     },
     "de888a7ef636489eba68050f3aa6b7d5": {
      "model_module": "@jupyter-widgets/controls",
      "model_module_version": "1.5.0",
      "model_name": "HTMLModel",
      "state": {
       "layout": "IPY_MODEL_65f042225ceb446a82d7f1764a096f02",
       "style": "IPY_MODEL_e807634007154193a5450edfcf9e7858",
       "value": " 0/10 [00:00&lt;?, ?it/s]"
      }
     },
     "df591ea563934036a83d8f61450e3038": {
      "model_module": "@jupyter-widgets/controls",
      "model_module_version": "1.5.0",
      "model_name": "ProgressStyleModel",
      "state": {
       "description_width": ""
      }
     },
     "dfbcb2ab7c1b49e087d3c02256687063": {
      "model_module": "@jupyter-widgets/controls",
      "model_module_version": "1.5.0",
      "model_name": "FloatProgressModel",
      "state": {
       "bar_style": "danger",
       "layout": "IPY_MODEL_4d8aae999fff4e5da91b7afb2b2a359f",
       "max": 10,
       "style": "IPY_MODEL_15513680ee134e14a87c784a7097abfb"
      }
     },
     "e07e9af465844055a870d1c7db83a4b6": {
      "model_module": "@jupyter-widgets/controls",
      "model_module_version": "1.5.0",
      "model_name": "FloatProgressModel",
      "state": {
       "bar_style": "success",
       "layout": "IPY_MODEL_f6c7da4a4d794ae387d4d70a506cfb0a",
       "max": 20,
       "style": "IPY_MODEL_546c3a9dd0cc4c3589194c22e9558b63",
       "value": 20
      }
     },
     "e1f691a8d15f4be395a9f3915359fcf3": {
      "model_module": "@jupyter-widgets/base",
      "model_module_version": "1.2.0",
      "model_name": "LayoutModel",
      "state": {}
     },
     "e22608c185214e79a4779bd5197392c2": {
      "model_module": "@jupyter-widgets/controls",
      "model_module_version": "1.5.0",
      "model_name": "FloatProgressModel",
      "state": {
       "bar_style": "success",
       "layout": "IPY_MODEL_ace47013fe0c4efd934407872eb46ff9",
       "max": 10,
       "style": "IPY_MODEL_153412e55a8448f09d44a3f3ceaee566",
       "value": 10
      }
     },
     "e3302fb3be4246cbbfc0e39ed893b40a": {
      "model_module": "@jupyter-widgets/controls",
      "model_module_version": "1.5.0",
      "model_name": "FloatProgressModel",
      "state": {
       "bar_style": "success",
       "layout": "IPY_MODEL_b22651d2477844128f48141b5ac8c26e",
       "max": 9,
       "style": "IPY_MODEL_b39c9e240d554ea3a5e43f5938a872ed",
       "value": 9
      }
     },
     "e438f77a81934b3abb18b6cf80494d28": {
      "model_module": "@jupyter-widgets/controls",
      "model_module_version": "1.5.0",
      "model_name": "ProgressStyleModel",
      "state": {
       "description_width": ""
      }
     },
     "e550ae65aa944f34b4596dec139b3f85": {
      "model_module": "@jupyter-widgets/controls",
      "model_module_version": "1.5.0",
      "model_name": "HTMLModel",
      "state": {
       "layout": "IPY_MODEL_c102122746a64e168978c7611d250a67",
       "style": "IPY_MODEL_9a1fd900afff4c7c840a3b6079fcb2c8",
       "value": "100%"
      }
     },
     "e5ffe814445a4588a7b83d6502855e5b": {
      "model_module": "@jupyter-widgets/base",
      "model_module_version": "1.2.0",
      "model_name": "LayoutModel",
      "state": {}
     },
     "e76c4763c72c4a1ca03b9e441d4e88e5": {
      "model_module": "@jupyter-widgets/controls",
      "model_module_version": "1.5.0",
      "model_name": "HTMLModel",
      "state": {
       "layout": "IPY_MODEL_b5ac233389784d51b66a9f6c3310f4a4",
       "style": "IPY_MODEL_f8cedce768da4345aa318ae908435ef4",
       "value": " 106/106 [00:00&lt;00:00, 5047.93it/s]"
      }
     },
     "e807634007154193a5450edfcf9e7858": {
      "model_module": "@jupyter-widgets/controls",
      "model_module_version": "1.5.0",
      "model_name": "DescriptionStyleModel",
      "state": {
       "description_width": ""
      }
     },
     "e89cfb227ea642a99fd515659f6f8d4d": {
      "model_module": "@jupyter-widgets/controls",
      "model_module_version": "1.5.0",
      "model_name": "DescriptionStyleModel",
      "state": {
       "description_width": ""
      }
     },
     "ea1c107ecd68438382d4fdb412f4620b": {
      "model_module": "@jupyter-widgets/controls",
      "model_module_version": "1.5.0",
      "model_name": "HTMLModel",
      "state": {
       "layout": "IPY_MODEL_be252d442f4243b3b8b57ea90e1def24",
       "style": "IPY_MODEL_4b390811f7a54c3692f58f2784efd53d",
       "value": "100%"
      }
     },
     "eae46b98a7bf400f9ebb1fb704c817fe": {
      "model_module": "@jupyter-widgets/controls",
      "model_module_version": "1.5.0",
      "model_name": "HTMLModel",
      "state": {
       "layout": "IPY_MODEL_01c9544fd182484d82bc70ba8123846a",
       "style": "IPY_MODEL_a2ea5d07e29c4d58ae8668cb96901261",
       "value": "100%"
      }
     },
     "eb1e3bb70258406b86855033cba3fc09": {
      "model_module": "@jupyter-widgets/base",
      "model_module_version": "1.2.0",
      "model_name": "LayoutModel",
      "state": {}
     },
     "eb85536c0a044d82ba5f79569020e34a": {
      "model_module": "@jupyter-widgets/controls",
      "model_module_version": "1.5.0",
      "model_name": "DescriptionStyleModel",
      "state": {
       "description_width": ""
      }
     },
     "ed7168389a434ab2a29a567c88856e54": {
      "model_module": "@jupyter-widgets/base",
      "model_module_version": "1.2.0",
      "model_name": "LayoutModel",
      "state": {}
     },
     "ee15bd53a0dc4aea979eba612e44e1e7": {
      "model_module": "@jupyter-widgets/controls",
      "model_module_version": "1.5.0",
      "model_name": "ProgressStyleModel",
      "state": {
       "description_width": ""
      }
     },
     "f064bd31ae6c4059936e7fab6417fe69": {
      "model_module": "@jupyter-widgets/base",
      "model_module_version": "1.2.0",
      "model_name": "LayoutModel",
      "state": {}
     },
     "f11af67b196f4bf18567242e8aaa218d": {
      "model_module": "@jupyter-widgets/controls",
      "model_module_version": "1.5.0",
      "model_name": "HTMLModel",
      "state": {
       "layout": "IPY_MODEL_e1f691a8d15f4be395a9f3915359fcf3",
       "style": "IPY_MODEL_0de13e7cab3447d1b242ab82549a2cac",
       "value": " 9/9 [00:31&lt;00:00,  3.69s/it]"
      }
     },
     "f59f553fa28f40f8b287feb7d0e52677": {
      "model_module": "@jupyter-widgets/controls",
      "model_module_version": "1.5.0",
      "model_name": "FloatProgressModel",
      "state": {
       "bar_style": "danger",
       "layout": "IPY_MODEL_28acb3c61499480a9780d8351c723431",
       "max": 10,
       "style": "IPY_MODEL_1d9bbd764f9c48d8b11a0b99f6b63b05"
      }
     },
     "f5fe8946c97e43399e01ff76b511cf5b": {
      "model_module": "@jupyter-widgets/controls",
      "model_module_version": "1.5.0",
      "model_name": "HTMLModel",
      "state": {
       "layout": "IPY_MODEL_3fdbb0ae4cb9455395afbe784976a64d",
       "style": "IPY_MODEL_85f0141ce8f74c2d8540fbe4537156ec",
       "value": "  0%"
      }
     },
     "f6c7da4a4d794ae387d4d70a506cfb0a": {
      "model_module": "@jupyter-widgets/base",
      "model_module_version": "1.2.0",
      "model_name": "LayoutModel",
      "state": {}
     },
     "f74472a482cd48b3aee453f1c1ed0d94": {
      "model_module": "@jupyter-widgets/controls",
      "model_module_version": "1.5.0",
      "model_name": "DescriptionStyleModel",
      "state": {
       "description_width": ""
      }
     },
     "f8cedce768da4345aa318ae908435ef4": {
      "model_module": "@jupyter-widgets/controls",
      "model_module_version": "1.5.0",
      "model_name": "DescriptionStyleModel",
      "state": {
       "description_width": ""
      }
     },
     "fa48bb8e72a9458283950e2054ac4be3": {
      "model_module": "@jupyter-widgets/base",
      "model_module_version": "1.2.0",
      "model_name": "LayoutModel",
      "state": {}
     },
     "fb011d14998a4a258e673fe1b1083db1": {
      "model_module": "@jupyter-widgets/controls",
      "model_module_version": "1.5.0",
      "model_name": "HBoxModel",
      "state": {
       "children": [
        "IPY_MODEL_b5a27f79a0934809905cd1e356e0b8fa",
        "IPY_MODEL_2ddcd718deb043f2b2cd8266327bf650",
        "IPY_MODEL_568bfaf08f32450da90134f92c2dd10c"
       ],
       "layout": "IPY_MODEL_43bdc2e279804122ba63d345e2233bfa"
      }
     },
     "fba914bdd6584df7ba7a42965c94ed5e": {
      "model_module": "@jupyter-widgets/base",
      "model_module_version": "1.2.0",
      "model_name": "LayoutModel",
      "state": {}
     },
     "fcd4a21a02e34bdbb3faef6ac96e3b81": {
      "model_module": "@jupyter-widgets/base",
      "model_module_version": "1.2.0",
      "model_name": "LayoutModel",
      "state": {}
     },
     "fd5dceb1cd334bef9afee136b940936f": {
      "model_module": "@jupyter-widgets/controls",
      "model_module_version": "1.5.0",
      "model_name": "HTMLModel",
      "state": {
       "layout": "IPY_MODEL_4921855684f94a189119d2934f51e325",
       "style": "IPY_MODEL_a2f45601ef814b308ec28363caf70a6d",
       "value": " 20/20 [00:30&lt;00:00,  1.51s/it]"
      }
     }
    },
    "version_major": 2,
    "version_minor": 0
   }
  }
 },
 "nbformat": 4,
 "nbformat_minor": 4
}
