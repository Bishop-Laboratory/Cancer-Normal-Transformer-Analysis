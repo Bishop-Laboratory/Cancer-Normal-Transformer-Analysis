{
 "cells": [
  {
   "cell_type": "code",
   "execution_count": 1,
   "metadata": {},
   "outputs": [
    {
     "name": "stdout",
     "output_type": "stream",
     "text": [
      "Unable to import pygraphviz. Visualization is disabled.\n",
      "Loading ontology from C:\\Users\\julia\\anaconda3\\lib\\site-packages\\onto_lib\\obo\\DOID.17-01-30.obo ...\n",
      "Loading ontology from C:\\Users\\julia\\anaconda3\\lib\\site-packages\\onto_lib\\obo\\UBERON.17-01-30.obo ...\n",
      "Loading ontology from C:\\Users\\julia\\anaconda3\\lib\\site-packages\\onto_lib\\obo\\CL.18-11-13.obo ...\n",
      "Loading ontology from C:\\Users\\julia\\anaconda3\\lib\\site-packages\\onto_lib\\obo\\CVCL.17-01-30.obo ...\n",
      "Loading ontology from C:\\Users\\julia\\anaconda3\\lib\\site-packages\\onto_lib\\obo\\EFO.17-01-30.obo ...\n"
     ]
    }
   ],
   "source": [
    "import cello_multiplier as cm\n",
    "from onto_lib import general_ontology_tools as got\n",
    "import pandas as pd"
   ]
  },
  {
   "cell_type": "code",
   "execution_count": 2,
   "metadata": {},
   "outputs": [],
   "source": [
    "B_df, Z_df, labels, per_gene_mean, per_gene_std, train_dummies_specific, train_dummies_full = cm.get_default_mats()"
   ]
  },
  {
   "cell_type": "code",
   "execution_count": 3,
   "metadata": {},
   "outputs": [],
   "source": [
    "# create list of samples by celltypes\n",
    "from sklearn.preprocessing import MultiLabelBinarizer\n",
    "\n",
    "sample2types = {\n",
    "            sample: list(map(got.get_term_name, types_ids))\n",
    "            for sample, types_ids in labels.items()\n",
    "        }\n",
    "\n",
    "types_per_b_samples = B_df.index.map(sample2types).values\n",
    "\n",
    "mlb = MultiLabelBinarizer()\n",
    "types_per_b_samples = B_df.index.map(sample2types).values\n",
    "\n",
    "samples_dummies = pd.DataFrame(mlb.fit_transform(types_per_b_samples), columns=mlb.classes_, index=B_df.index)\n",
    "\n",
    "celltypes = samples_dummies.columns.tolist()\n",
    "\n",
    "type2samples = {\n",
    "    type_: samples_dummies.index[samples_dummies[type_] == 1].tolist()\n",
    "    for type_ in celltypes\n",
    "}"
   ]
  },
  {
   "cell_type": "code",
   "execution_count": 4,
   "metadata": {},
   "outputs": [],
   "source": [
    "# create target list for given cell type with 1 being that cell type and 0 being any other cell type\n",
    "def set_target_full(celltype, type2samples, fulldf, oversample, max_neg_pos_ratio):\n",
    "    samplelist = type2samples[celltype]\n",
    "    \n",
    "    \n",
    "    if(oversample == True and len(fulldf) > 0):\n",
    "        len_negative_train = len(fulldf)-len(samplelist)\n",
    "        len_positive_train = len(samplelist)\n",
    "        \n",
    "        neg_pos_ratio = len_negative_train / len_positive_train\n",
    "        \n",
    "        # limit the max oversampling ratio\n",
    "        neg_pos_ratio = min(neg_pos_ratio, max_neg_pos_ratio)\n",
    "        \n",
    "        if(neg_pos_ratio > 1):\n",
    "            df_train = fulldf.loc[samplelist].sample(\n",
    "                    n=int((neg_pos_ratio - 1) * len_positive_train),\n",
    "                    replace=True, random_state=111\n",
    "                )\n",
    "            fulldf = fulldf.append(df_train)\n",
    "    \n",
    "    target_train = pd.Series(0,index = fulldf.index)\n",
    "    target_train.loc[samplelist] = 1\n",
    "    \n",
    "    return(target_train.values, fulldf)"
   ]
  },
  {
   "cell_type": "code",
   "execution_count": 5,
   "metadata": {},
   "outputs": [],
   "source": [
    "# classifiers\n",
    "from sklearn.linear_model import LogisticRegression\n",
    "from sklearn.model_selection import train_test_split\n",
    "from sklearn import metrics\n",
    "from sklearn.metrics import precision_score, recall_score\n",
    "import numpy as np\n",
    "import warnings\n",
    "from sklearn.metrics import precision_recall_curve\n",
    "from sklearn.metrics import plot_precision_recall_curve\n",
    "import matplotlib.pyplot as plt\n",
    "from tqdm.auto import tqdm"
   ]
  },
  {
   "cell_type": "code",
   "execution_count": 6,
   "metadata": {},
   "outputs": [],
   "source": [
    "#types_with_data = types_sizes[types_sizes > 50].index.values\n",
    "all_types = samples_dummies.columns"
   ]
  },
  {
   "cell_type": "code",
   "execution_count": 7,
   "metadata": {},
   "outputs": [
    {
     "data": {
      "application/vnd.jupyter.widget-view+json": {
       "model_id": "68bcf1969ef5412ab2582b294e06b560",
       "version_major": 2,
       "version_minor": 0
      },
      "text/plain": [
       "HBox(children=(HTML(value=''), FloatProgress(value=0.0, max=317.0), HTML(value='')))"
      ]
     },
     "metadata": {},
     "output_type": "display_data"
    },
    {
     "name": "stdout",
     "output_type": "stream",
     "text": [
      "\n"
     ]
    }
   ],
   "source": [
    "\n",
    "classifiers ={}\n",
    "\n",
    "successful_celltypes = []\n",
    "unsuccessful_celltypes = []\n",
    "\n",
    "for cell_type in tqdm(all_types):\n",
    "        train_target, train_data = set_target_full(\n",
    "            cell_type, type2samples,B_df, oversample=True,\n",
    "            max_neg_pos_ratio=2\n",
    "        )\n",
    "\n",
    "        if(1 in train_target  and 0 in train_target ):\n",
    "            # lasso penalty\n",
    "            classifiers[cell_type] = LogisticRegression(solver = \"liblinear\",penalty = \"l1\",random_state=111 )\n",
    "\n",
    "            classifiers[cell_type].fit(train_data, train_target)\n",
    "           \n",
    "        else:\n",
    "            unsuccessful_celltypes += [cell_type]\n",
    "\n",
    "\n",
    "   \n"
   ]
  },
  {
   "cell_type": "code",
   "execution_count": 8,
   "metadata": {},
   "outputs": [
    {
     "data": {
      "text/plain": [
       "['cell', 'eukaryotic cell', 'native cell']"
      ]
     },
     "execution_count": 8,
     "metadata": {},
     "output_type": "execute_result"
    }
   ],
   "source": [
    "unsuccessful_celltypes"
   ]
  },
  {
   "cell_type": "code",
   "execution_count": 9,
   "metadata": {},
   "outputs": [],
   "source": [
    "import pickle\n",
    "\n",
    "with open('classifiers.pickle', 'wb') as handle:\n",
    "    pickle.dump(classifiers, handle, protocol=pickle.HIGHEST_PROTOCOL)"
   ]
  }
 ],
 "metadata": {
  "kernelspec": {
   "display_name": "Python 3",
   "language": "python",
   "name": "python3"
  },
  "language_info": {
   "codemirror_mode": {
    "name": "ipython",
    "version": 3
   },
   "file_extension": ".py",
   "mimetype": "text/x-python",
   "name": "python",
   "nbconvert_exporter": "python",
   "pygments_lexer": "ipython3",
   "version": "3.8.5"
  }
 },
 "nbformat": 4,
 "nbformat_minor": 4
}
