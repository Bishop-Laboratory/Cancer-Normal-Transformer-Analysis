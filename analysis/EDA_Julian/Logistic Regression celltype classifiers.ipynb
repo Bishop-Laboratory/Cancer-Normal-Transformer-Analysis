{
 "cells": [
  {
   "cell_type": "code",
   "execution_count": 1,
   "metadata": {},
   "outputs": [
    {
     "name": "stdout",
     "output_type": "stream",
     "text": [
      "Unable to import pygraphviz. Visualization is disabled.\n",
      "Loading ontology from C:\\Users\\julia\\anaconda3\\lib\\site-packages\\onto_lib\\obo\\DOID.17-01-30.obo ...\n",
      "Loading ontology from C:\\Users\\julia\\anaconda3\\lib\\site-packages\\onto_lib\\obo\\UBERON.17-01-30.obo ...\n",
      "Loading ontology from C:\\Users\\julia\\anaconda3\\lib\\site-packages\\onto_lib\\obo\\CL.18-11-13.obo ...\n",
      "Loading ontology from C:\\Users\\julia\\anaconda3\\lib\\site-packages\\onto_lib\\obo\\CVCL.17-01-30.obo ...\n",
      "Loading ontology from C:\\Users\\julia\\anaconda3\\lib\\site-packages\\onto_lib\\obo\\EFO.17-01-30.obo ...\n"
     ]
    }
   ],
   "source": [
    "import cello_multiplier as cm\n",
    "from onto_lib import general_ontology_tools as got\n",
    "import pandas as pd"
   ]
  },
  {
   "cell_type": "code",
   "execution_count": 2,
   "metadata": {},
   "outputs": [],
   "source": [
    "# !pip uninstall cello_multiplier --yes\n",
    "# !pip install -U git+https://github.com/Bishop-Laboratory/CellO-MultiPLIER.git@test"
   ]
  },
  {
   "cell_type": "code",
   "execution_count": 3,
   "metadata": {},
   "outputs": [],
   "source": [
    "B_df, Z_df, labels, per_gene_mean, per_gene_std = cm.get_default_mats()"
   ]
  },
  {
   "cell_type": "code",
   "execution_count": 4,
   "metadata": {},
   "outputs": [],
   "source": [
    "#split \n",
    "from pathlib import Path\n",
    "import json\n",
    "\n",
    "split_dir = Path('split')\n",
    "\n",
    "\n",
    "\n",
    "with open(split_dir / 'validation_bulk_experiments.json', 'r') as f:\n",
    "    validation_egs = json.load(f)\n",
    "\n",
    "with open(split_dir / 'pre_training_bulk_experiments.json', 'r') as f:\n",
    "    train_egs = json.load(f)"
   ]
  },
  {
   "cell_type": "code",
   "execution_count": 5,
   "metadata": {},
   "outputs": [
    {
     "data": {
      "text/plain": [
       "(3609, 258)"
      ]
     },
     "execution_count": 5,
     "metadata": {},
     "output_type": "execute_result"
    }
   ],
   "source": [
    "train_Y_df = B_df[B_df.index.isin(train_egs)]\n",
    "train_Y_df.shape"
   ]
  },
  {
   "cell_type": "code",
   "execution_count": 6,
   "metadata": {},
   "outputs": [
    {
     "data": {
      "text/plain": [
       "(684, 258)"
      ]
     },
     "execution_count": 6,
     "metadata": {},
     "output_type": "execute_result"
    }
   ],
   "source": [
    "test_Y_df = B_df[B_df.index.isin(validation_egs)]\n",
    "test_Y_df.shape"
   ]
  },
  {
   "cell_type": "code",
   "execution_count": 7,
   "metadata": {},
   "outputs": [],
   "source": [
    "# create list of samples by celltypes\n",
    "from sklearn.preprocessing import MultiLabelBinarizer\n",
    "\n",
    "sample2types = {\n",
    "            sample: list(map(got.get_term_name, types_ids))\n",
    "            for sample, types_ids in labels.items()\n",
    "        }\n",
    "\n",
    "types_per_b_samples = B_df.index.map(sample2types).values\n",
    "\n",
    "mlb = MultiLabelBinarizer()\n",
    "types_per_b_samples = B_df.index.map(sample2types).values\n",
    "\n",
    "samples_dummies = pd.DataFrame(mlb.fit_transform(types_per_b_samples), columns=mlb.classes_, index=B_df.index)\n",
    "\n",
    "celltypes = samples_dummies.columns.tolist()\n",
    "\n",
    "type2samples = {\n",
    "    type_: samples_dummies.index[samples_dummies[type_] == 1].tolist()\n",
    "    for type_ in celltypes\n",
    "}"
   ]
  },
  {
   "cell_type": "code",
   "execution_count": 8,
   "metadata": {},
   "outputs": [
    {
     "data": {
      "text/plain": [
       "B cell                                             168\n",
       "Bm4 B cell                                           2\n",
       "CD14-low, CD16-positive monocyte                    14\n",
       "CD14-positive monocyte                             302\n",
       "CD14-positive, CD16-negative classical monocyte     11\n",
       "                                                  ... \n",
       "umbilical artery endothelial cell                    1\n",
       "unswitched memory B cell                             4\n",
       "vascular associated smooth muscle cell               5\n",
       "vein endothelial cell                               67\n",
       "visceral muscle cell                                 5\n",
       "Length: 317, dtype: int64"
      ]
     },
     "execution_count": 8,
     "metadata": {},
     "output_type": "execute_result"
    }
   ],
   "source": [
    "types_sizes = samples_dummies.sum()\n",
    "types_sizes"
   ]
  },
  {
   "cell_type": "code",
   "execution_count": 9,
   "metadata": {},
   "outputs": [
    {
     "data": {
      "text/plain": [
       "200.1198738170347"
      ]
     },
     "execution_count": 9,
     "metadata": {},
     "output_type": "execute_result"
    }
   ],
   "source": [
    "types_sizes.mean()"
   ]
  },
  {
   "cell_type": "code",
   "execution_count": 10,
   "metadata": {},
   "outputs": [
    {
     "data": {
      "text/plain": [
       "<seaborn.axisgrid.FacetGrid at 0x26e2660dc70>"
      ]
     },
     "execution_count": 10,
     "metadata": {},
     "output_type": "execute_result"
    },
    {
     "data": {
      "image/png": "[encoded data removed]",
      "text/plain": [
       "<Figure size 360x360 with 1 Axes>"
      ]
     },
     "metadata": {
      "needs_background": "light"
     },
     "output_type": "display_data"
    }
   ],
   "source": [
    "import seaborn as sns\n",
    "sns.displot(types_sizes)"
   ]
  },
  {
   "cell_type": "code",
   "execution_count": 11,
   "metadata": {},
   "outputs": [
    {
     "data": {
      "text/plain": [
       "<AxesSubplot:ylabel='Count'>"
      ]
     },
     "execution_count": 11,
     "metadata": {},
     "output_type": "execute_result"
    },
    {
     "data": {
      "image/png": "[encoded data removed]",
      "text/plain": [
       "<Figure size 864x432 with 2 Axes>"
      ]
     },
     "metadata": {
      "needs_background": "light"
     },
     "output_type": "display_data"
    }
   ],
   "source": [
    "import matplotlib.pyplot as plt\n",
    "\n",
    "fig, ax = plt.subplots(1,2, figsize=(12, 6))\n",
    "\n",
    "sns.histplot(types_sizes[types_sizes < 100], ax=ax[0])\n",
    "sns.histplot(types_sizes[types_sizes > 1000], ax=ax[1])"
   ]
  },
  {
   "cell_type": "code",
   "execution_count": 12,
   "metadata": {},
   "outputs": [
    {
     "data": {
      "text/plain": [
       "317"
      ]
     },
     "execution_count": 12,
     "metadata": {},
     "output_type": "execute_result"
    }
   ],
   "source": [
    "len(types_sizes)"
   ]
  },
  {
   "cell_type": "code",
   "execution_count": 13,
   "metadata": {},
   "outputs": [
    {
     "data": {
      "text/plain": [
       "Bm4 B cell                                          2\n",
       "CD14-low, CD16-positive monocyte                   14\n",
       "CD14-positive, CD16-negative classical monocyte    11\n",
       "CD14-positive, CD16-positive monocyte              24\n",
       "CD141-positive myeloid dendritic cell               7\n",
       "                                                   ..\n",
       "type II pneumocyte                                  5\n",
       "umbilical artery endothelial cell                   1\n",
       "unswitched memory B cell                            4\n",
       "vascular associated smooth muscle cell              5\n",
       "visceral muscle cell                                5\n",
       "Length: 211, dtype: int64"
      ]
     },
     "execution_count": 13,
     "metadata": {},
     "output_type": "execute_result"
    }
   ],
   "source": [
    "types_sizes[types_sizes < 50]"
   ]
  },
  {
   "cell_type": "code",
   "execution_count": 14,
   "metadata": {},
   "outputs": [],
   "source": [
    "# create target list for given cell type with 1 being that cell type and 0 being any other cell type\n",
    "def set_target(celltype, type2samples, train_Y_df, test_Y_df, oversample, max_neg_pos_ratio):\n",
    "    samplelist = type2samples[celltype]\n",
    "    samplelist_train = [x for x in samplelist if x in train_Y_df.index.values]\n",
    "    samplelist_test = [x for x in samplelist if x in test_Y_df.index.values]\n",
    "    \n",
    "    if(oversample == True and len(samplelist_train) > 0 and len(samplelist_test) >0):\n",
    "        len_negative_train = len(train_Y_df)-len(samplelist_train)\n",
    "        len_positive_train = len(samplelist_train)\n",
    "        \n",
    "        neg_pos_ratio = len_negative_train / len_positive_train\n",
    "        \n",
    "        # limit the max oversampling ratio\n",
    "        neg_pos_ratio = min(neg_pos_ratio, max_neg_pos_ratio)\n",
    "        \n",
    "        if(neg_pos_ratio > 1):\n",
    "            df_train = train_Y_df.loc[samplelist_train].sample(\n",
    "                    n=int((neg_pos_ratio - 1) * len_positive_train),\n",
    "                    replace=True, random_state=111\n",
    "                )\n",
    "            train_Y_df = train_Y_df.append(df_train)\n",
    "    \n",
    "    target_train = pd.Series(0,index = train_Y_df.index)\n",
    "    target_train.loc[samplelist_train] = 1\n",
    "    \n",
    "    target_test = pd.Series(0,index = test_Y_df.index)\n",
    "    target_test.loc[samplelist_test] = 1\n",
    "    \n",
    "    train_Y_transformed = scaler.transform(train_Y_df)\n",
    "    test_Y_transformed = scaler.transform(test_Y_df)\n",
    "    \n",
    "    return(target_train.values, target_test.values, train_Y_transformed, test_Y_transformed )"
   ]
  },
  {
   "cell_type": "code",
   "execution_count": 15,
   "metadata": {},
   "outputs": [],
   "source": [
    "# scaling\n",
    "from sklearn.preprocessing import StandardScaler\n",
    "\n",
    "scaler = StandardScaler().fit(B_df)"
   ]
  },
  {
   "cell_type": "code",
   "execution_count": 16,
   "metadata": {},
   "outputs": [],
   "source": [
    "def fscore(p, r):\n",
    "    denom = p + r or 1\n",
    "\n",
    "    return (p * r) / denom"
   ]
  },
  {
   "cell_type": "code",
   "execution_count": 17,
   "metadata": {},
   "outputs": [],
   "source": [
    "# classifiers\n",
    "from sklearn.linear_model import LogisticRegression\n",
    "from sklearn.model_selection import train_test_split\n",
    "from sklearn import metrics\n",
    "from sklearn.metrics import precision_score, recall_score\n",
    "import numpy as np\n",
    "import warnings\n",
    "from sklearn.metrics import precision_recall_curve\n",
    "from sklearn.metrics import plot_precision_recall_curve\n",
    "import matplotlib.pyplot as plt\n",
    "from tqdm.auto import tqdm"
   ]
  },
  {
   "cell_type": "code",
   "execution_count": 18,
   "metadata": {},
   "outputs": [],
   "source": [
    "types_with_data = types_sizes[types_sizes > 50].index.values\n",
    "all_types = samples_dummies.columns"
   ]
  },
  {
   "cell_type": "code",
   "execution_count": 19,
   "metadata": {},
   "outputs": [
    {
     "data": {
      "application/vnd.jupyter.widget-view+json": {
       "model_id": "5219f7e30c7945abb15b9d579dade9ee",
       "version_major": 2,
       "version_minor": 0
      },
      "text/plain": [
       "HBox(children=(HTML(value=''), FloatProgress(value=0.0, max=317.0), HTML(value='')))"
      ]
     },
     "metadata": {},
     "output_type": "display_data"
    },
    {
     "name": "stdout",
     "output_type": "stream",
     "text": [
      "\n"
     ]
    }
   ],
   "source": [
    "warnings.filterwarnings('ignore') #gets rid of sklearn convergence warning\n",
    "\n",
    "successful_celltypes = []\n",
    "unsuccessful_celltypes = []\n",
    "test_prs = []\n",
    "test_precision = []\n",
    "test_recall = []\n",
    "fscores = []\n",
    "\n",
    "for cell_type in tqdm(all_types):\n",
    "    train_target, train_test, train_data, test_data = set_target(\n",
    "        cell_type, type2samples, train_Y_df, test_Y_df, oversample=True,\n",
    "        max_neg_pos_ratio=2\n",
    "    )\n",
    "    \n",
    "    if(1 in train_target and 1 in train_test and 0 in train_target and 0 in train_test):\n",
    "        # lasso penalty\n",
    "        clf = LogisticRegression(solver = \"liblinear\",penalty = \"l1\",random_state=111 )\n",
    "        \n",
    "        clf.fit(train_data, train_target)\n",
    "        target_pred = clf.predict(test_data)\n",
    "        test_pr = metrics.average_precision_score(train_test, target_pred)\n",
    "        test_precision += [precision_score(train_test, target_pred)]\n",
    "        test_recall += [recall_score(train_test, target_pred)]\n",
    "        fscores += [fscore(test_precision[-1], test_recall[-1])]\n",
    "        successful_celltypes += [cell_type]\n",
    "        #plot precision recall curve for celltype\n",
    "#         disp = plot_precision_recall_curve(clf, test_data, train_test)\n",
    "#         disp.ax_.set_title('2-class Precision-Recall curve '+str(cell_type)+': AP={0:0.2f}'.format(test_pr))\n",
    "    else:\n",
    "        unsuccessful_celltypes += [cell_type]\n",
    "        \n",
    "p = np.mean(test_precision)\n",
    "r = np.mean(test_recall)\n",
    "f = np.mean(fscores)\n",
    "f_micro = fscore(p, r) \n",
    "\n",
    "report = pd.DataFrame(list(zip(successful_celltypes,test_precision,test_recall, fscores)),\n",
    "                      columns = [\"celltype\",\"precision score\",\"recall score\",\"f score\"])\n"
   ]
  },
  {
   "cell_type": "code",
   "execution_count": 20,
   "metadata": {},
   "outputs": [
    {
     "name": "stdout",
     "output_type": "stream",
     "text": [
      "precision: 0.6574, recall: 0.5838, f1: 0.2862, f1 micro avg: 0.3092\n"
     ]
    }
   ],
   "source": [
    "print(f'precision: {p:.4f}, recall: {r:.4f}, f1: {f:.4f}, f1 micro avg: {f_micro:.4f}')"
   ]
  },
  {
   "cell_type": "code",
   "execution_count": 21,
   "metadata": {},
   "outputs": [
    {
     "data": {
      "text/html": [
       "<div>\n",
       "<style scoped>\n",
       "    .dataframe tbody tr th:only-of-type {\n",
       "        vertical-align: middle;\n",
       "    }\n",
       "\n",
       "    .dataframe tbody tr th {\n",
       "        vertical-align: top;\n",
       "    }\n",
       "\n",
       "    .dataframe thead th {\n",
       "        text-align: right;\n",
       "    }\n",
       "</style>\n",
       "<table border=\"1\" class=\"dataframe\">\n",
       "  <thead>\n",
       "    <tr style=\"text-align: right;\">\n",
       "      <th></th>\n",
       "      <th>celltype</th>\n",
       "      <th>precision score</th>\n",
       "      <th>recall score</th>\n",
       "      <th>f score</th>\n",
       "    </tr>\n",
       "  </thead>\n",
       "  <tbody>\n",
       "    <tr>\n",
       "      <th>0</th>\n",
       "      <td>B cell</td>\n",
       "      <td>0.722222</td>\n",
       "      <td>0.684211</td>\n",
       "      <td>0.351351</td>\n",
       "    </tr>\n",
       "    <tr>\n",
       "      <th>1</th>\n",
       "      <td>CD14-positive monocyte</td>\n",
       "      <td>0.526316</td>\n",
       "      <td>0.714286</td>\n",
       "      <td>0.303030</td>\n",
       "    </tr>\n",
       "    <tr>\n",
       "      <th>2</th>\n",
       "      <td>CD14-positive, CD16-negative classical monocyte</td>\n",
       "      <td>0.000000</td>\n",
       "      <td>0.000000</td>\n",
       "      <td>0.000000</td>\n",
       "    </tr>\n",
       "    <tr>\n",
       "      <th>3</th>\n",
       "      <td>CD141-positive myeloid dendritic cell</td>\n",
       "      <td>0.000000</td>\n",
       "      <td>0.000000</td>\n",
       "      <td>0.000000</td>\n",
       "    </tr>\n",
       "    <tr>\n",
       "      <th>4</th>\n",
       "      <td>CD1c-positive myeloid dendritic cell</td>\n",
       "      <td>1.000000</td>\n",
       "      <td>0.333333</td>\n",
       "      <td>0.250000</td>\n",
       "    </tr>\n",
       "    <tr>\n",
       "      <th>...</th>\n",
       "      <td>...</td>\n",
       "      <td>...</td>\n",
       "      <td>...</td>\n",
       "      <td>...</td>\n",
       "    </tr>\n",
       "    <tr>\n",
       "      <th>204</th>\n",
       "      <td>type B pancreatic cell</td>\n",
       "      <td>0.666667</td>\n",
       "      <td>1.000000</td>\n",
       "      <td>0.400000</td>\n",
       "    </tr>\n",
       "    <tr>\n",
       "      <th>205</th>\n",
       "      <td>type II pneumocyte</td>\n",
       "      <td>0.000000</td>\n",
       "      <td>0.000000</td>\n",
       "      <td>0.000000</td>\n",
       "    </tr>\n",
       "    <tr>\n",
       "      <th>206</th>\n",
       "      <td>vascular associated smooth muscle cell</td>\n",
       "      <td>1.000000</td>\n",
       "      <td>1.000000</td>\n",
       "      <td>0.500000</td>\n",
       "    </tr>\n",
       "    <tr>\n",
       "      <th>207</th>\n",
       "      <td>vein endothelial cell</td>\n",
       "      <td>1.000000</td>\n",
       "      <td>1.000000</td>\n",
       "      <td>0.500000</td>\n",
       "    </tr>\n",
       "    <tr>\n",
       "      <th>208</th>\n",
       "      <td>visceral muscle cell</td>\n",
       "      <td>1.000000</td>\n",
       "      <td>1.000000</td>\n",
       "      <td>0.500000</td>\n",
       "    </tr>\n",
       "  </tbody>\n",
       "</table>\n",
       "<p>209 rows × 4 columns</p>\n",
       "</div>"
      ],
      "text/plain": [
       "                                            celltype  precision score  \\\n",
       "0                                             B cell         0.722222   \n",
       "1                             CD14-positive monocyte         0.526316   \n",
       "2    CD14-positive, CD16-negative classical monocyte         0.000000   \n",
       "3              CD141-positive myeloid dendritic cell         0.000000   \n",
       "4               CD1c-positive myeloid dendritic cell         1.000000   \n",
       "..                                               ...              ...   \n",
       "204                           type B pancreatic cell         0.666667   \n",
       "205                               type II pneumocyte         0.000000   \n",
       "206           vascular associated smooth muscle cell         1.000000   \n",
       "207                            vein endothelial cell         1.000000   \n",
       "208                             visceral muscle cell         1.000000   \n",
       "\n",
       "     recall score   f score  \n",
       "0        0.684211  0.351351  \n",
       "1        0.714286  0.303030  \n",
       "2        0.000000  0.000000  \n",
       "3        0.000000  0.000000  \n",
       "4        0.333333  0.250000  \n",
       "..            ...       ...  \n",
       "204      1.000000  0.400000  \n",
       "205      0.000000  0.000000  \n",
       "206      1.000000  0.500000  \n",
       "207      1.000000  0.500000  \n",
       "208      1.000000  0.500000  \n",
       "\n",
       "[209 rows x 4 columns]"
      ]
     },
     "execution_count": 21,
     "metadata": {},
     "output_type": "execute_result"
    }
   ],
   "source": [
    "report = pd.DataFrame(\n",
    "    {\n",
    "        \"celltype\": successful_celltypes,\n",
    "        \"precision score\": test_precision,\n",
    "        \"recall score\": test_recall,\n",
    "        \"f score\": fscores\n",
    "    })\n",
    "\n",
    "report"
   ]
  },
  {
   "cell_type": "markdown",
   "metadata": {},
   "source": [
    "## KNN classifier"
   ]
  },
  {
   "cell_type": "code",
   "execution_count": 22,
   "metadata": {},
   "outputs": [
    {
     "data": {
      "text/html": [
       "<div>\n",
       "<style scoped>\n",
       "    .dataframe tbody tr th:only-of-type {\n",
       "        vertical-align: middle;\n",
       "    }\n",
       "\n",
       "    .dataframe tbody tr th {\n",
       "        vertical-align: top;\n",
       "    }\n",
       "\n",
       "    .dataframe thead th {\n",
       "        text-align: right;\n",
       "    }\n",
       "</style>\n",
       "<table border=\"1\" class=\"dataframe\">\n",
       "  <thead>\n",
       "    <tr style=\"text-align: right;\">\n",
       "      <th></th>\n",
       "      <th>1,REACTOME_TRNA_AMINOACYLATION</th>\n",
       "      <th>2,KEGG_CYTOKINE_CYTOKINE_RECEPTOR_INTERACTION</th>\n",
       "      <th>3,REACTOME_SIGNALING_BY_GPCR</th>\n",
       "      <th>4,REACTOME_INNATE_IMMUNE_SYSTEM</th>\n",
       "      <th>5,KEGG_HEMATOPOIETIC_CELL_LINEAGE</th>\n",
       "      <th>6,REACTOME_TRANSMEMBRANE_TRANSPORT_OF_SMALL_MOLECULES</th>\n",
       "      <th>LV 7</th>\n",
       "      <th>8,KEGG_RIBOSOME</th>\n",
       "      <th>9,KEGG_ANTIGEN_PROCESSING_AND_PRESENTATION</th>\n",
       "      <th>10,REACTOME_DEVELOPMENTAL_BIOLOGY</th>\n",
       "      <th>...</th>\n",
       "      <th>249,REACTOME_SIGNALING_BY_GPCR</th>\n",
       "      <th>250,REACTOME_GPCR_DOWNSTREAM_SIGNALING</th>\n",
       "      <th>LV 251</th>\n",
       "      <th>252,REACTOME_GPCR_LIGAND_BINDING</th>\n",
       "      <th>LV 253</th>\n",
       "      <th>254,REACTOME_METABOLISM_OF_LIPIDS_AND_LIPOPROTEINS</th>\n",
       "      <th>LV 255</th>\n",
       "      <th>256,KEGG_NEUROACTIVE_LIGAND_RECEPTOR_INTERACTION</th>\n",
       "      <th>LV 257</th>\n",
       "      <th>258,KEGG_LYSOSOME</th>\n",
       "    </tr>\n",
       "  </thead>\n",
       "  <tbody>\n",
       "    <tr>\n",
       "      <th>SRX890545</th>\n",
       "      <td>-0.047142</td>\n",
       "      <td>-0.061672</td>\n",
       "      <td>-0.130283</td>\n",
       "      <td>1.146374</td>\n",
       "      <td>-0.898703</td>\n",
       "      <td>0.003802</td>\n",
       "      <td>0.017951</td>\n",
       "      <td>0.039434</td>\n",
       "      <td>0.098819</td>\n",
       "      <td>0.090668</td>\n",
       "      <td>...</td>\n",
       "      <td>-0.058305</td>\n",
       "      <td>-0.078093</td>\n",
       "      <td>0.044096</td>\n",
       "      <td>-0.132987</td>\n",
       "      <td>-0.064891</td>\n",
       "      <td>-0.084233</td>\n",
       "      <td>-0.079715</td>\n",
       "      <td>0.031648</td>\n",
       "      <td>0.097951</td>\n",
       "      <td>-0.094273</td>\n",
       "    </tr>\n",
       "    <tr>\n",
       "      <th>SRX1067711</th>\n",
       "      <td>-0.138811</td>\n",
       "      <td>-0.072859</td>\n",
       "      <td>-0.141798</td>\n",
       "      <td>0.340086</td>\n",
       "      <td>-0.645768</td>\n",
       "      <td>-0.112054</td>\n",
       "      <td>-0.018228</td>\n",
       "      <td>0.100562</td>\n",
       "      <td>0.237286</td>\n",
       "      <td>0.130110</td>\n",
       "      <td>...</td>\n",
       "      <td>-0.106243</td>\n",
       "      <td>0.035508</td>\n",
       "      <td>0.029126</td>\n",
       "      <td>-0.212633</td>\n",
       "      <td>-0.118380</td>\n",
       "      <td>-0.079477</td>\n",
       "      <td>-0.020449</td>\n",
       "      <td>-0.055535</td>\n",
       "      <td>-0.110908</td>\n",
       "      <td>-0.107456</td>\n",
       "    </tr>\n",
       "    <tr>\n",
       "      <th>SRX1067710</th>\n",
       "      <td>0.151608</td>\n",
       "      <td>0.037346</td>\n",
       "      <td>-0.192227</td>\n",
       "      <td>0.235739</td>\n",
       "      <td>-0.367522</td>\n",
       "      <td>-0.075481</td>\n",
       "      <td>0.046992</td>\n",
       "      <td>0.261559</td>\n",
       "      <td>0.243077</td>\n",
       "      <td>0.117244</td>\n",
       "      <td>...</td>\n",
       "      <td>-0.033745</td>\n",
       "      <td>0.053268</td>\n",
       "      <td>0.095776</td>\n",
       "      <td>-0.122923</td>\n",
       "      <td>-0.077712</td>\n",
       "      <td>-0.034273</td>\n",
       "      <td>0.009063</td>\n",
       "      <td>-0.045567</td>\n",
       "      <td>-0.116538</td>\n",
       "      <td>-0.087277</td>\n",
       "    </tr>\n",
       "    <tr>\n",
       "      <th>SRX762971</th>\n",
       "      <td>-0.430337</td>\n",
       "      <td>0.065104</td>\n",
       "      <td>0.101707</td>\n",
       "      <td>0.161693</td>\n",
       "      <td>0.174591</td>\n",
       "      <td>0.056106</td>\n",
       "      <td>-0.022039</td>\n",
       "      <td>-0.074942</td>\n",
       "      <td>0.142305</td>\n",
       "      <td>-0.014810</td>\n",
       "      <td>...</td>\n",
       "      <td>0.054359</td>\n",
       "      <td>-0.017231</td>\n",
       "      <td>-0.059902</td>\n",
       "      <td>-0.021081</td>\n",
       "      <td>0.068002</td>\n",
       "      <td>0.000284</td>\n",
       "      <td>0.054229</td>\n",
       "      <td>0.099433</td>\n",
       "      <td>-0.046031</td>\n",
       "      <td>-0.195881</td>\n",
       "    </tr>\n",
       "    <tr>\n",
       "      <th>SRX762970</th>\n",
       "      <td>-0.631706</td>\n",
       "      <td>0.032056</td>\n",
       "      <td>0.143076</td>\n",
       "      <td>0.110677</td>\n",
       "      <td>0.055156</td>\n",
       "      <td>0.102357</td>\n",
       "      <td>-0.051572</td>\n",
       "      <td>-0.208738</td>\n",
       "      <td>0.033539</td>\n",
       "      <td>0.005028</td>\n",
       "      <td>...</td>\n",
       "      <td>0.120424</td>\n",
       "      <td>-0.132861</td>\n",
       "      <td>-0.044972</td>\n",
       "      <td>-0.029622</td>\n",
       "      <td>0.099259</td>\n",
       "      <td>0.006361</td>\n",
       "      <td>0.087683</td>\n",
       "      <td>0.114241</td>\n",
       "      <td>-0.135770</td>\n",
       "      <td>-0.305423</td>\n",
       "    </tr>\n",
       "    <tr>\n",
       "      <th>...</th>\n",
       "      <td>...</td>\n",
       "      <td>...</td>\n",
       "      <td>...</td>\n",
       "      <td>...</td>\n",
       "      <td>...</td>\n",
       "      <td>...</td>\n",
       "      <td>...</td>\n",
       "      <td>...</td>\n",
       "      <td>...</td>\n",
       "      <td>...</td>\n",
       "      <td>...</td>\n",
       "      <td>...</td>\n",
       "      <td>...</td>\n",
       "      <td>...</td>\n",
       "      <td>...</td>\n",
       "      <td>...</td>\n",
       "      <td>...</td>\n",
       "      <td>...</td>\n",
       "      <td>...</td>\n",
       "      <td>...</td>\n",
       "      <td>...</td>\n",
       "    </tr>\n",
       "    <tr>\n",
       "      <th>SRX3399308</th>\n",
       "      <td>0.294573</td>\n",
       "      <td>-0.069644</td>\n",
       "      <td>-0.141022</td>\n",
       "      <td>0.539468</td>\n",
       "      <td>0.244524</td>\n",
       "      <td>-0.091735</td>\n",
       "      <td>0.011769</td>\n",
       "      <td>-0.125333</td>\n",
       "      <td>0.147355</td>\n",
       "      <td>0.024581</td>\n",
       "      <td>...</td>\n",
       "      <td>-0.038481</td>\n",
       "      <td>0.034995</td>\n",
       "      <td>0.038744</td>\n",
       "      <td>-0.150316</td>\n",
       "      <td>0.020215</td>\n",
       "      <td>-0.019632</td>\n",
       "      <td>-0.060539</td>\n",
       "      <td>0.006640</td>\n",
       "      <td>0.063724</td>\n",
       "      <td>-0.001279</td>\n",
       "    </tr>\n",
       "    <tr>\n",
       "      <th>SRX3399309</th>\n",
       "      <td>0.291303</td>\n",
       "      <td>-0.023101</td>\n",
       "      <td>-0.168163</td>\n",
       "      <td>0.677087</td>\n",
       "      <td>0.069541</td>\n",
       "      <td>-0.051337</td>\n",
       "      <td>0.037820</td>\n",
       "      <td>-0.156489</td>\n",
       "      <td>0.154689</td>\n",
       "      <td>0.026092</td>\n",
       "      <td>...</td>\n",
       "      <td>-0.051623</td>\n",
       "      <td>0.029143</td>\n",
       "      <td>0.038417</td>\n",
       "      <td>-0.141965</td>\n",
       "      <td>0.015350</td>\n",
       "      <td>-0.012548</td>\n",
       "      <td>-0.064325</td>\n",
       "      <td>-0.037800</td>\n",
       "      <td>0.047077</td>\n",
       "      <td>-0.011637</td>\n",
       "    </tr>\n",
       "    <tr>\n",
       "      <th>SRX3399310</th>\n",
       "      <td>0.355084</td>\n",
       "      <td>-0.005761</td>\n",
       "      <td>-0.149219</td>\n",
       "      <td>0.570555</td>\n",
       "      <td>0.218329</td>\n",
       "      <td>-0.101855</td>\n",
       "      <td>-0.023172</td>\n",
       "      <td>-0.195428</td>\n",
       "      <td>0.166614</td>\n",
       "      <td>0.058899</td>\n",
       "      <td>...</td>\n",
       "      <td>-0.056086</td>\n",
       "      <td>0.010201</td>\n",
       "      <td>-0.007310</td>\n",
       "      <td>-0.131150</td>\n",
       "      <td>0.080915</td>\n",
       "      <td>-0.007463</td>\n",
       "      <td>-0.021569</td>\n",
       "      <td>-0.039271</td>\n",
       "      <td>0.045941</td>\n",
       "      <td>-0.039003</td>\n",
       "    </tr>\n",
       "    <tr>\n",
       "      <th>SRX3399311</th>\n",
       "      <td>0.259266</td>\n",
       "      <td>-0.008042</td>\n",
       "      <td>-0.194899</td>\n",
       "      <td>0.645999</td>\n",
       "      <td>0.222681</td>\n",
       "      <td>-0.110187</td>\n",
       "      <td>0.011533</td>\n",
       "      <td>-0.170522</td>\n",
       "      <td>0.186274</td>\n",
       "      <td>0.012054</td>\n",
       "      <td>...</td>\n",
       "      <td>-0.010930</td>\n",
       "      <td>0.035821</td>\n",
       "      <td>0.050109</td>\n",
       "      <td>-0.188935</td>\n",
       "      <td>-0.036388</td>\n",
       "      <td>-0.005259</td>\n",
       "      <td>0.013963</td>\n",
       "      <td>-0.057372</td>\n",
       "      <td>-0.042020</td>\n",
       "      <td>0.017209</td>\n",
       "    </tr>\n",
       "    <tr>\n",
       "      <th>SRX3399312</th>\n",
       "      <td>0.287875</td>\n",
       "      <td>-0.049875</td>\n",
       "      <td>-0.233378</td>\n",
       "      <td>0.508587</td>\n",
       "      <td>0.280000</td>\n",
       "      <td>-0.179919</td>\n",
       "      <td>-0.049763</td>\n",
       "      <td>-0.287260</td>\n",
       "      <td>0.122316</td>\n",
       "      <td>-0.002507</td>\n",
       "      <td>...</td>\n",
       "      <td>-0.034305</td>\n",
       "      <td>-0.008947</td>\n",
       "      <td>-0.022853</td>\n",
       "      <td>-0.175797</td>\n",
       "      <td>0.018178</td>\n",
       "      <td>-0.051688</td>\n",
       "      <td>-0.054706</td>\n",
       "      <td>-0.063778</td>\n",
       "      <td>-0.020573</td>\n",
       "      <td>0.049292</td>\n",
       "    </tr>\n",
       "  </tbody>\n",
       "</table>\n",
       "<p>4293 rows × 258 columns</p>\n",
       "</div>"
      ],
      "text/plain": [
       "            1,REACTOME_TRNA_AMINOACYLATION  \\\n",
       "SRX890545                        -0.047142   \n",
       "SRX1067711                       -0.138811   \n",
       "SRX1067710                        0.151608   \n",
       "SRX762971                        -0.430337   \n",
       "SRX762970                        -0.631706   \n",
       "...                                    ...   \n",
       "SRX3399308                        0.294573   \n",
       "SRX3399309                        0.291303   \n",
       "SRX3399310                        0.355084   \n",
       "SRX3399311                        0.259266   \n",
       "SRX3399312                        0.287875   \n",
       "\n",
       "            2,KEGG_CYTOKINE_CYTOKINE_RECEPTOR_INTERACTION  \\\n",
       "SRX890545                                       -0.061672   \n",
       "SRX1067711                                      -0.072859   \n",
       "SRX1067710                                       0.037346   \n",
       "SRX762971                                        0.065104   \n",
       "SRX762970                                        0.032056   \n",
       "...                                                   ...   \n",
       "SRX3399308                                      -0.069644   \n",
       "SRX3399309                                      -0.023101   \n",
       "SRX3399310                                      -0.005761   \n",
       "SRX3399311                                      -0.008042   \n",
       "SRX3399312                                      -0.049875   \n",
       "\n",
       "            3,REACTOME_SIGNALING_BY_GPCR  4,REACTOME_INNATE_IMMUNE_SYSTEM  \\\n",
       "SRX890545                      -0.130283                         1.146374   \n",
       "SRX1067711                     -0.141798                         0.340086   \n",
       "SRX1067710                     -0.192227                         0.235739   \n",
       "SRX762971                       0.101707                         0.161693   \n",
       "SRX762970                       0.143076                         0.110677   \n",
       "...                                  ...                              ...   \n",
       "SRX3399308                     -0.141022                         0.539468   \n",
       "SRX3399309                     -0.168163                         0.677087   \n",
       "SRX3399310                     -0.149219                         0.570555   \n",
       "SRX3399311                     -0.194899                         0.645999   \n",
       "SRX3399312                     -0.233378                         0.508587   \n",
       "\n",
       "            5,KEGG_HEMATOPOIETIC_CELL_LINEAGE  \\\n",
       "SRX890545                           -0.898703   \n",
       "SRX1067711                          -0.645768   \n",
       "SRX1067710                          -0.367522   \n",
       "SRX762971                            0.174591   \n",
       "SRX762970                            0.055156   \n",
       "...                                       ...   \n",
       "SRX3399308                           0.244524   \n",
       "SRX3399309                           0.069541   \n",
       "SRX3399310                           0.218329   \n",
       "SRX3399311                           0.222681   \n",
       "SRX3399312                           0.280000   \n",
       "\n",
       "            6,REACTOME_TRANSMEMBRANE_TRANSPORT_OF_SMALL_MOLECULES      LV 7  \\\n",
       "SRX890545                                            0.003802      0.017951   \n",
       "SRX1067711                                          -0.112054     -0.018228   \n",
       "SRX1067710                                          -0.075481      0.046992   \n",
       "SRX762971                                            0.056106     -0.022039   \n",
       "SRX762970                                            0.102357     -0.051572   \n",
       "...                                                       ...           ...   \n",
       "SRX3399308                                          -0.091735      0.011769   \n",
       "SRX3399309                                          -0.051337      0.037820   \n",
       "SRX3399310                                          -0.101855     -0.023172   \n",
       "SRX3399311                                          -0.110187      0.011533   \n",
       "SRX3399312                                          -0.179919     -0.049763   \n",
       "\n",
       "            8,KEGG_RIBOSOME  9,KEGG_ANTIGEN_PROCESSING_AND_PRESENTATION  \\\n",
       "SRX890545          0.039434                                    0.098819   \n",
       "SRX1067711         0.100562                                    0.237286   \n",
       "SRX1067710         0.261559                                    0.243077   \n",
       "SRX762971         -0.074942                                    0.142305   \n",
       "SRX762970         -0.208738                                    0.033539   \n",
       "...                     ...                                         ...   \n",
       "SRX3399308        -0.125333                                    0.147355   \n",
       "SRX3399309        -0.156489                                    0.154689   \n",
       "SRX3399310        -0.195428                                    0.166614   \n",
       "SRX3399311        -0.170522                                    0.186274   \n",
       "SRX3399312        -0.287260                                    0.122316   \n",
       "\n",
       "            10,REACTOME_DEVELOPMENTAL_BIOLOGY  ...  \\\n",
       "SRX890545                            0.090668  ...   \n",
       "SRX1067711                           0.130110  ...   \n",
       "SRX1067710                           0.117244  ...   \n",
       "SRX762971                           -0.014810  ...   \n",
       "SRX762970                            0.005028  ...   \n",
       "...                                       ...  ...   \n",
       "SRX3399308                           0.024581  ...   \n",
       "SRX3399309                           0.026092  ...   \n",
       "SRX3399310                           0.058899  ...   \n",
       "SRX3399311                           0.012054  ...   \n",
       "SRX3399312                          -0.002507  ...   \n",
       "\n",
       "            249,REACTOME_SIGNALING_BY_GPCR  \\\n",
       "SRX890545                        -0.058305   \n",
       "SRX1067711                       -0.106243   \n",
       "SRX1067710                       -0.033745   \n",
       "SRX762971                         0.054359   \n",
       "SRX762970                         0.120424   \n",
       "...                                    ...   \n",
       "SRX3399308                       -0.038481   \n",
       "SRX3399309                       -0.051623   \n",
       "SRX3399310                       -0.056086   \n",
       "SRX3399311                       -0.010930   \n",
       "SRX3399312                       -0.034305   \n",
       "\n",
       "            250,REACTOME_GPCR_DOWNSTREAM_SIGNALING    LV 251  \\\n",
       "SRX890545                                -0.078093  0.044096   \n",
       "SRX1067711                                0.035508  0.029126   \n",
       "SRX1067710                                0.053268  0.095776   \n",
       "SRX762971                                -0.017231 -0.059902   \n",
       "SRX762970                                -0.132861 -0.044972   \n",
       "...                                            ...       ...   \n",
       "SRX3399308                                0.034995  0.038744   \n",
       "SRX3399309                                0.029143  0.038417   \n",
       "SRX3399310                                0.010201 -0.007310   \n",
       "SRX3399311                                0.035821  0.050109   \n",
       "SRX3399312                               -0.008947 -0.022853   \n",
       "\n",
       "            252,REACTOME_GPCR_LIGAND_BINDING    LV 253  \\\n",
       "SRX890545                          -0.132987 -0.064891   \n",
       "SRX1067711                         -0.212633 -0.118380   \n",
       "SRX1067710                         -0.122923 -0.077712   \n",
       "SRX762971                          -0.021081  0.068002   \n",
       "SRX762970                          -0.029622  0.099259   \n",
       "...                                      ...       ...   \n",
       "SRX3399308                         -0.150316  0.020215   \n",
       "SRX3399309                         -0.141965  0.015350   \n",
       "SRX3399310                         -0.131150  0.080915   \n",
       "SRX3399311                         -0.188935 -0.036388   \n",
       "SRX3399312                         -0.175797  0.018178   \n",
       "\n",
       "            254,REACTOME_METABOLISM_OF_LIPIDS_AND_LIPOPROTEINS    LV 255  \\\n",
       "SRX890545                                           -0.084233  -0.079715   \n",
       "SRX1067711                                          -0.079477  -0.020449   \n",
       "SRX1067710                                          -0.034273   0.009063   \n",
       "SRX762971                                            0.000284   0.054229   \n",
       "SRX762970                                            0.006361   0.087683   \n",
       "...                                                       ...        ...   \n",
       "SRX3399308                                          -0.019632  -0.060539   \n",
       "SRX3399309                                          -0.012548  -0.064325   \n",
       "SRX3399310                                          -0.007463  -0.021569   \n",
       "SRX3399311                                          -0.005259   0.013963   \n",
       "SRX3399312                                          -0.051688  -0.054706   \n",
       "\n",
       "            256,KEGG_NEUROACTIVE_LIGAND_RECEPTOR_INTERACTION    LV 257  \\\n",
       "SRX890545                                           0.031648  0.097951   \n",
       "SRX1067711                                         -0.055535 -0.110908   \n",
       "SRX1067710                                         -0.045567 -0.116538   \n",
       "SRX762971                                           0.099433 -0.046031   \n",
       "SRX762970                                           0.114241 -0.135770   \n",
       "...                                                      ...       ...   \n",
       "SRX3399308                                          0.006640  0.063724   \n",
       "SRX3399309                                         -0.037800  0.047077   \n",
       "SRX3399310                                         -0.039271  0.045941   \n",
       "SRX3399311                                         -0.057372 -0.042020   \n",
       "SRX3399312                                         -0.063778 -0.020573   \n",
       "\n",
       "            258,KEGG_LYSOSOME  \n",
       "SRX890545           -0.094273  \n",
       "SRX1067711          -0.107456  \n",
       "SRX1067710          -0.087277  \n",
       "SRX762971           -0.195881  \n",
       "SRX762970           -0.305423  \n",
       "...                       ...  \n",
       "SRX3399308          -0.001279  \n",
       "SRX3399309          -0.011637  \n",
       "SRX3399310          -0.039003  \n",
       "SRX3399311           0.017209  \n",
       "SRX3399312           0.049292  \n",
       "\n",
       "[4293 rows x 258 columns]"
      ]
     },
     "execution_count": 22,
     "metadata": {},
     "output_type": "execute_result"
    }
   ],
   "source": [
    "B_df"
   ]
  },
  {
   "cell_type": "code",
   "execution_count": 23,
   "metadata": {},
   "outputs": [
    {
     "data": {
      "text/plain": [
       "(3609, 258)"
      ]
     },
     "execution_count": 23,
     "metadata": {},
     "output_type": "execute_result"
    }
   ],
   "source": [
    "B_train_mat = train_Y_df.values\n",
    "B_train_mat.shape"
   ]
  },
  {
   "cell_type": "code",
   "execution_count": 24,
   "metadata": {},
   "outputs": [],
   "source": [
    "b_test_mat = test_Y_df.values"
   ]
  },
  {
   "cell_type": "code",
   "execution_count": 25,
   "metadata": {},
   "outputs": [],
   "source": [
    "import scipy\n",
    "\n",
    "def get_pearson_dists(vectors_a, vectors_b):\n",
    "    vectors_pairs = zip(vectors_a, vectors_b)\n",
    "    return [scipy.spatial.distance.correlation(a, b) for a, b in vectors_pairs]\n",
    "\n",
    "def get_pearson_dists_mat(vectors_a, vectors_b):\n",
    "    return np.array([\n",
    "        # repeat the A vector for each B vector\n",
    "        get_pearson_dists(np.array(vector_a[np.newaxis, :]).repeat(len(vectors_b), axis=0), vectors_b)\n",
    "        for vector_a in tqdm(vectors_a)\n",
    "    ])"
   ]
  },
  {
   "cell_type": "markdown",
   "metadata": {},
   "source": [
    "### Predict all cell types for all test samples"
   ]
  },
  {
   "cell_type": "code",
   "execution_count": 26,
   "metadata": {},
   "outputs": [
    {
     "data": {
      "application/vnd.jupyter.widget-view+json": {
       "model_id": "1ff6ad0c30024132a6fa76f4e0af8237",
       "version_major": 2,
       "version_minor": 0
      },
      "text/plain": [
       "HBox(children=(HTML(value=''), FloatProgress(value=0.0, max=3609.0), HTML(value='')))"
      ]
     },
     "metadata": {},
     "output_type": "display_data"
    },
    {
     "name": "stdout",
     "output_type": "stream",
     "text": [
      "\n"
     ]
    },
    {
     "data": {
      "text/plain": [
       "(3609, 684)"
      ]
     },
     "execution_count": 26,
     "metadata": {},
     "output_type": "execute_result"
    }
   ],
   "source": [
    "test_2_train_dists = get_pearson_dists_mat(B_train_mat, b_test_mat)\n",
    "test_2_train_dists.shape"
   ]
  },
  {
   "cell_type": "code",
   "execution_count": 27,
   "metadata": {},
   "outputs": [],
   "source": [
    "train_samples, test_samples = train_Y_df.index.values, test_Y_df.index.values"
   ]
  },
  {
   "cell_type": "code",
   "execution_count": 28,
   "metadata": {},
   "outputs": [],
   "source": [
    "# distances is n_train matrix X n_test\n",
    "# with columns for test items and rows for train items\n",
    "dists_df = pd.DataFrame(test_2_train_dists)\n",
    "dists_df.columns = test_samples\n",
    "dists_df.index = train_samples"
   ]
  },
  {
   "cell_type": "code",
   "execution_count": 29,
   "metadata": {},
   "outputs": [],
   "source": [
    "def knn_classify(n_neighbours):\n",
    "    # map each test item to it's closest train ones using dists matrix\n",
    "    test_sample2closest_train = {\n",
    "        # get the column for current test sample and find the index of raw the closest value\n",
    "        sample_id: dists_df[sample_id].sort_values().index[:n_neighbours]\n",
    "        for sample_id in test_samples\n",
    "    }\n",
    "    \n",
    "    # predict each cell type just by looking N closest items for each test sample\n",
    "    cell_types_y_predicted = pd.DataFrame([\n",
    "        samples_dummies.loc[test_sample2closest_train[test_id]].sum()\n",
    "        for test_id in test_samples\n",
    "    ])\n",
    "    \n",
    "    proba = cell_types_y_predicted.values / n_neighbours\n",
    "\n",
    "    cell_types_y_predicted[:] = proba\n",
    "    \n",
    "    return cell_types_y_predicted"
   ]
  },
  {
   "cell_type": "markdown",
   "metadata": {},
   "source": [
    "### Calculate performance stats"
   ]
  },
  {
   "cell_type": "code",
   "execution_count": 30,
   "metadata": {},
   "outputs": [
    {
     "data": {
      "text/plain": [
       "(684, 317)"
      ]
     },
     "execution_count": 30,
     "metadata": {},
     "output_type": "execute_result"
    }
   ],
   "source": [
    "true_test_dummies = samples_dummies.loc[test_samples]\n",
    "true_test_dummies.shape"
   ]
  },
  {
   "cell_type": "code",
   "execution_count": 31,
   "metadata": {},
   "outputs": [
    {
     "data": {
      "application/vnd.jupyter.widget-view+json": {
       "model_id": "5a6d583256134f65b3a2bcef414151ce",
       "version_major": 2,
       "version_minor": 0
      },
      "text/plain": [
       "HBox(children=(HTML(value=''), FloatProgress(value=0.0, max=9.0), HTML(value='')))"
      ]
     },
     "metadata": {},
     "output_type": "display_data"
    },
    {
     "name": "stdout",
     "output_type": "stream",
     "text": [
      "\n"
     ]
    }
   ],
   "source": [
    "warnings.filterwarnings('ignore') #gets rid of sklearn convergence warning\n",
    "\n",
    "all_scores = []\n",
    "for n_neighbours in tqdm([1, 5, 10, 15, 20, 30, 40, 50, 100]):\n",
    "    cell_types_y_predicted_proba = knn_classify(n_neighbours)\n",
    "    \n",
    "    for th in [0.1, .3, .5, .7, .9]:\n",
    "        cell_types_y_predicted = cell_types_y_predicted_proba.copy()\n",
    "        above_threshold = cell_types_y_predicted.values > th\n",
    "\n",
    "        cell_types_y_predicted.values[above_threshold] = 1\n",
    "        cell_types_y_predicted.values[~above_threshold] = 0\n",
    "\n",
    "        successful_celltypes = []\n",
    "        unsuccessful_celltypes = []\n",
    "        test_precision = []\n",
    "        test_recall = []\n",
    "        f_scores = []\n",
    "\n",
    "        # types_with_data or all_types\n",
    "        for cell_type in all_types: \n",
    "            # cell type information from original data\n",
    "            y_true = true_test_dummies[cell_type]\n",
    "            y_predicted = cell_types_y_predicted[cell_type]\n",
    "\n",
    "            # calculate precision only if we have predictions for this cell type\n",
    "            if y_predicted.sum() > 0:\n",
    "                test_precision.append(precision_score(y_true, y_predicted))\n",
    "\n",
    "            # calculate recall only if we have true activations for this cell type\n",
    "            if y_true.sum() > 0:\n",
    "                test_recall.append(recall_score(y_true, y_predicted))\n",
    "\n",
    "            # calculate f1 score only if we have precision and recall\n",
    "            if y_predicted.sum() > 0 and y_true.sum() > 0:\n",
    "                f_scores.append(fscore(test_precision[-1], test_recall[-1]))\n",
    "\n",
    "        p = np.mean(test_precision)\n",
    "        r = np.mean(test_recall)\n",
    "        f = np.mean(f_scores)\n",
    "\n",
    "        f_micro = fscore(p, r)\n",
    "        \n",
    "        all_scores.append({\n",
    "            'knn': n_neighbours,\n",
    "            'threshold': th,\n",
    "            'p': p,\n",
    "            'r': r,\n",
    "            'f': f,\n",
    "            'f_micro': f_micro\n",
    "        })\n",
    "\n",
    "#         print(f'knn: {n_neighbours}, th: {th}, precision: {p:.4f}, recall: {r:.4f}, f1: {f:.4f}, f1 micro avg: {f_micro:.4f}')\n",
    "        \n",
    "        if n_neighbours == 1:\n",
    "            break"
   ]
  },
  {
   "cell_type": "code",
   "execution_count": 32,
   "metadata": {},
   "outputs": [
    {
     "data": {
      "text/html": [
       "<div>\n",
       "<style scoped>\n",
       "    .dataframe tbody tr th:only-of-type {\n",
       "        vertical-align: middle;\n",
       "    }\n",
       "\n",
       "    .dataframe tbody tr th {\n",
       "        vertical-align: top;\n",
       "    }\n",
       "\n",
       "    .dataframe thead th {\n",
       "        text-align: right;\n",
       "    }\n",
       "</style>\n",
       "<table border=\"1\" class=\"dataframe\">\n",
       "  <thead>\n",
       "    <tr style=\"text-align: right;\">\n",
       "      <th></th>\n",
       "      <th>knn</th>\n",
       "      <th>threshold</th>\n",
       "      <th>p</th>\n",
       "      <th>r</th>\n",
       "      <th>f</th>\n",
       "      <th>f_micro</th>\n",
       "    </tr>\n",
       "  </thead>\n",
       "  <tbody>\n",
       "    <tr>\n",
       "      <th>2</th>\n",
       "      <td>5</td>\n",
       "      <td>0.3</td>\n",
       "      <td>0.603041</td>\n",
       "      <td>0.625006</td>\n",
       "      <td>0.333724</td>\n",
       "      <td>0.306914</td>\n",
       "    </tr>\n",
       "    <tr>\n",
       "      <th>3</th>\n",
       "      <td>5</td>\n",
       "      <td>0.5</td>\n",
       "      <td>0.684536</td>\n",
       "      <td>0.533972</td>\n",
       "      <td>0.343408</td>\n",
       "      <td>0.299976</td>\n",
       "    </tr>\n",
       "    <tr>\n",
       "      <th>0</th>\n",
       "      <td>1</td>\n",
       "      <td>0.1</td>\n",
       "      <td>0.630964</td>\n",
       "      <td>0.559538</td>\n",
       "      <td>0.327677</td>\n",
       "      <td>0.296554</td>\n",
       "    </tr>\n",
       "    <tr>\n",
       "      <th>6</th>\n",
       "      <td>10</td>\n",
       "      <td>0.1</td>\n",
       "      <td>0.520731</td>\n",
       "      <td>0.664490</td>\n",
       "      <td>0.321020</td>\n",
       "      <td>0.291946</td>\n",
       "    </tr>\n",
       "    <tr>\n",
       "      <th>12</th>\n",
       "      <td>15</td>\n",
       "      <td>0.3</td>\n",
       "      <td>0.692241</td>\n",
       "      <td>0.478970</td>\n",
       "      <td>0.340975</td>\n",
       "      <td>0.283094</td>\n",
       "    </tr>\n",
       "    <tr>\n",
       "      <th>16</th>\n",
       "      <td>20</td>\n",
       "      <td>0.1</td>\n",
       "      <td>0.495992</td>\n",
       "      <td>0.657186</td>\n",
       "      <td>0.307211</td>\n",
       "      <td>0.282662</td>\n",
       "    </tr>\n",
       "    <tr>\n",
       "      <th>1</th>\n",
       "      <td>5</td>\n",
       "      <td>0.1</td>\n",
       "      <td>0.479860</td>\n",
       "      <td>0.681767</td>\n",
       "      <td>0.322101</td>\n",
       "      <td>0.281633</td>\n",
       "    </tr>\n",
       "    <tr>\n",
       "      <th>7</th>\n",
       "      <td>10</td>\n",
       "      <td>0.3</td>\n",
       "      <td>0.655497</td>\n",
       "      <td>0.493065</td>\n",
       "      <td>0.335310</td>\n",
       "      <td>0.281398</td>\n",
       "    </tr>\n",
       "    <tr>\n",
       "      <th>26</th>\n",
       "      <td>40</td>\n",
       "      <td>0.1</td>\n",
       "      <td>0.508486</td>\n",
       "      <td>0.591070</td>\n",
       "      <td>0.298809</td>\n",
       "      <td>0.273338</td>\n",
       "    </tr>\n",
       "    <tr>\n",
       "      <th>11</th>\n",
       "      <td>15</td>\n",
       "      <td>0.1</td>\n",
       "      <td>0.444837</td>\n",
       "      <td>0.692204</td>\n",
       "      <td>0.300355</td>\n",
       "      <td>0.270806</td>\n",
       "    </tr>\n",
       "  </tbody>\n",
       "</table>\n",
       "</div>"
      ],
      "text/plain": [
       "    knn  threshold         p         r         f   f_micro\n",
       "2     5        0.3  0.603041  0.625006  0.333724  0.306914\n",
       "3     5        0.5  0.684536  0.533972  0.343408  0.299976\n",
       "0     1        0.1  0.630964  0.559538  0.327677  0.296554\n",
       "6    10        0.1  0.520731  0.664490  0.321020  0.291946\n",
       "12   15        0.3  0.692241  0.478970  0.340975  0.283094\n",
       "16   20        0.1  0.495992  0.657186  0.307211  0.282662\n",
       "1     5        0.1  0.479860  0.681767  0.322101  0.281633\n",
       "7    10        0.3  0.655497  0.493065  0.335310  0.281398\n",
       "26   40        0.1  0.508486  0.591070  0.298809  0.273338\n",
       "11   15        0.1  0.444837  0.692204  0.300355  0.270806"
      ]
     },
     "execution_count": 32,
     "metadata": {},
     "output_type": "execute_result"
    }
   ],
   "source": [
    "pd.DataFrame(all_scores).sort_values('f_micro', ascending=False).head(10)"
   ]
  },
  {
   "cell_type": "code",
   "execution_count": 33,
   "metadata": {},
   "outputs": [],
   "source": [
    "samplenames = [x for x in range(0,len(test_data))]\n",
    "normalize = False\n",
    "most_specific = True\n",
    "    \n",
    "sortby_pval = False\n",
    "n_neighbours = 10\n",
    "\n",
    "cell_types1 = cm.classify(\n",
    "            B_df, \n",
    "            test_data,\n",
    "            samplenames, \n",
    "            most_specific, \n",
    "            n_neighbours\n",
    "        )\n"
   ]
  },
  {
   "cell_type": "code",
   "execution_count": 34,
   "metadata": {},
   "outputs": [],
   "source": [
    "def predict_knn(test_data, cell_type):\n",
    "    prediction = []\n",
    "    samplenames = [x for x in range(0,len(test_data))]\n",
    "    normalize = False\n",
    "    most_specific = True\n",
    "    sortby_pval = False\n",
    "    n_neighbours = 10\n",
    "\n",
    "    for name, cell_types in cell_types1.groupby(level=0):\n",
    "        if(cell_type in cell_types.index.get_level_values(1)):\n",
    "            pval = cell_types.xs(cell_type, level=1)[\"p_value\"].values[0]\n",
    "            \n",
    "            if(pval <= 0.05):\n",
    "                prediction += [1]\n",
    "            else:\n",
    "                prediction += [0]\n",
    "        else:\n",
    "            prediction += [0]\n",
    "    \n",
    "    return prediction"
   ]
  },
  {
   "cell_type": "code",
   "execution_count": 35,
   "metadata": {},
   "outputs": [
    {
     "data": {
      "application/vnd.jupyter.widget-view+json": {
       "model_id": "f7636bd316ce4131ac0f364256a13dcc",
       "version_major": 2,
       "version_minor": 0
      },
      "text/plain": [
       "HBox(children=(HTML(value=''), FloatProgress(value=0.0, max=317.0), HTML(value='')))"
      ]
     },
     "metadata": {},
     "output_type": "display_data"
    },
    {
     "name": "stdout",
     "output_type": "stream",
     "text": [
      "\n"
     ]
    }
   ],
   "source": [
    "warnings.filterwarnings('ignore') #gets rid of sklearn convergence warning\n",
    "\n",
    "successful_celltypes = []\n",
    "unsuccessful_celltypes = []\n",
    "test_prs = []\n",
    "test_precision = []\n",
    "test_recall = []\n",
    "fscores = []\n",
    "\n",
    "for cell_type in tqdm(all_types):\n",
    "    \n",
    "    \n",
    "    train_target, train_test, train_data, test_data = set_target(\n",
    "        cell_type, type2samples, train_Y_df, test_Y_df, oversample=True,\n",
    "        max_neg_pos_ratio=2\n",
    "    )\n",
    "    \n",
    "    if(1 in train_target and 1 in train_test and 0 in train_target and 0 in train_test):\n",
    "        # lasso penalty\n",
    "        \n",
    "        target_pred = predict_knn(test_data, cell_type)\n",
    "        test_pr = metrics.average_precision_score(train_test, target_pred)\n",
    "        test_precision += [precision_score(train_test, target_pred)]\n",
    "        test_recall += [recall_score(train_test, target_pred)]\n",
    "        fscores += [fscore(test_precision[-1], test_recall[-1])]\n",
    "        successful_celltypes += [cell_type]\n",
    "        #plot precision recall curve for celltype\n",
    "#         disp = plot_precision_recall_curve(clf, test_data, train_test)\n",
    "#         disp.ax_.set_title('2-class Precision-Recall curve '+str(cell_type)+': AP={0:0.2f}'.format(test_pr))\n",
    "    else:\n",
    "        unsuccessful_celltypes += [cell_type]\n",
    "        \n",
    "p = np.mean(test_precision)\n",
    "r = np.mean(test_recall)\n",
    "f = np.mean(fscores)\n",
    "f_micro = fscore(p, r) \n",
    "\n",
    "report = pd.DataFrame(list(zip(successful_celltypes,test_precision,test_recall, fscores)),\n",
    "                      columns = [\"celltype\",\"precision score\",\"recall score\",\"f score\"])"
   ]
  },
  {
   "cell_type": "code",
   "execution_count": 36,
   "metadata": {},
   "outputs": [
    {
     "name": "stdout",
     "output_type": "stream",
     "text": [
      "precision: 0.3100, recall: 0.3129, f1: 0.1305, f1 micro avg: 0.1557\n"
     ]
    }
   ],
   "source": [
    "print(f'precision: {p:.4f}, recall: {r:.4f}, f1: {f:.4f}, f1 micro avg: {f_micro:.4f}')"
   ]
  }
 ],
 "metadata": {
  "kernelspec": {
   "display_name": "Python 3",
   "language": "python",
   "name": "python3"
  },
  "language_info": {
   "codemirror_mode": {
    "name": "ipython",
    "version": 3
   },
   "file_extension": ".py",
   "mimetype": "text/x-python",
   "name": "python",
   "nbconvert_exporter": "python",
   "pygments_lexer": "ipython3",
   "version": "3.8.5"
  },
  "widgets": {
   "application/vnd.jupyter.widget-state+json": {
    "state": {
     "01c9544fd182484d82bc70ba8123846a": {
      "model_module": "@jupyter-widgets/base",
      "model_module_version": "1.2.0",
      "model_name": "LayoutModel",
      "state": {}
     },
     "020224d648934111a7e1973f2ae137d2": {
      "model_module": "@jupyter-widgets/base",
      "model_module_version": "1.2.0",
      "model_name": "LayoutModel",
      "state": {}
     },
     "053f29f60a244ab0929c40c293a166a0": {
      "model_module": "@jupyter-widgets/controls",
      "model_module_version": "1.5.0",
      "model_name": "DescriptionStyleModel",
      "state": {
       "description_width": ""
      }
     },
     "06a51f306f354a329bbba4f2a4d0eccf": {
      "model_module": "@jupyter-widgets/base",
      "model_module_version": "1.2.0",
      "model_name": "LayoutModel",
      "state": {}
     },
     "08972f0496ba4bf4a95c80c398a56720": {
      "model_module": "@jupyter-widgets/controls",
      "model_module_version": "1.5.0",
      "model_name": "DescriptionStyleModel",
      "state": {
       "description_width": ""
      }
     },
     "09280e4c08b4447d8e19f6aefc82e943": {
      "model_module": "@jupyter-widgets/controls",
      "model_module_version": "1.5.0",
      "model_name": "DescriptionStyleModel",
      "state": {
       "description_width": ""
      }
     },
     "0a444318c21c4fe8a86d19749c9cfb7f": {
      "model_module": "@jupyter-widgets/controls",
      "model_module_version": "1.5.0",
      "model_name": "ProgressStyleModel",
      "state": {
       "description_width": ""
      }
     },
     "0a67a070777041389c8587a98ff5b397": {
      "model_module": "@jupyter-widgets/controls",
      "model_module_version": "1.5.0",
      "model_name": "DescriptionStyleModel",
      "state": {
       "description_width": ""
      }
     },
     "0ac6ff4139d54c40b4e1b867e8aca847": {
      "model_module": "@jupyter-widgets/controls",
      "model_module_version": "1.5.0",
      "model_name": "HBoxModel",
      "state": {
       "children": [
        "IPY_MODEL_3de3c4b83022486eb17bdd4d0e101185",
        "IPY_MODEL_47250c65980d40f88874eda3480efaa1",
        "IPY_MODEL_823da6b324884e708ad6448b8f6cd844"
       ],
       "layout": "IPY_MODEL_5dbc527dec314360ac27b79f62439f1e"
      }
     },
     "0b3a86bf5df5428ab8a146932b07b065": {
      "model_module": "@jupyter-widgets/base",
      "model_module_version": "1.2.0",
      "model_name": "LayoutModel",
      "state": {}
     },
     "0bf2f968f0204144a56324e87a37eba9": {
      "model_module": "@jupyter-widgets/base",
      "model_module_version": "1.2.0",
      "model_name": "LayoutModel",
      "state": {}
     },
     "0c046aa832fe49a981e10403d11ce564": {
      "model_module": "@jupyter-widgets/controls",
      "model_module_version": "1.5.0",
      "model_name": "HBoxModel",
      "state": {
       "children": [
        "IPY_MODEL_e550ae65aa944f34b4596dec139b3f85",
        "IPY_MODEL_63bf84a4e0c740209dda4722267295aa",
        "IPY_MODEL_d43ab36dafdb489ab5842fcb3cedb0a8"
       ],
       "layout": "IPY_MODEL_cd6403680d8a4fc5bb5cfcbe8572098e"
      }
     },
     "0c3181ded48d4c26b094a87098bc98b6": {
      "model_module": "@jupyter-widgets/controls",
      "model_module_version": "1.5.0",
      "model_name": "HTMLModel",
      "state": {
       "layout": "IPY_MODEL_2e57daa4543f4f4cab5899bc6d2840f2",
       "style": "IPY_MODEL_676a7b2d3fae41819f7496343a95cf13",
       "value": "  0%"
      }
     },
     "0c9d7a98f4394036952baddac8a77a78": {
      "model_module": "@jupyter-widgets/controls",
      "model_module_version": "1.5.0",
      "model_name": "ProgressStyleModel",
      "state": {
       "description_width": ""
      }
     },
     "0de13e7cab3447d1b242ab82549a2cac": {
      "model_module": "@jupyter-widgets/controls",
      "model_module_version": "1.5.0",
      "model_name": "DescriptionStyleModel",
      "state": {
       "description_width": ""
      }
     },
     "0f7c397b09e748ffb6402f86ffae20a3": {
      "model_module": "@jupyter-widgets/controls",
      "model_module_version": "1.5.0",
      "model_name": "HTMLModel",
      "state": {
       "layout": "IPY_MODEL_c43e48eacb8b498eb8c9ab2ebf40c36e",
       "style": "IPY_MODEL_77eddc2dda784d21a49e31e969ae99eb",
       "value": " 0/10 [00:00&lt;?, ?it/s]"
      }
     },
     "12aa8956383549e58b2f86fc7d3de115": {
      "model_module": "@jupyter-widgets/controls",
      "model_module_version": "1.5.0",
      "model_name": "DescriptionStyleModel",
      "state": {
       "description_width": ""
      }
     },
     "1301ff20030a4518a4561f91b76d8f6f": {
      "model_module": "@jupyter-widgets/controls",
      "model_module_version": "1.5.0",
      "model_name": "HTMLModel",
      "state": {
       "layout": "IPY_MODEL_2ecd74acc1694c8abf4363adb98d63d4",
       "style": "IPY_MODEL_dcef369711e8426d804cfb52854ab1b0",
       "value": " 684/684 [00:00&lt;00:00, 1623.52it/s]"
      }
     },
     "130f042d9aa94cacac7c21ffc3bcb3ab": {
      "model_module": "@jupyter-widgets/controls",
      "model_module_version": "1.5.0",
      "model_name": "HTMLModel",
      "state": {
       "layout": "IPY_MODEL_637354c5e4f94a499d3d899d0c0be7ae",
       "style": "IPY_MODEL_4e2ed946df3a4a5cba20e5bf226aab44",
       "value": "100%"
      }
     },
     "14a584965d36480e8e9465dd68dbca58": {
      "model_module": "@jupyter-widgets/base",
      "model_module_version": "1.2.0",
      "model_name": "LayoutModel",
      "state": {}
     },
     "153412e55a8448f09d44a3f3ceaee566": {
      "model_module": "@jupyter-widgets/controls",
      "model_module_version": "1.5.0",
      "model_name": "ProgressStyleModel",
      "state": {
       "description_width": ""
      }
     },
     "15513680ee134e14a87c784a7097abfb": {
      "model_module": "@jupyter-widgets/controls",
      "model_module_version": "1.5.0",
      "model_name": "ProgressStyleModel",
      "state": {
       "description_width": ""
      }
     },
     "159a9c84f84e49afaea756cbb127ddf7": {
      "model_module": "@jupyter-widgets/controls",
      "model_module_version": "1.5.0",
      "model_name": "HTMLModel",
      "state": {
       "layout": "IPY_MODEL_d7ce78040c204386a0529ee7a820495a",
       "style": "IPY_MODEL_274dbdf6491f4f0db8b08da78db0c2e8",
       "value": " 0/10 [00:00&lt;?, ?it/s]"
      }
     },
     "1847d79be9334178a5cfad153ad382e3": {
      "model_module": "@jupyter-widgets/controls",
      "model_module_version": "1.5.0",
      "model_name": "HTMLModel",
      "state": {
       "layout": "IPY_MODEL_5138ffd065f04274a07653cc1f6e417f",
       "style": "IPY_MODEL_2b875f1a912b47ac89befb610de2eb7f",
       "value": " 0/106 [00:00&lt;?, ?it/s]"
      }
     },
     "1d9bbd764f9c48d8b11a0b99f6b63b05": {
      "model_module": "@jupyter-widgets/controls",
      "model_module_version": "1.5.0",
      "model_name": "ProgressStyleModel",
      "state": {
       "description_width": ""
      }
     },
     "1dea9fbed01a42348367aa5b9504aa76": {
      "model_module": "@jupyter-widgets/base",
      "model_module_version": "1.2.0",
      "model_name": "LayoutModel",
      "state": {}
     },
     "1f5ba7e6164b47d383757fd87f59cf95": {
      "model_module": "@jupyter-widgets/base",
      "model_module_version": "1.2.0",
      "model_name": "LayoutModel",
      "state": {}
     },
     "24f95f22e1944d888e64c6f9e9e20bbb": {
      "model_module": "@jupyter-widgets/controls",
      "model_module_version": "1.5.0",
      "model_name": "HTMLModel",
      "state": {
       "layout": "IPY_MODEL_fcd4a21a02e34bdbb3faef6ac96e3b81",
       "style": "IPY_MODEL_27e9c3274ea34e2fba589c56d7b75889",
       "value": " 10/10 [00:14&lt;00:00,  1.24s/it]"
      }
     },
     "2596aeecbb8848f1951961f2ece9c8f7": {
      "model_module": "@jupyter-widgets/controls",
      "model_module_version": "1.5.0",
      "model_name": "HBoxModel",
      "state": {
       "children": [
        "IPY_MODEL_130f042d9aa94cacac7c21ffc3bcb3ab",
        "IPY_MODEL_4340373d2f18419792185372940517da",
        "IPY_MODEL_d665c2b89528474c972ba0cb2f75e7ce"
       ],
       "layout": "IPY_MODEL_6c5fc320983e4c55a99ee02af3c23e5b"
      }
     },
     "274dbdf6491f4f0db8b08da78db0c2e8": {
      "model_module": "@jupyter-widgets/controls",
      "model_module_version": "1.5.0",
      "model_name": "DescriptionStyleModel",
      "state": {
       "description_width": ""
      }
     },
     "27e9c3274ea34e2fba589c56d7b75889": {
      "model_module": "@jupyter-widgets/controls",
      "model_module_version": "1.5.0",
      "model_name": "DescriptionStyleModel",
      "state": {
       "description_width": ""
      }
     },
     "28acb3c61499480a9780d8351c723431": {
      "model_module": "@jupyter-widgets/base",
      "model_module_version": "1.2.0",
      "model_name": "LayoutModel",
      "state": {}
     },
     "2a8a5a52937b4a1bb387c5c6b6f5ebdc": {
      "model_module": "@jupyter-widgets/controls",
      "model_module_version": "1.5.0",
      "model_name": "HTMLModel",
      "state": {
       "layout": "IPY_MODEL_96df8dcafed84de8ac2a7ad783ea90ad",
       "style": "IPY_MODEL_5ae765690e534164a393c5b185a38f8d",
       "value": " 106/106 [00:00&lt;00:00, 4610.65it/s]"
      }
     },
     "2b875f1a912b47ac89befb610de2eb7f": {
      "model_module": "@jupyter-widgets/controls",
      "model_module_version": "1.5.0",
      "model_name": "DescriptionStyleModel",
      "state": {
       "description_width": ""
      }
     },
     "2ddcd718deb043f2b2cd8266327bf650": {
      "model_module": "@jupyter-widgets/controls",
      "model_module_version": "1.5.0",
      "model_name": "FloatProgressModel",
      "state": {
       "bar_style": "danger",
       "layout": "IPY_MODEL_a0f3cf51a0a643af8b631f3ec80773a3",
       "max": 106,
       "style": "IPY_MODEL_4d32417871774538a40c7ebaa7843da0"
      }
     },
     "2e57daa4543f4f4cab5899bc6d2840f2": {
      "model_module": "@jupyter-widgets/base",
      "model_module_version": "1.2.0",
      "model_name": "LayoutModel",
      "state": {}
     },
     "2e6847e7b22446dd99052efb055430cf": {
      "model_module": "@jupyter-widgets/base",
      "model_module_version": "1.2.0",
      "model_name": "LayoutModel",
      "state": {}
     },
     "2ecd74acc1694c8abf4363adb98d63d4": {
      "model_module": "@jupyter-widgets/base",
      "model_module_version": "1.2.0",
      "model_name": "LayoutModel",
      "state": {}
     },
     "2f2bc42ace1445f2a7f6a3a2797c937e": {
      "model_module": "@jupyter-widgets/controls",
      "model_module_version": "1.5.0",
      "model_name": "HTMLModel",
      "state": {
       "layout": "IPY_MODEL_cbb957072b474f6cbe2700ace1c5af58",
       "style": "IPY_MODEL_12aa8956383549e58b2f86fc7d3de115",
       "value": "  0%"
      }
     },
     "3067e913f32045f48cbe7572aeab8f12": {
      "model_module": "@jupyter-widgets/controls",
      "model_module_version": "1.5.0",
      "model_name": "HBoxModel",
      "state": {
       "children": [
        "IPY_MODEL_ea1c107ecd68438382d4fdb412f4620b",
        "IPY_MODEL_6400e30bb8b24a6e97258f0ce5083ed3",
        "IPY_MODEL_7dfcd288b9d347fd9869f6bb3ac7f87f"
       ],
       "layout": "IPY_MODEL_3fcc043e3ede4d23b5e712fb16e0d153"
      }
     },
     "30ad49fe52d34fdda7a3b6bf639b1e44": {
      "model_module": "@jupyter-widgets/controls",
      "model_module_version": "1.5.0",
      "model_name": "DescriptionStyleModel",
      "state": {
       "description_width": ""
      }
     },
     "34a1ee7e4707475690bff8375e181e9f": {
      "model_module": "@jupyter-widgets/controls",
      "model_module_version": "1.5.0",
      "model_name": "HBoxModel",
      "state": {
       "children": [
        "IPY_MODEL_f5fe8946c97e43399e01ff76b511cf5b",
        "IPY_MODEL_7be38f6e20984176a1b69f6ab95373e9",
        "IPY_MODEL_db9276254cc5449ab2eae8c681966e16"
       ],
       "layout": "IPY_MODEL_8d27abccc95949069b6c7c7bcd81e8c9"
      }
     },
     "367c7fd80ef84b1e82bb1525bab13c10": {
      "model_module": "@jupyter-widgets/controls",
      "model_module_version": "1.5.0",
      "model_name": "HTMLModel",
      "state": {
       "layout": "IPY_MODEL_0b3a86bf5df5428ab8a146932b07b065",
       "style": "IPY_MODEL_8484fe92616e4c348f87e073c899c71d",
       "value": "  0%"
      }
     },
     "378b5e86dbab4c928b33d2fff805c24d": {
      "model_module": "@jupyter-widgets/controls",
      "model_module_version": "1.5.0",
      "model_name": "HTMLModel",
      "state": {
       "layout": "IPY_MODEL_68d6f2e28d664eb2bacf5b041451f335",
       "style": "IPY_MODEL_cd95ee7a2b904abe9f873b1f8e7141c1",
       "value": "100%"
      }
     },
     "3b2fc6c596834ac7b4e2fd9ba8475411": {
      "model_module": "@jupyter-widgets/base",
      "model_module_version": "1.2.0",
      "model_name": "LayoutModel",
      "state": {}
     },
     "3d372ce5b2214700b1a594f3a82baaaf": {
      "model_module": "@jupyter-widgets/controls",
      "model_module_version": "1.5.0",
      "model_name": "HTMLModel",
      "state": {
       "layout": "IPY_MODEL_0bf2f968f0204144a56324e87a37eba9",
       "style": "IPY_MODEL_bdab5e67e184456d98d1cc2407bd8ead",
       "value": " 35/317 [00:31&lt;03:11,  1.47it/s]"
      }
     },
     "3d8c42c7d2d54986961b720944d03fb4": {
      "model_module": "@jupyter-widgets/controls",
      "model_module_version": "1.5.0",
      "model_name": "FloatProgressModel",
      "state": {
       "bar_style": "danger",
       "layout": "IPY_MODEL_a1bcc99ff3784973be4273add9e8fc41",
       "max": 10,
       "style": "IPY_MODEL_df591ea563934036a83d8f61450e3038"
      }
     },
     "3de3c4b83022486eb17bdd4d0e101185": {
      "model_module": "@jupyter-widgets/controls",
      "model_module_version": "1.5.0",
      "model_name": "HTMLModel",
      "state": {
       "layout": "IPY_MODEL_b02e57626a1a483baa8652e8197b5e4b",
       "style": "IPY_MODEL_e89cfb227ea642a99fd515659f6f8d4d",
       "value": "100%"
      }
     },
     "3e084bb40bfd4f189746e643521009b5": {
      "model_module": "@jupyter-widgets/controls",
      "model_module_version": "1.5.0",
      "model_name": "FloatProgressModel",
      "state": {
       "bar_style": "danger",
       "layout": "IPY_MODEL_cd5dbb809e08441b956ff6da77de49a2",
       "max": 106,
       "style": "IPY_MODEL_0a444318c21c4fe8a86d19749c9cfb7f"
      }
     },
     "3f2d637fb3bf4c87964ab741a2c767ba": {
      "model_module": "@jupyter-widgets/controls",
      "model_module_version": "1.5.0",
      "model_name": "DescriptionStyleModel",
      "state": {
       "description_width": ""
      }
     },
     "3fcc043e3ede4d23b5e712fb16e0d153": {
      "model_module": "@jupyter-widgets/base",
      "model_module_version": "1.2.0",
      "model_name": "LayoutModel",
      "state": {}
     },
     "3fdbb0ae4cb9455395afbe784976a64d": {
      "model_module": "@jupyter-widgets/base",
      "model_module_version": "1.2.0",
      "model_name": "LayoutModel",
      "state": {}
     },
     "4340373d2f18419792185372940517da": {
      "model_module": "@jupyter-widgets/controls",
      "model_module_version": "1.5.0",
      "model_name": "FloatProgressModel",
      "state": {
       "bar_style": "success",
       "layout": "IPY_MODEL_4fe41afd9c6846e78d84959c00a8afe0",
       "max": 3609,
       "style": "IPY_MODEL_0c9d7a98f4394036952baddac8a77a78",
       "value": 3609
      }
     },
     "43bdc2e279804122ba63d345e2233bfa": {
      "model_module": "@jupyter-widgets/base",
      "model_module_version": "1.2.0",
      "model_name": "LayoutModel",
      "state": {}
     },
     "470e3a4abec8425fba281f16a9a5e8a2": {
      "model_module": "@jupyter-widgets/controls",
      "model_module_version": "1.5.0",
      "model_name": "ProgressStyleModel",
      "state": {
       "description_width": ""
      }
     },
     "47250c65980d40f88874eda3480efaa1": {
      "model_module": "@jupyter-widgets/controls",
      "model_module_version": "1.5.0",
      "model_name": "FloatProgressModel",
      "state": {
       "bar_style": "success",
       "layout": "IPY_MODEL_59eb884182774399983f821c0a9c88a6",
       "max": 9,
       "style": "IPY_MODEL_a9f18c9bab0f4ec4b531510642a7cdbf",
       "value": 9
      }
     },
     "4921855684f94a189119d2934f51e325": {
      "model_module": "@jupyter-widgets/base",
      "model_module_version": "1.2.0",
      "model_name": "LayoutModel",
      "state": {}
     },
     "4b390811f7a54c3692f58f2784efd53d": {
      "model_module": "@jupyter-widgets/controls",
      "model_module_version": "1.5.0",
      "model_name": "DescriptionStyleModel",
      "state": {
       "description_width": ""
      }
     },
     "4d32417871774538a40c7ebaa7843da0": {
      "model_module": "@jupyter-widgets/controls",
      "model_module_version": "1.5.0",
      "model_name": "ProgressStyleModel",
      "state": {
       "description_width": ""
      }
     },
     "4d8aae999fff4e5da91b7afb2b2a359f": {
      "model_module": "@jupyter-widgets/base",
      "model_module_version": "1.2.0",
      "model_name": "LayoutModel",
      "state": {}
     },
     "4e2ed946df3a4a5cba20e5bf226aab44": {
      "model_module": "@jupyter-widgets/controls",
      "model_module_version": "1.5.0",
      "model_name": "DescriptionStyleModel",
      "state": {
       "description_width": ""
      }
     },
     "4edc6c55a72e4ba1a8e4b3f1701adaf0": {
      "model_module": "@jupyter-widgets/base",
      "model_module_version": "1.2.0",
      "model_name": "LayoutModel",
      "state": {}
     },
     "4ef80e603914405d81a05d3e325fc478": {
      "model_module": "@jupyter-widgets/controls",
      "model_module_version": "1.5.0",
      "model_name": "HTMLModel",
      "state": {
       "layout": "IPY_MODEL_4f7a0129c2bc4ed2ad9db63736b55dc9",
       "style": "IPY_MODEL_d3f43f5370ec4aeea900482589bacb75",
       "value": "  0%"
      }
     },
     "4f7a0129c2bc4ed2ad9db63736b55dc9": {
      "model_module": "@jupyter-widgets/base",
      "model_module_version": "1.2.0",
      "model_name": "LayoutModel",
      "state": {}
     },
     "4fe41afd9c6846e78d84959c00a8afe0": {
      "model_module": "@jupyter-widgets/base",
      "model_module_version": "1.2.0",
      "model_name": "LayoutModel",
      "state": {}
     },
     "5138ffd065f04274a07653cc1f6e417f": {
      "model_module": "@jupyter-widgets/base",
      "model_module_version": "1.2.0",
      "model_name": "LayoutModel",
      "state": {}
     },
     "52991516e99d4032af4c22192b2b13d1": {
      "model_module": "@jupyter-widgets/controls",
      "model_module_version": "1.5.0",
      "model_name": "HTMLModel",
      "state": {
       "layout": "IPY_MODEL_1f5ba7e6164b47d383757fd87f59cf95",
       "style": "IPY_MODEL_0a67a070777041389c8587a98ff5b397",
       "value": "100%"
      }
     },
     "546c3a9dd0cc4c3589194c22e9558b63": {
      "model_module": "@jupyter-widgets/controls",
      "model_module_version": "1.5.0",
      "model_name": "ProgressStyleModel",
      "state": {
       "description_width": ""
      }
     },
     "55f3fcd17ad5472d82360fa183adf335": {
      "model_module": "@jupyter-widgets/base",
      "model_module_version": "1.2.0",
      "model_name": "LayoutModel",
      "state": {}
     },
     "562949313f114f76ad365dbde1e2cad9": {
      "model_module": "@jupyter-widgets/controls",
      "model_module_version": "1.5.0",
      "model_name": "ProgressStyleModel",
      "state": {
       "description_width": ""
      }
     },
     "568bfaf08f32450da90134f92c2dd10c": {
      "model_module": "@jupyter-widgets/controls",
      "model_module_version": "1.5.0",
      "model_name": "HTMLModel",
      "state": {
       "layout": "IPY_MODEL_b93e2522662d45cd8cfaf4954fc7f6a5",
       "style": "IPY_MODEL_f74472a482cd48b3aee453f1c1ed0d94",
       "value": " 0/106 [00:00&lt;?, ?it/s]"
      }
     },
     "59eb884182774399983f821c0a9c88a6": {
      "model_module": "@jupyter-widgets/base",
      "model_module_version": "1.2.0",
      "model_name": "LayoutModel",
      "state": {}
     },
     "5ae765690e534164a393c5b185a38f8d": {
      "model_module": "@jupyter-widgets/controls",
      "model_module_version": "1.5.0",
      "model_name": "DescriptionStyleModel",
      "state": {
       "description_width": ""
      }
     },
     "5d5112f21a4d4fe98bed6cf46fe5e16f": {
      "model_module": "@jupyter-widgets/controls",
      "model_module_version": "1.5.0",
      "model_name": "HBoxModel",
      "state": {
       "children": [
        "IPY_MODEL_378b5e86dbab4c928b33d2fff805c24d",
        "IPY_MODEL_bf942659465e47aaa0ddfa90b950da7b",
        "IPY_MODEL_e76c4763c72c4a1ca03b9e441d4e88e5"
       ],
       "layout": "IPY_MODEL_3b2fc6c596834ac7b4e2fd9ba8475411"
      }
     },
     "5d6c7b1b4bb1497fb719d02095476318": {
      "model_module": "@jupyter-widgets/controls",
      "model_module_version": "1.5.0",
      "model_name": "DescriptionStyleModel",
      "state": {
       "description_width": ""
      }
     },
     "5dbc527dec314360ac27b79f62439f1e": {
      "model_module": "@jupyter-widgets/base",
      "model_module_version": "1.2.0",
      "model_name": "LayoutModel",
      "state": {}
     },
     "5f5948b51f2041ce9a8542ed95077619": {
      "model_module": "@jupyter-widgets/controls",
      "model_module_version": "1.5.0",
      "model_name": "HTMLModel",
      "state": {
       "layout": "IPY_MODEL_8ca86087a85d437193816aaf6b2953a0",
       "style": "IPY_MODEL_5d6c7b1b4bb1497fb719d02095476318",
       "value": " 20/20 [00:31&lt;00:00,  1.59s/it]"
      }
     },
     "637354c5e4f94a499d3d899d0c0be7ae": {
      "model_module": "@jupyter-widgets/base",
      "model_module_version": "1.2.0",
      "model_name": "LayoutModel",
      "state": {}
     },
     "63bf84a4e0c740209dda4722267295aa": {
      "model_module": "@jupyter-widgets/controls",
      "model_module_version": "1.5.0",
      "model_name": "FloatProgressModel",
      "state": {
       "bar_style": "success",
       "layout": "IPY_MODEL_ed7168389a434ab2a29a567c88856e54",
       "max": 106,
       "style": "IPY_MODEL_d3d040d2a03040dbb5bbc494c4a5ab59",
       "value": 106
      }
     },
     "6400e30bb8b24a6e97258f0ce5083ed3": {
      "model_module": "@jupyter-widgets/controls",
      "model_module_version": "1.5.0",
      "model_name": "FloatProgressModel",
      "state": {
       "bar_style": "success",
       "layout": "IPY_MODEL_805385e6613e427b8ae30cc149ca7014",
       "max": 106,
       "style": "IPY_MODEL_e438f77a81934b3abb18b6cf80494d28",
       "value": 106
      }
     },
     "65f042225ceb446a82d7f1764a096f02": {
      "model_module": "@jupyter-widgets/base",
      "model_module_version": "1.2.0",
      "model_name": "LayoutModel",
      "state": {}
     },
     "6630415e3e3941dba21e5e4f3ae6d8f7": {
      "model_module": "@jupyter-widgets/controls",
      "model_module_version": "1.5.0",
      "model_name": "ProgressStyleModel",
      "state": {
       "description_width": ""
      }
     },
     "676a7b2d3fae41819f7496343a95cf13": {
      "model_module": "@jupyter-widgets/controls",
      "model_module_version": "1.5.0",
      "model_name": "DescriptionStyleModel",
      "state": {
       "description_width": ""
      }
     },
     "68d6f2e28d664eb2bacf5b041451f335": {
      "model_module": "@jupyter-widgets/base",
      "model_module_version": "1.2.0",
      "model_name": "LayoutModel",
      "state": {}
     },
     "6c5fc320983e4c55a99ee02af3c23e5b": {
      "model_module": "@jupyter-widgets/base",
      "model_module_version": "1.2.0",
      "model_name": "LayoutModel",
      "state": {}
     },
     "6d3078b6a30a46cca8c5912f667b0971": {
      "model_module": "@jupyter-widgets/controls",
      "model_module_version": "1.5.0",
      "model_name": "HBoxModel",
      "state": {
       "children": [
        "IPY_MODEL_b6129faeb5d5495da2441da3a40b7dde",
        "IPY_MODEL_e3302fb3be4246cbbfc0e39ed893b40a",
        "IPY_MODEL_f11af67b196f4bf18567242e8aaa218d"
       ],
       "layout": "IPY_MODEL_b259ee33640b414e95a7c2ef9383561c"
      }
     },
     "6e125e4c71dc44b6a6b3a169f0cf94e6": {
      "model_module": "@jupyter-widgets/controls",
      "model_module_version": "1.5.0",
      "model_name": "HBoxModel",
      "state": {
       "children": [
        "IPY_MODEL_52991516e99d4032af4c22192b2b13d1",
        "IPY_MODEL_e22608c185214e79a4779bd5197392c2",
        "IPY_MODEL_88fc0b05f19d4a1cbc4dca081c94e736"
       ],
       "layout": "IPY_MODEL_1dea9fbed01a42348367aa5b9504aa76"
      }
     },
     "735f675f13974de48ada3329b92ab8d6": {
      "model_module": "@jupyter-widgets/controls",
      "model_module_version": "1.5.0",
      "model_name": "HBoxModel",
      "state": {
       "children": [
        "IPY_MODEL_4ef80e603914405d81a05d3e325fc478",
        "IPY_MODEL_f59f553fa28f40f8b287feb7d0e52677",
        "IPY_MODEL_159a9c84f84e49afaea756cbb127ddf7"
       ],
       "layout": "IPY_MODEL_8f1fcaf58aef4866a6fa2f3567e8e816"
      }
     },
     "73c388efb45543fdb406f464ddb25a50": {
      "model_module": "@jupyter-widgets/controls",
      "model_module_version": "1.5.0",
      "model_name": "HTMLModel",
      "state": {
       "layout": "IPY_MODEL_c8223ffca00949d6a28086ad0ea4368b",
       "style": "IPY_MODEL_09280e4c08b4447d8e19f6aefc82e943",
       "value": "100%"
      }
     },
     "7432913969e640b2ae1eed0948162f9b": {
      "model_module": "@jupyter-widgets/controls",
      "model_module_version": "1.5.0",
      "model_name": "HBoxModel",
      "state": {
       "children": [
        "IPY_MODEL_0c3181ded48d4c26b094a87098bc98b6",
        "IPY_MODEL_3e084bb40bfd4f189746e643521009b5",
        "IPY_MODEL_1847d79be9334178a5cfad153ad382e3"
       ],
       "layout": "IPY_MODEL_fa48bb8e72a9458283950e2054ac4be3"
      }
     },
     "75f0790e6c1946e79742e34447763f7c": {
      "model_module": "@jupyter-widgets/controls",
      "model_module_version": "1.5.0",
      "model_name": "HBoxModel",
      "state": {
       "children": [
        "IPY_MODEL_80574b28ff914a5d8cba4c7e5d8eae34",
        "IPY_MODEL_c561f076977c4fcfb76cd7524168b56f",
        "IPY_MODEL_5f5948b51f2041ce9a8542ed95077619"
       ],
       "layout": "IPY_MODEL_f064bd31ae6c4059936e7fab6417fe69"
      }
     },
     "77a372063f9144ca84ce70791cad9d71": {
      "model_module": "@jupyter-widgets/controls",
      "model_module_version": "1.5.0",
      "model_name": "DescriptionStyleModel",
      "state": {
       "description_width": ""
      }
     },
     "77eddc2dda784d21a49e31e969ae99eb": {
      "model_module": "@jupyter-widgets/controls",
      "model_module_version": "1.5.0",
      "model_name": "DescriptionStyleModel",
      "state": {
       "description_width": ""
      }
     },
     "7be38f6e20984176a1b69f6ab95373e9": {
      "model_module": "@jupyter-widgets/controls",
      "model_module_version": "1.5.0",
      "model_name": "FloatProgressModel",
      "state": {
       "bar_style": "danger",
       "layout": "IPY_MODEL_55f3fcd17ad5472d82360fa183adf335",
       "max": 10,
       "style": "IPY_MODEL_9930af69472746ca8ea67829a090968c"
      }
     },
     "7dfcd288b9d347fd9869f6bb3ac7f87f": {
      "model_module": "@jupyter-widgets/controls",
      "model_module_version": "1.5.0",
      "model_name": "HTMLModel",
      "state": {
       "layout": "IPY_MODEL_7e9d3ca832fb4a1a9254513c1a1dfee6",
       "style": "IPY_MODEL_08972f0496ba4bf4a95c80c398a56720",
       "value": " 106/106 [02:49&lt;00:00,  1.52s/it]"
      }
     },
     "7e9d3ca832fb4a1a9254513c1a1dfee6": {
      "model_module": "@jupyter-widgets/base",
      "model_module_version": "1.2.0",
      "model_name": "LayoutModel",
      "state": {}
     },
     "805385e6613e427b8ae30cc149ca7014": {
      "model_module": "@jupyter-widgets/base",
      "model_module_version": "1.2.0",
      "model_name": "LayoutModel",
      "state": {}
     },
     "80574b28ff914a5d8cba4c7e5d8eae34": {
      "model_module": "@jupyter-widgets/controls",
      "model_module_version": "1.5.0",
      "model_name": "HTMLModel",
      "state": {
       "layout": "IPY_MODEL_d61f82bc0fc440b3b56d742b8eb3362f",
       "style": "IPY_MODEL_ab0d571e122c47d2b3a970ff05cabe87",
       "value": "100%"
      }
     },
     "823da6b324884e708ad6448b8f6cd844": {
      "model_module": "@jupyter-widgets/controls",
      "model_module_version": "1.5.0",
      "model_name": "HTMLModel",
      "state": {
       "layout": "IPY_MODEL_d999cb7a0b924772abbcc8f726fd8070",
       "style": "IPY_MODEL_d90e763893564836b222af723845dadc",
       "value": " 9/9 [00:31&lt;00:00,  3.51s/it]"
      }
     },
     "82889bf3582c4588a0ec979d479fb419": {
      "model_module": "@jupyter-widgets/base",
      "model_module_version": "1.2.0",
      "model_name": "LayoutModel",
      "state": {}
     },
     "82f7f719f8694b9288139a3012fee6a8": {
      "model_module": "@jupyter-widgets/controls",
      "model_module_version": "1.5.0",
      "model_name": "HBoxModel",
      "state": {
       "children": [
        "IPY_MODEL_b9f1ec66746d4d94a2c6a5c0fd2a712a",
        "IPY_MODEL_83bdc5cd9c5141299d53c029f0acb1b8",
        "IPY_MODEL_2a8a5a52937b4a1bb387c5c6b6f5ebdc"
       ],
       "layout": "IPY_MODEL_91126c762b514405ba8b7eb79adbf3f4"
      }
     },
     "83bdc5cd9c5141299d53c029f0acb1b8": {
      "model_module": "@jupyter-widgets/controls",
      "model_module_version": "1.5.0",
      "model_name": "FloatProgressModel",
      "state": {
       "bar_style": "success",
       "layout": "IPY_MODEL_b1d14e35eeb440baa8278c93551e5739",
       "max": 106,
       "style": "IPY_MODEL_562949313f114f76ad365dbde1e2cad9",
       "value": 106
      }
     },
     "8484fe92616e4c348f87e073c899c71d": {
      "model_module": "@jupyter-widgets/controls",
      "model_module_version": "1.5.0",
      "model_name": "DescriptionStyleModel",
      "state": {
       "description_width": ""
      }
     },
     "85f0141ce8f74c2d8540fbe4537156ec": {
      "model_module": "@jupyter-widgets/controls",
      "model_module_version": "1.5.0",
      "model_name": "DescriptionStyleModel",
      "state": {
       "description_width": ""
      }
     },
     "88d51dec20ad4689bca43b540c1f4e8c": {
      "model_module": "@jupyter-widgets/base",
      "model_module_version": "1.2.0",
      "model_name": "LayoutModel",
      "state": {}
     },
     "88fc0b05f19d4a1cbc4dca081c94e736": {
      "model_module": "@jupyter-widgets/controls",
      "model_module_version": "1.5.0",
      "model_name": "HTMLModel",
      "state": {
       "layout": "IPY_MODEL_a2732addba12417f866fd1c2e7794875",
       "style": "IPY_MODEL_9f9fd9f0db2648e5a62ff03091cfdb73",
       "value": " 10/10 [00:16&lt;00:00,  1.61s/it]"
      }
     },
     "8ca86087a85d437193816aaf6b2953a0": {
      "model_module": "@jupyter-widgets/base",
      "model_module_version": "1.2.0",
      "model_name": "LayoutModel",
      "state": {}
     },
     "8d27abccc95949069b6c7c7bcd81e8c9": {
      "model_module": "@jupyter-widgets/base",
      "model_module_version": "1.2.0",
      "model_name": "LayoutModel",
      "state": {}
     },
     "8eb15dc0951748bb8ac48e1cf9fb29e7": {
      "model_module": "@jupyter-widgets/controls",
      "model_module_version": "1.5.0",
      "model_name": "FloatProgressModel",
      "state": {
       "bar_style": "success",
       "layout": "IPY_MODEL_d1d7bdeb562a4f0184d99aec437dd261",
       "max": 684,
       "style": "IPY_MODEL_ad3c902536954f2f9aedb6de21599d63",
       "value": 684
      }
     },
     "8f0a2f74d9da44d1ad45ce383d831bc1": {
      "model_module": "@jupyter-widgets/controls",
      "model_module_version": "1.5.0",
      "model_name": "FloatProgressModel",
      "state": {
       "layout": "IPY_MODEL_afa9f26aa5e44695a169751c92c49c81",
       "max": 317,
       "style": "IPY_MODEL_ee15bd53a0dc4aea979eba612e44e1e7",
       "value": 35
      }
     },
     "8f1fcaf58aef4866a6fa2f3567e8e816": {
      "model_module": "@jupyter-widgets/base",
      "model_module_version": "1.2.0",
      "model_name": "LayoutModel",
      "state": {}
     },
     "8f72e38e4268453ebbf708a3028c0f3d": {
      "model_module": "@jupyter-widgets/controls",
      "model_module_version": "1.5.0",
      "model_name": "HBoxModel",
      "state": {
       "children": [
        "IPY_MODEL_eae46b98a7bf400f9ebb1fb704c817fe",
        "IPY_MODEL_a8e740afb8b44512802b6b2fd7a3c0f3",
        "IPY_MODEL_24f95f22e1944d888e64c6f9e9e20bbb"
       ],
       "layout": "IPY_MODEL_eb1e3bb70258406b86855033cba3fc09"
      }
     },
     "91126c762b514405ba8b7eb79adbf3f4": {
      "model_module": "@jupyter-widgets/base",
      "model_module_version": "1.2.0",
      "model_name": "LayoutModel",
      "state": {}
     },
     "96df8dcafed84de8ac2a7ad783ea90ad": {
      "model_module": "@jupyter-widgets/base",
      "model_module_version": "1.2.0",
      "model_name": "LayoutModel",
      "state": {}
     },
     "9930af69472746ca8ea67829a090968c": {
      "model_module": "@jupyter-widgets/controls",
      "model_module_version": "1.5.0",
      "model_name": "ProgressStyleModel",
      "state": {
       "description_width": ""
      }
     },
     "9a1fd900afff4c7c840a3b6079fcb2c8": {
      "model_module": "@jupyter-widgets/controls",
      "model_module_version": "1.5.0",
      "model_name": "DescriptionStyleModel",
      "state": {
       "description_width": ""
      }
     },
     "9cdc56da3b1a4bd4809da9de3a906862": {
      "model_module": "@jupyter-widgets/controls",
      "model_module_version": "1.5.0",
      "model_name": "DescriptionStyleModel",
      "state": {
       "description_width": ""
      }
     },
     "9f9fd9f0db2648e5a62ff03091cfdb73": {
      "model_module": "@jupyter-widgets/controls",
      "model_module_version": "1.5.0",
      "model_name": "DescriptionStyleModel",
      "state": {
       "description_width": ""
      }
     },
     "a0f3cf51a0a643af8b631f3ec80773a3": {
      "model_module": "@jupyter-widgets/base",
      "model_module_version": "1.2.0",
      "model_name": "LayoutModel",
      "state": {}
     },
     "a1bcc99ff3784973be4273add9e8fc41": {
      "model_module": "@jupyter-widgets/base",
      "model_module_version": "1.2.0",
      "model_name": "LayoutModel",
      "state": {}
     },
     "a1f0bac9b8704a79aba1e2c69d6614d1": {
      "model_module": "@jupyter-widgets/base",
      "model_module_version": "1.2.0",
      "model_name": "LayoutModel",
      "state": {}
     },
     "a2732addba12417f866fd1c2e7794875": {
      "model_module": "@jupyter-widgets/base",
      "model_module_version": "1.2.0",
      "model_name": "LayoutModel",
      "state": {}
     },
     "a2ea5d07e29c4d58ae8668cb96901261": {
      "model_module": "@jupyter-widgets/controls",
      "model_module_version": "1.5.0",
      "model_name": "DescriptionStyleModel",
      "state": {
       "description_width": ""
      }
     },
     "a2f45601ef814b308ec28363caf70a6d": {
      "model_module": "@jupyter-widgets/controls",
      "model_module_version": "1.5.0",
      "model_name": "DescriptionStyleModel",
      "state": {
       "description_width": ""
      }
     },
     "a3374d33315d44d6a5eaf754e3ca3abc": {
      "model_module": "@jupyter-widgets/base",
      "model_module_version": "1.2.0",
      "model_name": "LayoutModel",
      "state": {}
     },
     "a56d5d80991e4e4cbe4ac7c0923b72c6": {
      "model_module": "@jupyter-widgets/controls",
      "model_module_version": "1.5.0",
      "model_name": "HBoxModel",
      "state": {
       "children": [
        "IPY_MODEL_367c7fd80ef84b1e82bb1525bab13c10",
        "IPY_MODEL_dfbcb2ab7c1b49e087d3c02256687063",
        "IPY_MODEL_de888a7ef636489eba68050f3aa6b7d5"
       ],
       "layout": "IPY_MODEL_a1f0bac9b8704a79aba1e2c69d6614d1"
      }
     },
     "a8e740afb8b44512802b6b2fd7a3c0f3": {
      "model_module": "@jupyter-widgets/controls",
      "model_module_version": "1.5.0",
      "model_name": "FloatProgressModel",
      "state": {
       "bar_style": "success",
       "layout": "IPY_MODEL_bdb09e05bd5843569762ce1335fa7623",
       "max": 10,
       "style": "IPY_MODEL_bec1c0dc56f14e028e50a6f34d04d5e0",
       "value": 10
      }
     },
     "a9f18c9bab0f4ec4b531510642a7cdbf": {
      "model_module": "@jupyter-widgets/controls",
      "model_module_version": "1.5.0",
      "model_name": "ProgressStyleModel",
      "state": {
       "description_width": ""
      }
     },
     "ab0d571e122c47d2b3a970ff05cabe87": {
      "model_module": "@jupyter-widgets/controls",
      "model_module_version": "1.5.0",
      "model_name": "DescriptionStyleModel",
      "state": {
       "description_width": ""
      }
     },
     "ac43143d773f4f4c8fbbe1a23e5bb251": {
      "model_module": "@jupyter-widgets/base",
      "model_module_version": "1.2.0",
      "model_name": "LayoutModel",
      "state": {}
     },
     "ace47013fe0c4efd934407872eb46ff9": {
      "model_module": "@jupyter-widgets/base",
      "model_module_version": "1.2.0",
      "model_name": "LayoutModel",
      "state": {}
     },
     "ad3c902536954f2f9aedb6de21599d63": {
      "model_module": "@jupyter-widgets/controls",
      "model_module_version": "1.5.0",
      "model_name": "ProgressStyleModel",
      "state": {
       "description_width": ""
      }
     },
     "af010b960da442a29c94a0d895439d18": {
      "model_module": "@jupyter-widgets/base",
      "model_module_version": "1.2.0",
      "model_name": "LayoutModel",
      "state": {}
     },
     "afa9f26aa5e44695a169751c92c49c81": {
      "model_module": "@jupyter-widgets/base",
      "model_module_version": "1.2.0",
      "model_name": "LayoutModel",
      "state": {}
     },
     "b02e57626a1a483baa8652e8197b5e4b": {
      "model_module": "@jupyter-widgets/base",
      "model_module_version": "1.2.0",
      "model_name": "LayoutModel",
      "state": {}
     },
     "b1d14e35eeb440baa8278c93551e5739": {
      "model_module": "@jupyter-widgets/base",
      "model_module_version": "1.2.0",
      "model_name": "LayoutModel",
      "state": {}
     },
     "b22651d2477844128f48141b5ac8c26e": {
      "model_module": "@jupyter-widgets/base",
      "model_module_version": "1.2.0",
      "model_name": "LayoutModel",
      "state": {}
     },
     "b259ee33640b414e95a7c2ef9383561c": {
      "model_module": "@jupyter-widgets/base",
      "model_module_version": "1.2.0",
      "model_name": "LayoutModel",
      "state": {}
     },
     "b39c9e240d554ea3a5e43f5938a872ed": {
      "model_module": "@jupyter-widgets/controls",
      "model_module_version": "1.5.0",
      "model_name": "ProgressStyleModel",
      "state": {
       "description_width": ""
      }
     },
     "b48703e514ae4ca688a4706d62a689da": {
      "model_module": "@jupyter-widgets/base",
      "model_module_version": "1.2.0",
      "model_name": "LayoutModel",
      "state": {}
     },
     "b4e4d188535746819290cacf9ecf9ddd": {
      "model_module": "@jupyter-widgets/controls",
      "model_module_version": "1.5.0",
      "model_name": "DescriptionStyleModel",
      "state": {
       "description_width": ""
      }
     },
     "b5a27f79a0934809905cd1e356e0b8fa": {
      "model_module": "@jupyter-widgets/controls",
      "model_module_version": "1.5.0",
      "model_name": "HTMLModel",
      "state": {
       "layout": "IPY_MODEL_d4d086a57a1b433d9ef58a4f2ae5515b",
       "style": "IPY_MODEL_3f2d637fb3bf4c87964ab741a2c767ba",
       "value": "  0%"
      }
     },
     "b5ac233389784d51b66a9f6c3310f4a4": {
      "model_module": "@jupyter-widgets/base",
      "model_module_version": "1.2.0",
      "model_name": "LayoutModel",
      "state": {}
     },
     "b6129faeb5d5495da2441da3a40b7dde": {
      "model_module": "@jupyter-widgets/controls",
      "model_module_version": "1.5.0",
      "model_name": "HTMLModel",
      "state": {
       "layout": "IPY_MODEL_4edc6c55a72e4ba1a8e4b3f1701adaf0",
       "style": "IPY_MODEL_eb85536c0a044d82ba5f79569020e34a",
       "value": "100%"
      }
     },
     "b68e9085484f44dbaf10051adeb3c269": {
      "model_module": "@jupyter-widgets/controls",
      "model_module_version": "1.5.0",
      "model_name": "HBoxModel",
      "state": {
       "children": [
        "IPY_MODEL_ddbb2e5a5e17476581b32cc7bed05719",
        "IPY_MODEL_8f0a2f74d9da44d1ad45ce383d831bc1",
        "IPY_MODEL_3d372ce5b2214700b1a594f3a82baaaf"
       ],
       "layout": "IPY_MODEL_020224d648934111a7e1973f2ae137d2"
      }
     },
     "b93e2522662d45cd8cfaf4954fc7f6a5": {
      "model_module": "@jupyter-widgets/base",
      "model_module_version": "1.2.0",
      "model_name": "LayoutModel",
      "state": {}
     },
     "b9f1ec66746d4d94a2c6a5c0fd2a712a": {
      "model_module": "@jupyter-widgets/controls",
      "model_module_version": "1.5.0",
      "model_name": "HTMLModel",
      "state": {
       "layout": "IPY_MODEL_af010b960da442a29c94a0d895439d18",
       "style": "IPY_MODEL_053f29f60a244ab0929c40c293a166a0",
       "value": "100%"
      }
     },
     "bbdaff8e6a8142aea34e39518f885570": {
      "model_module": "@jupyter-widgets/controls",
      "model_module_version": "1.5.0",
      "model_name": "HBoxModel",
      "state": {
       "children": [
        "IPY_MODEL_dad19ee32b784fe68316da6a01cc820c",
        "IPY_MODEL_e07e9af465844055a870d1c7db83a4b6",
        "IPY_MODEL_fd5dceb1cd334bef9afee136b940936f"
       ],
       "layout": "IPY_MODEL_ac43143d773f4f4c8fbbe1a23e5bb251"
      }
     },
     "bdab5e67e184456d98d1cc2407bd8ead": {
      "model_module": "@jupyter-widgets/controls",
      "model_module_version": "1.5.0",
      "model_name": "DescriptionStyleModel",
      "state": {
       "description_width": ""
      }
     },
     "bdb09e05bd5843569762ce1335fa7623": {
      "model_module": "@jupyter-widgets/base",
      "model_module_version": "1.2.0",
      "model_name": "LayoutModel",
      "state": {}
     },
     "be252d442f4243b3b8b57ea90e1def24": {
      "model_module": "@jupyter-widgets/base",
      "model_module_version": "1.2.0",
      "model_name": "LayoutModel",
      "state": {}
     },
     "bec1c0dc56f14e028e50a6f34d04d5e0": {
      "model_module": "@jupyter-widgets/controls",
      "model_module_version": "1.5.0",
      "model_name": "ProgressStyleModel",
      "state": {
       "description_width": ""
      }
     },
     "bf942659465e47aaa0ddfa90b950da7b": {
      "model_module": "@jupyter-widgets/controls",
      "model_module_version": "1.5.0",
      "model_name": "FloatProgressModel",
      "state": {
       "bar_style": "success",
       "layout": "IPY_MODEL_06a51f306f354a329bbba4f2a4d0eccf",
       "max": 106,
       "style": "IPY_MODEL_470e3a4abec8425fba281f16a9a5e8a2",
       "value": 106
      }
     },
     "c102122746a64e168978c7611d250a67": {
      "model_module": "@jupyter-widgets/base",
      "model_module_version": "1.2.0",
      "model_name": "LayoutModel",
      "state": {}
     },
     "c43e48eacb8b498eb8c9ab2ebf40c36e": {
      "model_module": "@jupyter-widgets/base",
      "model_module_version": "1.2.0",
      "model_name": "LayoutModel",
      "state": {}
     },
     "c561f076977c4fcfb76cd7524168b56f": {
      "model_module": "@jupyter-widgets/controls",
      "model_module_version": "1.5.0",
      "model_name": "FloatProgressModel",
      "state": {
       "bar_style": "success",
       "layout": "IPY_MODEL_14a584965d36480e8e9465dd68dbca58",
       "max": 20,
       "style": "IPY_MODEL_6630415e3e3941dba21e5e4f3ae6d8f7",
       "value": 20
      }
     },
     "c8223ffca00949d6a28086ad0ea4368b": {
      "model_module": "@jupyter-widgets/base",
      "model_module_version": "1.2.0",
      "model_name": "LayoutModel",
      "state": {}
     },
     "cbb957072b474f6cbe2700ace1c5af58": {
      "model_module": "@jupyter-widgets/base",
      "model_module_version": "1.2.0",
      "model_name": "LayoutModel",
      "state": {}
     },
     "cc7ca8f278c34fcfaf0f65a86bcb7dc9": {
      "model_module": "@jupyter-widgets/controls",
      "model_module_version": "1.5.0",
      "model_name": "DescriptionStyleModel",
      "state": {
       "description_width": ""
      }
     },
     "cd1368ef64f64fd08a6ad5d48848adff": {
      "model_module": "@jupyter-widgets/controls",
      "model_module_version": "1.5.0",
      "model_name": "HBoxModel",
      "state": {
       "children": [
        "IPY_MODEL_73c388efb45543fdb406f464ddb25a50",
        "IPY_MODEL_8eb15dc0951748bb8ac48e1cf9fb29e7",
        "IPY_MODEL_1301ff20030a4518a4561f91b76d8f6f"
       ],
       "layout": "IPY_MODEL_a3374d33315d44d6a5eaf754e3ca3abc"
      }
     },
     "cd5dbb809e08441b956ff6da77de49a2": {
      "model_module": "@jupyter-widgets/base",
      "model_module_version": "1.2.0",
      "model_name": "LayoutModel",
      "state": {}
     },
     "cd6403680d8a4fc5bb5cfcbe8572098e": {
      "model_module": "@jupyter-widgets/base",
      "model_module_version": "1.2.0",
      "model_name": "LayoutModel",
      "state": {}
     },
     "cd95ee7a2b904abe9f873b1f8e7141c1": {
      "model_module": "@jupyter-widgets/controls",
      "model_module_version": "1.5.0",
      "model_name": "DescriptionStyleModel",
      "state": {
       "description_width": ""
      }
     },
     "d1d7bdeb562a4f0184d99aec437dd261": {
      "model_module": "@jupyter-widgets/base",
      "model_module_version": "1.2.0",
      "model_name": "LayoutModel",
      "state": {}
     },
     "d3d040d2a03040dbb5bbc494c4a5ab59": {
      "model_module": "@jupyter-widgets/controls",
      "model_module_version": "1.5.0",
      "model_name": "ProgressStyleModel",
      "state": {
       "description_width": ""
      }
     },
     "d3f43f5370ec4aeea900482589bacb75": {
      "model_module": "@jupyter-widgets/controls",
      "model_module_version": "1.5.0",
      "model_name": "DescriptionStyleModel",
      "state": {
       "description_width": ""
      }
     },
     "d43ab36dafdb489ab5842fcb3cedb0a8": {
      "model_module": "@jupyter-widgets/controls",
      "model_module_version": "1.5.0",
      "model_name": "HTMLModel",
      "state": {
       "layout": "IPY_MODEL_88d51dec20ad4689bca43b540c1f4e8c",
       "style": "IPY_MODEL_77a372063f9144ca84ce70791cad9d71",
       "value": " 106/106 [00:00&lt;00:00, 539.99it/s]"
      }
     },
     "d4d086a57a1b433d9ef58a4f2ae5515b": {
      "model_module": "@jupyter-widgets/base",
      "model_module_version": "1.2.0",
      "model_name": "LayoutModel",
      "state": {}
     },
     "d61f82bc0fc440b3b56d742b8eb3362f": {
      "model_module": "@jupyter-widgets/base",
      "model_module_version": "1.2.0",
      "model_name": "LayoutModel",
      "state": {}
     },
     "d665c2b89528474c972ba0cb2f75e7ce": {
      "model_module": "@jupyter-widgets/controls",
      "model_module_version": "1.5.0",
      "model_name": "HTMLModel",
      "state": {
       "layout": "IPY_MODEL_fba914bdd6584df7ba7a42965c94ed5e",
       "style": "IPY_MODEL_30ad49fe52d34fdda7a3b6bf639b1e44",
       "value": " 3609/3609 [02:21&lt;00:00, 22.61it/s]"
      }
     },
     "d75bf800f62e4534a6351256c141696b": {
      "model_module": "@jupyter-widgets/controls",
      "model_module_version": "1.5.0",
      "model_name": "HBoxModel",
      "state": {
       "children": [
        "IPY_MODEL_2f2bc42ace1445f2a7f6a3a2797c937e",
        "IPY_MODEL_3d8c42c7d2d54986961b720944d03fb4",
        "IPY_MODEL_0f7c397b09e748ffb6402f86ffae20a3"
       ],
       "layout": "IPY_MODEL_b48703e514ae4ca688a4706d62a689da"
      }
     },
     "d7ce78040c204386a0529ee7a820495a": {
      "model_module": "@jupyter-widgets/base",
      "model_module_version": "1.2.0",
      "model_name": "LayoutModel",
      "state": {}
     },
     "d90e763893564836b222af723845dadc": {
      "model_module": "@jupyter-widgets/controls",
      "model_module_version": "1.5.0",
      "model_name": "DescriptionStyleModel",
      "state": {
       "description_width": ""
      }
     },
     "d999cb7a0b924772abbcc8f726fd8070": {
      "model_module": "@jupyter-widgets/base",
      "model_module_version": "1.2.0",
      "model_name": "LayoutModel",
      "state": {}
     },
     "dad19ee32b784fe68316da6a01cc820c": {
      "model_module": "@jupyter-widgets/controls",
      "model_module_version": "1.5.0",
      "model_name": "HTMLModel",
      "state": {
       "layout": "IPY_MODEL_82889bf3582c4588a0ec979d479fb419",
       "style": "IPY_MODEL_cc7ca8f278c34fcfaf0f65a86bcb7dc9",
       "value": "100%"
      }
     },
     "db9276254cc5449ab2eae8c681966e16": {
      "model_module": "@jupyter-widgets/controls",
      "model_module_version": "1.5.0",
      "model_name": "HTMLModel",
      "state": {
       "layout": "IPY_MODEL_2e6847e7b22446dd99052efb055430cf",
       "style": "IPY_MODEL_9cdc56da3b1a4bd4809da9de3a906862",
       "value": " 0/10 [00:00&lt;?, ?it/s]"
      }
     },
     "dcef369711e8426d804cfb52854ab1b0": {
      "model_module": "@jupyter-widgets/controls",
      "model_module_version": "1.5.0",
      "model_name": "DescriptionStyleModel",
      "state": {
       "description_width": ""
      }
     },
     "ddbb2e5a5e17476581b32cc7bed05719": {
      "model_module": "@jupyter-widgets/controls",
      "model_module_version": "1.5.0",
      "model_name": "HTMLModel",
      "state": {
       "layout": "IPY_MODEL_e5ffe814445a4588a7b83d6502855e5b",
       "style": "IPY_MODEL_b4e4d188535746819290cacf9ecf9ddd",
       "value": " 11%"
      }
     },
     "de888a7ef636489eba68050f3aa6b7d5": {
      "model_module": "@jupyter-widgets/controls",
      "model_module_version": "1.5.0",
      "model_name": "HTMLModel",
      "state": {
       "layout": "IPY_MODEL_65f042225ceb446a82d7f1764a096f02",
       "style": "IPY_MODEL_e807634007154193a5450edfcf9e7858",
       "value": " 0/10 [00:00&lt;?, ?it/s]"
      }
     },
     "df591ea563934036a83d8f61450e3038": {
      "model_module": "@jupyter-widgets/controls",
      "model_module_version": "1.5.0",
      "model_name": "ProgressStyleModel",
      "state": {
       "description_width": ""
      }
     },
     "dfbcb2ab7c1b49e087d3c02256687063": {
      "model_module": "@jupyter-widgets/controls",
      "model_module_version": "1.5.0",
      "model_name": "FloatProgressModel",
      "state": {
       "bar_style": "danger",
       "layout": "IPY_MODEL_4d8aae999fff4e5da91b7afb2b2a359f",
       "max": 10,
       "style": "IPY_MODEL_15513680ee134e14a87c784a7097abfb"
      }
     },
     "e07e9af465844055a870d1c7db83a4b6": {
      "model_module": "@jupyter-widgets/controls",
      "model_module_version": "1.5.0",
      "model_name": "FloatProgressModel",
      "state": {
       "bar_style": "success",
       "layout": "IPY_MODEL_f6c7da4a4d794ae387d4d70a506cfb0a",
       "max": 20,
       "style": "IPY_MODEL_546c3a9dd0cc4c3589194c22e9558b63",
       "value": 20
      }
     },
     "e1f691a8d15f4be395a9f3915359fcf3": {
      "model_module": "@jupyter-widgets/base",
      "model_module_version": "1.2.0",
      "model_name": "LayoutModel",
      "state": {}
     },
     "e22608c185214e79a4779bd5197392c2": {
      "model_module": "@jupyter-widgets/controls",
      "model_module_version": "1.5.0",
      "model_name": "FloatProgressModel",
      "state": {
       "bar_style": "success",
       "layout": "IPY_MODEL_ace47013fe0c4efd934407872eb46ff9",
       "max": 10,
       "style": "IPY_MODEL_153412e55a8448f09d44a3f3ceaee566",
       "value": 10
      }
     },
     "e3302fb3be4246cbbfc0e39ed893b40a": {
      "model_module": "@jupyter-widgets/controls",
      "model_module_version": "1.5.0",
      "model_name": "FloatProgressModel",
      "state": {
       "bar_style": "success",
       "layout": "IPY_MODEL_b22651d2477844128f48141b5ac8c26e",
       "max": 9,
       "style": "IPY_MODEL_b39c9e240d554ea3a5e43f5938a872ed",
       "value": 9
      }
     },
     "e438f77a81934b3abb18b6cf80494d28": {
      "model_module": "@jupyter-widgets/controls",
      "model_module_version": "1.5.0",
      "model_name": "ProgressStyleModel",
      "state": {
       "description_width": ""
      }
     },
     "e550ae65aa944f34b4596dec139b3f85": {
      "model_module": "@jupyter-widgets/controls",
      "model_module_version": "1.5.0",
      "model_name": "HTMLModel",
      "state": {
       "layout": "IPY_MODEL_c102122746a64e168978c7611d250a67",
       "style": "IPY_MODEL_9a1fd900afff4c7c840a3b6079fcb2c8",
       "value": "100%"
      }
     },
     "e5ffe814445a4588a7b83d6502855e5b": {
      "model_module": "@jupyter-widgets/base",
      "model_module_version": "1.2.0",
      "model_name": "LayoutModel",
      "state": {}
     },
     "e76c4763c72c4a1ca03b9e441d4e88e5": {
      "model_module": "@jupyter-widgets/controls",
      "model_module_version": "1.5.0",
      "model_name": "HTMLModel",
      "state": {
       "layout": "IPY_MODEL_b5ac233389784d51b66a9f6c3310f4a4",
       "style": "IPY_MODEL_f8cedce768da4345aa318ae908435ef4",
       "value": " 106/106 [00:00&lt;00:00, 5047.93it/s]"
      }
     },
     "e807634007154193a5450edfcf9e7858": {
      "model_module": "@jupyter-widgets/controls",
      "model_module_version": "1.5.0",
      "model_name": "DescriptionStyleModel",
      "state": {
       "description_width": ""
      }
     },
     "e89cfb227ea642a99fd515659f6f8d4d": {
      "model_module": "@jupyter-widgets/controls",
      "model_module_version": "1.5.0",
      "model_name": "DescriptionStyleModel",
      "state": {
       "description_width": ""
      }
     },
     "ea1c107ecd68438382d4fdb412f4620b": {
      "model_module": "@jupyter-widgets/controls",
      "model_module_version": "1.5.0",
      "model_name": "HTMLModel",
      "state": {
       "layout": "IPY_MODEL_be252d442f4243b3b8b57ea90e1def24",
       "style": "IPY_MODEL_4b390811f7a54c3692f58f2784efd53d",
       "value": "100%"
      }
     },
     "eae46b98a7bf400f9ebb1fb704c817fe": {
      "model_module": "@jupyter-widgets/controls",
      "model_module_version": "1.5.0",
      "model_name": "HTMLModel",
      "state": {
       "layout": "IPY_MODEL_01c9544fd182484d82bc70ba8123846a",
       "style": "IPY_MODEL_a2ea5d07e29c4d58ae8668cb96901261",
       "value": "100%"
      }
     },
     "eb1e3bb70258406b86855033cba3fc09": {
      "model_module": "@jupyter-widgets/base",
      "model_module_version": "1.2.0",
      "model_name": "LayoutModel",
      "state": {}
     },
     "eb85536c0a044d82ba5f79569020e34a": {
      "model_module": "@jupyter-widgets/controls",
      "model_module_version": "1.5.0",
      "model_name": "DescriptionStyleModel",
      "state": {
       "description_width": ""
      }
     },
     "ed7168389a434ab2a29a567c88856e54": {
      "model_module": "@jupyter-widgets/base",
      "model_module_version": "1.2.0",
      "model_name": "LayoutModel",
      "state": {}
     },
     "ee15bd53a0dc4aea979eba612e44e1e7": {
      "model_module": "@jupyter-widgets/controls",
      "model_module_version": "1.5.0",
      "model_name": "ProgressStyleModel",
      "state": {
       "description_width": ""
      }
     },
     "f064bd31ae6c4059936e7fab6417fe69": {
      "model_module": "@jupyter-widgets/base",
      "model_module_version": "1.2.0",
      "model_name": "LayoutModel",
      "state": {}
     },
     "f11af67b196f4bf18567242e8aaa218d": {
      "model_module": "@jupyter-widgets/controls",
      "model_module_version": "1.5.0",
      "model_name": "HTMLModel",
      "state": {
       "layout": "IPY_MODEL_e1f691a8d15f4be395a9f3915359fcf3",
       "style": "IPY_MODEL_0de13e7cab3447d1b242ab82549a2cac",
       "value": " 9/9 [00:31&lt;00:00,  3.69s/it]"
      }
     },
     "f59f553fa28f40f8b287feb7d0e52677": {
      "model_module": "@jupyter-widgets/controls",
      "model_module_version": "1.5.0",
      "model_name": "FloatProgressModel",
      "state": {
       "bar_style": "danger",
       "layout": "IPY_MODEL_28acb3c61499480a9780d8351c723431",
       "max": 10,
       "style": "IPY_MODEL_1d9bbd764f9c48d8b11a0b99f6b63b05"
      }
     },
     "f5fe8946c97e43399e01ff76b511cf5b": {
      "model_module": "@jupyter-widgets/controls",
      "model_module_version": "1.5.0",
      "model_name": "HTMLModel",
      "state": {
       "layout": "IPY_MODEL_3fdbb0ae4cb9455395afbe784976a64d",
       "style": "IPY_MODEL_85f0141ce8f74c2d8540fbe4537156ec",
       "value": "  0%"
      }
     },
     "f6c7da4a4d794ae387d4d70a506cfb0a": {
      "model_module": "@jupyter-widgets/base",
      "model_module_version": "1.2.0",
      "model_name": "LayoutModel",
      "state": {}
     },
     "f74472a482cd48b3aee453f1c1ed0d94": {
      "model_module": "@jupyter-widgets/controls",
      "model_module_version": "1.5.0",
      "model_name": "DescriptionStyleModel",
      "state": {
       "description_width": ""
      }
     },
     "f8cedce768da4345aa318ae908435ef4": {
      "model_module": "@jupyter-widgets/controls",
      "model_module_version": "1.5.0",
      "model_name": "DescriptionStyleModel",
      "state": {
       "description_width": ""
      }
     },
     "fa48bb8e72a9458283950e2054ac4be3": {
      "model_module": "@jupyter-widgets/base",
      "model_module_version": "1.2.0",
      "model_name": "LayoutModel",
      "state": {}
     },
     "fb011d14998a4a258e673fe1b1083db1": {
      "model_module": "@jupyter-widgets/controls",
      "model_module_version": "1.5.0",
      "model_name": "HBoxModel",
      "state": {
       "children": [
        "IPY_MODEL_b5a27f79a0934809905cd1e356e0b8fa",
        "IPY_MODEL_2ddcd718deb043f2b2cd8266327bf650",
        "IPY_MODEL_568bfaf08f32450da90134f92c2dd10c"
       ],
       "layout": "IPY_MODEL_43bdc2e279804122ba63d345e2233bfa"
      }
     },
     "fba914bdd6584df7ba7a42965c94ed5e": {
      "model_module": "@jupyter-widgets/base",
      "model_module_version": "1.2.0",
      "model_name": "LayoutModel",
      "state": {}
     },
     "fcd4a21a02e34bdbb3faef6ac96e3b81": {
      "model_module": "@jupyter-widgets/base",
      "model_module_version": "1.2.0",
      "model_name": "LayoutModel",
      "state": {}
     },
     "fd5dceb1cd334bef9afee136b940936f": {
      "model_module": "@jupyter-widgets/controls",
      "model_module_version": "1.5.0",
      "model_name": "HTMLModel",
      "state": {
       "layout": "IPY_MODEL_4921855684f94a189119d2934f51e325",
       "style": "IPY_MODEL_a2f45601ef814b308ec28363caf70a6d",
       "value": " 20/20 [00:30&lt;00:00,  1.51s/it]"
      }
     }
    },
    "version_major": 2,
    "version_minor": 0
   }
  }
 },
 "nbformat": 4,
 "nbformat_minor": 4
}
