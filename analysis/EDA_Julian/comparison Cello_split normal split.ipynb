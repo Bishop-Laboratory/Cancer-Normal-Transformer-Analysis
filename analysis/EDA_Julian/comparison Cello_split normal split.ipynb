{
 "cells": [
  {
   "cell_type": "code",
   "execution_count": 1,
   "metadata": {},
   "outputs": [
    {
     "name": "stdout",
     "output_type": "stream",
     "text": [
      "Found existing installation: cello-multiplier 0.0.1\n",
      "Uninstalling cello-multiplier-0.0.1:\n",
      "  Successfully uninstalled cello-multiplier-0.0.1\n",
      "Collecting git+https://github.com/Bishop-Laboratory/CellO-MultiPLIER.git\n",
      "  Cloning https://github.com/Bishop-Laboratory/CellO-MultiPLIER.git to c:\\users\\julia\\appdata\\local\\temp\\pip-req-build-x6xfoi70\n",
      "  Installing build dependencies: started\n",
      "  Installing build dependencies: finished with status 'done'\n",
      "  Getting requirements to build wheel: started\n",
      "  Getting requirements to build wheel: finished with status 'done'\n",
      "    Preparing wheel metadata: started\n",
      "    Preparing wheel metadata: finished with status 'done'\n",
      "Requirement already satisfied, skipping upgrade: numpy in c:\\users\\julia\\anaconda3\\lib\\site-packages (from cello-multiplier==0.0.1) (1.20.3)\n",
      "Requirement already satisfied, skipping upgrade: sklearn in c:\\users\\julia\\anaconda3\\lib\\site-packages (from cello-multiplier==0.0.1) (0.0)\n",
      "Requirement already satisfied, skipping upgrade: scipy in c:\\users\\julia\\anaconda3\\lib\\site-packages (from cello-multiplier==0.0.1) (1.5.2)\n",
      "Requirement already satisfied, skipping upgrade: pandas in c:\\users\\julia\\anaconda3\\lib\\site-packages (from cello-multiplier==0.0.1) (1.1.3)\n",
      "Requirement already satisfied, skipping upgrade: scikit-learn in c:\\users\\julia\\anaconda3\\lib\\site-packages (from sklearn->cello-multiplier==0.0.1) (0.24.2)\n",
      "Requirement already satisfied, skipping upgrade: pytz>=2017.2 in c:\\users\\julia\\anaconda3\\lib\\site-packages (from pandas->cello-multiplier==0.0.1) (2020.1)\n",
      "Requirement already satisfied, skipping upgrade: python-dateutil>=2.7.3 in c:\\users\\julia\\anaconda3\\lib\\site-packages (from pandas->cello-multiplier==0.0.1) (2.8.1)\n",
      "Requirement already satisfied, skipping upgrade: joblib>=0.11 in c:\\users\\julia\\anaconda3\\lib\\site-packages (from scikit-learn->sklearn->cello-multiplier==0.0.1) (0.17.0)\n",
      "Requirement already satisfied, skipping upgrade: threadpoolctl>=2.0.0 in c:\\users\\julia\\anaconda3\\lib\\site-packages (from scikit-learn->sklearn->cello-multiplier==0.0.1) (2.1.0)\n",
      "Requirement already satisfied, skipping upgrade: six>=1.5 in c:\\users\\julia\\anaconda3\\lib\\site-packages (from python-dateutil>=2.7.3->pandas->cello-multiplier==0.0.1) (1.15.0)\n",
      "Building wheels for collected packages: cello-multiplier\n",
      "  Building wheel for cello-multiplier (PEP 517): started\n",
      "  Building wheel for cello-multiplier (PEP 517): finished with status 'done'\n",
      "  Created wheel for cello-multiplier: filename=cello_multiplier-0.0.1-py3-none-any.whl size=26280814 sha256=32f3751244f23595dbd58ba745526640e57768d868b37cde389d9b123ce5f03e\n",
      "  Stored in directory: C:\\Users\\julia\\AppData\\Local\\Temp\\pip-ephem-wheel-cache-_ws2_8uy\\wheels\\4e\\a2\\13\\7caa6e484f87d31e5fbaef2a13beef986a14a300708738afa0\n",
      "Successfully built cello-multiplier\n",
      "Installing collected packages: cello-multiplier\n",
      "Successfully installed cello-multiplier-0.0.1\n"
     ]
    }
   ],
   "source": [
    "!pip uninstall cello_multiplier --yes\n",
    "!pip install -U git+https://github.com/Bishop-Laboratory/CellO-MultiPLIER.git"
   ]
  },
  {
   "cell_type": "code",
   "execution_count": 4,
   "metadata": {},
   "outputs": [],
   "source": [
    "import cello_multiplier as cm\n",
    "from onto_lib import general_ontology_tools as got\n",
    "import pandas as pd"
   ]
  },
  {
   "cell_type": "code",
   "execution_count": 5,
   "metadata": {},
   "outputs": [
    {
     "name": "stderr",
     "output_type": "stream",
     "text": [
      "C:\\Users\\julia\\anaconda3\\lib\\site-packages\\sklearn\\base.py:310: UserWarning: Trying to unpickle estimator LogisticRegression from version 0.23.2 when using version 0.24.2. This might lead to breaking code or invalid results. Use at your own risk.\n",
      "  warnings.warn(\n"
     ]
    }
   ],
   "source": [
    "B_df, Z_df, labels, per_gene_mean, per_gene_std, train_dummies_specific, train_dummies_full, classifiers = cm.get_default_mats()"
   ]
  },
  {
   "cell_type": "code",
   "execution_count": 7,
   "metadata": {},
   "outputs": [],
   "source": [
    "#CellO split \n",
    "from pathlib import Path\n",
    "import json\n",
    "\n",
    "split_dir = Path('data/CellO_data/bulk_RNA_seq_training_set/pretraining_validation_split/')\n",
    "\n",
    "\n",
    "\n",
    "with open(split_dir / 'validation_bulk_experiments.json', 'r') as f:\n",
    "    validation_egs = json.load(f)\n",
    "\n",
    "with open(split_dir / 'pre_training_bulk_experiments.json', 'r') as f:\n",
    "    train_egs = json.load(f)"
   ]
  },
  {
   "cell_type": "code",
   "execution_count": 54,
   "metadata": {},
   "outputs": [],
   "source": [
    "# Load full CellO data"
   ]
  },
  {
   "cell_type": "code",
   "execution_count": 53,
   "metadata": {},
   "outputs": [
    {
     "data": {
      "text/plain": [
       "<bound method NDFrame.head of               TSPAN6      TNMD      DPM1     SCYL3  C1orf112       FGR  \\\n",
       "SRX890545   0.071963  0.068414  3.718085  2.184815  1.490935  6.995514   \n",
       "SRX1067711  0.033104  0.000000  3.743323  1.990195  1.780348  6.565519   \n",
       "SRX1067710  0.233484  0.000000  3.376271  1.523096  0.611052  5.667817   \n",
       "SRX762971   0.000000  0.000000  0.270898  0.272666  0.046180  4.310495   \n",
       "SRX762970   0.000000  0.000000  0.000000  0.153331  0.029985  3.570165   \n",
       "...              ...       ...       ...       ...       ...       ...   \n",
       "SRX3399308  0.900313  0.000000  4.034299  2.548069  1.914284  6.135145   \n",
       "SRX3399309  0.317015  0.000000  3.972622  2.634532  2.009371  6.394950   \n",
       "SRX3399310  0.799190  0.000000  4.109202  2.661645  2.445280  6.295505   \n",
       "SRX3399311  0.044163  0.000000  4.007751  2.015217  1.989733  6.363111   \n",
       "SRX3399312  1.064050  0.000000  3.668019  2.255745  2.194389  5.908714   \n",
       "\n",
       "                 CFH     FUCA2      GCLC      NFYA  ...  MIR6715B  \\\n",
       "SRX890545   0.629519  3.892468  3.241940  2.960884  ...       0.0   \n",
       "SRX1067711  0.045174  3.519702  3.266680  2.425106  ...       0.0   \n",
       "SRX1067710  0.013306  3.271395  3.490619  2.419673  ...       0.0   \n",
       "SRX762971   0.048563  0.505901  1.021726  0.468655  ...       0.0   \n",
       "SRX762970   0.012488  0.376561  0.298916  0.148210  ...       0.0   \n",
       "...              ...       ...       ...       ...  ...       ...   \n",
       "SRX3399308  1.561809  3.504841  2.099581  2.509156  ...       0.0   \n",
       "SRX3399309  1.277340  3.693114  2.188385  2.900505  ...       0.0   \n",
       "SRX3399310  1.314905  3.792382  1.471354  3.156924  ...       0.0   \n",
       "SRX3399311  0.788769  3.855940  2.337722  3.061316  ...       0.0   \n",
       "SRX3399312  1.361077  3.788669  2.589609  2.899395  ...       0.0   \n",
       "\n",
       "            RP11-434E6.5  MIR3116-2  RP11-158M9.1  MIR3202-2  CTD-2331H12.9  \\\n",
       "SRX890545            0.0        0.0      0.000000        0.0            0.0   \n",
       "SRX1067711           0.0        0.0      0.084583        0.0            0.0   \n",
       "SRX1067710           0.0        0.0      0.073274        0.0            0.0   \n",
       "SRX762971            0.0        0.0      0.061147        0.0            0.0   \n",
       "SRX762970            0.0        0.0      0.000000        0.0            0.0   \n",
       "...                  ...        ...           ...        ...            ...   \n",
       "SRX3399308           0.0        0.0      0.197238        0.0            0.0   \n",
       "SRX3399309           0.0        0.0      0.198363        0.0            0.0   \n",
       "SRX3399310           0.0        0.0      0.000000        0.0            0.0   \n",
       "SRX3399311           0.0        0.0      0.071303        0.0            0.0   \n",
       "SRX3399312           0.0        0.0      0.000000        0.0            0.0   \n",
       "\n",
       "            RP11-122G18.12  RP5-937E21.8  RP11-606M12.1   MIR4481  \n",
       "SRX890545         1.208610      0.086928       0.149827  0.997044  \n",
       "SRX1067711        0.647963      0.000000       0.000000  0.000000  \n",
       "SRX1067710        0.697612      0.000000       0.306894  0.000000  \n",
       "SRX762971         0.751671      0.000000       0.000000  0.000000  \n",
       "SRX762970         0.520262      0.000000       0.000000  0.000000  \n",
       "...                    ...           ...            ...       ...  \n",
       "SRX3399308        0.976151      0.000000       0.455072  0.000000  \n",
       "SRX3399309        1.115170      0.000000       0.386765  0.000000  \n",
       "SRX3399310        0.698829      0.000000       0.148570  0.000000  \n",
       "SRX3399311        1.192115      0.715472       0.605566  3.314630  \n",
       "SRX3399312        0.810953      0.482831       0.157699  0.000000  \n",
       "\n",
       "[4293 rows x 55904 columns]>"
      ]
     },
     "execution_count": 53,
     "metadata": {},
     "output_type": "execute_result"
    }
   ],
   "source": [
    "cello_data = pd.read_csv(\"plierInput.mat.csv\").T\n",
    "cello_data.head"
   ]
  },
  {
   "cell_type": "markdown",
   "metadata": {},
   "source": [
    "## Training of LR using CellO split"
   ]
  },
  {
   "cell_type": "code",
   "execution_count": 55,
   "metadata": {},
   "outputs": [
    {
     "data": {
      "text/plain": [
       "(3609, 55904)"
      ]
     },
     "execution_count": 55,
     "metadata": {},
     "output_type": "execute_result"
    }
   ],
   "source": [
    "train_Y_df = cello_data[cello_data.index.isin(train_egs)]\n",
    "train_Y_df.shape"
   ]
  },
  {
   "cell_type": "code",
   "execution_count": 56,
   "metadata": {},
   "outputs": [
    {
     "data": {
      "text/plain": [
       "(684, 55904)"
      ]
     },
     "execution_count": 56,
     "metadata": {},
     "output_type": "execute_result"
    }
   ],
   "source": [
    "test_Y_df = cello_data[cello_data.index.isin(validation_egs)]\n",
    "test_Y_df.shape"
   ]
  },
  {
   "cell_type": "code",
   "execution_count": 57,
   "metadata": {},
   "outputs": [],
   "source": [
    "# create list of samples by celltypes\n",
    "from sklearn.preprocessing import MultiLabelBinarizer\n",
    "\n",
    "sample2types = {\n",
    "            sample: list(map(got.get_term_name, types_ids))\n",
    "            for sample, types_ids in labels.items()\n",
    "        }\n",
    "\n",
    "types_per_b_samples = B_df.index.map(sample2types).values\n",
    "\n",
    "mlb = MultiLabelBinarizer()\n",
    "types_per_b_samples = B_df.index.map(sample2types).values\n",
    "\n",
    "samples_dummies = pd.DataFrame(mlb.fit_transform(types_per_b_samples), columns=mlb.classes_, index=B_df.index)\n",
    "\n",
    "celltypes = samples_dummies.columns.tolist()\n",
    "\n",
    "type2samples = {\n",
    "    type_: samples_dummies.index[samples_dummies[type_] == 1].tolist()\n",
    "    for type_ in celltypes\n",
    "}\n",
    "types_sizes = samples_dummies.sum() # no of times a celltype occours in the dataset"
   ]
  },
  {
   "cell_type": "code",
   "execution_count": 58,
   "metadata": {},
   "outputs": [],
   "source": [
    "# create target list for given cell type with 1 being that cell type and 0 being any other cell type\n",
    "def set_target(celltype, type2samples, train_Y_df, test_Y_df,):\n",
    "    samplelist = type2samples[celltype]\n",
    "    samplelist_train = [x for x in samplelist if x in train_Y_df.index.values]\n",
    "    samplelist_test = [x for x in samplelist if x in test_Y_df.index.values]\n",
    "    \n",
    "    target_train = pd.Series(0,index = train_Y_df.index)\n",
    "    target_train.loc[samplelist_train] = 1\n",
    "    \n",
    "    target_test = pd.Series(0,index = test_Y_df.index)\n",
    "    target_test.loc[samplelist_test] = 1\n",
    "    \n",
    "    train_Y_transformed = train_Y_df #used to contain standard scaling, removed\n",
    "    test_Y_transformed = test_Y_df\n",
    "    \n",
    "    return(target_train.values, target_test.values, train_Y_transformed, test_Y_transformed )"
   ]
  },
  {
   "cell_type": "code",
   "execution_count": 59,
   "metadata": {},
   "outputs": [],
   "source": [
    "def fscore(p, r):\n",
    "    denom = p + r or 1\n",
    "\n",
    "    return 2*(p * r) / denom"
   ]
  },
  {
   "cell_type": "code",
   "execution_count": 60,
   "metadata": {},
   "outputs": [],
   "source": [
    "# imports\n",
    "from sklearn.linear_model import LogisticRegression\n",
    "from sklearn.ensemble import RandomForestClassifier\n",
    "from sklearn.model_selection import train_test_split\n",
    "from sklearn import metrics\n",
    "from sklearn.metrics import precision_score, recall_score, average_precision_score\n",
    "import numpy as np\n",
    "import warnings\n",
    "from sklearn.metrics import precision_recall_curve\n",
    "from sklearn.metrics import plot_precision_recall_curve\n",
    "import matplotlib.pyplot as plt\n",
    "from tqdm.auto import tqdm"
   ]
  },
  {
   "cell_type": "code",
   "execution_count": 61,
   "metadata": {},
   "outputs": [],
   "source": [
    "types_with_data = types_sizes.index.values # all celltypes that occour in the data\n",
    "all_types = samples_dummies.columns # get list of celltypes"
   ]
  },
  {
   "cell_type": "code",
   "execution_count": 62,
   "metadata": {},
   "outputs": [],
   "source": [
    "def LR_classify(solver,penalty):\n",
    "\n",
    "    warnings.filterwarnings('ignore') #gets rid of sklearn convergence warning\n",
    "\n",
    "    successful_celltypes = []\n",
    "    unsuccessful_celltypes = []\n",
    "    test_prs = []\n",
    "    test_precision = []\n",
    "    test_recall = []\n",
    "    fscores = []\n",
    "    aps = []\n",
    "    for cell_type in tqdm(all_types):\n",
    "        train_target, train_test, train_data, test_data = set_target(\n",
    "            cell_type, type2samples, train_Y_df, test_Y_df\n",
    "        )\n",
    "\n",
    "        if(1 in train_target and 1 in train_test and 0 in train_target and 0 in train_test):\n",
    "            # lasso penalty\n",
    "            clf = LogisticRegression(solver = solver,penalty = penalty,random_state=111 )\n",
    "\n",
    "            clf.fit(train_data, train_target)\n",
    "            target_pred = clf.predict(test_data)\n",
    "            test_pr = metrics.average_precision_score(train_test, target_pred)\n",
    "            test_precision += [precision_score(train_test, target_pred)]\n",
    "            test_recall += [recall_score(train_test, target_pred)]\n",
    "            aps += [average_precision_score(train_test, target_pred)]\n",
    "            fscores += [fscore(test_precision[-1], test_recall[-1])]\n",
    "            successful_celltypes += [cell_type]\n",
    "           \n",
    "            \n",
    "        else:\n",
    "            unsuccessful_celltypes += [cell_type]\n",
    "\n",
    "    p = np.mean(test_precision)\n",
    "    r = np.mean(test_recall)\n",
    "    f = np.mean(fscores)\n",
    "    f_micro = fscore(p, r) \n",
    "    ap = np.mean(aps)\n",
    "\n",
    "    \n",
    "    print(f'precision: {p:.4f}, recall: {r:.4f}, f1: {f:.4f}, f1 micro avg: {f_micro:.4f}, average precision avg: {ap:.4f}')#\n",
    "    \n",
    "    return aps # returns the average precision of every successfully trained classifier"
   ]
  },
  {
   "cell_type": "code",
   "execution_count": 63,
   "metadata": {},
   "outputs": [
    {
     "data": {
      "application/vnd.jupyter.widget-view+json": {
       "model_id": "1f3d476646994148afc7e5e5dcf2643c",
       "version_major": 2,
       "version_minor": 0
      },
      "text/plain": [
       "HBox(children=(HTML(value=''), FloatProgress(value=0.0, max=317.0), HTML(value='')))"
      ]
     },
     "metadata": {},
     "output_type": "display_data"
    },
    {
     "name": "stdout",
     "output_type": "stream",
     "text": [
      "\n",
      "precision: 0.6261, recall: 0.5168, f1: 0.5402, f1 micro avg: 0.5662, average precision avg: 0.4914\n"
     ]
    }
   ],
   "source": [
    "report = LR_classify(\"liblinear\",\"l1\")"
   ]
  },
  {
   "cell_type": "markdown",
   "metadata": {},
   "source": [
    "## Training of LR using split of 30 % test data"
   ]
  },
  {
   "cell_type": "code",
   "execution_count": 64,
   "metadata": {},
   "outputs": [],
   "source": [
    "from sklearn.model_selection import train_test_split\n",
    "data = cello_data"
   ]
  },
  {
   "cell_type": "code",
   "execution_count": 65,
   "metadata": {},
   "outputs": [],
   "source": [
    "# create target list for given cell type with 1 being that cell type and 0 being any other cell type\n",
    "def set_target_full(celltype, type2samples, data):\n",
    "    samplelist = type2samples[celltype]\n",
    "    samplelist = [x for x in samplelist if x in data.index.values]\n",
    "    \n",
    "    target = pd.Series(0,index = data.index)\n",
    "    target.loc[samplelist] = 1\n",
    "    \n",
    "    train_data, test_data, train_target, test_target = train_test_split(data, target, test_size=0.30, random_state=111)\n",
    "    return(train_data, test_data, train_target.values, test_target.values)"
   ]
  },
  {
   "cell_type": "code",
   "execution_count": 66,
   "metadata": {},
   "outputs": [],
   "source": [
    "def LR_classify_sklearn_split(solver,penalty):\n",
    "\n",
    "    warnings.filterwarnings('ignore') #gets rid of sklearn convergence warning\n",
    "\n",
    "    successful_celltypes = []\n",
    "    unsuccessful_celltypes = []\n",
    "    test_prs = []\n",
    "    test_precision = []\n",
    "    test_recall = []\n",
    "    fscores = []\n",
    "    aps = []\n",
    "    for cell_type in tqdm(all_types):\n",
    "        train_data, test_data, train_target, test_target = set_target_full(\n",
    "            cell_type, type2samples, data\n",
    "        )\n",
    "\n",
    "        if(1 in train_target and 1 in test_target and 0 in train_target and 0 in test_target):\n",
    "            # lasso penalty\n",
    "            clf = LogisticRegression(solver = solver,penalty = penalty,random_state=111 )\n",
    "\n",
    "            clf.fit(train_data, train_target)\n",
    "            target_pred = clf.predict(test_data)\n",
    "            test_pr = metrics.average_precision_score(test_target, target_pred)\n",
    "            test_precision += [precision_score(test_target, target_pred)]\n",
    "            test_recall += [recall_score(test_target, target_pred)]\n",
    "            aps += [average_precision_score(test_target, target_pred)]\n",
    "            fscores += [fscore(test_precision[-1], test_recall[-1])]\n",
    "            successful_celltypes += [cell_type]\n",
    "           \n",
    "            \n",
    "        else:\n",
    "            unsuccessful_celltypes += [cell_type]\n",
    "\n",
    "    p = np.mean(test_precision)\n",
    "    r = np.mean(test_recall)\n",
    "    f = np.mean(fscores)\n",
    "    f_micro = fscore(p, r) \n",
    "    ap = np.mean(aps)\n",
    "\n",
    "    \n",
    "    print(f'precision: {p:.4f}, recall: {r:.4f}, f1: {f:.4f}, f1 micro avg: {f_micro:.4f}, average precision avg: {ap:.4f}')#\n",
    "    \n",
    "    return aps # returns the average precision of every successfully trained classifier"
   ]
  },
  {
   "cell_type": "code",
   "execution_count": 67,
   "metadata": {},
   "outputs": [
    {
     "data": {
      "application/vnd.jupyter.widget-view+json": {
       "model_id": "cee1299461c3482c8af0b4d01f16a865",
       "version_major": 2,
       "version_minor": 0
      },
      "text/plain": [
       "HBox(children=(HTML(value=''), FloatProgress(value=0.0, max=317.0), HTML(value='')))"
      ]
     },
     "metadata": {},
     "output_type": "display_data"
    },
    {
     "name": "stdout",
     "output_type": "stream",
     "text": [
      "\n",
      "precision: 0.8804, recall: 0.8468, f1: 0.8512, f1 micro avg: 0.8633, average precision avg: 0.8136\n"
     ]
    }
   ],
   "source": [
    "report1 = LR_classify_sklearn_split(\"liblinear\",\"l1\")"
   ]
  },
  {
   "cell_type": "code",
   "execution_count": 68,
   "metadata": {},
   "outputs": [
    {
     "data": {
      "text/plain": [
       "<AxesSubplot:>"
      ]
     },
     "execution_count": 68,
     "metadata": {},
     "output_type": "execute_result"
    },
    {
     "data": {
      "image/png": "[encoded data removed]",
      "text/plain": [
       "<Figure size 432x288 with 1 Axes>"
      ]
     },
     "metadata": {
      "needs_background": "light"
     },
     "output_type": "display_data"
    }
   ],
   "source": [
    "reportdf = pd.DataFrame(list(zip(report,report1)), columns = [\"CellO split\",\"Sklearn split\"])\n",
    "reportdf.boxplot()"
   ]
  },
  {
   "cell_type": "code",
   "execution_count": null,
   "metadata": {},
   "outputs": [],
   "source": []
  }
 ],
 "metadata": {
  "kernelspec": {
   "display_name": "Python 3",
   "language": "python",
   "name": "python3"
  },
  "language_info": {
   "codemirror_mode": {
    "name": "ipython",
    "version": 3
   },
   "file_extension": ".py",
   "mimetype": "text/x-python",
   "name": "python",
   "nbconvert_exporter": "python",
   "pygments_lexer": "ipython3",
   "version": "3.8.5"
  }
 },
 "nbformat": 4,
 "nbformat_minor": 4
}
